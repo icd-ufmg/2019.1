{
 "cells": [
  {
   "cell_type": "code",
   "execution_count": 1,
   "metadata": {},
   "outputs": [],
   "source": [
    "# -*- coding: utf8\n",
    "\n",
    "import numpy as np\n",
    "import matplotlib.pyplot as plt\n",
    "import pandas as pd\n",
    "\n",
    "# Para evitar a confusão da aula passada, colocando alguns defaults!\n",
    "plt.rcParams['figure.figsize']  = (18, 10)\n",
    "plt.rcParams['axes.labelsize']  = 20\n",
    "plt.rcParams['axes.titlesize']  = 20\n",
    "plt.rcParams['legend.fontsize'] = 20\n",
    "plt.rcParams['xtick.labelsize'] = 20\n",
    "plt.rcParams['ytick.labelsize'] = 20\n",
    "plt.rcParams['lines.linewidth'] = 4"
   ]
  },
  {
   "cell_type": "code",
   "execution_count": 2,
   "metadata": {},
   "outputs": [],
   "source": [
    "plt.ion()\n",
    "\n",
    "plt.style.use('seaborn-colorblind')\n",
    "plt.rcParams['figure.figsize']  = (12, 8)"
   ]
  },
  {
   "cell_type": "code",
   "execution_count": 3,
   "metadata": {},
   "outputs": [],
   "source": [
    "def despine(ax=None):\n",
    "    if ax is None:\n",
    "        ax = plt.gca()\n",
    "    # Hide the right and top spines\n",
    "    ax.spines['right'].set_visible(False)\n",
    "    ax.spines['top'].set_visible(False)\n",
    "\n",
    "    # Only show ticks on the left and bottom spines\n",
    "    ax.yaxis.set_ticks_position('left')\n",
    "    ax.xaxis.set_ticks_position('bottom')"
   ]
  },
  {
   "cell_type": "markdown",
   "metadata": {},
   "source": [
    "# Aula 08 - Amostragem\n",
    "\n",
    "## Introdução\n",
    "\n",
    "Durante a segunda parte do curso o uso de amostras vai ser aplicado para resolver problemas complexos. Embora se fala muito de **big data**, na prática, são boas amostras que são utilizadas para responder boas perguntas. Inclusive, existem falácias em **big data** quando a forma da amostra é muito viésada. \n",
    "\n",
    "Vamos considerar uma base de dados de voos com atrasos nos estados unidos. Cada linha da tabela é composta de uma data, o número do vôo, destino e atraso do vôo em minutos."
   ]
  },
  {
   "cell_type": "code",
   "execution_count": 4,
   "metadata": {},
   "outputs": [
    {
     "data": {
      "text/html": [
       "<div>\n",
       "<style scoped>\n",
       "    .dataframe tbody tr th:only-of-type {\n",
       "        vertical-align: middle;\n",
       "    }\n",
       "\n",
       "    .dataframe tbody tr th {\n",
       "        vertical-align: top;\n",
       "    }\n",
       "\n",
       "    .dataframe thead th {\n",
       "        text-align: right;\n",
       "    }\n",
       "</style>\n",
       "<table border=\"1\" class=\"dataframe\">\n",
       "  <thead>\n",
       "    <tr style=\"text-align: right;\">\n",
       "      <th></th>\n",
       "      <th>Date</th>\n",
       "      <th>Flight Number</th>\n",
       "      <th>Destination</th>\n",
       "      <th>Delay</th>\n",
       "    </tr>\n",
       "  </thead>\n",
       "  <tbody>\n",
       "    <tr>\n",
       "      <th>0</th>\n",
       "      <td>6/1/15</td>\n",
       "      <td>73</td>\n",
       "      <td>HNL</td>\n",
       "      <td>257</td>\n",
       "    </tr>\n",
       "    <tr>\n",
       "      <th>1</th>\n",
       "      <td>6/1/15</td>\n",
       "      <td>217</td>\n",
       "      <td>EWR</td>\n",
       "      <td>28</td>\n",
       "    </tr>\n",
       "    <tr>\n",
       "      <th>2</th>\n",
       "      <td>6/1/15</td>\n",
       "      <td>237</td>\n",
       "      <td>STL</td>\n",
       "      <td>-3</td>\n",
       "    </tr>\n",
       "    <tr>\n",
       "      <th>3</th>\n",
       "      <td>6/1/15</td>\n",
       "      <td>250</td>\n",
       "      <td>SAN</td>\n",
       "      <td>0</td>\n",
       "    </tr>\n",
       "    <tr>\n",
       "      <th>4</th>\n",
       "      <td>6/1/15</td>\n",
       "      <td>267</td>\n",
       "      <td>PHL</td>\n",
       "      <td>64</td>\n",
       "    </tr>\n",
       "  </tbody>\n",
       "</table>\n",
       "</div>"
      ],
      "text/plain": [
       "     Date  Flight Number Destination  Delay\n",
       "0  6/1/15             73         HNL    257\n",
       "1  6/1/15            217         EWR     28\n",
       "2  6/1/15            237         STL     -3\n",
       "3  6/1/15            250         SAN      0\n",
       "4  6/1/15            267         PHL     64"
      ]
     },
     "execution_count": 4,
     "metadata": {},
     "output_type": "execute_result"
    }
   ],
   "source": [
    "df = pd.read_csv('united_summer2015.csv')\n",
    "df.head()"
   ]
  },
  {
   "cell_type": "markdown",
   "metadata": {},
   "source": [
    "Vamos assumir que esta é nossa **população**. Ou seja, eu estou apenas interessado em estudar dados de 2015. Além do mais, a tabela representa um censo completo dos atrasos no ano.\n",
    "\n",
    "A população consiste de quase 14 mil atrasos no ano de 2015. "
   ]
  },
  {
   "cell_type": "code",
   "execution_count": 5,
   "metadata": {},
   "outputs": [
    {
     "data": {
      "text/plain": [
       "(13825, 4)"
      ]
     },
     "execution_count": 5,
     "metadata": {},
     "output_type": "execute_result"
    }
   ],
   "source": [
    "df.shape"
   ]
  },
  {
   "cell_type": "markdown",
   "metadata": {},
   "source": [
    "Vamos entender a distribuição dos atrasos:"
   ]
  },
  {
   "cell_type": "code",
   "execution_count": 6,
   "metadata": {},
   "outputs": [
    {
     "data": {
      "image/png": "[encoded data removed]",
      "text/plain": [
       "<matplotlib.figure.Figure at 0x1095089e8>"
      ]
     },
     "metadata": {
      "needs_background": "light"
     },
     "output_type": "display_data"
    }
   ],
   "source": [
    "delay_bins = np.append(np.arange(-20, 301, 10), 600)\n",
    "plt.hist(df['Delay'], bins=delay_bins)\n",
    "plt.xlabel('Atraso')\n",
    "plt.ylabel('Número de Voos')\n",
    "despine()"
   ]
  },
  {
   "cell_type": "markdown",
   "metadata": {},
   "source": [
    "Agora vamos olhar para a mesmo distribuição quanto temos amostras menores dos nossos dados. Em particular, vamos iniciar com o caso de $n=1$. Note como a nova distribuição não parece com os dados da população."
   ]
  },
  {
   "cell_type": "code",
   "execution_count": 7,
   "metadata": {},
   "outputs": [],
   "source": [
    "def amostre_n(df, n):\n",
    "    index = df.index\n",
    "    novo = np.random.choice(index, size=n)\n",
    "    return df.loc[novo]"
   ]
  },
  {
   "cell_type": "code",
   "execution_count": 8,
   "metadata": {},
   "outputs": [
    {
     "data": {
      "image/png": "[encoded data removed]",
      "text/plain": [
       "<matplotlib.figure.Figure at 0x104d77c88>"
      ]
     },
     "metadata": {
      "needs_background": "light"
     },
     "output_type": "display_data"
    }
   ],
   "source": [
    "novo = amostre_n(df, 10)\n",
    "plt.hist(novo['Delay'], bins=delay_bins)\n",
    "plt.xlabel('Atraso')\n",
    "plt.ylabel('Número de Voos')\n",
    "despine()"
   ]
  },
  {
   "cell_type": "markdown",
   "metadata": {},
   "source": [
    "Na animação abaixo conseguimos ver o processo de chegar cada vez mais próximo da distribuição real. Portanto, cada frame da figura mostra o histograma com um valor de $n$ diferente. Quando $n$ se apróxima do valor da população, obviamente, vamos ter uma distribuição similar. Note que isto é uma forma de pensar na lei dos grandes números, ao aumentar $n$, aumentamos a chance de acertar cada bin do meu histograma. Lembre-se da simulação do dado."
   ]
  },
  {
   "cell_type": "code",
   "execution_count": 9,
   "metadata": {},
   "outputs": [
    {
     "data": {
      "text/html": [
       "<video width=\"864\" height=\"576\" controls autoplay loop>\n",
       "  <source type=\"video/mp4\" src=\"data:video/mp4;base64,AAAAHGZ0eXBNNFYgAAACAGlzb21pc28yYXZjMQAAAAhmcmVlAABC721kYXQAAAKtBgX//6ncRem9\n",
       "5tlIt5Ys2CDZI+7veDI2NCAtIGNvcmUgMTU1IHIyOTE3IDBhODRkOTggLSBILjI2NC9NUEVHLTQg\n",
       "QVZDIGNvZGVjIC0gQ29weWxlZnQgMjAwMy0yMDE4IC0gaHR0cDovL3d3dy52aWRlb2xhbi5vcmcv\n",
       "eDI2NC5odG1sIC0gb3B0aW9uczogY2FiYWM9MSByZWY9MyBkZWJsb2NrPTE6MDowIGFuYWx5c2U9\n",
       "MHgzOjB4MTEzIG1lPWhleCBzdWJtZT03IHBzeT0xIHBzeV9yZD0xLjAwOjAuMDAgbWl4ZWRfcmVm\n",
       "PTEgbWVfcmFuZ2U9MTYgY2hyb21hX21lPTEgdHJlbGxpcz0xIDh4OGRjdD0xIGNxbT0wIGRlYWR6\n",
       "b25lPTIxLDExIGZhc3RfcHNraXA9MSBjaHJvbWFfcXBfb2Zmc2V0PS0yIHRocmVhZHM9NiBsb29r\n",
       "YWhlYWRfdGhyZWFkcz0xIHNsaWNlZF90aHJlYWRzPTAgbnI9MCBkZWNpbWF0ZT0xIGludGVybGFj\n",
       "ZWQ9MCBibHVyYXlfY29tcGF0PTAgY29uc3RyYWluZWRfaW50cmE9MCBiZnJhbWVzPTMgYl9weXJh\n",
       "bWlkPTIgYl9hZGFwdD0xIGJfYmlhcz0wIGRpcmVjdD0xIHdlaWdodGI9MSBvcGVuX2dvcD0wIHdl\n",
       "aWdodHA9MiBrZXlpbnQ9MjUwIGtleWludF9taW49NSBzY2VuZWN1dD00MCBpbnRyYV9yZWZyZXNo\n",
       "PTAgcmNfbG9va2FoZWFkPTQwIHJjPWNyZiBtYnRyZWU9MSBjcmY9MjMuMCBxY29tcD0wLjYwIHFw\n",
       "bWluPTAgcXBtYXg9NjkgcXBzdGVwPTQgaXBfcmF0aW89MS40MCBhcT0xOjEuMDAAgAAAGjFliIQA\n",
       "Ev/+963fgU3AQO1rulc4tMurlDQ9UfaUpni2SAAAAwAAAwAAAwABi75+fOesNy19oAAAAwAloAOh\n",
       "vDDkDw2laYuINADBNexs7OANHBNRsjYGmblkZgXgNeDi2+zxhlqoiWjIMkSRoCH2306tYzndYk3T\n",
       "5s2oN5TfqL8muCp1fdpTBb3Ewhym2RPsutAqzcRk+yqvo04NZ+2YxI5vow/SoTOD/PafsthfqXX2\n",
       "zlubk8RHRiyK3YCW/YOlmWuR+NzEDvv2cBo590MXR0u8MrkyUZPQ/UWVmQfvnpoVTOpTLhdXTf/I\n",
       "1lv8XC6cHjEZms93FU3jcBxcHRbdaARI5W74agVYxL6lqR7SlrLItjIGS9OGMB7MBu8NZVaXLOqn\n",
       "3zOVeDqyzhZYoPjtRSN4NW87HceQMCL1z2nJNASFdA4N3qrcEmu1tm3nSx3sHIMJyqEJgCE025md\n",
       "SD4RqIw36LRuuWMMglIKOwqr9EsZcOl/TKVuomHFXwn8C3FNEv1mmm2rl47qCpW5MfzIKiPWRAMf\n",
       "HWzi6B57uJa7fkyXjUxCn5twetZR0g++yAg8+wdNNam9zaUsh+hEOP4skCKPiJO63de8rPCIsJ6R\n",
       "V29NxBl0aYCAJuQUZvhowVE1D3ocF9McXCc7/TTl7+Mdx/Ri76/6rB8myxbdHIPtF8O6nmIo5UK3\n",
       "OKWNunwMhkgyk7+r7sIM9/1ObQlwQZtHIfqdttLxRw37nIXlo8NncihEYQUI/wsNcFkHiJeX+Lu0\n",
       "1KIOo07b7Ist8HlL6ITiuAAxdxLk4n0BmbUQM/kem31HvM2bA8uqKgO9N4q+bwi7zFzFkZQD0AiJ\n",
       "PC7fyc4sS78oiDvI7Hi6EAcsEGO9RRFLWPIa3gbunDbawIgRFIx3za3vRkFInOcE8ceofwO1IlzL\n",
       "FcrB5D5tsr+MuS2DpkEX3yTHYqv0hHZqhncbXwRkZj7fxuKwN+VAectgvQPghdLXPr4y4ICFIiFn\n",
       "rzk3qSVmCrPoMvHWI0vxNYtcvkfliAx153PTnZGD/iVU1BAE929y/NZRTj82VhrSyH/aJsbswFZY\n",
       "KEUTu1BsGURTaoXHUCXK41JeLkCQdXFFBHPbw5S8HdX64fDCZhL+AR01MIHfdJfj5+K8BMDaFop7\n",
       "vRwIEOO42iY/oaPE3p5fh50NhsnN6+8rwNsSwiDqK45rbb66uZwxN0uor14R4krIDYed/0xQ6YvT\n",
       "U5qw8ACXIAIpDAaCL6I3safj/QAIfrlE0A6pmsAyPgFRhEvFRMZE9l/+c4HcMv0W2oqBnw8twzj+\n",
       "y9RVmNv+Ta1DBnqXcIxG0lbPCnbcEqoMDSRsvKegzyXldDOZNzb+CLgF7GjWO9bP93dNhOYUev/+\n",
       "sxYtkey3fsRnN9vTsXsAObkLTkFjKnU8zQuwdCs4E+jPmK0Iv6xIrWEMEGP1/U6c4Akn+n5A6VBI\n",
       "igC9d6j8K5KarZQ6zpOZYqY9rKsE8XxVFeO46R9s3jbJVewO5jZPWU/6LbW+I+4Q/661FV2iyXVS\n",
       "gyC7XlduU1mivEolsbf1vkRzx0q43dJMXjbvKGfZsb6y8gBU9UFD11z7j9SiOh4RNBL5dJ00sX+7\n",
       "18aTZQlpo8b1UXymN6yFhfYOiTMAlEdN1AlId2pdOVvOjgs/FVPpjH+nXHq43MDQDVo9MZzzflrb\n",
       "g7BQmKhPug+HFUney6Emg+KXPFgRq/2V5L7b1v5r6A4JPgwO4rT+AAXh1v2PQTx3NybRA7Y8Y96D\n",
       "urDI1DuUzPAFRAJoeZjXHI54uKt1Md7e+/TO/FYO3AL2hFlbtkjA2EKMRaOlS4qUzs14sodUV5JH\n",
       "gcxjmA6S4383MnQUimz38U74PSmh/U5VDwel/Pigwy6yrv0h9wwMXK6T/MgvWsfkiCPIMfj2UADt\n",
       "ZgozTikOxQNORcc4tbD1rzZCwfvsX53B3GL9CkmKjpnC73goVPx4uGDj9auffB5RQRKNr5Fpk08a\n",
       "Z3R4r6MYKgypVaEb8VDg0aWYvPhLuzUsK4CZBNR5QwTOZJxtBtFJQRmNpuVLcLwo9O5Imbwx86BC\n",
       "6s/1PuZ1Q1H6QzdLdYym7z54lfYuv4njTURcdxH82EdIZG+/rxRTdp5ptYQ/TGr/OhueHYG8D+QB\n",
       "BwiVbhERLUt8SrYGjukGRjx8lfYjIzMXFrpCspgDrsj+9/XN3uE91CNyvZxuiDsXrBYFNEGTAKfd\n",
       "nSp7OEmyvOZt3d/wY7hJV0phLPjI99DslzX8wwEh+VRFykTx87gV/q0F3FqatYv9SWYHw8mJ8QuO\n",
       "L9LUn/0rzskJT13FusFA912sDULbosg1dmnVXHyHfFVv+jd9gT4/lhbk+Y2LhyTWJULP6vPl3C/S\n",
       "+wVKI0wxkdd4HT0kauYgXTfmkKrDWs+/OUV8GHvCdU5EMQimISy1/E2G+GupH83Cs9DPkIOtqf4P\n",
       "EJgMb3J42mO6GkHiaQbtwI/fJdqI84N+4UoF9EckWruXxgeizokJxQwqFOth6OJtGo6hCYhr2ORD\n",
       "HcOoEbSnHavOY6WjBwSyKU3cJqxR6m+XxsYWEwcAEHfaouWDcUDlzU2077uGEsFkZkmx1fasl7nj\n",
       "p4t/epYhGBAT+K5MaKhHDEh5gFWfpxUOK0MMAiC+0zeIEEaNZj0Mgnmgwry5k4w1sO0vnr8/aK3r\n",
       "1WNsSAI8pzdCmz52MCNOQnipSG8b+2c/yPKMK8RHwejZfkYGfE2/U8vwjZXeU+dDY3sTpGEWbzzc\n",
       "8kQ2eqTn3NZ5cWB6Q2EAWHdPQ3HyrCtIAz45naBW1b9ui/w5ie4JUtrMFwcKjx00t+8U8FC5QB/R\n",
       "cZOfgSE4bx1RCvbymRhEwqDU6N7E7M40Le6RL8GaCQOKOQu1QqCcHLQoF4tnj/OUvA1iJq+xHt6Y\n",
       "0X1wxMndt4hmX2RUnQy/WO02YX/sc7pq1gblbsdWWm7kijuesUenBczQ+L0bEDVeE9qphJpXvPfc\n",
       "PAU10sNofZ15HrFq4begoLkak4U5JpDTfeujTWw5fbGCfd9LfvVlv6GcM8JEkk4erz1EtDcjUwiw\n",
       "ZPad73FrxvDIsqiiOX3F4UjdXMJZ6TdQ56w55qCqrZvb/DtSAo32dewB7GOiWvVEK08+O2C6Z2N1\n",
       "W9Uo/spCQ2FDnS5YLNT35h06sciZVZaI6iDYu6xEd5+civo89q0MWla3bIxZoXLYJGhUrbk/lf4n\n",
       "rGUYCU7a/ze7wMlSuiQ557Go5yDqszFX6rWlqFg9sEtaYZ9r3tTxYY2yQoMxyeVfQdjvNNBBEesZ\n",
       "kO+mXfCFsFovBDuaf/N3/Arup7ZDbTIUsXzTNfxxwjLyIAiPLcoZZrjhsxOBxFwg22fTHd7Y9ZiE\n",
       "OTZSSGDPpfmmxFtacNZfjnn6BKuZXKlO3JS/1aLWai+kn7HHPudOTjzm9fJiXxZUA87Of8WRWU0q\n",
       "QgiA85C0eggtqtScTbmRU9EkafDHiI+SK8sDbQLrLzv8Y7r1RMItAPsxkeVJ6KW5p/fNryvBpEbZ\n",
       "0muL50D+N2Iy4SAXh9dQwNW+tShxmM46gRb9wntlOEAmXrMqlrsPuaUY6gli1LE33dc0kn/FuiN5\n",
       "9vwl3nhXWQTBYaLC6cUMP5EJ3QQzjibf6ycytpfRvqVY5NcWe4XPOBi4PFc6U7bORps7w/glJG8w\n",
       "sc3VUSI8125E7sweTkf8naYZ2XNbxS532ueMJEO6jALMc5GUloCMC9i/EOQnKHsDa5y9/N2DXGq6\n",
       "yMoSIpcJ/du4j9EYHu5agQ2R5JOZHv6OTpQ9wfXXOAinlaydDi+Fg7YqCZ+sHwP3yQYZyfxUynPP\n",
       "hpNXiHV7+19XqwMAsJoMawu+jDFgt7ZS4aBrm6jIB3rV9f64JXP6M+8IO0zGrm3XW+j5tCyNp6G2\n",
       "G8LJENFsFuHQ0zBJbLlZ9dsvOYw/XZfXSdwmC9RnKMSAhlfTZhpbGo3lJ+Ecy+oT4C6dRT90ACiQ\n",
       "AAADAT4FdV1/W0UfZILxj2jZPUMwv2vm2kQAAAaPWtF/aG9CIznqERj6y4SkP+DjkBHNjXfYxhp+\n",
       "G92Zn0MDcgG+7Wv23SRsmE+PB57iZ+Jt0KC3sUAJsCi8wFlrTLo505TcWpi+BDIzeob/genshguy\n",
       "4oExLppRKWWDUtcR+19d+wVaerGdhAo4KmYKPw6DMoAn6D1I00khDBuii14xsZ5vp9Xi5sNeCb2q\n",
       "Ci6tqGWGa245n0BgO9Djd/yIzmEn4zPmnX//yUW/RTmo50lmvgLDtFAuiepvFDOZSRe/Gx9qGQ7Y\n",
       "A1ACuMqLWmVY8anYtSc9s2RYJwBTyWzg4dcohGyCpns/j/tEJ66IKa5o6Mq3hHD2AP7j2w6nXorD\n",
       "6UjIlemkOpC4HmWvJ59GaFAj+aEdz8vfNZYgLAB6sI3ol1we0avAwOXBDgDQGvqDjwKHnSIWgs5v\n",
       "ZtFctY3FeXtcAEgAQcnf87Lv9CC7eeSfEAHPkGrlQ7EbSeBe6RoewWle1KKE51LD/Vpp5A57TnBG\n",
       "X4NA08z9eMuob4vk3Gh1/dbl8oOJfuMvpoAWxt91mA8tc6D8bO9S8B6icyAGR5SnMyklEEu0hv8a\n",
       "hxZMk3nL9iW7NlJ+IYTdLswZ+DBQZ+52Al4yVv6ICEdKb2pWkEgSp7m1ob1KfApGZe6eyyKaKDEo\n",
       "b52Qs9sEzfGaMsqx4zawg7G4LlCE3KBNzTOivbnncsY1ArrXe1WrhijvkLkxPHSv5BxZAUhNrhhh\n",
       "I1d8RwRTfOHBpxWXjy+5SiFtxjU2Z78Y3Alq69MSZFkBnzvNzGLRM2Nhv060AAADAGoaFW1tHOdf\n",
       "SCecsLLADieimch4Ffm0JOIvYwGLYB6SEwi0txNIM05Ebn2sXeXSW+1ApDcKVoMNbpKaZkZ4151k\n",
       "B4Rrt0W5MoynSJa7UcBztx8CKR4Uh6QkktQT1NSgxLnHr2OESpcpHDAxABkELgpMbT52tc6PniL1\n",
       "KuxqkRm21/4aFE/8H1jVVWWRcbiieHUVkiurv/SiNGcx5ZpdW890hJaGUS+DTn1FCmU+yavqv2KB\n",
       "O8Rx7ECzNrhj7krhIUJ9I6hMhiV6RT++dmIHfRpPVLzrBKmk5lOlcEVeLB50LWyF74Oeupy0PT5r\n",
       "+t6yAcy3S3A1hnouLLPrGZ8Ch+wVb8Ywbe5/lWh2OxM6qczK0rt6C1GGSKCN7cu2SQmKgfypv+uo\n",
       "N5yCym1w4tJiRaRUKEogpyXG3ehcFXDeVvJm5N41ugPLXnkfhN+9p/MjxpB5nrBAw/kOMD2oeGye\n",
       "r58IRnhRWArarkZ//95OMZv1BAiNsWfVlv8qV6PrMYTkV92ohcmvypWMyASfdK7gaxHiELKly07g\n",
       "ASPFdXaNEAXaSbpbcGYKiXmlT6fSADZHjxbGe2Na39AWp1Q9TEKQT8RhQ5E2C7PHxScZXpGlaS7d\n",
       "P3dZJt66YjOP3KbsXFjd+2KS4iuxIR+C+AhhXljjrkchQ+Vi/oL2oXulX5qudEU1MYZxUaPkLyHP\n",
       "TcRxauo08iaT1rfQWGoVgFjmcGgaTjw6ceL0xtKjk8XfoidMUUhSP/k5n149NWJpPrIyehrRmLFf\n",
       "nAUQ5eVapoQPaX0pUK4SrXocAaJqtUJeMKPn9r7TcbBoKYHLPnkSYoEztJw2/4jD9JXcChjHc+4d\n",
       "pFVHzWtK+BDCNg5S30uYj+vRHanZMJp1QulbmtjKYLm/ykdJdYVXcCeIo5XStctdPWx3OGMp5/cR\n",
       "ZxCi4yQqnwzDL1tzqPpKwOF810LM8eqOEWnwWSN1TnHxfmFVkujjIcKh8YkzQJf1ytYq2YewrFQE\n",
       "cFXlbqO7YELhlhsLKPMXo/QDvNokcOGjO7/ZZbv0S91FXBurB/YxF3n2xRzL//OeLeC0bSq9v+iP\n",
       "Jfy1KK1z3E5j149QwbQb8Skj4LIjoifkOSm98IUKET1Vd5MVnuPAAd1FOt1dyutQdLnGreG5W/7j\n",
       "zLAud8P/24vF+WOZWrnsPjeDe8pcHFzKKaxhAAVZyxrWQPlh13lbcFlgi17UUnIg2Ju5dZKF8s5l\n",
       "vdkTX8zzsfZS9ykOQ8HBO2FibyJrenZ8S4wXpdaT0VjVnqhKfDcp4TJJvr2aNqpxi8Xi9uknbIYx\n",
       "HJ3YTL8TyljJ/JKs0XDqzJc4sicEUj5k5vH9YeeNuDUKj7KyFvCp6sn3/v7pYl+Y8EpxZI4UT33T\n",
       "P6v9ODy6UOWcn5+mm+jh5ub3uA+O7GRg7jvrlHKDpEdl9NvQ3d5KOuwhcSev8TvAD43K8ry3ec0t\n",
       "6dFYaeJPHYHWpdw54Uru3uIIbziz/2G29mnfF2tvx9Y2YbE4Yd8kCYLvqaQ+wefCVExkKoVq4tse\n",
       "MLB6OWt10F0iOn4FI71oHMo+3MWsqcA6WmYx7UCBiiwPBCcf+5lDaoyvziv7QynkjzmiPkCVy+bS\n",
       "GKjcrD5jKVJCsQ/yPfGAxUJr4VMQ+HE/fDaOWEAp8Jrt0gKGl992csq5x0AesLSAO7alD1JJ8ixJ\n",
       "AFrcElIcTK47JIgZuJeW8BsOhFpBvOzPu9Uwpek/zLnEAl/cm4yjw2CIwuKamp9HS68TYnRdjBAX\n",
       "Itp4ZZegar9aul8VKE7QqYn/rgq+ldGzUI7yhqyPXanu8rsmHlqESrspS7zR9O++yOs97wCleMEw\n",
       "MY5QKu1ICWTr12rFKJyH3caQ55YHDuz5k5bu98amCR+tJHdhhAYlGGFgfFrTNkGNJKC/tJyUM6xh\n",
       "8F4IWGwq0IBHEyCFQzALNYrekW0nRUrKoiZYE9jXzCmm8mF5id/LHhn5qXsP68lSzMF/REnvolnL\n",
       "n6dt7UKoX7DYmn8am1w5SeOFZ2nyP3BlCreoPJi+EBGqUWbpTLLFRlbI/0IBRxjPmBai065IQUG8\n",
       "+bAV8wVtGfC0Z/f6UiidAGoHBJKXOfnXqcVnJFLtRm5uJw8OWSHF59qvQipprTiD6JjsJjYKOWfo\n",
       "iucNRhFHihRaA8OBjNExfEIW//Ng3cd7PJGMyxMTrFO1LGe1YVIimw+4aJq3ZMq3BM6mslngazIv\n",
       "3Jda27jADtt1J9vooMotq5fVHgr3xlSsg2eREoXe2gr0ywwJVFMzuBS2rZJraawGjTePP/EprP6Y\n",
       "Jd8nDkvP3MgJzG94bLzPusNOfQyfFfCv0L1iTk2koVq7IKYUoX5CF1khvG/+54pifkBAQeV3kq/h\n",
       "RxVxSn8+lIhSZF2Vjy98EIjQtZlqKNcbR7JjlkOzZ1tvkcU2Mx5PbIcTKo/SwMCYxNSwPNuUpLwj\n",
       "sRgpWXktWNj51DPUGiViFl9WtRj+OmukJ4Ho8kMBGfEiyOq5AdFseNvw6ZACBPTEIZvRVcqJZ8Hk\n",
       "cAJgi1B2X5UV7jcMPVsLre1BddoYVdzyjStRavrqi3DGo61+3R3xxWHdH+Q9IAyPhx/HQAKoTIiY\n",
       "FxQJI6CtmCKca8LoOF4UdnC3GDikZAN4ZSeB+Sl+IUwhYkJIG2Ev6LS8PNtGOrLVMQaNpZs6NWL9\n",
       "fssFE0/yqzWrR4OTwyyI+N6M2wmLtcK2XbOuCzYf9EA8DWQNyhlCmspWA+tC5BKrp/KFrhLCzXlz\n",
       "zRFD6Mrd8vcouzvcBf5/CK7dA9E3ICRDOm6k6TTwgrsifMufzOS1QfZNbqaQ2HgDwgaKmJMU8Zj3\n",
       "zULClTjW7fICDzzjO5hMXq+/KRqmf8kF1g1VBEHOTndr+TZEwzlHfh8M/0nTeMMZn5H/kTEsfZV/\n",
       "KNfOI+IsR4yByfFYztRJ5L0rEzmqerBqjp4ncrc04A0NEKFqBA/7o5ybIuGVN+4Rg19BCvL22dzD\n",
       "AkTwlWWZk2m4fa9LWB4JMrx5UhRkgC7uQeIDLY1ommlUJFcLueIqICgcQW8dpF4Y2N/yxwOQm3hA\n",
       "oDhxF9ILjWnjqjEZGEwtWQpPd5Rk3/pNo9UfsGe32XMdISkaWpCscKQlxhnuExDJwJAlIevVna1Q\n",
       "qSupn+DxZOLUii6sOURKCl47wEfm5SYukVwMEfL9Gc1HauaDtFTYJqW3Qcz8rTxyY/tt10z/SXCO\n",
       "Lrkh1jQsClPcHNpTkV8RSqgYE3xDb8VOjdTQNsGISWORk1AQ+6/g6gng3YCivLVdOMHeRzVglpCH\n",
       "VVOcsl+5eruv/BJwQsGXDX996nAGIAWbbwHeKOEA1ymq1wk5XoaaX2HGkey9SuM0rGrirUu1ekV3\n",
       "nFAT0FPiIW2nMe6fT3UsdrgN9kDhOBcp1VJNagq7Rrw8jWjqShoMRQkl1tjayGLcU8Co4UhndjRR\n",
       "OBXuItFhhF1JFYfAHr/N+KSH+R3cpp+1KcOzsPVrct6HzgCVFnS8gAUjrqgIIy0rg0N8L81okjq1\n",
       "P2ckdqavglxpkpiUpLjcUQCicLN59gaYoFbBqGNh4tgDMb/gZUMHnAsR32ntLID11LxaFlgbPH7O\n",
       "uP5dNX+JWBB/6+H88GJulXdtCb1DUMIeziJUrSurQaH+kn6kXM5vdnf7vxovbzUMaQsefdS5/2nU\n",
       "5aXFSFFE2k488CdtS3E79k19MO/V3jZjTBPel3eWDpE0Rc/DDahUMfi+7PLG8AwLtSCnk9kKmirg\n",
       "r/+kSIn20+u+TYt0t3zZ/h+B8qFelppegAgbVIH3vxy2rDYFI+KAoZS8uGo7l/kyKg8Xx7fTQNx3\n",
       "7XP77S4ZJd60K+rZ3QpZvyjs/w+HFi/1ai8PQmRxexbwrqXAV6gnfGkvYn3j7Gtetva2WOHjIkJl\n",
       "b4xhwbKp3tVUVm2wKGXPAk9+9nvIq0r9Q431qZxGgol8y8PlpnPwjcZmoLAXF2dz/wMm3/T01myt\n",
       "QHI9jRBEYkezbq7NiXcFBaNn3Tr5PjzdJY72WxTUUFbOz9leqFD5fPD1+dRt5lMD9vvN7DYe6p3X\n",
       "ghZinaou2xbUPDS7BnQ1KRdzTgd6FMXQruZCRidVMvwBYjNhG2FhYeuvDiET05+NWKTbf0DmMVpd\n",
       "sZEydS5h/DUykZJm6IGibI8GYdf4Y//9X+BVSMuAGNEAAApgQZojbEEP/qpVAAIAkc6M1eqKGpgA\n",
       "B/WFBrqjIEHA7SH/KaaIWQm16lJQET8/PEnDaIem09ezote3gttEGLH57Bv5qkHMGAITYF9F6eUC\n",
       "8e5oGojMTOsPUW3wWK9DQbVPC7xWchtvamV+6iPcRoY6CK1QWwmLDjIm7HdeqzVj7lrNXtM3AROS\n",
       "qXgnjRYS53MdaR3yWKyIsHhMYbH2JledS7xswZ7SdWKs0VCdopfIPRpAnOegDondNatZRWHoJnDc\n",
       "SmjW5h4QUexIeI5+k6z9EOZ2G7WtyxpP/6XRwlZtp9etVl0+wHxyPMPL2pdfqNpvZRvVF11AwX9Z\n",
       "weQckWeNYwAkkocgGPLBPDyxbS8kxXYgPhqeQuCoWoFbe2Vv1ZRGec9f7cY5hv0bKYg8T/hhkY4T\n",
       "He8oHUAjuO3vWPC/SfpcvnOE5WaAJVF1K/EiI8pRaxZz/3r8Zl8WVfQlep7Joc3mgJ94dNg12sMs\n",
       "gkvALeq2AZjBFxnD/2iNrzwB6yQ+oxFypFEaW+gIa9guM4y0TCjI309ENDsdiWkkq03q42y6uxSJ\n",
       "gu7TyJYaq+h0fPP1ZSmh/PDFgwN8JoL3svfHvNCVB00ofgqa7hmljHHEZ+YQEQbwcW7wfjrlBOu4\n",
       "o47N4EBuYvS2hkUjWNB/OjWa3XYqfISOYaFRp5d6UJBBHMDjGI3uRLP+puKM/hpOiIdKyG1o6Tve\n",
       "TW8f6kCPt/k1zKq1Nvxj13DVkhJvTyZzyHzs01onsXRKEeI5s42hm4tgrA/p1fbRMwKucMkCgh93\n",
       "YX6Yi5AOq2boB7kO2oZxM4LqZNpsU7H1hDUGhS9g3cWUxeT7A2zXGm8cmfNF7511tjZVhdQrhQ+W\n",
       "YiCh+eMN1XWXn44m21p4xtKCVH3chzPG8DFvZix9/YIDl+F+JzLeqxlVmASdoHyA/MfZ5euGFvvi\n",
       "dKOG7VNL1RAPzuWQd7HNCNrO8Wuh2SGjnvpUTY6nzuY5Q6W5/voApRHmZQNY7EakgwjSFnPzVlvY\n",
       "Y2JbYD3H0BzE7mwUMqnAvkYnFmFJGNXrS0lyCYvz3IkTDvCWpXP5/S5oWSpBVkJ6wMgj32nUJulc\n",
       "Wh5ISenIz93knK+1SJsQe9wM1drFdppEbKjliojDQyTlLq1heFBzVR1c6f0g8YY4xykwx46el32S\n",
       "7WKWIQhnE+6uTXiHen784BvcvXat4NaVB5Sdc0bF9BcsxmvPbNz+Ktbv3RhWdMbOO+MWWgDn10j4\n",
       "rOVFTgIcsANJQ/hnrLPto63OqyOH614bxy7qs5KgZIKuMDSa/iWzYAgZ2t/Ektac7I1YtPx94Pdv\n",
       "HpuJDgDydO4Ygum5m+nm8n3tSj6e8XV6B3W/TMJEF0bRP2YYuPzudyuFjpQHroK2kkQEzMnSKku5\n",
       "nW9NWOI1BnI8NeCoJ2zbxlkKKFIdhVUH0cJAI+IYfFL0ebkwUEfbZC8y19Q3Ue4imnbuJugspcW9\n",
       "8LM9rf7MRMZAz5feXtAOez3zcu53y0ZGHOvcm/jWUsHjyMEzxRfJ/5I//YPAuEQAcjcTAhO6f3p7\n",
       "PbzOjGx4Me9Zo30CTgNOjgDbSCXFeLOuF5Uk3mDpmfZSxu0rTEHmjOE7HQe5Prh2OeB5TTy+1wJM\n",
       "njz4Wn/9/ChC7+x6or557AKwtbkMloAqoQy83R2SicnjZ6UqDfpEPRiLCuq5YXlwxIZ6AWAbfh5w\n",
       "HcVS3U9Ys50fAlHEVLmyVpb5/7yOwUny1z5hYwxSdv1V1Vig2gt/3zoCO4xm9L5rk28KiAIHLaNJ\n",
       "Mc51Gn+14Fh2nEppy6LMVyPB/gowrMsPE7BdpkFW31VW90udn5Skb+0Ol0vVrMks2vazxe51HW2K\n",
       "aBXU+P+PKMUicABC2CD5i5y2zZHurdZJAk5Df+yXNZOzeRJHm/ljftlukA/hvgzQFAhHmnydT1Kp\n",
       "NnwAJatXHW/e1ZUTSu2TdPdfYctYhQ5kR3HF2ESaHSd7vhCQZNoIFRyCh+Ts9hN7IofyeWKSFdXn\n",
       "4AV9wus70PXXOG4wfJA7KaYLG4LNsFgelbcn2++2I/jLk18rWs0RjJdRVF+oK3F3MseOL+CSVGQp\n",
       "7Q4W//+49FX4oBvqNujik9ppRt72kPKMNIM7UNeOGwfQ4DaoqtxMjF9+CI62z5tjzfM159J8QxCt\n",
       "Yy+UabJJZP8oLP7fibnQIF0ytKBdeq9+Vr3UArb9BV1/BkexZYa0FosNJbdRdck8POPkcIyfHyG6\n",
       "YniHzgDk5utczuQIX28Oz+cYdk+Up/un34PFlgVbQDVrCMREyQCljUt/yEXQrtmy9rB3x+Ig3cP7\n",
       "++WxC967k3RQvEe2SxhpWd945H8zbFpsYv9g4u0kPtDACx9z28x7oyeWJ/OjoeYEiUm08LE/na55\n",
       "zuC//wysyYwHey+NyWuVB02oEdvnoid2aDh7g4AFHn5udz6aHNgWXIwHOgLg4JLex/DpuiUc2WrP\n",
       "o/+Jv529DD5p+6cQR+U9C+5V02gI8KnGSpNcfsSewvukJETw6v5Pf//1AkoMcDcAowJ+a2rs3VCu\n",
       "DSFo+F8rT4DISOX53KkqtZQc5dkA2u2zKsyTamaBiuZwMGxO+hFowh/U6v1saoqxt+RYOySOU0o7\n",
       "9OvciDIyuTr4QiQbRHk6RdBVEDUn6lf6KK9+hb81x9afb6dKfjPcZ9gNZBdtaQdaOnLBTEl86mVo\n",
       "R4edTYtU9TawGyeisG/PJP9JtdOnmF7ieoDD8UhIAlV376Qft587ZaoS4jBeXzvvBd75oop4E5bc\n",
       "lJA8S+PxLyp2XGkoaSoXshP5zFyvNFqsmVwyyAJul4SL84abHHVtTWzd54RiTJjoVfthKh1qIDWj\n",
       "XLFYFr7e2VO6US4l8vvtvefnpGvUztJHpJoQCkcqzZfipJJJlP7q9osZFbFeuXnZSAVbteRFkTbs\n",
       "UZ5N9NCu7VAs64LOXdUZ0pw6DvdLn1eDRCP4nHZkQtCIsdqKng0qQVZUO4vKavFF1r9yd84FwT61\n",
       "AWAZpAelkMVUoBUUHQmNc6zRDWJike0MzigKcT3YzEm4YtFPyV0co+N9GX2SHZNV09YLITWJNmTg\n",
       "cXWmuJPVT+QFI4Jw7ADiAB8nejUgAVosTa+I7Q4p+e1sUlQby2UgAFuo073dVrLJ1MjZeZMV2n8+\n",
       "cr15YX0zADLrLXdyt+ENlbqL3NYSDpx8FXG8yHgDiopeYyQ0gxW30fO9xOis6Dh0anrVDq8hZPg0\n",
       "+cSB9KZ3SLSCzsY2bL3O11jNVbnUrmpXLLLt/Ru/+xSeI8p87kw3azjj+lyX8nl7H+eeBZTdu6d6\n",
       "RzbokwlOPkr7p2ATiEeqHIyvmVPiF+VPSlrXdgMaeaOGktkjcnrNakobkPWY/jo8bY2Ks22lQsWB\n",
       "okHk59FiuR7rbkON0+9QeW0AJSG1vUZi+QLQullMwrEocg1MC+unBaW/in4eP/0gOPlIH/n57qH8\n",
       "75JbEM+AQbrboqquUDMqYrwO4cwMTKhZEQw1XSXG5hRA8sMEtU+D0db0/7+NxoY7GbfxUa6BR/B6\n",
       "0dBFmqEaRoiOJG8M2AAABS1BnkF4gh8ABIm5CbFxpu2drqacAgBMoiprZSklNL/BFi7OWgGEW7w0\n",
       "+HnSkFZDs/kIZgtCFrgTgWvHE9ZeijWDMG5D+Jj0FmZQxjWKvoDjfJrNbGG5NpRUnVi/l5Hchn1p\n",
       "MmztRYybrQ5l192QIlGnkH4AX7MHgbpvUmraXptu6jMWSkx7ajcRpa0HycOlq9LixTmezanye0FD\n",
       "2krdWyB+vJa7bzri7KMqbUjlN5or7lMoRn4Q6RoB6TpA8UMpK0ZETdqH+X+Kh4Vw94ZLiJEGTJ/j\n",
       "CzW3bUYQYAUinyxJOfA/uYd1D/htHr8Myfn3Szb7bOoggM0ONbQ/O7tTRnvH6bm6XtOUaC0khBi6\n",
       "iyZQJEy85F27xA5CSn3zup9lf/vzndp/bM0lLzjnt4pe7C0EX9JfGKqZeGX9CumsBlnhEWrxkGpU\n",
       "3hFRelSdZ1NwDY9BXyzII32TjH1mXYYJDKivCt+mtZr9BNn+4esuPFHq7rFw75zRdqWYtByxwG//\n",
       "Yc+uZ6wLPVIqpdBNqkqul56A3rWDPJ53YfFkrcdtF76Lr6JUxcsPeEXCsG0wA/CfEPgGjT55zmfk\n",
       "Qfpcfa0Wj2yeStBALS9/X3BsCAZpX4C+CpUH99FBi4acWMwsG3f+gxPQnyKQHf4n5qU9UfFnCPDO\n",
       "6nhC3z8IED9ORWMm3sCvDNn2x/+3UDOga7nvCSMF6JSAwjbJMZoxp0XhMNPiyEO5mSnpv98U83hG\n",
       "+YmmUjOpqEKY/a5ZPk4oIfTk8A5fu/jID8rb9C2M7mMnuV4oKU2PD0W0KGovDRrsi02fyD8TJQH8\n",
       "5C5OXBFkfwiKA7XXM6Mj5MuxRuU6cv1Bt8NXhn2mnOrjG+b6y2Xb9PdPXRGysfLsoLkk5kCBCGlL\n",
       "PyyBn2l2xPZjZRUr6DOEJbq2cDekvQhaarwdohbSgOYbnL4O7uiGY+0sROfFqaQk/6Nufs13K6mz\n",
       "TzAL6EK9cr4RbIi8W0C2Zg/gAyKF4XKnVMEUWK3N9yH3PD0y1Z5gDFsh1WoXaj2d1IPxb0r5t1uT\n",
       "L83iL8Pn8FkiNBbOYMj0FwG19ENwt45CnCULdeDWGAvlOjTr+2cED4nLrBiH5MajDp6fiA2sP/ui\n",
       "9rXzYE2BHC9dgdGYdiYG5OCoGmYkPIYehkeyjzEC/w0hc5Rbvax3aQIj4hA6rCmVef7ip/guLv3k\n",
       "IxAEmzUpi8J29vh0sdpV+5XMpRLg7X7pCeqyW6e0cOSoAr7HZumePY3ZUOBYe0iwIbqIFxaFhbI3\n",
       "/DUvRb5BdHHcuBxo45CngnXx5K2gsOn1LWAOL+0x8K94RkgGdxdrj8Gqbtq626HSjIDdPUoDGaXP\n",
       "b/GHOvDxnXv84rwlDlBgZ9CB40QTkMHPDBUn3LnwRQfBLWePOp3PWhN6P4XraqJGMkp+r8Ca1vXk\n",
       "5CTXJ/qM1gID/sRXd7OwGy9zWYWW1h5xLflBFpkaaF3cEsx151RRTL6Njma6WL6Ulr+8XaPG4WMJ\n",
       "kmxKvHqcGx/Se4c1+DiW2FS1qvB4o6emtO8uE5SBmSkzQFpvPvpQbjrDIEscAc0QCxOh5NO3FIGh\n",
       "mO+IlJsHx7hwK7V4rHKJ8KI8yW85RuRAHYi44y3bUgx37MERWwgTSTzvBGD54opPr4l1RWEHgV3i\n",
       "5WyKok02DSy+Lfn6/9AUGbEw8I3jD9zKlygaz9AoTDsK5490jNWrgLZ0ekmfRdFyO7o54HYC/TI4\n",
       "yf0S+TUS+GSxMJrItHxdMY/tBloZMzyWeA5oXuX8UQAABJ4BnmJqQ/8AArKPmoCe66gU7MBh88K6\n",
       "qxw59wgOXEmJToKJ/by2v2ABOtqpjwUr1vqd9x0msiRlrIjHtVRWQhpkUcsUEk4WMqTKRCGMwspU\n",
       "SW9CKzSLOWJNIe9AYPyhg7nwS3q3xbE46fTskuzuK6vK6SKORdEAXM+WInieTFPS+V4sw7EsWNnI\n",
       "NWVbwN/MKqNjCxlYVaRiFL7Jv3FSHJTU0OS0KgO+5G6XZrM+YTwihWEf5NBfrx1Y76Xq+6ZHwanJ\n",
       "bXeq1bGZeCxqFHf+b3KsZJUYmRAcXDCM+5Rwar6XItTrxsghyusRsETqjke4eSYdGzJx+ygsf8fV\n",
       "bHCx8Ca5ZzbeAA9nKkv7SYknU1v8Xt3vMdl8KXPKbkgybqVvHITdCjR1NfwuYrRl3tXWBIA+EQUn\n",
       "fnkD6ZY+FlRZGTcaIOU0vWPZNq7kKQctTqYa6CQvt9EBLrVr/dfw6GMMJwv1th09rYCgiiDWKig6\n",
       "ef/BICpE3yogTKRnuwRPesbRjM4po4+6lv/xSEkcRtJi6rIvJRZ0gAoiUgud0Kp7ZEittXEtkelN\n",
       "rKr3UMIHobNaXG/kAARy2HHV7imyBoXwwy+AcXE9cSQwUUnuM1Uh3bWobSXrGrLb1R/n+HLrssJe\n",
       "8lKZpEmsz66nq6rxhQcYqyt3Yr6NzVYrlg4EsUsHoK5b8iYWbhOyHpgaG/IRzT/nJRcpRfnC7npC\n",
       "F+vDsvQkY+wwokUAjZzJ8wKmZmZjFBlec/FGnoRrsUJMB5JXy1+Lq+F9JjaUPd9S/0RTJWwLNQdd\n",
       "tpNYktB2hD8FYhlKloAcMZFs6jgWBtVV0qDNY3APW3uKuhjBShRinjS+tO8p9B7bqDe4gXNjW3cw\n",
       "48E1H4TOBxs5ErkTEsAvX6Y1MDqZO6EKmerV0G3K57xPV2p0KoEL4l6SIe6l7xwLRYAmXMTKvirn\n",
       "fOQGg7xIFLis+9lIA6mYwm8F1wb6EnjudOFgfVNkVEayJyBFelN+Z2xTtpxX8MWVgYH/pXtI9wt4\n",
       "A1dLgAg5aIh+z9utbtgBFuVz41owZy3I4gYBrgMNuVzAYDm5tzbAo4UR4zsJStA6lWqw8CKs+IQq\n",
       "4pkLULXkMck18+l3tzEJlB/ZZYONxajinA1OBOtMcE8cJM5fvaQu0sqLlxUC2tYfJTBrJb356r6Y\n",
       "5tuC3HwB3q7eHJwRVq5xLRzqLug8PEBSJLCEpMrg/gShJPI26DWBTdEHQH6/qNNeExnDuIyZCEv6\n",
       "NRG5gqJWqm2vx9B8gfYbSdIG8VERVn/MC+NAlFFLVxlk2CRaQDhlpTF39Erd+RonY3nioz/bdLHq\n",
       "3BMpEsjPMM2W+thIusl4XiIIzaajD2mnh9mW1PbF51ZZmgwTMpDzUDnRnFjOea40i+BV1S+EbKG6\n",
       "nvTt9VtHCzidB2NrKNFSsgrAh1i6oknNr/JDMuyuT8wznapWsoaiDoPwZREDRsb140L9r397MT+d\n",
       "H3D7obQ65xNph8Q/hEeX/KyeD2HQvCGxb4c2V8QtHvY/H949FZRIIhI87ZQKu8/cdNu5fON5qmwq\n",
       "qnjDAYnqYXWYCTPoBxdZrg/INmAAAAmwQZplSahBaJlMFPD//qmWAAgBjkh1bAtGntWy5Tvp7KIg\n",
       "LTABq5jWU+Uk6qMi7dVWyzlieQrmFiEAu0s4KvyIlce8y7QiYMXhA0W8oJSAcDzSQTmsvqyrWZRD\n",
       "2F5/atHEOFreMrK+8QF6pbM5thqKEaxk0hfRHoGIa+harocxdqAGND/ifNaxYCp/g5mYrdePG4Vj\n",
       "q43BUrPzF4d0qkvNGJxoGzP1cvDF9X+9XZT3VHcYHjvRgxkMY051YYDSckqTPYhR+OX8S0XCWCMP\n",
       "2uh6pJ2ORsxaTplQgUDy7Ljvac0B5zOlCc4lC5YEI8cANpgRLbiwBoQXIRJtw3lN9KaAMf0fijIe\n",
       "R8IhSN1Xbqk3dtzxwaiUftmIyGR5z8f1Iz2PoM8Gy/kDywkDPF/XuQijZjRIpKhe8wvAvapnw+ye\n",
       "Z0gIagtoiVNz9fMI9vV/+1vNln7nFo0WSQXAv5xj3kvQcAbjCVS7LUxxom0YTWGT80Y7nbikT52o\n",
       "5cnIyZHfkK3TRU2FN85dbq3ADdUVHWr7W+jtsBbNq6X1sgW75xnE5S9OjaVpfJAWzkO9DcrqyIPQ\n",
       "O5GplMmE4nk2B6Dg2UeS//PmRJGxgq6IHpl12KhbkO+KI7+rlxaOyqhZ5le3PqXwfWUOCsoYyc4j\n",
       "gzwXUmdR6TY5ErI7fBbjN+6KJ1TWuJIGPYusW5xNV33lP80SxFG9G9Zd4uuoMu19gD4D8d5IUjz2\n",
       "WTPfvk969vylWejWcj7LnxIkZOroSzASQp/v76Py6PtFg2FQMfstZiI4XHigsukWbT6/Cu2so0zF\n",
       "sgsq5Pi9/YCUv3vmvJQOBu5gh3IhGwE2OmobpHdBdofDHoFmJeYqrrMLsZFGY0EGeob6QfvG02Wz\n",
       "8oiacHvwLok//tAb6VG9sx7uvzF5GPh9dFZtYxHuwPD53AMMmeKdM4jmte5ogFIhbEMqKJTA6Fn8\n",
       "Im6h7T0Q9xMc3i1IGc1Z1mHO22XB15gs0Ya30q+hNC+6j/iJUWTIcDGEtvh0jNFbISKMbas5fz0Q\n",
       "ACGFsPQfkZ7mnXeydzfwMikxtnTyOFkYsbQGAkMDm9fyjwtk/BHg8oTsnp7O37ZI2qEi/FuMHcEJ\n",
       "gYzE9+/48evrio4Ny7NvZG1Kk2bwytDyg/GFwTiqxXaHdJl3VLK6LFtcOSZTHsvQlymjFxdCxYSJ\n",
       "P+pNe3SuIF35dPyT8GjrMqiKPEo47XuwjM4JYlH8LGxpEUTceQ4x1DB127esYnlgbdsH5Wn3XqT7\n",
       "AxsWW74g3jg8QTleSDaCmsHxqNmC75x+q9ydmuvGixxrwyuWE57chLHI07lZwmqfQf4+R8IGPHh+\n",
       "wczFJpaUUXt+GGuXoGjE5v59bmMLVJHwsA2cTD4LBSdyHWJfrloGoZj++2786cT7oMhLFWMdU04X\n",
       "b9zjKwlcSnh3FgN1CMROD13+VHilRhNTWTUuDIlBy+5AwlJz4UxA1i/+KzWQAJeUbhzNgyak/Wsj\n",
       "VB5GiV/r/xHJiHoOwul+8gPFPTfq2qpkIUkk2DjOkjNKAqaXbhohFXOmUgAzp07qzc8Z4DM4VCSp\n",
       "WYg9a16/dMpdERocvwJc2IdYCmtTYQvfx+YJGTOiW7LPpJq2gKL6VcfmpJAQ9+eaWQp+dty9Bycg\n",
       "B8azy9ofyk8ARFDKRmxp4f238moQecDHftw9ThLa9hn6BC6i7a/rYW/Az4oTyh3YjVKOSOMWtAu/\n",
       "yXcNz6oPSaUAgaEc8ujV3z2hjFB/7yimV0tmP7higyUc4oJBx/hGb6zAKWIbowE902vFNV8WEzMa\n",
       "SASxbsYxuIlreNaPUuR96g0l1AR4o60UbvE0gs0Yh/8kd7x3ZYxwt2OwgFDsTkhTjMFf+LYN1gh+\n",
       "C3Ik+Ozq1fQypeLtQJwW04S4wk57wETcqWY62pbWTtQTJKY240r/UWrKNmb8+eAz5Qrqccq6MHYK\n",
       "RylDVrHkdg7m/fi6s+uz4xY45s8h2te7DlZZgh9XlkyyGHUxPVMcaaioN52/AiSDrsMCGclnb/P+\n",
       "+sYSttcG3qi5Q2HNvkDwoqUCvTBL91j/6vL0FK1pIvKafatbi19NVkxX5zVVHvlQKkc6aSk7gy0A\n",
       "k61Kcs8PuSMoBey9H8pnPr6kzNS++CmAKC8JZBuysv4DJq/YUxpPtzAu7fI+x0sZlGovrrWBhSxc\n",
       "1n83l/5ky6CUGFaerXb/v/4HopcTm1k8ZVRNhosDCNb9IlcCX98GsolkfUVI1XaZ8rRNh0JC07Qn\n",
       "7yCcxUGVBvEmao+wJppVqgxf6xIcF0dF7VVCx24Ztt0sq43UCfU3R7YugkfXoDVuFJQdd4BOc+yi\n",
       "GhGcQJJjNjqcivfqxyTRQD2nF4p8ze2P3QukPIXCq0YJVQZ6qGyxdeTrnEgxGnP9tXruoVxIhL5D\n",
       "Rz8y4VPTj0RKe3bWeF+q9LRs7DmoG3A+a83KspJu1bQRXsqMnVvKupl8DMuZlXhXfHuv8qgdyM5p\n",
       "QOHeKsHyP7axSE6Xyp9n1zFCOkRJtAV/tUdZ3rBWszdU9fKmtaZaf4pSmAgzyPhR+1ry7mJgiLan\n",
       "1pvUCdI7XTkTHqN/7eMA1y1v0/9461ouufIjTfJevLfYV+M1CfdXhvJYJ67wurk9uKuJ1rnL4Hgo\n",
       "qF8MJeRVKqgOUSHsIHy7mnX+KZvgMaNaPC1Hman13CPheTlfciMAigo+3ul8HlE+JKksKfzWT7Rb\n",
       "//8seLdWuKz//Quf9iR7QvXHfWRUNxHz97O2ckketmRblk5r4F40A8bKvRW33biTJdVYL9ZHw4ex\n",
       "cEAITL1MEzoUU7vS3/1HSxV0zFpDZjwyhNSClZ3swskbaAuLoM5KWIokiwtz4NmMVimYwzJKn3LC\n",
       "HMMJM5r7fs5/muH/mjuwuVxykHWGfXn9TWec22pxMzV1Ku2u/SRPqXtA0I0YXs6WlA62NKUr8hSm\n",
       "eqkU/aHHxdcM5hCY34kXvG3owV/5omILk0ycACJzb6Gj3rpqyPPWnEpvLC3YikgfaP6ZLQAkQFCE\n",
       "iuxKz8AoqQdU6TW83pBUrgex/ugSihHu+kl5+Z3JLUHdwAwWqiA0Q2/+SC3MVSpAr7cmjCAKuMnW\n",
       "tMQvgM8QUwUTYwx0cxwD+DTBQRDV4ChCehZNOUNJwSmyoyZVELanSUCxgWiFzx5S8EXZOumvnJ0e\n",
       "qLBf2YyA1MqGOPouxX134D1GpXeJxrI7moL4k6VC4kl+yreFSaw6pWaPglDKoKPx4V2ecK8j5O4n\n",
       "xz06oYxYkyFPCmGH5aCCh2RUqeYzsS+jLoMntQH9Wf74PnzMziqYChgOLx04hp3qob83TuEAAAgS\n",
       "AZ6EakP/AArKP7tE/vozTXoASOXIIxZIAD9HUC4gjoHVgBkpMX8yJcdkeats/kr8UfOBsyIQ25hv\n",
       "/k11lmpjcWKQY4yyMbRjbvqxaPST/F1p5JJVTCTzbnL3NigbvpWz3ny7IuNeqorSx2OIE2BB4zab\n",
       "HN5W0iCBPKYaboW5OzsX5Dw7CCzvACTRqzkW/HHdy+znXaoOD31p7gvaM1ffF32epgq5JutjeiOo\n",
       "v1NPr07mlTCUV1mal1E4S83bbULZHKrCvkF5tbQkNz3xFLoZDfAF+c/zyMNnBceFcVT4nxqjcPQt\n",
       "NKDIm9KsDsMKdtdSe2THXx0cHn8/FawGczU2/k6iCj8IHlK2s15UUKcHYfE1IufEo7T33xkw6+8F\n",
       "ae6hNBCieLVOqq7b9TipXBDZrn+sKwljiFNalcr6c+ohMYgG+fSyWYpO+QBzu0Si9RxQQHjMTtjH\n",
       "yfpx7ClrlKPqDotj0zEWTKkmHMSRHI/NobJTwcvh3wbpNQlRg0BZS1Lmtu1WlE43MePNWqyxFdNg\n",
       "78v6g+dQH+PXWlcsBfTFrbrYH2SdmkTGcXyZnGLDWroJVLdrqwQjwnssXwO7X9xP9LZIHFGT3/bJ\n",
       "kOmAUily2dKFr2DIlQmx8zGKpsSCZtpPRSQwBjpgLPHNePuBD05u8WtApewrPHDH/g9Jtr46QVQS\n",
       "MahaMHPewJ/WuPJuR7tCArHB0FXWu1x9giXiBRA+WTKun1cFxRGZyvUoPMyS6t6y1m9pVpju09np\n",
       "LgwwHb7QFyoB8KUiYwG2Q0yb1rabSt114OkCD6qMo4nihSq6XxK00AC8JGfX2yjNI7RxDl75X54K\n",
       "M+fiQ7Ktag6qIF1Pr58yypB+HaAZ9X7/Q9RfrmPyxseNpklbaAzCNl0Y3FnWELSGU2qj6rWGtJSY\n",
       "sm/AWrWQtdhhRS8t638eoGpD/tb0xLlANVN4GZy7w7DY9m+QRQcfTsAExlMAC8obvYoanlZslgh9\n",
       "PSzjFU1V1Ga/G9WazRuUt7qRaT7IIoG9j5nvl3ydoTF7g7gIuILeVlKX9tqtdw7XN5ipU0CmxFRP\n",
       "kMg6M4eYcsZVBzQ2Zjvc2WVz6EhPYnT8Q4nP4gmPb+8O/m3jRlLa5abPcShZDN/FOcDeOVKM1R/d\n",
       "MjpEm7HTKb40COSJngeg+WRjNvEbcohhf6b2KgftcBcB4pFBjQliW7lJ/U17jjDpCwIjPVxg2ZSn\n",
       "yniRx+I8rrYDh9pl8PJM3OwEEC6gdtucq/qUbvE+8muuLsrCo+sP6SNXCmz7dncb2r+wYEImyQZn\n",
       "28pzSkRu0hPdlfeIxT1J4oeLdzNlge/M9hrP0w+XsfcmdfuGUzB+pev/d1Ryvy1QhRiTFg3uHa+p\n",
       "v+GS/6p7yumlBBUKYRO4y5gK3OP96Fq9e5M92bMujwXRiRls/lD9XF+p03f6wd502XQaXlNMQqQs\n",
       "xwp7CD8ujq4jpcUm1n7niS8Vu3u08vCaPQLQ610caAtFeqwZ/Lfpc8HDQBSOH0JJ1RP5f/2zySAb\n",
       "CFoRzxU3E34COP9zGIjNrpscvqZFSe9t6r2AsiVSv9osG8Vo8NXowP9cl3mn5/8l6nwa/if4dlam\n",
       "DvBfdxFQm5twKS+rDkZM+2v97faPh7LyDZeZBhQFyc6ge4j9M4KauvMSOd2gOmyYrvmonlMIXQlm\n",
       "5hwqqZETS5InsbANW86O1U/m0ymLKwqxw6yjCu94zZGnT7eU/IE02euMQONdmtKhGPrf6QBTgAFC\n",
       "fgyy2vwbAYdihU8tXxDzCqzl64X4aR++ryfXOEi2H1N0I1D+MaG4v3uI6g53YFJZoOqVBbsAml9h\n",
       "PGcr3eto69Vdeb4oBjzsBQTS1s1bRP1srrZ20/5RcysXF+a5ey7Z65V2mkx/2WKhAA2hoeenoyQx\n",
       "wpReiNqQD1DOR5pR3QOSWr6qxAl2leXWtJf/LLvVU3VeIo3DzAbrUBaVyGy+WCIdsJS2m9zMbj2J\n",
       "9uBAQ0buiuhAa8o1vFmxQS9QjXWkGHNSUcXsLONl7tucsTQZrvDg9845Qiz6Tx1//4MYXz4bsqLL\n",
       "UVI1BCOezEMQrtwRZl71SISB38PHIX/T4P9YXZu4/ruVjzTwvJM49Eli7Zaj1VZ5BwlaGqUmzIVK\n",
       "X/AHX7Bf+1I5//XJpMQ682C1kPB84km5TiA7WClNq/GmsoMB+wubMdt1dAI4m2Qmi9iM9BzE/o1O\n",
       "aaZpNCIReFbNo6Nxc6A3l7pvojD2mC3r4Q9VqFEmb4ZhK1xAYZk0v7UzBN5FWQK7PM12YY97S3Rr\n",
       "RJfkiUHoMlqZP75Nbax4yL/2KuCCZVyYZDUFHT19Hqt8nn7glKQihQGOwJMPiuWeleSSkwpAfRyy\n",
       "ErRfjjtQ9j/2QSHaIVzMo4fezaMCkVtxvpMYhQn4ExQ1Uz44MAXpBaZ9/Q5cYpLRz0XNrCHVewu3\n",
       "uXBjjxtrifWmiL/qzaqg6bE6hNJVw4ToVdtzDAltwztyeuEXHL47yIYGU/SPCZHeCjwBjXhXVZCP\n",
       "VAcEQur3a8I8r8pmESAe80+9+tbaTPmxlvT6BpH5RI8tXHrmQrpBv/7UMO8BEkhC9/g3H+InMpIC\n",
       "4SgdT68lPvn1lJq38NgnhVyz7WZpl6bf2ATRBksYw8nBGcKADDsB2mfVNvGmXdMXQm7zFpRl8Bnw\n",
       "DUhiKPB7F+nJvLiWQOpvB1WHvjg0MwaCjpzHKVWj7eReYWlg5y8kswAGzgWxjNH9dR6RUrg4t/c3\n",
       "RAOhGVsg6wSZXG5HiDkAAANvbW9vdgAAAGxtdmhkAAAAAAAAAAAAAAAAAAAD6AAABLAAAQAAAQAA\n",
       "AAAAAAAAAAAAAAEAAAAAAAAAAAAAAAAAAAABAAAAAAAAAAAAAAAAAABAAAAAAAAAAAAAAAAAAAAA\n",
       "AAAAAAAAAAAAAAAAAAAAAgAAApl0cmFrAAAAXHRraGQAAAADAAAAAAAAAAAAAAABAAAAAAAABLAA\n",
       "AAAAAAAAAAAAAAAAAAAAAAEAAAAAAAAAAAAAAAAAAAABAAAAAAAAAAAAAAAAAABAAAAAA2AAAAJA\n",
       "AAAAAAAkZWR0cwAAABxlbHN0AAAAAAAAAAEAAASwAAAQAAABAAAAAAIRbWRpYQAAACBtZGhkAAAA\n",
       "AAAAAAAAAAAAAAAoAAAAMABVxAAAAAAALWhkbHIAAAAAAAAAAHZpZGUAAAAAAAAAAAAAAABWaWRl\n",
       "b0hhbmRsZXIAAAABvG1pbmYAAAAUdm1oZAAAAAEAAAAAAAAAAAAAACRkaW5mAAAAHGRyZWYAAAAA\n",
       "AAAAAQAAAAx1cmwgAAAAAQAAAXxzdGJsAAAAtHN0c2QAAAAAAAAAAQAAAKRhdmMxAAAAAAAAAAEA\n",
       "AAAAAAAAAAAAAAAAAAAAA2ACQABIAAAASAAAAAAAAAABAAAAAAAAAAAAAAAAAAAAAAAAAAAAAAAA\n",
       "AAAAAAAAAAAAGP//AAAAMmF2Y0MBZAAf/+EAGWdkAB+s2UDYEmhAAAADAEAAAAMCg8YMZYABAAZo\n",
       "6+PLIsAAAAAcdXVpZGtoQPJfJE/FujmlG88DI/MAAAAAAAAAGHN0dHMAAAAAAAAAAQAAAAYAAAgA\n",
       "AAAAFHN0c3MAAAAAAAAAAQAAAAEAAAA4Y3R0cwAAAAAAAAAFAAAAAQAAEAAAAAABAAAgAAAAAAIA\n",
       "AAgAAAAAAQAAGAAAAAABAAAIAAAAABxzdHNjAAAAAAAAAAEAAAABAAAABgAAAAEAAAAsc3RzegAA\n",
       "AAAAAAAAAAAABgAAHOYAAApkAAAFMQAABKIAAAm0AAAIFgAAABRzdGNvAAAAAAAAAAEAAAAsAAAA\n",
       "YnVkdGEAAABabWV0YQAAAAAAAAAhaGRscgAAAAAAAAAAbWRpcmFwcGwAAAAAAAAAAAAAAAAtaWxz\n",
       "dAAAACWpdG9vAAAAHWRhdGEAAAABAAAAAExhdmY1OC4yMC4xMDA=\n",
       "\">\n",
       "  Your browser does not support the video tag.\n",
       "</video>"
      ],
      "text/plain": [
       "<IPython.core.display.HTML object>"
      ]
     },
     "execution_count": 9,
     "metadata": {},
     "output_type": "execute_result"
    },
    {
     "data": {
      "image/png": "[encoded data removed]",
      "text/plain": [
       "<matplotlib.figure.Figure at 0x1091dfd68>"
      ]
     },
     "metadata": {
      "needs_background": "light"
     },
     "output_type": "display_data"
    }
   ],
   "source": [
    "from IPython.display import HTML\n",
    "import matplotlib.animation\n",
    "\n",
    "def animate(n):\n",
    "    novo = amostre_n(df, n)\n",
    "    plt.clf()\n",
    "    plt.title('N={}'.format(n))\n",
    "    plt.hist(novo['Delay'], bins=delay_bins)\n",
    "    plt.xlabel('Atraso')\n",
    "    plt.ylabel('Número de Voos')\n",
    "    despine()\n",
    "\n",
    "fig = plt.figure()\n",
    "n = [10, 100, 100, 500, 10000, len(df)]\n",
    "ani = matplotlib.animation.FuncAnimation(fig, animate, frames=n)\n",
    "\n",
    "html = HTML(ani.to_html5_video())\n",
    "html"
   ]
  },
  {
   "cell_type": "markdown",
   "metadata": {},
   "source": [
    "## Problema de Poucas Amostras em uma Estatística\n",
    "\n",
    "Note que com poucas amostras teremos problemas em computar a mediana. Por exemplo, abaixo eu escolho 100 voos e a mediana muda batante em cada rodada."
   ]
  },
  {
   "cell_type": "code",
   "execution_count": 10,
   "metadata": {},
   "outputs": [
    {
     "name": "stdout",
     "output_type": "stream",
     "text": [
      "1.5\n",
      "3.5\n",
      "2.0\n",
      "1.0\n",
      "2.0\n",
      "1.0\n",
      "4.5\n",
      "1.0\n",
      "4.0\n",
      "4.0\n"
     ]
    }
   ],
   "source": [
    "for _ in range(10):\n",
    "    df['Delay'].median()\n",
    "    novo = amostre_n(df, 100)\n",
    "    print(novo['Delay'].median())"
   ]
  },
  {
   "cell_type": "markdown",
   "metadata": {},
   "source": [
    "Além do mais, não podemos fazer nada se geramos amostras com algum viés. Por exemplo, se mensuramos atrasos em um único aeroporto!"
   ]
  },
  {
   "cell_type": "code",
   "execution_count": 11,
   "metadata": {},
   "outputs": [
    {
     "name": "stdout",
     "output_type": "stream",
     "text": [
      "4.5\n",
      "7.0\n",
      "4.0\n",
      "7.0\n",
      "4.0\n",
      "3.0\n",
      "4.0\n",
      "3.0\n",
      "5.0\n",
      "5.0\n"
     ]
    }
   ],
   "source": [
    "for _ in range(10):\n",
    "    df['Delay'].median()\n",
    "    novo = amostre_n(df[df['Destination'] == 'ORD'], 100)\n",
    "    print(novo['Delay'].median())"
   ]
  },
  {
   "cell_type": "markdown",
   "metadata": {},
   "source": [
    "Por fim, com uma amostragem estratificada, podemos garantir que temos uma proporção representativa de cada aeroporto. "
   ]
  },
  {
   "cell_type": "code",
   "execution_count": 12,
   "metadata": {},
   "outputs": [
    {
     "name": "stdout",
     "output_type": "stream",
     "text": [
      "             Delay\n",
      "Destination       \n",
      "ATL           -1.0\n",
      "AUS           -2.5\n",
      "BOS           -4.0\n",
      "CLE           35.0\n",
      "DEN           -1.5\n",
      "EWR           -3.5\n",
      "HNL            2.0\n",
      "IAD            2.0\n",
      "IAH            7.0\n",
      "IND            7.0\n",
      "JFK            2.0\n",
      "KOA            2.0\n",
      "LAS           24.5\n",
      "LAX            0.5\n",
      "ORD           14.0\n",
      "PDX            1.0\n",
      "PHL            2.5\n",
      "PHX           -1.0\n",
      "RDU           -1.0\n",
      "RNO          107.0\n",
      "SAN            9.0\n",
      "SEA            8.0\n",
      "SNA           25.0\n"
     ]
    }
   ],
   "source": [
    "novo = amostre_n(df, 100)\n",
    "duas_colunas = novo[['Destination', 'Delay']]\n",
    "print(duas_colunas.groupby('Destination').median())"
   ]
  },
  {
   "cell_type": "code",
   "execution_count": 13,
   "metadata": {},
   "outputs": [
    {
     "name": "stdout",
     "output_type": "stream",
     "text": [
      "             Delay\n",
      "Destination       \n",
      "ANC           46.0\n",
      "ATL            6.0\n",
      "AUS           -3.0\n",
      "BOS            1.0\n",
      "BWI           14.0\n",
      "CLE           -4.0\n",
      "DCA           -3.0\n",
      "DEN            9.0\n",
      "DFW           18.5\n",
      "EWR           11.0\n",
      "FLL           18.0\n",
      "HNL            3.0\n",
      "IAD           -1.0\n",
      "IAH            9.0\n",
      "IND           18.0\n",
      "JFK            8.0\n",
      "KOA           21.0\n",
      "LAS           -3.0\n",
      "LAX           -2.0\n",
      "LIH           21.0\n",
      "MCO           -0.5\n",
      "MSP           40.0\n",
      "OGG            0.0\n",
      "ORD            4.0\n",
      "PDX           27.0\n",
      "PHL            9.0\n",
      "PHX            2.0\n",
      "PIT            5.0\n",
      "RDU            0.0\n",
      "RNO           -9.0\n",
      "SAN            9.0\n",
      "SEA            3.0\n",
      "SLC           -4.0\n",
      "SNA          -12.0\n",
      "STL           -4.0\n"
     ]
    }
   ],
   "source": [
    "from sklearn.model_selection import StratifiedShuffleSplit\n",
    "for train, test in StratifiedShuffleSplit(test_size=200).split(df, df['Destination']):\n",
    "    duas_colunas = df[['Destination', 'Delay']]\n",
    "    amostra = duas_colunas.iloc[test]\n",
    "    print(amostra.groupby('Destination').median())\n",
    "    break"
   ]
  },
  {
   "cell_type": "markdown",
   "metadata": {},
   "source": [
    "## Qual o motivo de simular?\n",
    "\n",
    "Para muitos casos, tipo a distribuição de médias, o teorema central do limite vai nos ajudar teoricamente pois sabemos que os dados da **ditribuição de amostragem** converge para uma normal. Note que isto não vai ser o caso para a mediana, porém podemos simular e ter uma ideia da mesma. Vamos iniciar olhando para a mediana.\n",
    "\n",
    "Então muitos resultados teóricos podem ser feitos quando pensamos em distribuições amostrais da média, porém para a mediana simular é uma boa solução.\n",
    "\n",
    "Abaixo brincamos um pouco com a distribuição amostral da mediana, note que a no fim não temos nada muito perto da **normal**."
   ]
  },
  {
   "cell_type": "code",
   "execution_count": 14,
   "metadata": {},
   "outputs": [],
   "source": [
    "amostral = []\n",
    "for _ in range(10000):\n",
    "    novo = amostre_n(df, 100)\n",
    "    amostral.append(novo['Delay'].median())"
   ]
  },
  {
   "cell_type": "code",
   "execution_count": 15,
   "metadata": {},
   "outputs": [
    {
     "data": {
      "image/png": "[encoded data removed]",
      "text/plain": [
       "<matplotlib.figure.Figure at 0x109eebe80>"
      ]
     },
     "metadata": {
      "needs_background": "light"
     },
     "output_type": "display_data"
    }
   ],
   "source": [
    "plt.hist(amostral, bins=20, normed=True);\n",
    "plt.xlabel('Mediana de 100 amostras')\n",
    "plt.ylabel('P(X = x)')\n",
    "despine()"
   ]
  },
  {
   "cell_type": "markdown",
   "metadata": {},
   "source": [
    "## Para Exploração Futura\n",
    "\n",
    "1. Artigo com a diferença entre ciência e ciência de dados -- https://www.pnas.org/content/pnas/114/33/8689.full.pdf\n",
    "1. Seção 1.4 do Open Intro\n",
    "1. Capítulo 10 do Inferential Thinking\n",
    "1. Leia a documentação do np.random.choice e do StratifiedSampler do sklearn"
   ]
  },
  {
   "cell_type": "code",
   "execution_count": null,
   "metadata": {},
   "outputs": [],
   "source": []
  }
 ],
 "metadata": {
  "kernelspec": {
   "display_name": "Python 3",
   "language": "python",
   "name": "python3"
  },
  "language_info": {
   "codemirror_mode": {
    "name": "ipython",
    "version": 3
   },
   "file_extension": ".py",
   "mimetype": "text/x-python",
   "name": "python",
   "nbconvert_exporter": "python",
   "pygments_lexer": "ipython3",
   "version": "3.6.8"
  }
 },
 "nbformat": 4,
 "nbformat_minor": 2
}
