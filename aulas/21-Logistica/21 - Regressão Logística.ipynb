{
 "cells": [
  {
   "cell_type": "code",
   "execution_count": 1,
   "metadata": {},
   "outputs": [],
   "source": [
    "# -*- coding: utf8\n",
    "\n",
    "from scipy import stats as ss\n",
    "from sklearn import datasets\n",
    "\n",
    "import seaborn as sns\n",
    "import numpy as np\n",
    "import matplotlib.pyplot as plt\n",
    "import pandas as pd\n",
    "\n",
    "plt.rcParams['figure.figsize']  = (18, 10)\n",
    "plt.rcParams['axes.labelsize']  = 20\n",
    "plt.rcParams['axes.titlesize']  = 20\n",
    "plt.rcParams['legend.fontsize'] = 20\n",
    "plt.rcParams['xtick.labelsize'] = 20\n",
    "plt.rcParams['ytick.labelsize'] = 20\n",
    "plt.rcParams['lines.linewidth'] = 4"
   ]
  },
  {
   "cell_type": "code",
   "execution_count": 2,
   "metadata": {},
   "outputs": [],
   "source": [
    "plt.ion()\n",
    "plt.style.use('seaborn-colorblind')\n",
    "plt.rcParams['figure.figsize']  = (12, 8)"
   ]
  },
  {
   "cell_type": "code",
   "execution_count": 3,
   "metadata": {},
   "outputs": [],
   "source": [
    "def despine(ax=None):\n",
    "    if ax is None:\n",
    "        ax = plt.gca()\n",
    "    # Hide the right and top spines\n",
    "    ax.spines['right'].set_visible(False)\n",
    "    ax.spines['top'].set_visible(False)\n",
    "\n",
    "    # Only show ticks on the left and bottom spines\n",
    "    ax.yaxis.set_ticks_position('left')\n",
    "    ax.xaxis.set_ticks_position('bottom')"
   ]
  },
  {
   "cell_type": "markdown",
   "metadata": {},
   "source": [
    "## Aula 21 - Logística\n",
    "\n",
    "Temos um conjunto de dados anônimos de aproximadamente 284 lances do jogador Lebron James. Como é comum em variáveis categóricas, representamos a variável dependente como 0 (errou a cesta) ou 1 (acertou a cesta). Esta será a nossa resposta que queremos prever. "
   ]
  },
  {
   "cell_type": "code",
   "execution_count": 4,
   "metadata": {},
   "outputs": [
    {
     "data": {
      "text/html": [
       "<div>\n",
       "<style scoped>\n",
       "    .dataframe tbody tr th:only-of-type {\n",
       "        vertical-align: middle;\n",
       "    }\n",
       "\n",
       "    .dataframe tbody tr th {\n",
       "        vertical-align: top;\n",
       "    }\n",
       "\n",
       "    .dataframe thead th {\n",
       "        text-align: right;\n",
       "    }\n",
       "</style>\n",
       "<table border=\"1\" class=\"dataframe\">\n",
       "  <thead>\n",
       "    <tr style=\"text-align: right;\">\n",
       "      <th></th>\n",
       "      <th>game_date</th>\n",
       "      <th>minute</th>\n",
       "      <th>opponent</th>\n",
       "      <th>action_type</th>\n",
       "      <th>shot_type</th>\n",
       "      <th>shot_distance</th>\n",
       "      <th>shot_made</th>\n",
       "    </tr>\n",
       "  </thead>\n",
       "  <tbody>\n",
       "    <tr>\n",
       "      <th>0</th>\n",
       "      <td>20170415</td>\n",
       "      <td>10</td>\n",
       "      <td>IND</td>\n",
       "      <td>Driving Layup Shot</td>\n",
       "      <td>2PT Field Goal</td>\n",
       "      <td>0</td>\n",
       "      <td>0</td>\n",
       "    </tr>\n",
       "    <tr>\n",
       "      <th>1</th>\n",
       "      <td>20170415</td>\n",
       "      <td>11</td>\n",
       "      <td>IND</td>\n",
       "      <td>Driving Layup Shot</td>\n",
       "      <td>2PT Field Goal</td>\n",
       "      <td>0</td>\n",
       "      <td>1</td>\n",
       "    </tr>\n",
       "    <tr>\n",
       "      <th>2</th>\n",
       "      <td>20170415</td>\n",
       "      <td>14</td>\n",
       "      <td>IND</td>\n",
       "      <td>Layup Shot</td>\n",
       "      <td>2PT Field Goal</td>\n",
       "      <td>0</td>\n",
       "      <td>1</td>\n",
       "    </tr>\n",
       "    <tr>\n",
       "      <th>3</th>\n",
       "      <td>20170415</td>\n",
       "      <td>15</td>\n",
       "      <td>IND</td>\n",
       "      <td>Driving Layup Shot</td>\n",
       "      <td>2PT Field Goal</td>\n",
       "      <td>0</td>\n",
       "      <td>1</td>\n",
       "    </tr>\n",
       "    <tr>\n",
       "      <th>4</th>\n",
       "      <td>20170415</td>\n",
       "      <td>18</td>\n",
       "      <td>IND</td>\n",
       "      <td>Alley Oop Dunk Shot</td>\n",
       "      <td>2PT Field Goal</td>\n",
       "      <td>0</td>\n",
       "      <td>1</td>\n",
       "    </tr>\n",
       "  </tbody>\n",
       "</table>\n",
       "</div>"
      ],
      "text/plain": [
       "   game_date  minute opponent          action_type       shot_type  \\\n",
       "0   20170415      10      IND   Driving Layup Shot  2PT Field Goal   \n",
       "1   20170415      11      IND   Driving Layup Shot  2PT Field Goal   \n",
       "2   20170415      14      IND           Layup Shot  2PT Field Goal   \n",
       "3   20170415      15      IND   Driving Layup Shot  2PT Field Goal   \n",
       "4   20170415      18      IND  Alley Oop Dunk Shot  2PT Field Goal   \n",
       "\n",
       "   shot_distance  shot_made  \n",
       "0              0          0  \n",
       "1              0          1  \n",
       "2              0          1  \n",
       "3              0          1  \n",
       "4              0          1  "
      ]
     },
     "execution_count": 4,
     "metadata": {},
     "output_type": "execute_result"
    }
   ],
   "source": [
    "df = pd.read_csv('./lebron.csv')\n",
    "df.head()"
   ]
  },
  {
   "cell_type": "code",
   "execution_count": 5,
   "metadata": {},
   "outputs": [
    {
     "data": {
      "text/plain": [
       "(384, 7)"
      ]
     },
     "execution_count": 5,
     "metadata": {},
     "output_type": "execute_result"
    }
   ],
   "source": [
    "df.shape"
   ]
  },
  {
   "cell_type": "markdown",
   "metadata": {},
   "source": [
    "Vamos iniciar observando a quantidade de acertos por distância da cesta."
   ]
  },
  {
   "cell_type": "code",
   "execution_count": 6,
   "metadata": {},
   "outputs": [
    {
     "data": {
      "image/png": "[encoded data removed]",
      "text/plain": [
       "<Figure size 864x576 with 1 Axes>"
      ]
     },
     "metadata": {
      "needs_background": "light"
     },
     "output_type": "display_data"
    }
   ],
   "source": [
    "n = df.shape[0]\n",
    "plt.scatter(df['shot_distance'],\n",
    "            df['shot_made'],\n",
    "            s=80, alpha=0.8, edgecolors='k')\n",
    "plt.xlabel('Distância (feet)')\n",
    "plt.ylabel('Cesta? (1=sim; 0=não)')\n",
    "despine()"
   ]
  },
  {
   "cell_type": "markdown",
   "metadata": {},
   "source": [
    "Adicionando algum ruído para melhorar o plot. Observe como os dados se concentram do lado esquerdo."
   ]
  },
  {
   "cell_type": "code",
   "execution_count": 7,
   "metadata": {},
   "outputs": [
    {
     "data": {
      "image/png": "[encoded data removed]",
      "text/plain": [
       "<Figure size 864x576 with 1 Axes>"
      ]
     },
     "metadata": {
      "needs_background": "light"
     },
     "output_type": "display_data"
    }
   ],
   "source": [
    "n = df.shape[0]\n",
    "plt.scatter(df['shot_distance'] + np.random.normal(0, 0.05, size=n),\n",
    "            df['shot_made'] + np.random.normal(0, 0.05, size=n),\n",
    "            s=80, alpha=0.8, edgecolors='k')\n",
    "plt.xlabel('Distância (feet)')\n",
    "plt.ylabel('Cesta? (1=sim; 0=não) + Ruído.')\n",
    "despine()"
   ]
  },
  {
   "cell_type": "markdown",
   "metadata": {},
   "source": [
    "Como identificar quando Lebron acerta ou erra? Uma primeira tentativa óbvia é usar regressão linear e encontrar o melhor modelo. Observe como a mesma tenta capturar os locais de maior concentração de pontos."
   ]
  },
  {
   "cell_type": "code",
   "execution_count": 8,
   "metadata": {},
   "outputs": [
    {
     "data": {
      "image/png": "[encoded data removed]",
      "text/plain": [
       "<Figure size 864x576 with 1 Axes>"
      ]
     },
     "metadata": {
      "needs_background": "light"
     },
     "output_type": "display_data"
    }
   ],
   "source": [
    "sns.regplot(x='shot_distance', y='shot_made', data=df, n_boot=10000,\n",
    "            x_jitter=.1, y_jitter=.1,\n",
    "            line_kws={'color':'magenta', 'lw':4},\n",
    "            scatter_kws={'edgecolor':'k', 's':80, 'alpha':0.8})\n",
    "plt.xlabel('Distância (feet)')\n",
    "plt.ylabel('Cesta? (1=sim; 0=não)')\n",
    "despine()"
   ]
  },
  {
   "cell_type": "markdown",
   "metadata": {},
   "source": [
    "O resultado é uma curva com inclinação negativa."
   ]
  },
  {
   "cell_type": "code",
   "execution_count": 9,
   "metadata": {},
   "outputs": [
    {
     "data": {
      "text/plain": [
       "LinregressResult(slope=-0.014055196583349789, intercept=0.71542888637452495, rvalue=-0.29865301020530832, pvalue=2.3711855177639454e-09, stderr=0.0022980071639352555)"
      ]
     },
     "execution_count": 9,
     "metadata": {},
     "output_type": "execute_result"
    }
   ],
   "source": [
    "ss.linregress(df['shot_distance'], df['shot_made'])"
   ]
  },
  {
   "cell_type": "markdown",
   "metadata": {},
   "source": [
    "Mas essa abordagem leva a alguns problemas imediatos:\n",
    "\n",
    "* Gostaríamos que nossos resultados previstos fossem 0 ou 1. Tudo bem se eles estiverem entre 0 e 1, já que podemos interpretá-los como probabilidades - uma saída de 0,25 pode significar 25% de chance de ser um membro que paga. Mas as saídas do modelo linear podem ser números positivos enormes ou até números negativos, o que não fica claro como interpretar.\n",
    "\n",
    "* O que gostaríamos, ao contrário, é que valores positivos grandes de $\\mathbf{x_i}~ . \\mathbf{\\theta}$ (ou `np.dot(x_i,theta)`) correspondam a probabilidades próximas a 1 e que valores negativos grandes correspondam a probabilidades próximas a 0. Podemos conseguir isso aplicando outra função ao resultado."
   ]
  },
  {
   "cell_type": "markdown",
   "metadata": {},
   "source": [
    "## A Função Logística\n",
    "\n",
    "No caso da regressão logística, a gente usa a função logística:"
   ]
  },
  {
   "cell_type": "code",
   "execution_count": 10,
   "metadata": {},
   "outputs": [],
   "source": [
    "def sigmoid(X, theta):\n",
    "    return 1.0 / (1.0 + np.exp(-X.dot(theta)))"
   ]
  },
  {
   "cell_type": "markdown",
   "metadata": {},
   "source": [
    "À medida que sua entrada se torna grande e positiva, ela se aproxima e se aproxima de 1. À medida que sua entrada se torna grande e negativa, ela se aproxima e se aproxima de 0. Além disso, ela tem a propriedade conveniente que sua derivada é dada por:"
   ]
  },
  {
   "cell_type": "code",
   "execution_count": 11,
   "metadata": {},
   "outputs": [
    {
     "data": {
      "image/png": "[encoded data removed]",
      "text/plain": [
       "<Figure size 864x576 with 1 Axes>"
      ]
     },
     "metadata": {
      "needs_background": "light"
     },
     "output_type": "display_data"
    }
   ],
   "source": [
    "X = np.linspace(-10, 10, 100)[:, None] # vira um vetor coluna\n",
    "y = sigmoid(X, theta=np.array([1]))\n",
    "plt.plot(X, y)\n",
    "despine()"
   ]
  },
  {
   "cell_type": "markdown",
   "metadata": {},
   "source": [
    "À medida que sua entrada se torna grande e positiva, ela se aproxima e se aproxima de 1. À medida que sua entrada se torna grande e negativa, ela se aproxima e se aproxima de 0. Podemos inverter a mesma alterando o valor de theta."
   ]
  },
  {
   "cell_type": "code",
   "execution_count": 12,
   "metadata": {},
   "outputs": [
    {
     "data": {
      "image/png": "[encoded data removed]",
      "text/plain": [
       "<Figure size 864x576 with 1 Axes>"
      ]
     },
     "metadata": {
      "needs_background": "light"
     },
     "output_type": "display_data"
    }
   ],
   "source": [
    "X = np.linspace(-10, 10, 100)[:, None] # vira um vetor coluna\n",
    "y = sigmoid(X, theta=np.array([-1]))\n",
    "plt.plot(X, y)\n",
    "despine()"
   ]
  },
  {
   "cell_type": "markdown",
   "metadata": {},
   "source": [
    "Além disso, ela tem a propriedade conveniente que sua derivada é dada por:"
   ]
  },
  {
   "cell_type": "code",
   "execution_count": 13,
   "metadata": {},
   "outputs": [],
   "source": [
    "def logistic_prime(X, theta):\n",
    "    return sigmoid(X, theta) * (1 - sigmoid(X, theta))"
   ]
  },
  {
   "cell_type": "markdown",
   "metadata": {},
   "source": [
    "Oberseve a derivada em cada ponto."
   ]
  },
  {
   "cell_type": "code",
   "execution_count": 14,
   "metadata": {},
   "outputs": [
    {
     "data": {
      "text/plain": [
       "array([  4.53958077e-05,   5.55575620e-05,   6.79936937e-05,\n",
       "         8.32130942e-05,   1.01838442e-04,   1.24631609e-04,\n",
       "         1.52524715e-04,   1.86658091e-04,   2.28426653e-04,\n",
       "         2.79536554e-04,   3.42074339e-04,   4.18591319e-04,\n",
       "         5.12206458e-04,   6.26731702e-04,   7.66824507e-04,\n",
       "         9.38173215e-04,   1.14772200e-03,   1.40394326e-03,\n",
       "         1.71716676e-03,   2.09997591e-03,   2.56768332e-03,\n",
       "         3.13889855e-03,   3.83620191e-03,   4.68693782e-03,\n",
       "         5.72413978e-03,   6.98759437e-03,   8.52504404e-03,\n",
       "         1.03935138e-02,   1.26607241e-02,   1.54065171e-02,\n",
       "         1.87241696e-02,   2.27213903e-02,   2.75206964e-02,\n",
       "         3.32587242e-02,   4.00838615e-02,   4.81513998e-02,\n",
       "         5.76152215e-02,   6.86149280e-02,   8.12573764e-02,\n",
       "         9.55919842e-02,   1.11580066e-01,   1.29060077e-01,\n",
       "         1.47712989e-01,   1.67034879e-01,   1.86326443e-01,\n",
       "         2.04710159e-01,   2.21183725e-01,   2.34711795e-01,\n",
       "         2.44347497e-01,   2.49363393e-01,   2.49363393e-01,\n",
       "         2.44347497e-01,   2.34711795e-01,   2.21183725e-01,\n",
       "         2.04710159e-01,   1.86326443e-01,   1.67034879e-01,\n",
       "         1.47712989e-01,   1.29060077e-01,   1.11580066e-01,\n",
       "         9.55919842e-02,   8.12573764e-02,   6.86149280e-02,\n",
       "         5.76152215e-02,   4.81513998e-02,   4.00838615e-02,\n",
       "         3.32587242e-02,   2.75206964e-02,   2.27213903e-02,\n",
       "         1.87241696e-02,   1.54065171e-02,   1.26607241e-02,\n",
       "         1.03935138e-02,   8.52504404e-03,   6.98759437e-03,\n",
       "         5.72413978e-03,   4.68693782e-03,   3.83620191e-03,\n",
       "         3.13889855e-03,   2.56768332e-03,   2.09997591e-03,\n",
       "         1.71716676e-03,   1.40394326e-03,   1.14772200e-03,\n",
       "         9.38173215e-04,   7.66824507e-04,   6.26731702e-04,\n",
       "         5.12206458e-04,   4.18591319e-04,   3.42074339e-04,\n",
       "         2.79536554e-04,   2.28426653e-04,   1.86658091e-04,\n",
       "         1.52524715e-04,   1.24631609e-04,   1.01838442e-04,\n",
       "         8.32130942e-05,   6.79936937e-05,   5.55575620e-05,\n",
       "         4.53958077e-05])"
      ]
     },
     "execution_count": 14,
     "metadata": {},
     "output_type": "execute_result"
    }
   ],
   "source": [
    "logistic_prime(X, np.array([1]))"
   ]
  },
  {
   "cell_type": "markdown",
   "metadata": {},
   "source": [
    "Daqui a pouco vamos usar a mesma para ajustar um modelo:\n",
    "\n",
    "$$y_i = f(x_i\\theta) + \\epsilon_i$$\n",
    "\n",
    "onde $f$ é a função logística (`logistic`).\n",
    "\n",
    "Note também que $x_i\\theta$, para $j$ variáveis independentes, nada mais é que o modelo linear visto nas aulas anteriores, que é calculado e dado como entrada para a função logística:\n",
    "\n",
    "$$x_i\\theta = \\theta_0 + \\theta_1 x_1 + \\cdots + \\theta_j x_j$$\n",
    "\n",
    "Lembre-se de que, para a regressão linear, ajustamos o modelo minimizando a soma dos erros quadrados, o que acaba escolhendo o $\\theta$ que maximiza a probabilidade dos dados.\n",
    "\n",
    "Aqui os dois não são equivalentes, por isso usaremos gradiente descendente para maximizar a verossimilhança diretamente. Isso significa que precisamos calcular a função de verossimilhança e seu gradiente.\n",
    "\n",
    "Dado algum $\\theta$, nosso modelo diz que cada $y_i$ deve ser igual a 1 com probabilidade $f(x_i\\theta)$ e 0 com probabilidade $1 - f(x_i\\theta)$.\n",
    "\n",
    "Em particular, a PDF para $y_i$ pode ser escrita como:\n",
    "\n",
    "$$p(y_i~|~x_i,\\theta) = f(x_i\\theta)^{y_i}(1-f(x_i\\theta))^{1-y_i}$$\n",
    "\n",
    "Se $y_i$ é $0$, isso é igual a:\n",
    "\n",
    "$$1-f(x_i\\theta)$$\n",
    "\n",
    "e se $y_i$ é $1$, é igual a:\n",
    "\n",
    "$$f(x_i\\theta)$$\n",
    "\n",
    "Acontece que é realmente mais simples maximizar o logaritmo da verossimilhança (*log likelihood*):\n",
    "\n",
    "$$\\log L(\\theta~|~x_i,y_i) = y_i \\log f(x_i\\theta) + (1-y_i) \\log (1-f(x_i\\theta))$$\n",
    "\n",
    "Como o logaritmo é uma função estritamente crescente, qualquer $\\theta$ que maximize o logaritmo da verossimilhança também maximiza a verossimilhança, e vice-versa."
   ]
  },
  {
   "cell_type": "markdown",
   "metadata": {},
   "source": [
    "## Cross Entropy\n",
    "\n",
    "Ao invés de trabalhar na verossimilhança, vamos inverter a mesma (negar). Esta é a definição de cross entropy para a regressão logística. Nos slides da aula derivamos a equivalência entre as duas. [Slides](https://docs.google.com/presentation/d/1yGPETPe8o7PPOP6_CF38LHr3vpxgTEnF5LjP-1pkGIc/edit?usp=sharing).\n",
    "\n",
    "$$L(\\theta) = -n^{-1}\\sum_i \\big((1-y_i)\\log_2(1-f_{\\theta}(x_i)) + y_i\\log_2(f_{\\theta}(x_i))\\big)$$\n",
    "\n",
    "A equação acima é a cross-entropy média por observação."
   ]
  },
  {
   "cell_type": "code",
   "execution_count": 15,
   "metadata": {},
   "outputs": [],
   "source": [
    "def cross_entropy_one_sample(x_i, y_i, theta):\n",
    "    # também podemos escrever y_i * np.log(sigmoid(np.dot(x_i, beta)))\n",
    "    if y_i == 1:\n",
    "        return -np.log(sigmoid(np.dot(x_i, theta)))\n",
    "    else:\n",
    "        return -np.log(1 - sigmoid(np.dot(x_i, theta)))"
   ]
  },
  {
   "cell_type": "code",
   "execution_count": 16,
   "metadata": {},
   "outputs": [],
   "source": [
    "def cross_entropy_mean(X, y, theta):\n",
    "    ones = y > 0.5\n",
    "    ce  =  np.log(sigmoid(X[ones], theta)).sum()      # positivos\n",
    "    ce +=  np.log(1 - sigmoid(X[~ones], theta)).sum() # negativos\n",
    "    return -ce / len(y) # média"
   ]
  },
  {
   "cell_type": "markdown",
   "metadata": {},
   "source": [
    "A derivada da mesma tem uma forma similar ao da regressão linear. Veja a derivação nos [Slides](https://docs.google.com/presentation/d/1yGPETPe8o7PPOP6_CF38LHr3vpxgTEnF5LjP-1pkGIc/edit?usp=sharing). Partindo da derivada da logística acima, chegamos em:\n",
    "\n",
    "$$\n",
    "L'(\\theta) = -n^{-1}\\sum_i \\big(-\\frac{(1-y_i)f'_{\\theta}(x_i)}{1- f_{\\theta}(x_i)} + \\frac{y_if'_{\\theta}(x_i) }{f_{\\theta}(x_i)}\\big)\n",
    "$$\n",
    "\n",
    "Simplificando:\n",
    "\n",
    "$$\n",
    "L'(\\theta) = -n^{-1}\\sum_i \\big(-\\frac{(1-y_i)f'_{\\theta}(x_i)}{1- f_{\\theta}(x_i)} + \\frac{y_if'_{\\theta}(x_i) }{f_{\\theta}(x_i)}\\big) \\\\\n",
    "L'(\\theta) = -n^{-1}\\sum_i \\big(-\\frac{(1-y_i)}{1- f_{\\theta}(x_i)} + \\frac{y_i}{f_{\\theta}(x_i)}\\big)f_{\\theta}(x_i)(1-f_{\\theta}(x_i)) \\\\\n",
    "L'(\\theta) = -n^{-1}\\sum_i \\big(-\\frac{(1-y_i)}{1- f_{\\theta}(x_i)} + \\frac{y_i}{f_{\\theta}(x_i)}\\big)f_{\\theta}(x_i)(1-f_{\\theta}(x_i)) \\\\\n",
    "L'(\\theta) = -n^{-1}\\sum_i (y_i - f_{\\theta}(x_i)) x_i\n",
    "$$"
   ]
  },
  {
   "cell_type": "markdown",
   "metadata": {},
   "source": [
    "Escrevendo em forma vetorizada. Caso não entenda, veja o material da regressão linear múltipla."
   ]
  },
  {
   "cell_type": "code",
   "execution_count": 17,
   "metadata": {},
   "outputs": [],
   "source": [
    "def derivadas(theta, X, y):\n",
    "    return -((y - sigmoid(X, theta)) * X.T).mean(axis=1)"
   ]
  },
  {
   "cell_type": "markdown",
   "metadata": {},
   "source": [
    "Podemos otimizar por gradiente descendente."
   ]
  },
  {
   "cell_type": "code",
   "execution_count": 18,
   "metadata": {},
   "outputs": [],
   "source": [
    "def gd(d_fun, X, y, lambda_=0.01, tol=0.0000001, max_iter=10000):\n",
    "    theta = np.ones(X.shape[1])\n",
    "    print('Iter {}; theta = '.format(0), theta)\n",
    "    old_err = np.inf\n",
    "    i = 0\n",
    "    while True:\n",
    "        # Computar as derivadas\n",
    "        grad = d_fun(theta, X, y)\n",
    "        # Atualizar\n",
    "        theta_novo = theta - lambda_ * grad\n",
    "        \n",
    "        # Parar quando o erro convergir\n",
    "        err = cross_entropy_mean(X, y, theta)\n",
    "        if np.abs(old_err - err) <= tol:\n",
    "            break\n",
    "        theta = theta_novo\n",
    "        old_err = err\n",
    "        print('Iter {}; theta = {}; cross_e = {}'.format(i+1, theta, err))\n",
    "        i += 1\n",
    "        if i == max_iter:\n",
    "            break\n",
    "    return theta"
   ]
  },
  {
   "cell_type": "markdown",
   "metadata": {},
   "source": [
    "Executando nos dados. Note o intercepto, necessário."
   ]
  },
  {
   "cell_type": "code",
   "execution_count": 19,
   "metadata": {},
   "outputs": [
    {
     "data": {
      "text/plain": [
       "array([[ 1,  0],\n",
       "       [ 1,  0],\n",
       "       [ 1,  0],\n",
       "       [ 1,  0],\n",
       "       [ 1,  0],\n",
       "       [ 1,  0],\n",
       "       [ 1,  7],\n",
       "       [ 1, 23],\n",
       "       [ 1, 25],\n",
       "       [ 1, 11]])"
      ]
     },
     "execution_count": 19,
     "metadata": {},
     "output_type": "execute_result"
    }
   ],
   "source": [
    "new_df = df[['shot_distance']].copy()\n",
    "new_df['intercepto'] = 1\n",
    "X = new_df[['intercepto', 'shot_distance']].values\n",
    "y = df['shot_made'].values\n",
    "X[:10]"
   ]
  },
  {
   "cell_type": "code",
   "execution_count": 20,
   "metadata": {},
   "outputs": [
    {
     "data": {
      "text/plain": [
       "array([0, 1, 1, 1, 1, 1, 1, 1, 1, 0])"
      ]
     },
     "execution_count": 20,
     "metadata": {},
     "output_type": "execute_result"
    }
   ],
   "source": [
    "y[:10]"
   ]
  },
  {
   "cell_type": "code",
   "execution_count": 21,
   "metadata": {},
   "outputs": [
    {
     "name": "stdout",
     "output_type": "stream",
     "text": [
      "Iter 0; theta =  [ 1.  1.]\n",
      "Iter 1; theta = [ 0.99639116  0.93815854]; cross_e = 6.729751496456551\n",
      "Iter 2; theta = [ 0.99280026  0.87634372]; cross_e = 6.346096796699162\n",
      "Iter 3; theta = [ 0.98922885  0.81455913]; cross_e = 5.9627945650294985\n",
      "Iter 4; theta = [ 0.98567869  0.7528091 ]; cross_e = 5.579893609639945\n",
      "Iter 5; theta = [ 0.98215177  0.69109896]; cross_e = 5.197450825282318\n",
      "Iter 6; theta = [ 0.97865039  0.62943541]; cross_e = 4.8155370597828275\n",
      "Iter 7; theta = [ 0.97517726  0.56782707]; cross_e = 4.434241704350014\n",
      "Iter 8; theta = [ 0.97173556  0.50628547]; cross_e = 4.053680744074561\n",
      "Iter 9; theta = [ 0.96832919  0.44482658]; cross_e = 3.674009995639685\n",
      "Iter 10; theta = [ 0.96496306  0.38347379]; cross_e = 3.2954481694474307\n",
      "Iter 11; theta = [ 0.9616436   0.32226391]; cross_e = 2.9183206399333983\n",
      "Iter 12; theta = [ 0.95837982  0.26126117]; cross_e = 2.5431525030105306\n",
      "Iter 13; theta = [ 0.95518564  0.20059524]; cross_e = 2.1708964854025012\n",
      "Iter 14; theta = [ 0.95208606  0.14057961]; cross_e = 1.8035797342409916\n",
      "Iter 15; theta = [ 0.9491355   0.08211144]; cross_e = 1.4463534560501126\n",
      "Iter 16; theta = [ 0.94647105  0.02794264]; cross_e = 1.1139902278387304\n",
      "Iter 17; theta = [ 0.94439844 -0.01502339]; cross_e = 0.845490114850235\n",
      "Iter 18; theta = [ 0.94319451 -0.03987182]; cross_e = 0.6962963655904879\n",
      "Iter 19; theta = [ 0.94262735 -0.05114948]; cross_e = 0.6510824204563155\n",
      "Iter 20; theta = [ 0.94235561 -0.05615747]; cross_e = 0.6418877615217594\n",
      "Iter 21; theta = [ 0.94221287 -0.05844412]; cross_e = 0.6400578721776015\n",
      "Iter 22; theta = [ 0.94212831 -0.0595079 ]; cross_e = 0.6396734531930218\n",
      "Iter 23; theta = [ 0.94207067 -0.06000727]; cross_e = 0.6395897388833359\n",
      "Iter 24; theta = [ 0.94202567 -0.06024238]; cross_e = 0.6395711075024405\n",
      "Iter 25; theta = [ 0.94198664 -0.06035289]; cross_e = 0.6395668558255755\n",
      "Iter 26; theta = [ 0.94195046 -0.06040444]; cross_e = 0.6395658136702747\n",
      "Iter 27; theta = [ 0.94191565 -0.06042805]; cross_e = 0.6395654915033199\n",
      "Iter 28; theta = [ 0.94188151 -0.06043842]; cross_e = 0.6395653313656807\n",
      "Iter 29; theta = [ 0.9418477 -0.0604425]; cross_e = 0.6395652078720264\n",
      "Iter 30; theta = [ 0.94181407 -0.06044359]; cross_e = 0.639565092809531\n",
      "Iter 31; theta = [ 0.94178054 -0.06044328]; cross_e = 0.6395649798259518\n",
      "Iter 32; theta = [ 0.94174707 -0.06044229]; cross_e = 0.6395648674903618\n",
      "Iter 33; theta = [ 0.94171366 -0.06044098]; cross_e = 0.6395647554800971\n",
      "Iter 34; theta = [ 0.94168029 -0.06043953]; cross_e = 0.6395646437221097\n",
      "Iter 35; theta = [ 0.94164695 -0.060438  ]; cross_e = 0.6395645321995784\n",
      "Iter 36; theta = [ 0.94161366 -0.06043644]; cross_e = 0.6395644209083472\n",
      "Iter 37; theta = [ 0.94158039 -0.06043487]; cross_e = 0.6395643098471138\n",
      "Iter 38; theta = [ 0.94154717 -0.06043329]; cross_e = 0.63956419901522\n",
      "Iter 39; theta = [ 0.94151397 -0.06043171]; cross_e = 0.639564088412153\n",
      "Iter 40; theta = [ 0.94148081 -0.06043013]; cross_e = 0.6395639780374336\n",
      "Iter 41; theta = [ 0.94144769 -0.06042855]; cross_e = 0.6395638678905909\n",
      "Iter 42; theta = [ 0.9414146  -0.06042697]; cross_e = 0.639563757971157\n",
      "Iter 43; theta = [ 0.94138154 -0.0604254 ]; cross_e = 0.6395636482786647\n",
      "Iter 44; theta = [ 0.94134852 -0.06042382]; cross_e = 0.6395635388126479\n",
      "Iter 45; theta = [ 0.94131553 -0.06042225]; cross_e = 0.6395634295726422\n",
      "Iter 46; theta = [ 0.94128258 -0.06042068]; cross_e = 0.6395633205581834\n",
      "Iter 47; theta = [ 0.94124966 -0.0604191 ]; cross_e = 0.6395632117688084\n",
      "Iter 48; theta = [ 0.94121677 -0.06041754]; cross_e = 0.639563103204055\n",
      "Iter 49; theta = [ 0.94118392 -0.06041597]; cross_e = 0.6395629948634624\n",
      "Iter 50; theta = [ 0.9411511 -0.0604144]; cross_e = 0.6395628867465701\n",
      "Iter 51; theta = [ 0.94111831 -0.06041284]; cross_e = 0.639562778852919\n",
      "Iter 52; theta = [ 0.94108556 -0.06041128]; cross_e = 0.6395626711820507\n",
      "Iter 53; theta = [ 0.94105285 -0.06040971]; cross_e = 0.6395625637335077\n",
      "Iter 54; theta = [ 0.94102016 -0.06040815]; cross_e = 0.6395624565068339\n",
      "Iter 55; theta = [ 0.94098751 -0.0604066 ]; cross_e = 0.6395623495015733\n",
      "Iter 56; theta = [ 0.9409549  -0.06040504]; cross_e = 0.6395622427172716\n",
      "Iter 57; theta = [ 0.94092232 -0.06040349]; cross_e = 0.639562136153475\n",
      "Iter 58; theta = [ 0.94088977 -0.06040193]; cross_e = 0.6395620298097308\n",
      "Iter 59; theta = [ 0.94085725 -0.06040038]; cross_e = 0.6395619236855871\n",
      "Iter 60; theta = [ 0.94082477 -0.06039883]; cross_e = 0.639561817780593\n",
      "Iter 61; theta = [ 0.94079233 -0.06039728]; cross_e = 0.6395617120942984\n",
      "Iter 62; theta = [ 0.94075991 -0.06039574]; cross_e = 0.6395616066262543\n",
      "Iter 63; theta = [ 0.94072753 -0.06039419]; cross_e = 0.6395615013760124\n",
      "Iter 64; theta = [ 0.94069519 -0.06039265]; cross_e = 0.6395613963431259\n",
      "Iter 65; theta = [ 0.94066287 -0.06039111]; cross_e = 0.6395612915271479\n",
      "Iter 66; theta = [ 0.94063059 -0.06038957]; cross_e = 0.6395611869276332\n",
      "Iter 67; theta = [ 0.94059835 -0.06038803]; cross_e = 0.6395610825441372\n",
      "Iter 68; theta = [ 0.94056613 -0.06038649]; cross_e = 0.6395609783762163\n",
      "Iter 69; theta = [ 0.94053395 -0.06038496]; cross_e = 0.6395608744234279\n",
      "Iter 70; theta = [ 0.94050181 -0.06038342]; cross_e = 0.63956077068533\n",
      "Iter 71; theta = [ 0.94046969 -0.06038189]; cross_e = 0.6395606671614817\n",
      "Iter 72; theta = [ 0.94043761 -0.06038036]; cross_e = 0.6395605638514431\n",
      "Iter 73; theta = [ 0.94040556 -0.06037883]; cross_e = 0.6395604607547748\n",
      "Iter 74; theta = [ 0.94037355 -0.0603773 ]; cross_e = 0.6395603578710389\n",
      "Iter 75; theta = [ 0.94034157 -0.06037578]; cross_e = 0.6395602551997978\n",
      "Iter 76; theta = [ 0.94030962 -0.06037425]; cross_e = 0.6395601527406152\n",
      "Iter 77; theta = [ 0.94027771 -0.06037273]; cross_e = 0.6395600504930554\n",
      "Iter 78; theta = [ 0.94024582 -0.06037121]; cross_e = 0.6395599484566837\n",
      "Iter 79; theta = [ 0.94021397 -0.06036969]; cross_e = 0.6395598466310667\n",
      "Iter 80; theta = [ 0.94018216 -0.06036817]; cross_e = 0.6395597450157711\n",
      "Iter 81; theta = [ 0.94015037 -0.06036665]; cross_e = 0.6395596436103648\n",
      "Iter 82; theta = [ 0.94011862 -0.06036514]; cross_e = 0.6395595424144168\n",
      "Iter 83; theta = [ 0.94008691 -0.06036363]; cross_e = 0.639559441427497\n",
      "Iter 84; theta = [ 0.94005522 -0.06036211]; cross_e = 0.6395593406491759\n",
      "Iter 85; theta = [ 0.94002357 -0.0603606 ]; cross_e = 0.6395592400790249\n",
      "Iter 86; theta = [ 0.93999195 -0.0603591 ]; cross_e = 0.6395591397166162\n",
      "Iter 87; theta = [ 0.93996036 -0.06035759]; cross_e = 0.6395590395615234\n"
     ]
    }
   ],
   "source": [
    "theta = gd(derivadas, X, y)"
   ]
  },
  {
   "cell_type": "markdown",
   "metadata": {},
   "source": [
    "Observe como otimiza a função de forma correta. Para não gastar mais tempo com código na mão, ajustes de taxas de perda, etc etc etc. Podemos usar sklearn"
   ]
  },
  {
   "cell_type": "code",
   "execution_count": 22,
   "metadata": {},
   "outputs": [],
   "source": [
    "from sklearn.linear_model import SGDClassifier"
   ]
  },
  {
   "cell_type": "code",
   "execution_count": 23,
   "metadata": {},
   "outputs": [
    {
     "data": {
      "text/plain": [
       "SGDClassifier(alpha=0.0001, average=False, class_weight=None, epsilon=0.1,\n",
       "       eta0=0.0, fit_intercept=False, l1_ratio=0.15,\n",
       "       learning_rate='optimal', loss='log', max_iter=1000, n_iter=None,\n",
       "       n_jobs=1, penalty='none', power_t=0.5, random_state=None,\n",
       "       shuffle=True, tol=0.001, verbose=0, warm_start=False)"
      ]
     },
     "execution_count": 23,
     "metadata": {},
     "output_type": "execute_result"
    }
   ],
   "source": [
    "# loss = log, logistic\n",
    "# penalty = none, sem regularizar\n",
    "# fit_intercept = false, colocamos na marra em X já um intercepto\n",
    "# max_iter e tol = controla a convergência!\n",
    "model = SGDClassifier(loss='log', penalty='none', fit_intercept=False, max_iter=1000, tol=1e-3)\n",
    "model.fit(X, y) ### Execute gradiente descendente!!!"
   ]
  },
  {
   "cell_type": "code",
   "execution_count": 24,
   "metadata": {},
   "outputs": [
    {
     "name": "stdout",
     "output_type": "stream",
     "text": [
      "[[ 0.71909165  0.5       ]\n",
      " [ 0.71909165  0.5       ]\n",
      " [ 0.71909165  0.5       ]\n",
      " [ 0.71909165  0.5       ]\n",
      " [ 0.71909165  0.5       ]\n",
      " [ 0.71909165  0.5       ]\n",
      " [ 0.71909165  0.99861369]\n",
      " [ 0.71909165  1.        ]\n",
      " [ 0.71909165  1.        ]\n",
      " [ 0.71909165  0.99996767]\n",
      " [ 0.71909165  0.99945799]\n",
      " [ 0.71909165  0.5       ]\n",
      " [ 0.71909165  0.71909165]\n",
      " [ 0.71909165  0.99999507]\n",
      " [ 0.71909165  0.94374075]\n",
      " [ 0.71909165  0.86760202]\n",
      " [ 0.71909165  0.5       ]\n",
      " [ 0.71909165  0.97724253]\n",
      " [ 0.71909165  0.5       ]\n",
      " [ 0.71909165  1.        ]\n",
      " [ 0.71909165  0.71909165]\n",
      " [ 0.71909165  0.99861369]\n",
      " [ 0.71909165  0.99999971]\n",
      " [ 0.71909165  0.99998737]\n",
      " [ 0.71909165  0.5       ]\n",
      " [ 0.71909165  0.5       ]\n",
      " [ 0.71909165  0.99999996]\n",
      " [ 0.71909165  0.5       ]\n",
      " [ 0.71909165  0.99861369]\n",
      " [ 0.71909165  0.99945799]\n",
      " [ 0.71909165  0.5       ]\n",
      " [ 0.71909165  0.99999971]\n",
      " [ 0.71909165  1.        ]\n",
      " [ 0.71909165  0.71909165]\n",
      " [ 0.71909165  0.99996767]\n",
      " [ 0.71909165  0.99996767]\n",
      " [ 0.71909165  1.        ]\n",
      " [ 0.71909165  0.9997882 ]\n",
      " [ 0.71909165  0.99999971]\n",
      " [ 0.71909165  0.86760202]\n",
      " [ 0.71909165  0.99999996]\n",
      " [ 0.71909165  0.99861369]\n",
      " [ 0.71909165  1.        ]\n",
      " [ 0.71909165  1.        ]\n",
      " [ 0.71909165  0.71909165]\n",
      " [ 0.71909165  0.5       ]\n",
      " [ 0.71909165  1.        ]\n",
      " [ 0.71909165  0.99098493]\n",
      " [ 0.71909165  1.        ]\n",
      " [ 0.71909165  0.94374075]\n",
      " [ 0.71909165  0.99645887]\n",
      " [ 0.71909165  0.99991725]\n",
      " [ 0.71909165  1.        ]\n",
      " [ 0.71909165  1.        ]\n",
      " [ 0.71909165  0.5       ]\n",
      " [ 0.71909165  1.        ]\n",
      " [ 0.71909165  1.        ]\n",
      " [ 0.71909165  1.        ]\n",
      " [ 0.71909165  1.        ]\n",
      " [ 0.71909165  0.71909165]\n",
      " [ 0.71909165  0.5       ]\n",
      " [ 0.71909165  0.5       ]\n",
      " [ 0.71909165  0.94374075]\n",
      " [ 0.71909165  0.71909165]\n",
      " [ 0.71909165  1.        ]\n",
      " [ 0.71909165  1.        ]\n",
      " [ 0.71909165  0.99999971]\n",
      " [ 0.71909165  0.71909165]\n",
      " [ 0.71909165  0.71909165]\n",
      " [ 0.71909165  0.86760202]\n",
      " [ 0.71909165  0.99861369]\n",
      " [ 0.71909165  0.99999807]\n",
      " [ 0.71909165  0.86760202]\n",
      " [ 0.71909165  0.5       ]\n",
      " [ 0.71909165  0.86760202]\n",
      " [ 0.71909165  0.5       ]\n",
      " [ 0.71909165  0.71909165]\n",
      " [ 0.71909165  0.5       ]\n",
      " [ 0.71909165  0.86760202]\n",
      " [ 0.71909165  0.71909165]\n",
      " [ 0.71909165  0.5       ]\n",
      " [ 0.71909165  1.        ]\n",
      " [ 0.71909165  0.71909165]\n",
      " [ 0.71909165  0.71909165]\n",
      " [ 0.71909165  0.71909165]\n",
      " [ 0.71909165  0.94374075]\n",
      " [ 0.71909165  0.71909165]\n",
      " [ 0.71909165  0.5       ]\n",
      " [ 0.71909165  0.99098493]\n",
      " [ 0.71909165  0.5       ]\n",
      " [ 0.71909165  1.        ]\n",
      " [ 0.71909165  1.        ]\n",
      " [ 0.71909165  0.5       ]\n",
      " [ 0.71909165  0.5       ]\n",
      " [ 0.71909165  0.5       ]\n",
      " [ 0.71909165  0.71909165]\n",
      " [ 0.71909165  0.5       ]\n",
      " [ 0.71909165  1.        ]\n",
      " [ 0.71909165  1.        ]\n",
      " [ 0.71909165  0.94374075]\n",
      " [ 0.71909165  0.5       ]\n",
      " [ 0.71909165  0.71909165]\n",
      " [ 0.71909165  0.71909165]\n",
      " [ 0.71909165  1.        ]\n",
      " [ 0.71909165  0.5       ]\n",
      " [ 0.71909165  1.        ]\n",
      " [ 0.71909165  1.        ]\n",
      " [ 0.71909165  0.97724253]\n",
      " [ 0.71909165  0.99999998]\n",
      " [ 0.71909165  0.99999971]\n",
      " [ 0.71909165  0.99999807]\n",
      " [ 0.71909165  0.71909165]\n",
      " [ 0.71909165  1.        ]\n",
      " [ 0.71909165  0.99999996]\n",
      " [ 0.71909165  0.5       ]\n",
      " [ 0.71909165  0.99998737]\n",
      " [ 0.71909165  0.5       ]\n",
      " [ 0.71909165  0.5       ]\n",
      " [ 0.71909165  0.5       ]\n",
      " [ 0.71909165  1.        ]\n",
      " [ 0.71909165  1.        ]\n",
      " [ 0.71909165  1.        ]\n",
      " [ 0.71909165  0.71909165]\n",
      " [ 0.71909165  0.5       ]\n",
      " [ 0.71909165  0.97724253]\n",
      " [ 0.71909165  1.        ]\n",
      " [ 0.71909165  1.        ]\n",
      " [ 0.71909165  0.5       ]\n",
      " [ 0.71909165  1.        ]\n",
      " [ 0.71909165  0.71909165]\n",
      " [ 0.71909165  0.99645887]\n",
      " [ 0.71909165  1.        ]\n",
      " [ 0.71909165  0.99098493]\n",
      " [ 0.71909165  0.71909165]\n",
      " [ 0.71909165  1.        ]\n",
      " [ 0.71909165  0.99991725]\n",
      " [ 0.71909165  1.        ]\n",
      " [ 0.71909165  0.99645887]\n",
      " [ 0.71909165  0.99999989]\n",
      " [ 0.71909165  0.99999996]\n",
      " [ 0.71909165  0.99861369]\n",
      " [ 0.71909165  0.99999998]\n",
      " [ 0.71909165  0.99999999]\n",
      " [ 0.71909165  1.        ]\n",
      " [ 0.71909165  0.99999507]\n",
      " [ 0.71909165  0.99999989]\n",
      " [ 0.71909165  0.5       ]\n",
      " [ 0.71909165  1.        ]\n",
      " [ 0.71909165  1.        ]\n",
      " [ 0.71909165  0.5       ]\n",
      " [ 0.71909165  0.86760202]\n",
      " [ 0.71909165  1.        ]\n",
      " [ 0.71909165  0.5       ]\n",
      " [ 0.71909165  0.5       ]\n",
      " [ 0.71909165  1.        ]\n",
      " [ 0.71909165  1.        ]\n",
      " [ 0.71909165  0.99861369]\n",
      " [ 0.71909165  0.99999807]\n",
      " [ 0.71909165  1.        ]\n",
      " [ 0.71909165  1.        ]\n",
      " [ 0.71909165  1.        ]\n",
      " [ 0.71909165  1.        ]\n",
      " [ 0.71909165  1.        ]\n",
      " [ 0.71909165  1.        ]\n",
      " [ 0.71909165  1.        ]\n",
      " [ 0.71909165  1.        ]\n",
      " [ 0.71909165  0.9997882 ]\n",
      " [ 0.71909165  1.        ]\n",
      " [ 0.71909165  0.86760202]\n",
      " [ 0.71909165  0.86760202]\n",
      " [ 0.71909165  0.86760202]\n",
      " [ 0.71909165  0.86760202]\n",
      " [ 0.71909165  0.86760202]\n",
      " [ 0.71909165  0.71909165]\n",
      " [ 0.71909165  0.97724253]\n",
      " [ 0.71909165  1.        ]\n",
      " [ 0.71909165  0.86760202]\n",
      " [ 0.71909165  0.99098493]\n",
      " [ 0.71909165  0.99861369]\n",
      " [ 0.71909165  0.99999998]\n",
      " [ 0.71909165  0.86760202]\n",
      " [ 0.71909165  0.5       ]\n",
      " [ 0.71909165  0.97724253]\n",
      " [ 0.71909165  0.86760202]\n",
      " [ 0.71909165  0.99999925]\n",
      " [ 0.71909165  1.        ]\n",
      " [ 0.71909165  0.86760202]\n",
      " [ 0.71909165  0.99998737]\n",
      " [ 0.71909165  1.        ]\n",
      " [ 0.71909165  1.        ]\n",
      " [ 0.71909165  1.        ]\n",
      " [ 0.71909165  1.        ]\n",
      " [ 0.71909165  0.86760202]\n",
      " [ 0.71909165  0.71909165]\n",
      " [ 0.71909165  1.        ]\n",
      " [ 0.71909165  0.97724253]\n",
      " [ 0.71909165  0.86760202]\n",
      " [ 0.71909165  0.71909165]\n",
      " [ 0.71909165  1.        ]\n",
      " [ 0.71909165  1.        ]\n",
      " [ 0.71909165  1.        ]\n",
      " [ 0.71909165  0.99999998]\n",
      " [ 0.71909165  0.99991725]\n",
      " [ 0.71909165  0.86760202]\n",
      " [ 0.71909165  0.94374075]\n",
      " [ 0.71909165  1.        ]\n",
      " [ 0.71909165  1.        ]\n",
      " [ 0.71909165  1.        ]\n",
      " [ 0.71909165  0.86760202]\n",
      " [ 0.71909165  1.        ]\n",
      " [ 0.71909165  0.99999971]\n",
      " [ 0.71909165  1.        ]\n",
      " [ 0.71909165  0.5       ]\n",
      " [ 0.71909165  0.5       ]\n",
      " [ 0.71909165  1.        ]\n",
      " [ 0.71909165  0.86760202]\n",
      " [ 0.71909165  0.99999989]\n",
      " [ 0.71909165  0.94374075]\n",
      " [ 0.71909165  0.5       ]\n",
      " [ 0.71909165  1.        ]\n",
      " [ 0.71909165  0.99645887]\n",
      " [ 0.71909165  1.        ]\n",
      " [ 0.71909165  0.99999999]\n",
      " [ 0.71909165  1.        ]\n",
      " [ 0.71909165  0.86760202]\n",
      " [ 0.71909165  1.        ]\n",
      " [ 0.71909165  0.5       ]\n",
      " [ 0.71909165  0.99945799]\n",
      " [ 0.71909165  0.5       ]\n",
      " [ 0.71909165  0.71909165]\n",
      " [ 0.71909165  0.5       ]\n",
      " [ 0.71909165  0.94374075]\n",
      " [ 0.71909165  1.        ]\n",
      " [ 0.71909165  0.99999971]\n",
      " [ 0.71909165  0.5       ]\n",
      " [ 0.71909165  1.        ]\n",
      " [ 0.71909165  0.5       ]\n",
      " [ 0.71909165  0.5       ]\n",
      " [ 0.71909165  0.5       ]\n",
      " [ 0.71909165  0.5       ]\n",
      " [ 0.71909165  0.5       ]\n",
      " [ 0.71909165  0.99999989]\n",
      " [ 0.71909165  0.5       ]\n",
      " [ 0.71909165  1.        ]\n",
      " [ 0.71909165  0.99098493]\n",
      " [ 0.71909165  1.        ]\n",
      " [ 0.71909165  1.        ]\n",
      " [ 0.71909165  0.86760202]\n",
      " [ 0.71909165  0.99999989]\n",
      " [ 0.71909165  0.71909165]\n",
      " [ 0.71909165  0.86760202]\n",
      " [ 0.71909165  0.71909165]\n",
      " [ 0.71909165  0.5       ]\n",
      " [ 0.71909165  1.        ]\n",
      " [ 0.71909165  1.        ]\n",
      " [ 0.71909165  0.86760202]\n",
      " [ 0.71909165  0.86760202]\n",
      " [ 0.71909165  1.        ]\n",
      " [ 0.71909165  0.86760202]\n",
      " [ 0.71909165  0.86760202]\n",
      " [ 0.71909165  0.71909165]\n",
      " [ 0.71909165  0.99999999]\n",
      " [ 0.71909165  1.        ]\n",
      " [ 0.71909165  0.5       ]\n",
      " [ 0.71909165  1.        ]\n",
      " [ 0.71909165  1.        ]\n",
      " [ 0.71909165  1.        ]\n",
      " [ 0.71909165  0.71909165]\n",
      " [ 0.71909165  1.        ]\n",
      " [ 0.71909165  0.5       ]\n",
      " [ 0.71909165  1.        ]\n",
      " [ 0.71909165  0.5       ]\n",
      " [ 0.71909165  0.71909165]\n",
      " [ 0.71909165  0.71909165]\n",
      " [ 0.71909165  1.        ]\n",
      " [ 0.71909165  0.94374075]\n",
      " [ 0.71909165  1.        ]\n",
      " [ 0.71909165  1.        ]\n",
      " [ 0.71909165  0.99999971]\n",
      " [ 0.71909165  0.5       ]\n",
      " [ 0.71909165  0.5       ]\n",
      " [ 0.71909165  0.9997882 ]\n",
      " [ 0.71909165  0.94374075]\n",
      " [ 0.71909165  0.99098493]\n",
      " [ 0.71909165  0.99999807]\n",
      " [ 0.71909165  1.        ]\n",
      " [ 0.71909165  0.71909165]\n",
      " [ 0.71909165  0.71909165]\n",
      " [ 0.71909165  0.86760202]\n",
      " [ 0.71909165  0.97724253]\n",
      " [ 0.71909165  0.99996767]\n",
      " [ 0.71909165  0.5       ]\n",
      " [ 0.71909165  0.71909165]\n",
      " [ 0.71909165  0.86760202]\n",
      " [ 0.71909165  0.99861369]\n",
      " [ 0.71909165  0.5       ]\n",
      " [ 0.71909165  0.86760202]\n",
      " [ 0.71909165  0.71909165]\n",
      " [ 0.71909165  0.71909165]\n",
      " [ 0.71909165  1.        ]\n",
      " [ 0.71909165  0.5       ]\n",
      " [ 0.71909165  0.99999998]\n",
      " [ 0.71909165  1.        ]\n",
      " [ 0.71909165  1.        ]\n",
      " [ 0.71909165  0.99861369]\n",
      " [ 0.71909165  0.71909165]\n",
      " [ 0.71909165  1.        ]\n",
      " [ 0.71909165  0.71909165]\n",
      " [ 0.71909165  0.99999989]\n",
      " [ 0.71909165  1.        ]\n",
      " [ 0.71909165  0.5       ]\n",
      " [ 0.71909165  1.        ]\n",
      " [ 0.71909165  0.5       ]\n",
      " [ 0.71909165  0.99999996]\n",
      " [ 0.71909165  1.        ]\n",
      " [ 0.71909165  0.71909165]\n",
      " [ 0.71909165  0.99861369]\n",
      " [ 0.71909165  1.        ]\n",
      " [ 0.71909165  0.71909165]\n",
      " [ 0.71909165  1.        ]\n",
      " [ 0.71909165  1.        ]\n",
      " [ 0.71909165  0.9997882 ]\n",
      " [ 0.71909165  0.94374075]\n",
      " [ 0.71909165  0.71909165]\n",
      " [ 0.71909165  0.5       ]\n",
      " [ 0.71909165  0.99999925]\n",
      " [ 0.71909165  0.5       ]\n",
      " [ 0.71909165  1.        ]\n",
      " [ 0.71909165  0.5       ]\n",
      " [ 0.71909165  0.71909165]\n",
      " [ 0.71909165  0.99998737]\n",
      " [ 0.71909165  1.        ]\n",
      " [ 0.71909165  0.99999507]\n",
      " [ 0.71909165  0.71909165]\n",
      " [ 0.71909165  0.94374075]\n",
      " [ 0.71909165  1.        ]\n",
      " [ 0.71909165  0.5       ]\n",
      " [ 0.71909165  1.        ]\n",
      " [ 0.71909165  0.5       ]\n",
      " [ 0.71909165  0.99645887]\n",
      " [ 0.71909165  1.        ]\n",
      " [ 0.71909165  0.5       ]\n",
      " [ 0.71909165  1.        ]\n",
      " [ 0.71909165  0.99996767]\n",
      " [ 0.71909165  0.71909165]\n",
      " [ 0.71909165  0.5       ]\n",
      " [ 0.71909165  0.5       ]\n",
      " [ 0.71909165  1.        ]\n",
      " [ 0.71909165  1.        ]\n",
      " [ 0.71909165  1.        ]\n",
      " [ 0.71909165  1.        ]\n",
      " [ 0.71909165  1.        ]\n",
      " [ 0.71909165  0.99999807]\n",
      " [ 0.71909165  0.99999925]\n",
      " [ 0.71909165  0.99945799]\n",
      " [ 0.71909165  0.71909165]\n",
      " [ 0.71909165  0.99996767]\n",
      " [ 0.71909165  0.71909165]\n",
      " [ 0.71909165  1.        ]\n",
      " [ 0.71909165  0.99999996]\n",
      " [ 0.71909165  0.9997882 ]\n",
      " [ 0.71909165  0.99999996]\n",
      " [ 0.71909165  0.86760202]\n",
      " [ 0.71909165  0.5       ]\n",
      " [ 0.71909165  0.99999998]\n",
      " [ 0.71909165  0.5       ]\n",
      " [ 0.71909165  0.9997882 ]\n",
      " [ 0.71909165  1.        ]\n",
      " [ 0.71909165  0.71909165]\n",
      " [ 0.71909165  0.99945799]\n",
      " [ 0.71909165  1.        ]\n",
      " [ 0.71909165  0.86760202]\n",
      " [ 0.71909165  1.        ]\n",
      " [ 0.71909165  0.99098493]\n",
      " [ 0.71909165  0.71909165]\n",
      " [ 0.71909165  0.9997882 ]\n",
      " [ 0.71909165  0.5       ]\n",
      " [ 0.71909165  1.        ]\n",
      " [ 0.71909165  0.5       ]\n",
      " [ 0.71909165  0.71909165]\n",
      " [ 0.71909165  0.71909165]\n",
      " [ 0.71909165  0.71909165]\n",
      " [ 0.71909165  0.99999807]\n",
      " [ 0.71909165  0.86760202]]\n"
     ]
    }
   ],
   "source": [
    "previsoes = sigmoid(X, theta[0])\n",
    "print(previsoes)"
   ]
  },
  {
   "cell_type": "markdown",
   "metadata": {},
   "source": [
    "Fazendo treino e testes!"
   ]
  },
  {
   "cell_type": "code",
   "execution_count": 25,
   "metadata": {},
   "outputs": [],
   "source": [
    "X_train = X[:200]\n",
    "X_test = X[200:]\n",
    "y_train = y[:200]\n",
    "y_test = y[200:]\n",
    "\n",
    "model = SGDClassifier(loss='log', penalty='none', fit_intercept=False, max_iter=1000, tol=1e-3)\n",
    "model = model.fit(X_train, y_train)"
   ]
  },
  {
   "cell_type": "markdown",
   "metadata": {},
   "source": [
    "O modelo não é muito bom nessa base :-("
   ]
  },
  {
   "cell_type": "code",
   "execution_count": 26,
   "metadata": {},
   "outputs": [
    {
     "data": {
      "text/plain": [
       "0.56521739130434778"
      ]
     },
     "execution_count": 26,
     "metadata": {},
     "output_type": "execute_result"
    }
   ],
   "source": [
    "model.predict(X_test)\n",
    "(y_test == model.predict(X_test)).mean()"
   ]
  },
  {
   "cell_type": "markdown",
   "metadata": {},
   "source": [
    "Colocando mais features"
   ]
  },
  {
   "cell_type": "code",
   "execution_count": 28,
   "metadata": {},
   "outputs": [
    {
     "ename": "KeyError",
     "evalue": "\"['minute'] not in index\"",
     "output_type": "error",
     "traceback": [
      "\u001b[0;31m---------------------------------------------------------------------------\u001b[0m",
      "\u001b[0;31mKeyError\u001b[0m                                  Traceback (most recent call last)",
      "\u001b[0;32m<ipython-input-28-bfebd300b3bc>\u001b[0m in \u001b[0;36m<module>\u001b[0;34m\u001b[0m\n\u001b[0;32m----> 1\u001b[0;31m \u001b[0mX\u001b[0m \u001b[0;34m=\u001b[0m \u001b[0mnew_df\u001b[0m\u001b[0;34m[\u001b[0m\u001b[0;34m[\u001b[0m\u001b[0;34m'intercepto'\u001b[0m\u001b[0;34m,\u001b[0m \u001b[0;34m'shot_distance'\u001b[0m\u001b[0;34m,\u001b[0m \u001b[0;34m'minute'\u001b[0m\u001b[0;34m]\u001b[0m\u001b[0;34m]\u001b[0m\u001b[0;34m.\u001b[0m\u001b[0mvalues\u001b[0m\u001b[0;34m\u001b[0m\u001b[0;34m\u001b[0m\u001b[0m\n\u001b[0m\u001b[1;32m      2\u001b[0m \u001b[0mX_train\u001b[0m \u001b[0;34m=\u001b[0m \u001b[0mX\u001b[0m\u001b[0;34m[\u001b[0m\u001b[0;34m:\u001b[0m\u001b[0;36m200\u001b[0m\u001b[0;34m]\u001b[0m\u001b[0;34m\u001b[0m\u001b[0;34m\u001b[0m\u001b[0m\n\u001b[1;32m      3\u001b[0m \u001b[0mX_test\u001b[0m \u001b[0;34m=\u001b[0m \u001b[0mX\u001b[0m\u001b[0;34m[\u001b[0m\u001b[0;36m200\u001b[0m\u001b[0;34m:\u001b[0m\u001b[0;34m]\u001b[0m\u001b[0;34m\u001b[0m\u001b[0;34m\u001b[0m\u001b[0m\n\u001b[1;32m      4\u001b[0m \u001b[0my_train\u001b[0m \u001b[0;34m=\u001b[0m \u001b[0my\u001b[0m\u001b[0;34m[\u001b[0m\u001b[0;34m:\u001b[0m\u001b[0;36m200\u001b[0m\u001b[0;34m]\u001b[0m\u001b[0;34m\u001b[0m\u001b[0;34m\u001b[0m\u001b[0m\n\u001b[1;32m      5\u001b[0m \u001b[0my_test\u001b[0m \u001b[0;34m=\u001b[0m \u001b[0my\u001b[0m\u001b[0;34m[\u001b[0m\u001b[0;36m200\u001b[0m\u001b[0;34m:\u001b[0m\u001b[0;34m]\u001b[0m\u001b[0;34m\u001b[0m\u001b[0;34m\u001b[0m\u001b[0m\n",
      "\u001b[0;32m/Users/flaviov/anaconda3/lib/python3.6/site-packages/pandas/core/frame.py\u001b[0m in \u001b[0;36m__getitem__\u001b[0;34m(self, key)\u001b[0m\n\u001b[1;32m   2932\u001b[0m                 \u001b[0mkey\u001b[0m \u001b[0;34m=\u001b[0m \u001b[0mlist\u001b[0m\u001b[0;34m(\u001b[0m\u001b[0mkey\u001b[0m\u001b[0;34m)\u001b[0m\u001b[0;34m\u001b[0m\u001b[0;34m\u001b[0m\u001b[0m\n\u001b[1;32m   2933\u001b[0m             indexer = self.loc._convert_to_indexer(key, axis=1,\n\u001b[0;32m-> 2934\u001b[0;31m                                                    raise_missing=True)\n\u001b[0m\u001b[1;32m   2935\u001b[0m \u001b[0;34m\u001b[0m\u001b[0m\n\u001b[1;32m   2936\u001b[0m         \u001b[0;31m# take() does not accept boolean indexers\u001b[0m\u001b[0;34m\u001b[0m\u001b[0;34m\u001b[0m\u001b[0;34m\u001b[0m\u001b[0m\n",
      "\u001b[0;32m/Users/flaviov/anaconda3/lib/python3.6/site-packages/pandas/core/indexing.py\u001b[0m in \u001b[0;36m_convert_to_indexer\u001b[0;34m(self, obj, axis, is_setter, raise_missing)\u001b[0m\n\u001b[1;32m   1352\u001b[0m                 kwargs = {'raise_missing': True if is_setter else\n\u001b[1;32m   1353\u001b[0m                           raise_missing}\n\u001b[0;32m-> 1354\u001b[0;31m                 \u001b[0;32mreturn\u001b[0m \u001b[0mself\u001b[0m\u001b[0;34m.\u001b[0m\u001b[0m_get_listlike_indexer\u001b[0m\u001b[0;34m(\u001b[0m\u001b[0mobj\u001b[0m\u001b[0;34m,\u001b[0m \u001b[0maxis\u001b[0m\u001b[0;34m,\u001b[0m \u001b[0;34m**\u001b[0m\u001b[0mkwargs\u001b[0m\u001b[0;34m)\u001b[0m\u001b[0;34m[\u001b[0m\u001b[0;36m1\u001b[0m\u001b[0;34m]\u001b[0m\u001b[0;34m\u001b[0m\u001b[0;34m\u001b[0m\u001b[0m\n\u001b[0m\u001b[1;32m   1355\u001b[0m         \u001b[0;32melse\u001b[0m\u001b[0;34m:\u001b[0m\u001b[0;34m\u001b[0m\u001b[0;34m\u001b[0m\u001b[0m\n\u001b[1;32m   1356\u001b[0m             \u001b[0;32mtry\u001b[0m\u001b[0;34m:\u001b[0m\u001b[0;34m\u001b[0m\u001b[0;34m\u001b[0m\u001b[0m\n",
      "\u001b[0;32m/Users/flaviov/anaconda3/lib/python3.6/site-packages/pandas/core/indexing.py\u001b[0m in \u001b[0;36m_get_listlike_indexer\u001b[0;34m(self, key, axis, raise_missing)\u001b[0m\n\u001b[1;32m   1159\u001b[0m         self._validate_read_indexer(keyarr, indexer,\n\u001b[1;32m   1160\u001b[0m                                     \u001b[0mo\u001b[0m\u001b[0;34m.\u001b[0m\u001b[0m_get_axis_number\u001b[0m\u001b[0;34m(\u001b[0m\u001b[0maxis\u001b[0m\u001b[0;34m)\u001b[0m\u001b[0;34m,\u001b[0m\u001b[0;34m\u001b[0m\u001b[0;34m\u001b[0m\u001b[0m\n\u001b[0;32m-> 1161\u001b[0;31m                                     raise_missing=raise_missing)\n\u001b[0m\u001b[1;32m   1162\u001b[0m         \u001b[0;32mreturn\u001b[0m \u001b[0mkeyarr\u001b[0m\u001b[0;34m,\u001b[0m \u001b[0mindexer\u001b[0m\u001b[0;34m\u001b[0m\u001b[0;34m\u001b[0m\u001b[0m\n\u001b[1;32m   1163\u001b[0m \u001b[0;34m\u001b[0m\u001b[0m\n",
      "\u001b[0;32m/Users/flaviov/anaconda3/lib/python3.6/site-packages/pandas/core/indexing.py\u001b[0m in \u001b[0;36m_validate_read_indexer\u001b[0;34m(self, key, indexer, axis, raise_missing)\u001b[0m\n\u001b[1;32m   1250\u001b[0m             \u001b[0;32mif\u001b[0m \u001b[0;32mnot\u001b[0m\u001b[0;34m(\u001b[0m\u001b[0mself\u001b[0m\u001b[0;34m.\u001b[0m\u001b[0mname\u001b[0m \u001b[0;34m==\u001b[0m \u001b[0;34m'loc'\u001b[0m \u001b[0;32mand\u001b[0m \u001b[0;32mnot\u001b[0m \u001b[0mraise_missing\u001b[0m\u001b[0;34m)\u001b[0m\u001b[0;34m:\u001b[0m\u001b[0;34m\u001b[0m\u001b[0;34m\u001b[0m\u001b[0m\n\u001b[1;32m   1251\u001b[0m                 \u001b[0mnot_found\u001b[0m \u001b[0;34m=\u001b[0m \u001b[0mlist\u001b[0m\u001b[0;34m(\u001b[0m\u001b[0mset\u001b[0m\u001b[0;34m(\u001b[0m\u001b[0mkey\u001b[0m\u001b[0;34m)\u001b[0m \u001b[0;34m-\u001b[0m \u001b[0mset\u001b[0m\u001b[0;34m(\u001b[0m\u001b[0max\u001b[0m\u001b[0;34m)\u001b[0m\u001b[0;34m)\u001b[0m\u001b[0;34m\u001b[0m\u001b[0;34m\u001b[0m\u001b[0m\n\u001b[0;32m-> 1252\u001b[0;31m                 \u001b[0;32mraise\u001b[0m \u001b[0mKeyError\u001b[0m\u001b[0;34m(\u001b[0m\u001b[0;34m\"{} not in index\"\u001b[0m\u001b[0;34m.\u001b[0m\u001b[0mformat\u001b[0m\u001b[0;34m(\u001b[0m\u001b[0mnot_found\u001b[0m\u001b[0;34m)\u001b[0m\u001b[0;34m)\u001b[0m\u001b[0;34m\u001b[0m\u001b[0;34m\u001b[0m\u001b[0m\n\u001b[0m\u001b[1;32m   1253\u001b[0m \u001b[0;34m\u001b[0m\u001b[0m\n\u001b[1;32m   1254\u001b[0m             \u001b[0;31m# we skip the warning on Categorical/Interval\u001b[0m\u001b[0;34m\u001b[0m\u001b[0;34m\u001b[0m\u001b[0;34m\u001b[0m\u001b[0m\n",
      "\u001b[0;31mKeyError\u001b[0m: \"['minute'] not in index\""
     ]
    }
   ],
   "source": [
    "X = new_df[['intercepto', 'shot_distance', 'minute']].values\n",
    "X_train = X[:200]\n",
    "X_test = X[200:]\n",
    "y_train = y[:200]\n",
    "y_test = y[200:]\n",
    "\n",
    "model = SGDClassifier(loss='log', penalty='none', fit_intercept=False, max_iter=1000, tol=1e-3)\n",
    "model = model.fit(X_train, y_train)"
   ]
  },
  {
   "cell_type": "code",
   "execution_count": null,
   "metadata": {},
   "outputs": [],
   "source": [
    "model.predict(X_test)\n",
    "(y_test == model.predict(X_test)).mean()"
   ]
  },
  {
   "cell_type": "markdown",
   "metadata": {},
   "source": [
    "## Dados Sintéticos\n",
    "\n",
    "Observe com dados bem comportados como a previsão é quase perfeita!"
   ]
  },
  {
   "cell_type": "code",
   "execution_count": null,
   "metadata": {},
   "outputs": [],
   "source": [
    "X, y = datasets.make_blobs(n_samples=300, centers=2, n_features=2)\n",
    "ones = y == 1\n",
    "plt.scatter(X[:, 0][ones], X[:, 1][ones], edgecolors='k', s=80)\n",
    "plt.scatter(X[:, 0][~ones], X[:, 1][~ones], edgecolors='k', s=80)\n",
    "plt.xlabel('Feature 1')\n",
    "plt.ylabel('Feature 2')\n",
    "plt.title('A cor é a classe')\n",
    "despine()"
   ]
  },
  {
   "cell_type": "code",
   "execution_count": null,
   "metadata": {},
   "outputs": [],
   "source": [
    "X_train = X[:200]\n",
    "X_test = X[200:]\n",
    "y_train = y[:200]\n",
    "y_test = y[200:]\n",
    "\n",
    "model = SGDClassifier(loss='log', penalty='none', fit_intercept=False, max_iter=1000, tol=1e-3)\n",
    "model = model.fit(X_train, y_train)"
   ]
  },
  {
   "cell_type": "code",
   "execution_count": null,
   "metadata": {},
   "outputs": [],
   "source": [
    "(model.predict(X_test) == y_test).mean()"
   ]
  },
  {
   "cell_type": "markdown",
   "metadata": {},
   "source": [
    "## Para explorar\n",
    "\n",
    "* O `scikit-learn` possui módulos tanto para [regressão logística](http://scikit-learn.org/stable/modules/linear_model.html#logistic-regression) quanto para um mundo de outros classificadores."
   ]
  },
  {
   "cell_type": "code",
   "execution_count": null,
   "metadata": {},
   "outputs": [],
   "source": []
  }
 ],
 "metadata": {
  "kernelspec": {
   "display_name": "Python 3",
   "language": "python",
   "name": "python3"
  },
  "language_info": {
   "codemirror_mode": {
    "name": "ipython",
    "version": 3
   },
   "file_extension": ".py",
   "mimetype": "text/x-python",
   "name": "python",
   "nbconvert_exporter": "python",
   "pygments_lexer": "ipython3",
   "version": "3.6.8"
  }
 },
 "nbformat": 4,
 "nbformat_minor": 2
}
