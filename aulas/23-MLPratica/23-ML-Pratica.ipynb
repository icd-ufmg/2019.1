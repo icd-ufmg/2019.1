{
 "cells": [
  {
   "cell_type": "code",
   "execution_count": 1,
   "metadata": {},
   "outputs": [],
   "source": [
    "# -*- coding: utf8\n",
    "\n",
    "from scipy import stats as ss\n",
    "\n",
    "import seaborn as sns\n",
    "import numpy as np\n",
    "import matplotlib.pyplot as plt\n",
    "import pandas as pd\n",
    "\n",
    "plt.rcParams['figure.figsize']  = (18, 10)\n",
    "plt.rcParams['axes.labelsize']  = 20\n",
    "plt.rcParams['axes.titlesize']  = 20\n",
    "plt.rcParams['legend.fontsize'] = 20\n",
    "plt.rcParams['xtick.labelsize'] = 20\n",
    "plt.rcParams['ytick.labelsize'] = 20\n",
    "plt.rcParams['lines.linewidth'] = 4"
   ]
  },
  {
   "cell_type": "code",
   "execution_count": 2,
   "metadata": {},
   "outputs": [],
   "source": [
    "plt.ion()\n",
    "plt.style.use('seaborn-colorblind')\n",
    "plt.rcParams['figure.figsize']  = (12, 8)"
   ]
  },
  {
   "cell_type": "code",
   "execution_count": 3,
   "metadata": {},
   "outputs": [],
   "source": [
    "def despine(ax=None):\n",
    "    if ax is None:\n",
    "        ax = plt.gca()\n",
    "    # Hide the right and top spines\n",
    "    ax.spines['right'].set_visible(False)\n",
    "    ax.spines['top'].set_visible(False)\n",
    "\n",
    "    # Only show ticks on the left and bottom spines\n",
    "    ax.yaxis.set_ticks_position('left')\n",
    "    ax.xaxis.set_ticks_position('bottom')"
   ]
  },
  {
   "cell_type": "code",
   "execution_count": 4,
   "metadata": {},
   "outputs": [],
   "source": [
    "def load_mnist(path, kind='train'):\n",
    "    import os\n",
    "    import gzip\n",
    "    import numpy as np\n",
    "\n",
    "    \"\"\"Load MNIST data from `path`\"\"\"\n",
    "    labels_path = os.path.join(path,\n",
    "                               '%s-labels-idx1-ubyte.gz'\n",
    "                               % kind)\n",
    "    images_path = os.path.join(path,\n",
    "                               '%s-images-idx3-ubyte.gz'\n",
    "                               % kind)\n",
    "\n",
    "    with gzip.open(labels_path, 'rb') as lbpath:\n",
    "        labels = np.frombuffer(lbpath.read(), dtype=np.uint8,\n",
    "                               offset=8)\n",
    "\n",
    "    with gzip.open(images_path, 'rb') as imgpath:\n",
    "        images = np.frombuffer(imgpath.read(), dtype=np.uint8,\n",
    "                               offset=16).reshape(len(labels), 784)\n",
    "\n",
    "    return images, labels"
   ]
  },
  {
   "cell_type": "markdown",
   "metadata": {},
   "source": [
    "# Aula 23 - Aprendizado na Prática\n",
    "\n",
    "Nesta aula vamos explorar aprendizado de máquina na prática. Em particular, vamos iniciar por algoritmos de classificação na base Fashion MNIST. Depois disso vamos explorar regressão.\n",
    "\n",
    "## Classificação\n",
    "\n",
    "Acima, temos alguns códigos auxiliares para carregar a base. Nesta, cada ponto é um vetor de 784 posições. Ao redimensionar os mesmos com:\n",
    "\n",
    "```python\n",
    "x.reshape((28, 28))\n",
    "```\n",
    "\n",
    "Temos uma imagem de alguma peça de vestimento. Código para carregar os dados abaixo. Vamos usar apenas 500 instâncias para treino e teste. Lento usar muito mais do que isso no meu computador."
   ]
  },
  {
   "cell_type": "code",
   "execution_count": 5,
   "metadata": {},
   "outputs": [],
   "source": [
    "X_train, y_train = load_mnist('fashion', kind='train')\n",
    "X_test, y_test = load_mnist('fashion', kind='t10k')\n",
    "\n",
    "X_train = X_train[:500]\n",
    "y_train = y_train[:500]\n",
    "\n",
    "X_test = X_test[:500]\n",
    "y_test = y_test[:500]"
   ]
  },
  {
   "cell_type": "markdown",
   "metadata": {},
   "source": [
    "Observe como cada instância é um vetor. Cada valor é um tom de cinza. 0 == branco; 256 == preto."
   ]
  },
  {
   "cell_type": "code",
   "execution_count": 6,
   "metadata": {},
   "outputs": [
    {
     "data": {
      "text/plain": [
       "array([  0,   0,   0,   0,   1,   0,   0,   0,   0,  41, 162, 167,  84,\n",
       "        30,  38,  94, 177, 176,  26,   0,   0,   0,   1,   0,   0,   0,\n",
       "         0,   0,   0,   0,   0,   1,   0,   0,  41, 147, 228, 242, 228,\n",
       "       236, 251, 251, 251, 255, 242, 230, 247, 221, 125,   0,   0,   0,\n",
       "         0,   0,   0,   0,   0,   0,   0,   0,   0,  91, 216, 228, 222,\n",
       "       219, 219, 218, 222, 200, 224, 230, 221, 222, 222, 227, 237, 183,\n",
       "         0,   0,   0,   0,   0,   0,   0,   0,   0,   0,   4, 202, 208,\n",
       "       212, 217, 219, 222, 222, 219, 219, 220, 218, 222, 224, 224, 221,\n",
       "       210, 227, 163,   0,   0,   0,   0,   0,   0,   0,   0,   0, 102,\n",
       "       225, 210, 216, 218, 222, 221, 219, 225, 225, 221, 222, 224, 222,\n",
       "       224, 224, 215, 215, 218,  28,   0,   0,   0,   0,   0,   0,   0,\n",
       "         0, 189, 222, 220, 213, 219, 220, 218, 221, 220, 219, 222, 226,\n",
       "       222, 220, 221, 216, 215, 218, 229, 148,   0,   0,   0,   0,   0,\n",
       "         0,   0,  11, 240, 210, 227, 213, 214, 220, 217, 220, 224, 220,\n",
       "       221, 217, 206, 209, 208, 212, 220, 224, 218, 234,   0,   0,   0,\n",
       "         0,   0,   0,   0, 118, 214, 208, 224, 216, 211, 226, 212, 219,\n",
       "       213, 193, 192, 179, 194, 213, 216, 216, 217, 227, 216, 221,  91,\n",
       "         0,   0,   0,   0,   0,   0, 170, 221, 205, 225, 219, 217, 232,\n",
       "       232, 226, 182, 182, 211, 226, 220, 212, 217, 216, 216, 225, 213,\n",
       "       226, 184,   0,   0,   0,   0,   0,   0,   0, 181, 229, 219, 220,\n",
       "       213, 227, 226, 222, 214, 222, 220, 216, 215, 213, 214, 216, 215,\n",
       "       220, 233, 211,   0,   0,   0,   0,   0,   0,   0,   0,   0, 164,\n",
       "       242, 222, 210, 214, 211, 215, 215, 216, 217, 215, 215, 215, 215,\n",
       "       213, 222, 238, 184,   0,   0,   0,   0,   0,   0,   0,   0,   2,\n",
       "         0,   0,  60, 222, 217, 214, 214, 215, 219, 202, 217, 210, 203,\n",
       "       216, 212, 221, 200,  60,   0,   0,   0,   0,   0,   0,   0,   0,\n",
       "         0,   0,   0,   0,   0, 193, 222, 208, 216, 215, 216, 218, 220,\n",
       "       219, 215, 216, 204, 222, 148,   0,   0,   0,   0,   0,   0,   0,\n",
       "         0,   0,   0,   0,   0,   0,   0, 194, 222, 206, 216, 216, 217,\n",
       "       218, 217, 218, 216, 218, 208, 219, 179,   0,   0,   0,   0,   0,\n",
       "         0,   0,   0,   0,   0,   0,   1,   0,   0, 192, 224, 213, 217,\n",
       "       217, 218, 217, 217, 217, 215, 216, 209, 215, 176,   0,   0,   0,\n",
       "         0,   0,   0,   0,   0,   0,   0,   0,   1,   0,   0, 194, 221,\n",
       "       214, 217, 216, 216, 217, 217, 217, 216, 214, 210, 214, 177,   0,\n",
       "         0,   0,   0,   0,   0,   0,   0,   0,   0,   0,   1,   0,   0,\n",
       "       193, 220, 214, 218, 217, 216, 217, 217, 216, 216, 215, 212, 214,\n",
       "       183,   0,   0,   0,   0,   0,   0,   0,   0,   0,   0,   0,   1,\n",
       "         0,   0, 197, 220, 214, 219, 218, 218, 218, 218, 217, 217, 219,\n",
       "       214, 217, 189,   0,   0,   1,   0,   0,   0,   0,   0,   0,   0,\n",
       "         0,   0,   0,   0, 201, 222, 214, 219, 218, 219, 219, 218, 218,\n",
       "       217, 219, 216, 220, 196,   0,   0,   1,   0,   0,   0,   0,   0,\n",
       "         0,   0,   0,   0,   0,   0, 209, 222, 216, 220, 219, 219, 220,\n",
       "       220, 218, 217, 219, 216, 222, 203,   0,   0,   1,   0,   0,   0,\n",
       "         0,   0,   0,   0,   0,   0,   0,   0, 209, 221, 216, 220, 219,\n",
       "       219, 221, 221, 219, 219, 221, 217, 222, 210,   0,   0,   1,   0,\n",
       "         0,   0,   0,   0,   0,   0,   0,   0,   0,   0, 208, 222, 218,\n",
       "       221, 220, 220, 221, 222, 220, 220, 222, 219, 222, 216,   0,   0,\n",
       "         1,   0,   0,   0,   0,   0,   0,   0,   0,   1,   0,   0, 210,\n",
       "       226, 220, 221, 220, 221, 222, 222, 220, 220, 224, 221, 224, 221,\n",
       "         0,   0,   0,   0,   0,   0,   0,   0,   0,   0,   0,   1,   0,\n",
       "         0, 217, 227, 219, 222, 224, 219, 219, 221, 222, 220, 221, 222,\n",
       "       225, 220,   0,   0,   0,   0,   0,   0,   0,   0,   0,   0,   0,\n",
       "         1,   0,   0, 183, 228, 221, 225, 221, 215, 217, 221, 222, 221,\n",
       "       222, 224, 224, 193,   0,   0,   1,   0,   0,   0,   0,   0,   0,\n",
       "         0,   0,   1,   0,   0, 179, 225, 218, 221, 219, 213, 213, 217,\n",
       "       220, 219, 218, 221, 222, 197,   0,   0,   2,   0,   0,   0,   0,\n",
       "         0,   0,   0,   0,   1,   0,   0, 240, 233, 228, 235, 232, 229,\n",
       "       228, 229, 231, 231, 231, 228, 229, 212,   0,   0,   1,   0,   0,\n",
       "         0,   0,   0,   0,   0,   0,   0,   0,   0, 101, 157, 148, 148,\n",
       "       167, 180, 182, 179, 176, 172, 171, 164, 177, 163,   0,   0,   1,\n",
       "         0,   0,   0,   0], dtype=uint8)"
      ]
     },
     "execution_count": 6,
     "metadata": {},
     "output_type": "execute_result"
    }
   ],
   "source": [
    "X_train[10]"
   ]
  },
  {
   "cell_type": "markdown",
   "metadata": {},
   "source": [
    "Ao redimensionar temos uma peça de roupa! Fashion!"
   ]
  },
  {
   "cell_type": "code",
   "execution_count": 7,
   "metadata": {},
   "outputs": [
    {
     "data": {
      "text/plain": [
       "<matplotlib.image.AxesImage at 0x1a14e31358>"
      ]
     },
     "execution_count": 7,
     "metadata": {},
     "output_type": "execute_result"
    },
    {
     "data": {
      "image/png": "[encoded data removed]",
      "text/plain": [
       "<Figure size 864x576 with 1 Axes>"
      ]
     },
     "metadata": {
      "needs_background": "light"
     },
     "output_type": "display_data"
    }
   ],
   "source": [
    "plt.imshow(X_train[0].reshape(28, 28))"
   ]
  },
  {
   "cell_type": "code",
   "execution_count": 8,
   "metadata": {},
   "outputs": [
    {
     "data": {
      "text/plain": [
       "<matplotlib.image.AxesImage at 0x1a187ba780>"
      ]
     },
     "execution_count": 8,
     "metadata": {},
     "output_type": "execute_result"
    },
    {
     "data": {
      "image/png": "[encoded data removed]",
      "text/plain": [
       "<Figure size 864x576 with 1 Axes>"
      ]
     },
     "metadata": {
      "needs_background": "light"
     },
     "output_type": "display_data"
    }
   ],
   "source": [
    "plt.imshow(X_train[1].reshape(28, 28))"
   ]
  },
  {
   "cell_type": "markdown",
   "metadata": {},
   "source": [
    "Temos 10 classes. "
   ]
  },
  {
   "cell_type": "code",
   "execution_count": 9,
   "metadata": {},
   "outputs": [
    {
     "data": {
      "text/plain": [
       "10"
      ]
     },
     "execution_count": 9,
     "metadata": {},
     "output_type": "execute_result"
    }
   ],
   "source": [
    "len(set(y_train))"
   ]
  },
  {
   "cell_type": "code",
   "execution_count": 10,
   "metadata": {},
   "outputs": [
    {
     "data": {
      "text/plain": [
       "0       t-shirt\n",
       "1       trouser\n",
       "2      pullover\n",
       "3         dress\n",
       "4          coat\n",
       "5        sandal\n",
       "6         shirt\n",
       "7       sneaker\n",
       "8           bag\n",
       "9    ankle boot\n",
       "dtype: object"
      ]
     },
     "execution_count": 10,
     "metadata": {},
     "output_type": "execute_result"
    }
   ],
   "source": [
    "text_labels = ['t-shirt', 'trouser', 'pullover', 'dress', 'coat', 'sandal', 'shirt', 'sneaker', 'bag', 'ankle boot']\n",
    "index = np.arange(len(text_labels))\n",
    "labels = pd.Series(text_labels, index=index)\n",
    "labels"
   ]
  },
  {
   "cell_type": "markdown",
   "metadata": {},
   "source": [
    "## Executando o Scikit-Learn\n",
    "\n",
    "Agora, vamos executar o código do sklearn na nossa base. Lembrando que temos que separar a mesma em Treino, Validação e Teste. Para tal, vamos fazer uso da classe `StratifiedKFold`. A mesma serve para realizar n-fold cross validation. A biblioteca sklearn não cria grupos de validação para você, a mesma só usa o conceito de treino/teste. De qualquer forma, validação nada mais é do que um conjunto a mais de teste. Então, vamos fazer 5-fold no nosso treino, separando em treino/validação. Note que NUNCA avaliamos nada no teste, apenas reportamos os números no fim!!"
   ]
  },
  {
   "cell_type": "code",
   "execution_count": 11,
   "metadata": {},
   "outputs": [],
   "source": [
    "from sklearn.model_selection import StratifiedKFold"
   ]
  },
  {
   "cell_type": "markdown",
   "metadata": {},
   "source": [
    "Ao gerar o split, tereos 20 conjuntos (muito eu sei)."
   ]
  },
  {
   "cell_type": "code",
   "execution_count": 12,
   "metadata": {},
   "outputs": [],
   "source": [
    "skf = StratifiedKFold(n_splits=20, shuffle=True)"
   ]
  },
  {
   "cell_type": "markdown",
   "metadata": {},
   "source": [
    "Cada passo do laço retorna indices do vetor"
   ]
  },
  {
   "cell_type": "code",
   "execution_count": 13,
   "metadata": {},
   "outputs": [
    {
     "name": "stdout",
     "output_type": "stream",
     "text": [
      "469 31\n"
     ]
    }
   ],
   "source": [
    "for treino, validacao in skf.split(X_train, y_train):\n",
    "    print(len(treino), len(validacao))\n",
    "    break"
   ]
  },
  {
   "cell_type": "markdown",
   "metadata": {},
   "source": [
    "Vamos quebrar nos conjuntos e avaliar o KNN. De um mundo de métricas, vamos fazer uso de 4 neste notebook:\n",
    "\n",
    "1. Precisão\n",
    "2. Revocação\n",
    "3. F1\n",
    "4. Acurácia\n",
    "\n",
    "![](./f.png)\n",
    "\n",
    "Na figura acima, assuma que o termo `busca` indica as previsões do seu classificador (sem tempo para alterar a figura irmão). Sendo `y_p (y-pred)` um conjunto de elementos da previsão e `y_t (y-true)` os rótulos reais. Por clareza, vamos assumir duas classes `1 e 0`. Afinal, o caso multiclasse pode ser reduzido para este. Assim, cada elemento dos vetores `y_p` e `y_t` $\\in \\{0, 1\\}$. Os verdadeiros positivos, __true positive (TP)__, é o conjunto de previsões da classe `1` que foram corretas. Podemos formalizar como:\n",
    "\n",
    "$$TP = \\sum_i \\mathbb{1}_{y_t[i] = 1} \\mathbb{1}_{y_p[i] = 1}$$\n",
    "\n",
    "$\\mathbb{1}_{y_t[i] = 1}$ retorna 1 quando $y_t[i] = 1$, 0 caso contrário. O mesmo vale para $\\mathbb{1}_{y_t[i] = y_p[i]}$ que retorna um quando $y_p[i] = 1$. Usando a mesma notação, os verdadeiros negativos é definido como:\n",
    "\n",
    "$$TN = \\sum_i \\mathbb{1}_{y_t[i] = 0} \\mathbb{1}_{y_t[i] = 0}$$\n",
    "\n",
    "Os falsos positivos e negativos capturam os erros da previsão. Note que nos dois a previsão é o oposto do real:\n",
    "\n",
    "$$FP = \\sum_i \\mathbb{1}_{y_t[i] = 0} \\mathbb{1}_{y_p[i] = 1}$$\n",
    "\n",
    "$$FN = \\sum_i \\mathbb{1}_{y_t[i] = 1} \\mathbb{1}_{y_p[i] = 0}$$\n",
    "\n",
    "Assim, a acurácia do classificador é definida como a fração total de acertos:\n",
    "\n",
    "$$Acuracia = \\frac{TP + TN}{TP + TN + FP + FN}$$\n",
    "\n",
    "A precisão é definida como a fração dos elementos classificados como 1 que foram corretos:\n",
    "\n",
    "$$Precisão = \\frac{TP}{TP + FP}$$\n",
    "\n",
    "A revocação é a fração de todos os elementos do conjunto 1 que foram acertados. Diferente da precisão, aqui focamos nos elementos reais! Na precisão focamos nas previsões.\n",
    "\n",
    "$$Revocação = \\frac{TP}{TP + FN}$$\n",
    "\n",
    "Tanto a previsão quanto a revocação importam. Na primeira, precisão, queremos saber o quão bom o classificador é em retornar acertos. Na segunda, o quanto de elementos reais o classificador captura. Observe como um classificador que sempre retorna 1 tem revocação máxima, porém precisão baixa. Um classificador que sempre retorna 0 tem precisão máxima e revocação baixa. Para captura a média harmônica dos dois usamos o F1-score:\n",
    "\n",
    "$$F1 = MediaHarmonica(Precisao, Revocacao)$$\n",
    "\n",
    "Dependendo do problema uma métrica pode importar mais do que a outra. Aqui, trabalhamos com classes balanceadas, então a acurácia já é boa suficiente. Vamos avaliar a acurácia nos conjuntos abaixo:"
   ]
  },
  {
   "cell_type": "code",
   "execution_count": 14,
   "metadata": {},
   "outputs": [],
   "source": [
    "from sklearn.neighbors import KNeighborsClassifier\n",
    "from sklearn.metrics import accuracy_score"
   ]
  },
  {
   "cell_type": "markdown",
   "metadata": {},
   "source": [
    "Observe como o laço abaixo guarda o melhor valor de n para cada fold de validação!"
   ]
  },
  {
   "cell_type": "code",
   "execution_count": 15,
   "metadata": {},
   "outputs": [
    {
     "name": "stdout",
     "output_type": "stream",
     "text": [
      "Fold-1, melhor n = 3, acc = 0.7419354838709677\n",
      "Fold-2, melhor n = 5, acc = 0.8275862068965517\n",
      "Fold-3, melhor n = 2, acc = 0.7586206896551724\n",
      "Fold-4, melhor n = 3, acc = 0.7241379310344828\n",
      "Fold-5, melhor n = 3, acc = 0.8275862068965517\n",
      "Fold-6, melhor n = 6, acc = 0.8846153846153846\n",
      "Fold-7, melhor n = 6, acc = 0.7692307692307693\n",
      "Fold-8, melhor n = 3, acc = 0.6923076923076923\n",
      "Fold-9, melhor n = 2, acc = 0.6538461538461539\n",
      "Fold-10, melhor n = 4, acc = 0.6923076923076923\n",
      "Fold-11, melhor n = 4, acc = 0.8\n",
      "Fold-12, melhor n = 8, acc = 0.75\n",
      "Fold-13, melhor n = 4, acc = 0.8181818181818182\n",
      "Fold-14, melhor n = 5, acc = 0.8181818181818182\n",
      "Fold-15, melhor n = 10, acc = 0.7272727272727273\n",
      "Fold-16, melhor n = 5, acc = 0.6818181818181818\n",
      "Fold-17, melhor n = 7, acc = 0.8181818181818182\n",
      "Fold-18, melhor n = 4, acc = 0.6818181818181818\n",
      "Fold-19, melhor n = 2, acc = 0.7619047619047619\n",
      "Fold-20, melhor n = 5, acc = 0.7619047619047619\n"
     ]
    }
   ],
   "source": [
    "fold = 0\n",
    "melhores = []\n",
    "for treino, validacao in skf.split(X_train, y_train):\n",
    "    X_tt = X_train[treino]\n",
    "    y_tt = y_train[treino]\n",
    "    X_v = X_train[validacao]\n",
    "    y_v = y_train[validacao]\n",
    "    \n",
    "    best = (0, 0)\n",
    "    for nn in [2, 3, 4, 5, 6, 7, 8, 9, 10, 20, 30, 40, 50, 100]: # Vamos testar tais valores de n\n",
    "        model = KNeighborsClassifier(n_neighbors=nn)\n",
    "        model.fit(X_tt, y_tt) # treina no conjunto de treino\n",
    "        y_pv = model.predict(X_train[validacao]) # previsões no conjunto de validação\n",
    "        \n",
    "        # Resultado com melhor acurácia!\n",
    "        accuracy = accuracy_score(y_v, y_pv)\n",
    "        if accuracy > best[0]:\n",
    "            best = (accuracy, nn)\n",
    "    \n",
    "    melhores.append(best[1])\n",
    "    fold += 1\n",
    "    print('Fold-{}, melhor n = {}, acc = {}'.format(fold, best[1], best[0]))"
   ]
  },
  {
   "cell_type": "markdown",
   "metadata": {},
   "source": [
    "Vamos ver quantas vezes cada escolha de número de vizinhos, nn, ganhou na validação."
   ]
  },
  {
   "cell_type": "code",
   "execution_count": 16,
   "metadata": {},
   "outputs": [
    {
     "data": {
      "text/plain": [
       "Text(0, 0.5, 'Count na validação')"
      ]
     },
     "execution_count": 16,
     "metadata": {},
     "output_type": "execute_result"
    },
    {
     "data": {
      "image/png": "[encoded data removed]",
      "text/plain": [
       "<Figure size 864x576 with 1 Axes>"
      ]
     },
     "metadata": {
      "needs_background": "light"
     },
     "output_type": "display_data"
    }
   ],
   "source": [
    "unique, counts = np.unique(melhores, return_counts=True)\n",
    "plt.bar(unique, counts)\n",
    "despine()\n",
    "plt.title('Número de vezes que n ganhou na validação')\n",
    "plt.xlabel('NN')\n",
    "plt.ylabel('Count na validação')"
   ]
  },
  {
   "cell_type": "markdown",
   "metadata": {},
   "source": [
    "Agora, podemos finalmente avaliar o modelo no conjunto de teste! Vamos escolher n como a médiana dos folds."
   ]
  },
  {
   "cell_type": "code",
   "execution_count": 17,
   "metadata": {},
   "outputs": [
    {
     "name": "stdout",
     "output_type": "stream",
     "text": [
      "4.0\n"
     ]
    }
   ],
   "source": [
    "print(np.median(melhores))"
   ]
  },
  {
   "cell_type": "markdown",
   "metadata": {},
   "source": [
    "Vamos verificar as outras métricas e todas as classes."
   ]
  },
  {
   "cell_type": "code",
   "execution_count": 18,
   "metadata": {},
   "outputs": [
    {
     "name": "stdout",
     "output_type": "stream",
     "text": [
      "             precision    recall  f1-score   support\n",
      "\n",
      "          0       0.71      0.75      0.73        53\n",
      "          1       0.97      0.97      0.97        40\n",
      "          2       0.52      0.54      0.53        63\n",
      "          3       0.75      0.91      0.82        46\n",
      "          4       0.58      0.56      0.57        55\n",
      "          5       0.94      0.56      0.70        52\n",
      "          6       0.45      0.41      0.43        49\n",
      "          7       0.68      0.87      0.76        52\n",
      "          8       0.97      0.79      0.87        43\n",
      "          9       0.83      0.94      0.88        47\n",
      "\n",
      "avg / total       0.73      0.72      0.71       500\n",
      "\n"
     ]
    }
   ],
   "source": [
    "from sklearn.metrics import classification_report\n",
    "\n",
    "model = KNeighborsClassifier(n_neighbors=6)\n",
    "model.fit(X_train, y_train)\n",
    "\n",
    "print(classification_report(y_test, model.predict(X_test)))"
   ]
  },
  {
   "cell_type": "markdown",
   "metadata": {},
   "source": [
    "Parece que erramos muito a classe 4, coat. Casacos se parecem com camisas, vestidos etc. Podemos investigar isto usando a matriz de confusão."
   ]
  },
  {
   "cell_type": "code",
   "execution_count": 19,
   "metadata": {},
   "outputs": [
    {
     "data": {
      "text/plain": [
       "([<matplotlib.axis.YTick at 0x1074aa4a8>,\n",
       "  <matplotlib.axis.YTick at 0x1074a8da0>,\n",
       "  <matplotlib.axis.YTick at 0x1a19078a58>,\n",
       "  <matplotlib.axis.YTick at 0x1074cec50>,\n",
       "  <matplotlib.axis.YTick at 0x108873198>,\n",
       "  <matplotlib.axis.YTick at 0x1074cef98>,\n",
       "  <matplotlib.axis.YTick at 0x1074c5898>,\n",
       "  <matplotlib.axis.YTick at 0x108873208>,\n",
       "  <matplotlib.axis.YTick at 0x108873a20>,\n",
       "  <matplotlib.axis.YTick at 0x108873ef0>],\n",
       " <a list of 10 Text yticklabel objects>)"
      ]
     },
     "execution_count": 19,
     "metadata": {},
     "output_type": "execute_result"
    },
    {
     "data": {
      "image/png": "[encoded data removed]",
      "text/plain": [
       "<Figure size 864x576 with 1 Axes>"
      ]
     },
     "metadata": {
      "needs_background": "light"
     },
     "output_type": "display_data"
    }
   ],
   "source": [
    "from sklearn.metrics import confusion_matrix\n",
    "plt.imshow(confusion_matrix(y_test, model.predict(X_test)))\n",
    "plt.xticks(labels.index, labels, rotation=90)\n",
    "plt.yticks(labels.index, labels)"
   ]
  },
  {
   "cell_type": "markdown",
   "metadata": {},
   "source": [
    "## Logística\n",
    "\n",
    "Vamos repetir tudo para a regressão logística. Felizmente, o sklearn tem uma versão da logística que já faz treino/validação internamente. Para alguns modelos, existem atalhos para fazer isto. Caso queira entender, leia:\n",
    "\n",
    "https://robjhyndman.com/hyndsight/crossvalidation/"
   ]
  },
  {
   "cell_type": "code",
   "execution_count": 20,
   "metadata": {},
   "outputs": [],
   "source": [
    "from sklearn.linear_model import LogisticRegressionCV"
   ]
  },
  {
   "cell_type": "code",
   "execution_count": 21,
   "metadata": {},
   "outputs": [
    {
     "data": {
      "text/plain": [
       "LogisticRegressionCV(Cs=100, class_weight=None, cv=None, dual=False,\n",
       "           fit_intercept=False, intercept_scaling=1.0, max_iter=100,\n",
       "           multi_class='ovr', n_jobs=1, penalty='l2', random_state=None,\n",
       "           refit=True, scoring=None, solver='lbfgs', tol=0.0001, verbose=0)"
      ]
     },
     "execution_count": 21,
     "metadata": {},
     "output_type": "execute_result"
    }
   ],
   "source": [
    "model = LogisticRegressionCV(Cs=100, fit_intercept=False, multi_class='ovr')\n",
    "model.fit(X_train, y_train)"
   ]
  },
  {
   "cell_type": "code",
   "execution_count": 22,
   "metadata": {},
   "outputs": [
    {
     "name": "stdout",
     "output_type": "stream",
     "text": [
      "             precision    recall  f1-score   support\n",
      "\n",
      "          0       0.79      0.64      0.71        53\n",
      "          1       1.00      0.97      0.99        40\n",
      "          2       0.67      0.52      0.59        63\n",
      "          3       0.75      0.91      0.82        46\n",
      "          4       0.61      0.73      0.66        55\n",
      "          5       1.00      0.69      0.82        52\n",
      "          6       0.48      0.63      0.55        49\n",
      "          7       0.84      0.88      0.86        52\n",
      "          8       0.89      0.79      0.84        43\n",
      "          9       0.85      0.98      0.91        47\n",
      "\n",
      "avg / total       0.78      0.76      0.76       500\n",
      "\n"
     ]
    }
   ],
   "source": [
    "print(classification_report(y_test, model.predict(X_test)))"
   ]
  },
  {
   "cell_type": "code",
   "execution_count": 23,
   "metadata": {},
   "outputs": [
    {
     "data": {
      "text/plain": [
       "([<matplotlib.axis.YTick at 0x1a1948a358>,\n",
       "  <matplotlib.axis.YTick at 0x1a194acc50>,\n",
       "  <matplotlib.axis.YTick at 0x1a19466240>,\n",
       "  <matplotlib.axis.YTick at 0x1a194cc908>,\n",
       "  <matplotlib.axis.YTick at 0x1a194ccdd8>,\n",
       "  <matplotlib.axis.YTick at 0x1a194d3320>,\n",
       "  <matplotlib.axis.YTick at 0x1a194d3828>,\n",
       "  <matplotlib.axis.YTick at 0x1a194d3d30>,\n",
       "  <matplotlib.axis.YTick at 0x1a194da278>,\n",
       "  <matplotlib.axis.YTick at 0x1a194da780>],\n",
       " <a list of 10 Text yticklabel objects>)"
      ]
     },
     "execution_count": 23,
     "metadata": {},
     "output_type": "execute_result"
    },
    {
     "data": {
      "image/png": "[encoded data removed]",
      "text/plain": [
       "<Figure size 864x576 with 1 Axes>"
      ]
     },
     "metadata": {
      "needs_background": "light"
     },
     "output_type": "display_data"
    }
   ],
   "source": [
    "plt.imshow(confusion_matrix(y_test, model.predict(X_test)))\n",
    "plt.xticks(labels.index, labels, rotation=90)\n",
    "plt.yticks(labels.index, labels)"
   ]
  },
  {
   "cell_type": "markdown",
   "metadata": {},
   "source": [
    "## Lebron James\n",
    "\n",
    "Agora vamos avalias os modelos em dados tabulares. Primeiro, vamos carregar os dados. Obsevre que cada atributo é diferente. Data, numéricos categóricos, etc..."
   ]
  },
  {
   "cell_type": "code",
   "execution_count": 24,
   "metadata": {},
   "outputs": [
    {
     "data": {
      "text/html": [
       "<div>\n",
       "<style scoped>\n",
       "    .dataframe tbody tr th:only-of-type {\n",
       "        vertical-align: middle;\n",
       "    }\n",
       "\n",
       "    .dataframe tbody tr th {\n",
       "        vertical-align: top;\n",
       "    }\n",
       "\n",
       "    .dataframe thead th {\n",
       "        text-align: right;\n",
       "    }\n",
       "</style>\n",
       "<table border=\"1\" class=\"dataframe\">\n",
       "  <thead>\n",
       "    <tr style=\"text-align: right;\">\n",
       "      <th></th>\n",
       "      <th>game_date</th>\n",
       "      <th>minute</th>\n",
       "      <th>opponent</th>\n",
       "      <th>action_type</th>\n",
       "      <th>shot_type</th>\n",
       "      <th>shot_distance</th>\n",
       "      <th>shot_made</th>\n",
       "    </tr>\n",
       "  </thead>\n",
       "  <tbody>\n",
       "    <tr>\n",
       "      <th>0</th>\n",
       "      <td>20170415</td>\n",
       "      <td>10</td>\n",
       "      <td>IND</td>\n",
       "      <td>Driving Layup Shot</td>\n",
       "      <td>2PT Field Goal</td>\n",
       "      <td>0</td>\n",
       "      <td>0</td>\n",
       "    </tr>\n",
       "    <tr>\n",
       "      <th>1</th>\n",
       "      <td>20170415</td>\n",
       "      <td>11</td>\n",
       "      <td>IND</td>\n",
       "      <td>Driving Layup Shot</td>\n",
       "      <td>2PT Field Goal</td>\n",
       "      <td>0</td>\n",
       "      <td>1</td>\n",
       "    </tr>\n",
       "    <tr>\n",
       "      <th>2</th>\n",
       "      <td>20170415</td>\n",
       "      <td>14</td>\n",
       "      <td>IND</td>\n",
       "      <td>Layup Shot</td>\n",
       "      <td>2PT Field Goal</td>\n",
       "      <td>0</td>\n",
       "      <td>1</td>\n",
       "    </tr>\n",
       "    <tr>\n",
       "      <th>3</th>\n",
       "      <td>20170415</td>\n",
       "      <td>15</td>\n",
       "      <td>IND</td>\n",
       "      <td>Driving Layup Shot</td>\n",
       "      <td>2PT Field Goal</td>\n",
       "      <td>0</td>\n",
       "      <td>1</td>\n",
       "    </tr>\n",
       "    <tr>\n",
       "      <th>4</th>\n",
       "      <td>20170415</td>\n",
       "      <td>18</td>\n",
       "      <td>IND</td>\n",
       "      <td>Alley Oop Dunk Shot</td>\n",
       "      <td>2PT Field Goal</td>\n",
       "      <td>0</td>\n",
       "      <td>1</td>\n",
       "    </tr>\n",
       "  </tbody>\n",
       "</table>\n",
       "</div>"
      ],
      "text/plain": [
       "   game_date  minute opponent          action_type       shot_type  \\\n",
       "0   20170415      10      IND   Driving Layup Shot  2PT Field Goal   \n",
       "1   20170415      11      IND   Driving Layup Shot  2PT Field Goal   \n",
       "2   20170415      14      IND           Layup Shot  2PT Field Goal   \n",
       "3   20170415      15      IND   Driving Layup Shot  2PT Field Goal   \n",
       "4   20170415      18      IND  Alley Oop Dunk Shot  2PT Field Goal   \n",
       "\n",
       "   shot_distance  shot_made  \n",
       "0              0          0  \n",
       "1              0          1  \n",
       "2              0          1  \n",
       "3              0          1  \n",
       "4              0          1  "
      ]
     },
     "execution_count": 24,
     "metadata": {},
     "output_type": "execute_result"
    }
   ],
   "source": [
    "df = pd.read_csv('lebron.csv')\n",
    "df.head()"
   ]
  },
  {
   "cell_type": "markdown",
   "metadata": {},
   "source": [
    "Primeiro temos que converter os atributos categóricos em colunas novas. Para isto, fazemos uso de one hot encoding. Cada categoria vira uma coluna de 1/0. Algoritmos como KNN e Logistic não sabem fazer uso de categorias por padrão. Mesmo se as categorias representarem números, faça uso de one hot. Sempre se pergunte: faz sentido computar uma distância nessa coluna? Se não, one-hot (ou outra abordagem)."
   ]
  },
  {
   "cell_type": "code",
   "execution_count": 25,
   "metadata": {},
   "outputs": [
    {
     "data": {
      "text/html": [
       "<div>\n",
       "<style scoped>\n",
       "    .dataframe tbody tr th:only-of-type {\n",
       "        vertical-align: middle;\n",
       "    }\n",
       "\n",
       "    .dataframe tbody tr th {\n",
       "        vertical-align: top;\n",
       "    }\n",
       "\n",
       "    .dataframe thead th {\n",
       "        text-align: right;\n",
       "    }\n",
       "</style>\n",
       "<table border=\"1\" class=\"dataframe\">\n",
       "  <thead>\n",
       "    <tr style=\"text-align: right;\">\n",
       "      <th></th>\n",
       "      <th>game_date</th>\n",
       "      <th>minute</th>\n",
       "      <th>shot_distance</th>\n",
       "      <th>shot_made</th>\n",
       "      <th>opponent_BOS</th>\n",
       "      <th>opponent_GSW</th>\n",
       "      <th>opponent_IND</th>\n",
       "      <th>opponent_TOR</th>\n",
       "      <th>action_type_Alley Oop Dunk Shot</th>\n",
       "      <th>action_type_Alley Oop Layup shot</th>\n",
       "      <th>...</th>\n",
       "      <th>action_type_Running Pull-Up Jump Shot</th>\n",
       "      <th>action_type_Running Reverse Layup Shot</th>\n",
       "      <th>action_type_Step Back Jump shot</th>\n",
       "      <th>action_type_Tip Layup Shot</th>\n",
       "      <th>action_type_Turnaround Fadeaway Bank Jump Shot</th>\n",
       "      <th>action_type_Turnaround Fadeaway shot</th>\n",
       "      <th>action_type_Turnaround Hook Shot</th>\n",
       "      <th>action_type_Turnaround Jump Shot</th>\n",
       "      <th>shot_type_2PT Field Goal</th>\n",
       "      <th>shot_type_3PT Field Goal</th>\n",
       "    </tr>\n",
       "  </thead>\n",
       "  <tbody>\n",
       "    <tr>\n",
       "      <th>0</th>\n",
       "      <td>20170415</td>\n",
       "      <td>10</td>\n",
       "      <td>0</td>\n",
       "      <td>0</td>\n",
       "      <td>0</td>\n",
       "      <td>0</td>\n",
       "      <td>1</td>\n",
       "      <td>0</td>\n",
       "      <td>0</td>\n",
       "      <td>0</td>\n",
       "      <td>...</td>\n",
       "      <td>0</td>\n",
       "      <td>0</td>\n",
       "      <td>0</td>\n",
       "      <td>0</td>\n",
       "      <td>0</td>\n",
       "      <td>0</td>\n",
       "      <td>0</td>\n",
       "      <td>0</td>\n",
       "      <td>1</td>\n",
       "      <td>0</td>\n",
       "    </tr>\n",
       "    <tr>\n",
       "      <th>1</th>\n",
       "      <td>20170415</td>\n",
       "      <td>11</td>\n",
       "      <td>0</td>\n",
       "      <td>1</td>\n",
       "      <td>0</td>\n",
       "      <td>0</td>\n",
       "      <td>1</td>\n",
       "      <td>0</td>\n",
       "      <td>0</td>\n",
       "      <td>0</td>\n",
       "      <td>...</td>\n",
       "      <td>0</td>\n",
       "      <td>0</td>\n",
       "      <td>0</td>\n",
       "      <td>0</td>\n",
       "      <td>0</td>\n",
       "      <td>0</td>\n",
       "      <td>0</td>\n",
       "      <td>0</td>\n",
       "      <td>1</td>\n",
       "      <td>0</td>\n",
       "    </tr>\n",
       "    <tr>\n",
       "      <th>2</th>\n",
       "      <td>20170415</td>\n",
       "      <td>14</td>\n",
       "      <td>0</td>\n",
       "      <td>1</td>\n",
       "      <td>0</td>\n",
       "      <td>0</td>\n",
       "      <td>1</td>\n",
       "      <td>0</td>\n",
       "      <td>0</td>\n",
       "      <td>0</td>\n",
       "      <td>...</td>\n",
       "      <td>0</td>\n",
       "      <td>0</td>\n",
       "      <td>0</td>\n",
       "      <td>0</td>\n",
       "      <td>0</td>\n",
       "      <td>0</td>\n",
       "      <td>0</td>\n",
       "      <td>0</td>\n",
       "      <td>1</td>\n",
       "      <td>0</td>\n",
       "    </tr>\n",
       "    <tr>\n",
       "      <th>3</th>\n",
       "      <td>20170415</td>\n",
       "      <td>15</td>\n",
       "      <td>0</td>\n",
       "      <td>1</td>\n",
       "      <td>0</td>\n",
       "      <td>0</td>\n",
       "      <td>1</td>\n",
       "      <td>0</td>\n",
       "      <td>0</td>\n",
       "      <td>0</td>\n",
       "      <td>...</td>\n",
       "      <td>0</td>\n",
       "      <td>0</td>\n",
       "      <td>0</td>\n",
       "      <td>0</td>\n",
       "      <td>0</td>\n",
       "      <td>0</td>\n",
       "      <td>0</td>\n",
       "      <td>0</td>\n",
       "      <td>1</td>\n",
       "      <td>0</td>\n",
       "    </tr>\n",
       "    <tr>\n",
       "      <th>4</th>\n",
       "      <td>20170415</td>\n",
       "      <td>18</td>\n",
       "      <td>0</td>\n",
       "      <td>1</td>\n",
       "      <td>0</td>\n",
       "      <td>0</td>\n",
       "      <td>1</td>\n",
       "      <td>0</td>\n",
       "      <td>1</td>\n",
       "      <td>0</td>\n",
       "      <td>...</td>\n",
       "      <td>0</td>\n",
       "      <td>0</td>\n",
       "      <td>0</td>\n",
       "      <td>0</td>\n",
       "      <td>0</td>\n",
       "      <td>0</td>\n",
       "      <td>0</td>\n",
       "      <td>0</td>\n",
       "      <td>1</td>\n",
       "      <td>0</td>\n",
       "    </tr>\n",
       "  </tbody>\n",
       "</table>\n",
       "<p>5 rows × 44 columns</p>\n",
       "</div>"
      ],
      "text/plain": [
       "   game_date  minute  shot_distance  shot_made  opponent_BOS  opponent_GSW  \\\n",
       "0   20170415      10              0          0             0             0   \n",
       "1   20170415      11              0          1             0             0   \n",
       "2   20170415      14              0          1             0             0   \n",
       "3   20170415      15              0          1             0             0   \n",
       "4   20170415      18              0          1             0             0   \n",
       "\n",
       "   opponent_IND  opponent_TOR  action_type_Alley Oop Dunk Shot  \\\n",
       "0             1             0                                0   \n",
       "1             1             0                                0   \n",
       "2             1             0                                0   \n",
       "3             1             0                                0   \n",
       "4             1             0                                1   \n",
       "\n",
       "   action_type_Alley Oop Layup shot  ...  \\\n",
       "0                                 0  ...   \n",
       "1                                 0  ...   \n",
       "2                                 0  ...   \n",
       "3                                 0  ...   \n",
       "4                                 0  ...   \n",
       "\n",
       "   action_type_Running Pull-Up Jump Shot  \\\n",
       "0                                      0   \n",
       "1                                      0   \n",
       "2                                      0   \n",
       "3                                      0   \n",
       "4                                      0   \n",
       "\n",
       "   action_type_Running Reverse Layup Shot  action_type_Step Back Jump shot  \\\n",
       "0                                       0                                0   \n",
       "1                                       0                                0   \n",
       "2                                       0                                0   \n",
       "3                                       0                                0   \n",
       "4                                       0                                0   \n",
       "\n",
       "   action_type_Tip Layup Shot  action_type_Turnaround Fadeaway Bank Jump Shot  \\\n",
       "0                           0                                               0   \n",
       "1                           0                                               0   \n",
       "2                           0                                               0   \n",
       "3                           0                                               0   \n",
       "4                           0                                               0   \n",
       "\n",
       "   action_type_Turnaround Fadeaway shot  action_type_Turnaround Hook Shot  \\\n",
       "0                                     0                                 0   \n",
       "1                                     0                                 0   \n",
       "2                                     0                                 0   \n",
       "3                                     0                                 0   \n",
       "4                                     0                                 0   \n",
       "\n",
       "   action_type_Turnaround Jump Shot  shot_type_2PT Field Goal  \\\n",
       "0                                 0                         1   \n",
       "1                                 0                         1   \n",
       "2                                 0                         1   \n",
       "3                                 0                         1   \n",
       "4                                 0                         1   \n",
       "\n",
       "   shot_type_3PT Field Goal  \n",
       "0                         0  \n",
       "1                         0  \n",
       "2                         0  \n",
       "3                         0  \n",
       "4                         0  \n",
       "\n",
       "[5 rows x 44 columns]"
      ]
     },
     "execution_count": 25,
     "metadata": {},
     "output_type": "execute_result"
    }
   ],
   "source": [
    "df = pd.get_dummies(df, columns=['opponent', 'action_type', 'shot_type'])\n",
    "df.head()"
   ]
  },
  {
   "cell_type": "markdown",
   "metadata": {},
   "source": [
    "Agora vamos converter a data. Note que a mesma existe em uma escala completamente diferente do resto."
   ]
  },
  {
   "cell_type": "code",
   "execution_count": 26,
   "metadata": {},
   "outputs": [
    {
     "data": {
      "text/plain": [
       "0     2017-04-15\n",
       "1     2017-04-15\n",
       "2     2017-04-15\n",
       "3     2017-04-15\n",
       "4     2017-04-15\n",
       "5     2017-04-15\n",
       "6     2017-04-15\n",
       "7     2017-04-15\n",
       "8     2017-04-15\n",
       "9     2017-04-15\n",
       "10    2017-04-15\n",
       "11    2017-04-15\n",
       "12    2017-04-15\n",
       "13    2017-04-15\n",
       "14    2017-04-15\n",
       "15    2017-04-15\n",
       "16    2017-04-15\n",
       "17    2017-04-15\n",
       "18    2017-04-15\n",
       "19    2017-04-15\n",
       "20    2017-04-17\n",
       "21    2017-04-17\n",
       "22    2017-04-17\n",
       "23    2017-04-17\n",
       "24    2017-04-17\n",
       "25    2017-04-17\n",
       "26    2017-04-17\n",
       "27    2017-04-17\n",
       "28    2017-04-17\n",
       "29    2017-04-17\n",
       "         ...    \n",
       "354   2017-06-12\n",
       "355   2017-06-12\n",
       "356   2017-06-12\n",
       "357   2017-06-12\n",
       "358   2017-06-12\n",
       "359   2017-06-12\n",
       "360   2017-06-12\n",
       "361   2017-06-12\n",
       "362   2017-06-12\n",
       "363   2017-06-12\n",
       "364   2017-06-12\n",
       "365   2017-06-12\n",
       "366   2017-06-12\n",
       "367   2017-06-12\n",
       "368   2017-06-12\n",
       "369   2017-06-12\n",
       "370   2017-06-12\n",
       "371   2017-06-12\n",
       "372   2017-06-12\n",
       "373   2017-06-12\n",
       "374   2017-06-12\n",
       "375   2017-06-12\n",
       "376   2017-06-12\n",
       "377   2017-06-12\n",
       "378   2017-06-12\n",
       "379   2017-06-12\n",
       "380   2017-06-12\n",
       "381   2017-06-12\n",
       "382   2017-06-12\n",
       "383   2017-06-12\n",
       "Name: game_date, Length: 384, dtype: datetime64[ns]"
      ]
     },
     "execution_count": 26,
     "metadata": {},
     "output_type": "execute_result"
    }
   ],
   "source": [
    "datas = pd.to_datetime(df['game_date'], format='%Y%m%d')\n",
    "datas"
   ]
  },
  {
   "cell_type": "markdown",
   "metadata": {},
   "source": [
    "Como trabalhar com esse mundo de valores distintos? Solução!? Normalizar!"
   ]
  },
  {
   "cell_type": "code",
   "execution_count": 27,
   "metadata": {},
   "outputs": [
    {
     "data": {
      "text/html": [
       "<div>\n",
       "<style scoped>\n",
       "    .dataframe tbody tr th:only-of-type {\n",
       "        vertical-align: middle;\n",
       "    }\n",
       "\n",
       "    .dataframe tbody tr th {\n",
       "        vertical-align: top;\n",
       "    }\n",
       "\n",
       "    .dataframe thead th {\n",
       "        text-align: right;\n",
       "    }\n",
       "</style>\n",
       "<table border=\"1\" class=\"dataframe\">\n",
       "  <thead>\n",
       "    <tr style=\"text-align: right;\">\n",
       "      <th></th>\n",
       "      <th>game_date</th>\n",
       "      <th>minute</th>\n",
       "      <th>shot_distance</th>\n",
       "      <th>shot_made</th>\n",
       "      <th>opponent_BOS</th>\n",
       "      <th>opponent_GSW</th>\n",
       "      <th>opponent_IND</th>\n",
       "      <th>opponent_TOR</th>\n",
       "      <th>action_type_Alley Oop Dunk Shot</th>\n",
       "      <th>action_type_Alley Oop Layup shot</th>\n",
       "      <th>...</th>\n",
       "      <th>action_type_Running Pull-Up Jump Shot</th>\n",
       "      <th>action_type_Running Reverse Layup Shot</th>\n",
       "      <th>action_type_Step Back Jump shot</th>\n",
       "      <th>action_type_Tip Layup Shot</th>\n",
       "      <th>action_type_Turnaround Fadeaway Bank Jump Shot</th>\n",
       "      <th>action_type_Turnaround Fadeaway shot</th>\n",
       "      <th>action_type_Turnaround Hook Shot</th>\n",
       "      <th>action_type_Turnaround Jump Shot</th>\n",
       "      <th>shot_type_2PT Field Goal</th>\n",
       "      <th>shot_type_3PT Field Goal</th>\n",
       "    </tr>\n",
       "  </thead>\n",
       "  <tbody>\n",
       "    <tr>\n",
       "      <th>0</th>\n",
       "      <td>1.492214e+18</td>\n",
       "      <td>10</td>\n",
       "      <td>0</td>\n",
       "      <td>0</td>\n",
       "      <td>0</td>\n",
       "      <td>0</td>\n",
       "      <td>1</td>\n",
       "      <td>0</td>\n",
       "      <td>0</td>\n",
       "      <td>0</td>\n",
       "      <td>...</td>\n",
       "      <td>0</td>\n",
       "      <td>0</td>\n",
       "      <td>0</td>\n",
       "      <td>0</td>\n",
       "      <td>0</td>\n",
       "      <td>0</td>\n",
       "      <td>0</td>\n",
       "      <td>0</td>\n",
       "      <td>1</td>\n",
       "      <td>0</td>\n",
       "    </tr>\n",
       "    <tr>\n",
       "      <th>1</th>\n",
       "      <td>1.492214e+18</td>\n",
       "      <td>11</td>\n",
       "      <td>0</td>\n",
       "      <td>1</td>\n",
       "      <td>0</td>\n",
       "      <td>0</td>\n",
       "      <td>1</td>\n",
       "      <td>0</td>\n",
       "      <td>0</td>\n",
       "      <td>0</td>\n",
       "      <td>...</td>\n",
       "      <td>0</td>\n",
       "      <td>0</td>\n",
       "      <td>0</td>\n",
       "      <td>0</td>\n",
       "      <td>0</td>\n",
       "      <td>0</td>\n",
       "      <td>0</td>\n",
       "      <td>0</td>\n",
       "      <td>1</td>\n",
       "      <td>0</td>\n",
       "    </tr>\n",
       "    <tr>\n",
       "      <th>2</th>\n",
       "      <td>1.492214e+18</td>\n",
       "      <td>14</td>\n",
       "      <td>0</td>\n",
       "      <td>1</td>\n",
       "      <td>0</td>\n",
       "      <td>0</td>\n",
       "      <td>1</td>\n",
       "      <td>0</td>\n",
       "      <td>0</td>\n",
       "      <td>0</td>\n",
       "      <td>...</td>\n",
       "      <td>0</td>\n",
       "      <td>0</td>\n",
       "      <td>0</td>\n",
       "      <td>0</td>\n",
       "      <td>0</td>\n",
       "      <td>0</td>\n",
       "      <td>0</td>\n",
       "      <td>0</td>\n",
       "      <td>1</td>\n",
       "      <td>0</td>\n",
       "    </tr>\n",
       "    <tr>\n",
       "      <th>3</th>\n",
       "      <td>1.492214e+18</td>\n",
       "      <td>15</td>\n",
       "      <td>0</td>\n",
       "      <td>1</td>\n",
       "      <td>0</td>\n",
       "      <td>0</td>\n",
       "      <td>1</td>\n",
       "      <td>0</td>\n",
       "      <td>0</td>\n",
       "      <td>0</td>\n",
       "      <td>...</td>\n",
       "      <td>0</td>\n",
       "      <td>0</td>\n",
       "      <td>0</td>\n",
       "      <td>0</td>\n",
       "      <td>0</td>\n",
       "      <td>0</td>\n",
       "      <td>0</td>\n",
       "      <td>0</td>\n",
       "      <td>1</td>\n",
       "      <td>0</td>\n",
       "    </tr>\n",
       "    <tr>\n",
       "      <th>4</th>\n",
       "      <td>1.492214e+18</td>\n",
       "      <td>18</td>\n",
       "      <td>0</td>\n",
       "      <td>1</td>\n",
       "      <td>0</td>\n",
       "      <td>0</td>\n",
       "      <td>1</td>\n",
       "      <td>0</td>\n",
       "      <td>1</td>\n",
       "      <td>0</td>\n",
       "      <td>...</td>\n",
       "      <td>0</td>\n",
       "      <td>0</td>\n",
       "      <td>0</td>\n",
       "      <td>0</td>\n",
       "      <td>0</td>\n",
       "      <td>0</td>\n",
       "      <td>0</td>\n",
       "      <td>0</td>\n",
       "      <td>1</td>\n",
       "      <td>0</td>\n",
       "    </tr>\n",
       "  </tbody>\n",
       "</table>\n",
       "<p>5 rows × 44 columns</p>\n",
       "</div>"
      ],
      "text/plain": [
       "      game_date  minute  shot_distance  shot_made  opponent_BOS  opponent_GSW  \\\n",
       "0  1.492214e+18      10              0          0             0             0   \n",
       "1  1.492214e+18      11              0          1             0             0   \n",
       "2  1.492214e+18      14              0          1             0             0   \n",
       "3  1.492214e+18      15              0          1             0             0   \n",
       "4  1.492214e+18      18              0          1             0             0   \n",
       "\n",
       "   opponent_IND  opponent_TOR  action_type_Alley Oop Dunk Shot  \\\n",
       "0             1             0                                0   \n",
       "1             1             0                                0   \n",
       "2             1             0                                0   \n",
       "3             1             0                                0   \n",
       "4             1             0                                1   \n",
       "\n",
       "   action_type_Alley Oop Layup shot  ...  \\\n",
       "0                                 0  ...   \n",
       "1                                 0  ...   \n",
       "2                                 0  ...   \n",
       "3                                 0  ...   \n",
       "4                                 0  ...   \n",
       "\n",
       "   action_type_Running Pull-Up Jump Shot  \\\n",
       "0                                      0   \n",
       "1                                      0   \n",
       "2                                      0   \n",
       "3                                      0   \n",
       "4                                      0   \n",
       "\n",
       "   action_type_Running Reverse Layup Shot  action_type_Step Back Jump shot  \\\n",
       "0                                       0                                0   \n",
       "1                                       0                                0   \n",
       "2                                       0                                0   \n",
       "3                                       0                                0   \n",
       "4                                       0                                0   \n",
       "\n",
       "   action_type_Tip Layup Shot  action_type_Turnaround Fadeaway Bank Jump Shot  \\\n",
       "0                           0                                               0   \n",
       "1                           0                                               0   \n",
       "2                           0                                               0   \n",
       "3                           0                                               0   \n",
       "4                           0                                               0   \n",
       "\n",
       "   action_type_Turnaround Fadeaway shot  action_type_Turnaround Hook Shot  \\\n",
       "0                                     0                                 0   \n",
       "1                                     0                                 0   \n",
       "2                                     0                                 0   \n",
       "3                                     0                                 0   \n",
       "4                                     0                                 0   \n",
       "\n",
       "   action_type_Turnaround Jump Shot  shot_type_2PT Field Goal  \\\n",
       "0                                 0                         1   \n",
       "1                                 0                         1   \n",
       "2                                 0                         1   \n",
       "3                                 0                         1   \n",
       "4                                 0                         1   \n",
       "\n",
       "   shot_type_3PT Field Goal  \n",
       "0                         0  \n",
       "1                         0  \n",
       "2                         0  \n",
       "3                         0  \n",
       "4                         0  \n",
       "\n",
       "[5 rows x 44 columns]"
      ]
     },
     "execution_count": 27,
     "metadata": {},
     "output_type": "execute_result"
    }
   ],
   "source": [
    "df['game_date'] = np.array(datas, dtype='d') # nano segundos, valores gigantes, vamos normalizar\n",
    "df.head()"
   ]
  },
  {
   "cell_type": "markdown",
   "metadata": {},
   "source": [
    "Vamos criar nosso treino e teste."
   ]
  },
  {
   "cell_type": "code",
   "execution_count": 28,
   "metadata": {},
   "outputs": [],
   "source": [
    "copy = df.copy()\n",
    "y = copy['shot_made']\n",
    "del copy['shot_made']\n",
    "X = copy"
   ]
  },
  {
   "cell_type": "code",
   "execution_count": 29,
   "metadata": {},
   "outputs": [],
   "source": [
    "X_train = X[:200]\n",
    "y_train = y[:200]\n",
    "\n",
    "X_test = X[200:]\n",
    "y_test = y[200:]"
   ]
  },
  {
   "cell_type": "markdown",
   "metadata": {},
   "source": [
    "Existe uma classe no sklearn que normaliza dados.\n",
    "\n",
    "**IMPORTANTE SÓ NORMALIZE O TREINO!!! DEPOIS USE A MÉDIA E DESVIO DO TREINO PARA NORMALIZAR O TESTE!!**\n",
    "\n",
    "**O TESTE É UM FUTURO! NÃO EXISTE, VOCÊ NÃO SABE NADA DO MESMO**"
   ]
  },
  {
   "cell_type": "code",
   "execution_count": 30,
   "metadata": {},
   "outputs": [],
   "source": [
    "from sklearn.preprocessing import StandardScaler\n",
    "scaler = StandardScaler()\n",
    "X_new_train = scaler.fit_transform(X_train)"
   ]
  },
  {
   "cell_type": "code",
   "execution_count": 31,
   "metadata": {},
   "outputs": [
    {
     "data": {
      "text/plain": [
       "array([[-1.3241922 , -1.07998356, -1.01672335, ..., -0.20412415,\n",
       "         0.61588176, -0.61588176],\n",
       "       [-1.3241922 , -1.00649029, -1.01672335, ..., -0.20412415,\n",
       "         0.61588176, -0.61588176],\n",
       "       [-1.3241922 , -0.78601049, -1.01672335, ..., -0.20412415,\n",
       "         0.61588176, -0.61588176],\n",
       "       ..., \n",
       "       [ 1.80999052, -0.71251722, -0.92121153, ..., -0.20412415,\n",
       "         0.61588176, -0.61588176],\n",
       "       [ 1.80999052, -0.63902396,  0.98902492, ..., -0.20412415,\n",
       "         0.61588176, -0.61588176],\n",
       "       [ 1.80999052, -0.56553069,  1.08453674, ..., -0.20412415,\n",
       "        -1.62368828,  1.62368828]])"
      ]
     },
     "execution_count": 31,
     "metadata": {},
     "output_type": "execute_result"
    }
   ],
   "source": [
    "X_new_train"
   ]
  },
  {
   "cell_type": "markdown",
   "metadata": {},
   "source": [
    "Vamos fazer penalização l1, lasso. A mesma tende a zerar os fatores não importantes."
   ]
  },
  {
   "cell_type": "code",
   "execution_count": 32,
   "metadata": {},
   "outputs": [
    {
     "data": {
      "text/plain": [
       "LogisticRegressionCV(Cs=100, class_weight=None, cv=None, dual=False,\n",
       "           fit_intercept=True, intercept_scaling=1.0, max_iter=100,\n",
       "           multi_class='ovr', n_jobs=1, penalty='l1', random_state=None,\n",
       "           refit=True, scoring=None, solver='liblinear', tol=0.0001,\n",
       "           verbose=0)"
      ]
     },
     "execution_count": 32,
     "metadata": {},
     "output_type": "execute_result"
    }
   ],
   "source": [
    "model = LogisticRegressionCV(Cs=100, fit_intercept=True, multi_class='ovr', penalty='l1', solver='liblinear')\n",
    "model.fit(X_new_train, y_train)"
   ]
  },
  {
   "cell_type": "markdown",
   "metadata": {},
   "source": [
    "Ao executar o scaler no teste usamos a média e desvio do treino para converter."
   ]
  },
  {
   "cell_type": "code",
   "execution_count": 33,
   "metadata": {},
   "outputs": [
    {
     "name": "stdout",
     "output_type": "stream",
     "text": [
      "             precision    recall  f1-score   support\n",
      "\n",
      "          0       0.64      0.57      0.61        80\n",
      "          1       0.70      0.75      0.72       104\n",
      "\n",
      "avg / total       0.67      0.67      0.67       184\n",
      "\n"
     ]
    }
   ],
   "source": [
    "X_test_new = scaler.transform(X_test)\n",
    "print(classification_report(y_test, model.predict(X_test_new)))"
   ]
  },
  {
   "cell_type": "markdown",
   "metadata": {},
   "source": [
    "Um fator interessante da logística é que o sinal do coeficiente pode ser interpretado. Quanto mais perto, mais chance de marcar uma cesta (peso negativo, menor disância leva para 1). Quando o lance é um `action_type_Fadeaway Jump Shot -0.20025856688`, maior chance de errar! No `action_type_Running Dunk Shot 0.118529302866` maior chance de acertar."
   ]
  },
  {
   "cell_type": "code",
   "execution_count": 34,
   "metadata": {},
   "outputs": [
    {
     "name": "stdout",
     "output_type": "stream",
     "text": [
      "game_date 0.0\n",
      "minute 0.0\n",
      "shot_distance -0.325355897499\n",
      "opponent_BOS 0.0\n",
      "opponent_GSW 0.0\n",
      "opponent_IND 0.0\n",
      "opponent_TOR 0.0\n",
      "action_type_Alley Oop Dunk Shot 0.0\n",
      "action_type_Alley Oop Layup shot 0.0\n",
      "action_type_Cutting Dunk Shot 0.0\n",
      "action_type_Cutting Finger Roll Layup Shot 0.0152631812527\n",
      "action_type_Cutting Layup Shot 0.0\n",
      "action_type_Driving Bank shot 0.0\n",
      "action_type_Driving Dunk Shot 0.0401926013778\n",
      "action_type_Driving Finger Roll Layup Shot 0.0846983586304\n",
      "action_type_Driving Floating Bank Jump Shot 0.0\n",
      "action_type_Driving Floating Jump Shot 0.0\n",
      "action_type_Driving Hook Shot 0.0\n",
      "action_type_Driving Layup Shot 0.0\n",
      "action_type_Driving Reverse Layup Shot 0.0\n",
      "action_type_Dunk Shot 0.0\n",
      "action_type_Fadeaway Jump Shot -0.20025856688\n",
      "action_type_Floating Jump shot -0.0385073424523\n",
      "action_type_Jump Bank Shot 0.0\n",
      "action_type_Jump Shot 0.0\n",
      "action_type_Layup Shot 0.0\n",
      "action_type_No Shot 0.0\n",
      "action_type_Pullup Jump shot 0.149403277951\n",
      "action_type_Putback Layup Shot 0.0\n",
      "action_type_Running Dunk Shot 0.118529302866\n",
      "action_type_Running Finger Roll Layup Shot 0.0\n",
      "action_type_Running Jump Shot 0.0\n",
      "action_type_Running Layup Shot 0.0\n",
      "action_type_Running Pull-Up Jump Shot -0.0103337506289\n",
      "action_type_Running Reverse Layup Shot 0.0\n",
      "action_type_Step Back Jump shot -0.00905349305533\n",
      "action_type_Tip Layup Shot 0.0\n",
      "action_type_Turnaround Fadeaway Bank Jump Shot 0.0\n",
      "action_type_Turnaround Fadeaway shot 0.0\n",
      "action_type_Turnaround Hook Shot 0.0\n",
      "action_type_Turnaround Jump Shot 0.0\n",
      "shot_type_2PT Field Goal 0.0\n",
      "shot_type_3PT Field Goal 0.0\n"
     ]
    }
   ],
   "source": [
    "for i, col in enumerate(copy.columns):\n",
    "    print(col, model.coef_[0][i])"
   ]
  },
  {
   "cell_type": "code",
   "execution_count": null,
   "metadata": {},
   "outputs": [],
   "source": []
  }
 ],
 "metadata": {
  "kernelspec": {
   "display_name": "Python 3",
   "language": "python",
   "name": "python3"
  },
  "language_info": {
   "codemirror_mode": {
    "name": "ipython",
    "version": 3
   },
   "file_extension": ".py",
   "mimetype": "text/x-python",
   "name": "python",
   "nbconvert_exporter": "python",
   "pygments_lexer": "ipython3",
   "version": "3.6.8"
  }
 },
 "nbformat": 4,
 "nbformat_minor": 2
}
