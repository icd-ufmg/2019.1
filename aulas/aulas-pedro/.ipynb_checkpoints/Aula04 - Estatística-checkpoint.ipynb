{
 "cells": [
  {
   "cell_type": "markdown",
   "metadata": {},
   "source": [
    "# Estatística\n",
    "\n",
    "As estatísticas referem-se à matemática e técnicas com as quais entendemos os dados. É um campo rico e enorme, mais adequado a uma prateleira (ou sala) em uma biblioteca do que a uma aula de um curso, e assim nossa discussão não será necessariamente profunda. Em vez disso, vamos tentar ensiná-lo apenas o suficiente para acompanhar as aulas seguintes e também para despertar o seu interesse para você sair e aprender mais.\n",
    "\n",
    "## Descrevendo um único conjunto de dados\n",
    "\n",
    "Através de uma combinação de boca-a-boca e sorte, a DataSciencester cresceu para dezenas de membros, e o vice-presidente de arrecadação de fundos pede-lhe uma descrição de quantos amigos cada membro pode incluir na lista de possíveis doadores.\n",
    "\n",
    "Usando técnicas das aulas anteriores, você pode facilmente produzir esses dados. Mas agora você se depara com o problema de como descrevê-los.\n",
    "\n",
    "Uma descrição óbvia de qualquer conjunto $x_1, x_2, ..., x_n$ de dados é simplesmente os dados em si:"
   ]
  },
  {
   "cell_type": "code",
   "execution_count": null,
   "metadata": {},
   "outputs": [],
   "source": [
    "num_friends = [100, 49, 41, 40, 25,\n",
    "# ... and lots more\n",
    "]"
   ]
  },
  {
   "cell_type": "markdown",
   "metadata": {},
   "source": [
    "Para um conjunto de dados pequeno o suficiente, isso pode até ser a melhor descrição. Mas, para um conjunto de dados maior, isso é difícil e provavelmente opaco (imagine uma lista de 1 milhão de números). Por esse motivo, usamos estatísticas para destilar e comunicar características relevantes dos nossos dados.\n",
    "\n",
    "Como primeira abordagem, você coloca as contagens de amigos em um histograma usando `Counter` e `plt.bar()`"
   ]
  },
  {
   "cell_type": "code",
   "execution_count": null,
   "metadata": {},
   "outputs": [],
   "source": [
    "matplotlib inline"
   ]
  },
  {
   "cell_type": "code",
   "execution_count": null,
   "metadata": {},
   "outputs": [],
   "source": [
    "from matplotlib import pyplot as plt\n",
    "import random\n",
    "from collections import Counter\n",
    "\n",
    "num_friends = [100,49,41,40,25,21,21,19,19,18,18,16,15,15,15,15,14,14,13,13,13,13,12,12,11,10,10,10,10,10,10,10,10,10,10,10,10,10,10,10,9,9,9,9,9,9,9,9,9,9,9,9,9,9,9,9,9,9,8,8,8,8,8,8,8,8,8,8,8,8,8,7,7,7,7,7,7,7,7,7,7,7,7,7,7,7,6,6,6,6,6,6,6,6,6,6,6,6,6,6,6,6,6,6,6,6,6,6,5,5,5,5,5,5,5,5,5,5,5,5,5,5,5,5,5,4,4,4,4,4,4,4,4,4,4,4,4,4,4,4,4,4,4,4,4,3,3,3,3,3,3,3,3,3,3,3,3,3,3,3,3,3,3,3,3,2,2,2,2,2,2,2,2,2,2,2,2,2,2,2,2,2,1,1,1,1,1,1,1,1,1,1,1,1,1,1,1,1,1,1,1,1,1,1]\n",
    "\n",
    "\n",
    "fig = plt.figure()\n",
    "# você pode usar este código:\n",
    "#friend_counts = Counter(num_friends)\n",
    "#xs = range(101) # largest value is 100\n",
    "#ys = [friend_counts[x] for x in xs] # height is just # of friends\n",
    "#plt.bar(xs, ys)\n",
    "\n",
    "# OU este:\n",
    "plt.hist(num_friends, bins=100, range=(0,max(num_friends)))\n",
    "\n",
    "plt.axis([0, max(num_friends), 0, 25])\n",
    "plt.title(\"Histograma da contagem de amigos\")\n",
    "plt.xlabel(\"# de amigos\")\n",
    "plt.ylabel(\"# de pessoas\")\n",
    "plt.show()\n",
    "fig.savefig('./img/Aula04/aula04-fig1.png')"
   ]
  },
  {
   "cell_type": "markdown",
   "metadata": {},
   "source": [
    "Infelizmente, este gráfico ainda é muito difícil de explicar em conversas informais. Então você pode começar a gerar algumas estatísticas. Provavelmente, a estatística mais simples é o número de pontos de dados:"
   ]
  },
  {
   "cell_type": "code",
   "execution_count": null,
   "metadata": {},
   "outputs": [],
   "source": [
    "num_points = len(num_friends)\n",
    "print(\"numero de pontos:\", num_points)"
   ]
  },
  {
   "cell_type": "markdown",
   "metadata": {},
   "source": [
    "Você provavelmente também está interessado no maior e menor valor:"
   ]
  },
  {
   "cell_type": "code",
   "execution_count": null,
   "metadata": {},
   "outputs": [],
   "source": [
    "largest_value = max(num_friends) \n",
    "smallest_value = min(num_friends)\n",
    "print(\"maximo: \", largest_value, \"\\nminimo: \", smallest_value)"
   ]
  },
  {
   "cell_type": "markdown",
   "metadata": {},
   "source": [
    "Esses são apenas casos especiais quando queremos saber os valores em posições específicas:"
   ]
  },
  {
   "cell_type": "code",
   "execution_count": null,
   "metadata": {},
   "outputs": [],
   "source": [
    "sorted_values = sorted(num_friends)\n",
    "smallest_value = sorted_values[0] \n",
    "second_smallest_value = sorted_values[1] \n",
    "second_largest_value = sorted_values[-2] \n",
    "print(\"menor valor: \", smallest_value)\n",
    "print(\"segundo menor valor: \", second_smallest_value)\n",
    "print(\"segundo maior valor: \", second_largest_value)"
   ]
  },
  {
   "cell_type": "markdown",
   "metadata": {},
   "source": [
    "# Tendências Centrais\n",
    "\n",
    "Normalmente, queremos saber onde nossos dados $x_1, x_2, ..., x_n$ estão centralizados. Normalmente, usamos a média $\\bar{x}$, que é apenas a soma dos dados dividida por sua contagem $n$:"
   ]
  },
  {
   "cell_type": "markdown",
   "metadata": {},
   "source": [
    "$${\\bar {x}}={\\frac {1}{n}}\\left(\\sum _{i=1}^{n}{x_{i}}\\right)={\\frac {x_{1}+x_{2}+\\cdots +x_{n}}{n}}$$ "
   ]
  },
  {
   "cell_type": "markdown",
   "metadata": {},
   "source": [
    "Um código simples para o cálculo da média seria:"
   ]
  },
  {
   "cell_type": "code",
   "execution_count": null,
   "metadata": {},
   "outputs": [],
   "source": [
    "def mean(x):\n",
    "    return sum(x) / len(x)\n",
    "\n",
    "print(\"media: \", mean(num_friends))\n",
    "# 7.333333"
   ]
  },
  {
   "cell_type": "markdown",
   "metadata": {},
   "source": [
    "Se você tiver dois pontos de dados (ou *data points*), a média é simplesmente o ponto intermediário entre eles. À medida que você adiciona mais pontos, a média muda, mas sempre depende do valor de cada ponto.\n",
    "\n",
    "Às vezes, também estaremos interessados na mediana, que é o valor intermediário (se o número de pontos de dados for ímpar) ou a média dos dois valores intermediários (se o número de pontos de dados for par).\n",
    "\n",
    "Por exemplo, se temos cinco pontos de dados em um vetor ordenado `x`, a mediana é `x[5 // 2]`  ou `x[2]`. Se tivermos seis pontos de dados, calculamos a média entre `x[2]` (o terceiro ponto) e `x[3]` (o quarto ponto).\n",
    "\n",
    "Observe que, ao contrário da média, a mediana não depende de todos os valores dos seus dados. Por exemplo, se você tornar o maior ponto maior (ou o menor ponto menor), os pontos do meio permanecem inalterados, o que significa que a mediana também.\n",
    "\n",
    "A função mediana é um pouco mais complicada do que você poderia esperar, principalmente por causa do caso \"par\":"
   ]
  },
  {
   "cell_type": "code",
   "execution_count": null,
   "metadata": {},
   "outputs": [],
   "source": [
    "def median(v):\n",
    "    \"\"\"encontra o valor mais intermediario de v\"\"\"\n",
    "    n = len(v)\n",
    "    sorted_v = sorted(v)\n",
    "    midpoint = n // 2 # // eh a divisao inteira\n",
    "    \n",
    "    if n % 2 == 1:\n",
    "        # se impar, retorna o valor do meio\n",
    "        return sorted_v[midpoint]\n",
    "    else:\n",
    "        # se par, retorna a media dos dois valores intermediarios\n",
    "        lo = midpoint - 1\n",
    "        hi = midpoint\n",
    "        return (sorted_v[lo] + sorted_v[hi]) / 2"
   ]
  },
  {
   "cell_type": "code",
   "execution_count": null,
   "metadata": {},
   "outputs": [],
   "source": [
    "def median_v2(v):\n",
    "    n = len(v)\n",
    "    sorted_v = sorted(v)\n",
    "    return (sorted_v[math.floor((n-1)/2)] + sorted_v[math.ceil((n-1)/2)])/2"
   ]
  },
  {
   "cell_type": "code",
   "execution_count": null,
   "metadata": {},
   "outputs": [],
   "source": [
    "a = [1, 2, 3, 4]\n",
    "b = [5, 6, 7, 8, 9]\n",
    "print(\"mediana de a = \", median(a))\n",
    "print(\"mediana de b = \", median(b))\n",
    "\n",
    "print(\"mediana da quantidade de amigos:\", median(num_friends))"
   ]
  },
  {
   "cell_type": "markdown",
   "metadata": {},
   "source": [
    "Claramente, a média é mais simples de calcular e varia suavemente conforme nossos dados são alterados. Se tivermos `n` pontos de dados e um deles aumentar em alguma quantidade pequena `e`, então necessariamente a média aumentará em `e/n`. (Isso torna a média passível de todo tipo de truque de cálculo.) No entanto, para encontrar a mediana, temos que ordenar nossos dados. E alterar um dos nossos pontos de dados em uma pequena quantidade `e` pode aumentar a mediana por `e`, por algum número menor que `e` ou não a modificar de qualquer forma (dependendo do resto dos dados).\n",
    "\n",
    "**Observação:** Existem, de fato, truques não óbvios para calcular eficientemente medianas sem ordenar os dados. No entanto, tais truques estão além do escopo deste curso, portanto, vamos ordernar os dados quando precisarmos calcular a mediana.\n",
    "\n",
    "Ao mesmo tempo, a média é muito sensível a valores discrepantes (*outliers*) em nossos dados. Se nosso usuário mais amigável tivesse 2000 amigos, a média subiria muito, enquanto a mediana permaneceria a mesma. Se os valores discrepantes forem, provavelmente, dados incorretos (ou, de outro modo, não representativos de qualquer fenômeno que estamos tentando entender), a média poderá, às vezes, nos fornecer uma imagem enganosa. Por exemplo, a história é frequentemente contada que em meados da década de 1980, a graduação da Universidade da Carolina do Norte com a maior média de salário inicial era a geografia. A razão disso? A estrela da NBA (e *outlier*) Michael Jordan formou-se em geografia."
   ]
  },
  {
   "cell_type": "markdown",
   "metadata": {},
   "source": [
    "Uma generalização da mediana é o quantil, que representa o menor valor maior que um certo percentual dos dados (A mediana representa o valor maior que 50% dos dados.)"
   ]
  },
  {
   "cell_type": "code",
   "execution_count": null,
   "metadata": {},
   "outputs": [],
   "source": [
    "def quantile(x, p):\n",
    "    \"\"\"retorna o pth-percentil em x\"\"\"\n",
    "    p_index = int(p * len(x))\n",
    "    return sorted(x)[p_index]\n",
    "\n",
    "\n",
    "print(\"quantil 10: \", quantile(num_friends,0.10))\n",
    "print(\"quantil 25: \", quantile(num_friends,0.25))\n",
    "print(\"quantil 75: \", quantile(num_friends,0.75))\n",
    "print(\"quantil 90: \", quantile(num_friends,0.90))"
   ]
  },
  {
   "cell_type": "markdown",
   "metadata": {},
   "source": [
    "Outra medida para tendência central dos dados é a moda, que é(são) o(s) valor(es) mais comum(ns):"
   ]
  },
  {
   "cell_type": "code",
   "execution_count": null,
   "metadata": {},
   "outputs": [],
   "source": [
    "def mode(x):\n",
    "    \"\"\"retorna uma lista, pois os dados podem ter mais de uma moda\"\"\"\n",
    "    counts = Counter(x)\n",
    "    max_count = max(counts.values())\n",
    "    return [x_i for x_i, count in counts.items() if count == max_count]"
   ]
  },
  {
   "cell_type": "code",
   "execution_count": null,
   "metadata": {},
   "outputs": [],
   "source": [
    "a = [1, 2, 3, 4, 2, 4 ]\n",
    "print(\"moda de a: \", mode(a))\n",
    "\n",
    "print(\"moda do numero de amigos: \", mode(num_friends))"
   ]
  },
  {
   "cell_type": "markdown",
   "metadata": {},
   "source": [
    "Quando usarmos esses descritores para descrever dados, devemos ter muito cuidado. Considere, por exemplo, dados que possuem uma \"cauda pesada\", como uma amostra da [distribuição de Pareto](https://en.wikipedia.org/wiki/Pareto_distribution):"
   ]
  },
  {
   "cell_type": "code",
   "execution_count": null,
   "metadata": {},
   "outputs": [],
   "source": [
    "import numpy as np\n",
    "a, m = 1, 5.  # shape and mode\n",
    "pareto_data = np.floor((np.random.pareto(a, 1000)+1) * m)"
   ]
  },
  {
   "cell_type": "markdown",
   "metadata": {},
   "source": [
    "Agora vamos plotar o histograma dos dados:"
   ]
  },
  {
   "cell_type": "code",
   "execution_count": null,
   "metadata": {
    "scrolled": true
   },
   "outputs": [],
   "source": [
    "minv = min(pareto_data)\n",
    "maxv = max(pareto_data)\n",
    "lenbins = 100\n",
    "logbins = np.logspace(np.log10(minv),np.log10(maxv),lenbins)\n",
    "hist, edges = np.histogram(\n",
    "    pareto_data,\n",
    "    bins=logbins)\n",
    "fig = plt.figure()\n",
    "plt.plot(edges[:-1], hist, 'bo')\n",
    "plt.xscale('log')\n",
    "plt.yscale('log')\n",
    "plt.xlabel('x')\n",
    "plt.ylabel('count')\n",
    "plt.savefig('./img/Aula04/aula04-fig2.png')\n",
    "plt.show()\n"
   ]
  },
  {
   "cell_type": "markdown",
   "metadata": {},
   "source": [
    "Observe que a grande maioria dos valores é menor que $10$, mas existe uma quantidade significativa de valores na casa das centenas e até dos milhares. \n",
    "\n",
    "Nesse caso, qual é o melhor descritor para esses dados?"
   ]
  },
  {
   "cell_type": "code",
   "execution_count": null,
   "metadata": {
    "scrolled": true
   },
   "outputs": [],
   "source": [
    "print(mean(pareto_data), median(pareto_data), max(pareto_data), mode(pareto_data))"
   ]
  },
  {
   "cell_type": "markdown",
   "metadata": {},
   "source": [
    "Ao que parece, todos eles são importantes."
   ]
  },
  {
   "cell_type": "markdown",
   "metadata": {},
   "source": [
    "## Dispersão\n",
    "\n",
    "Dispersão refere-se a medidas de como se espalham nossos dados. Normalmente, são estatísticas para as quais valores próximos de zero significam que os dados não se espalham de forma alguma e para as quais grandes valores (seja lá o que isso signifique) significam que os dados estão muito dispersos. Por exemplo, uma medida muito simples é o intervalo (ou *range*), que é apenas a diferença entre os elementos maiores e menores:"
   ]
  },
  {
   "cell_type": "code",
   "execution_count": null,
   "metadata": {},
   "outputs": [],
   "source": [
    "# \"range\" já significa algo em Python, então vamos usar outro nome\n",
    "def data_range(x):\n",
    "    return max(x) - min(x)"
   ]
  },
  {
   "cell_type": "code",
   "execution_count": null,
   "metadata": {},
   "outputs": [],
   "source": [
    "print(\"range: \", data_range(num_friends))"
   ]
  },
  {
   "cell_type": "markdown",
   "metadata": {},
   "source": [
    "O intervalo é zero precisamente quando `max` e `min` são iguais, o que só pode acontecer se os elementos de `x` forem todos iguais, o que significa que os dados são tão similares (ou não dispersos) quanto possível. Por outro lado, se o intervalo for grande, o `max` é muito maior que o `min` e os dados estão mais espalhados.\n",
    "\n",
    "Como a mediana, o intervalo não depende realmente de todo o conjunto de dados. Um conjunto de dados cujos pontos são todos 0 ou 100 tem o mesmo intervalo que um conjunto de dados cujos valores são 0, 100 e muitos 50s. Mas parece que o primeiro conjunto de dados \"deveria\" estar mais espalhado, certo?\n",
    "\n",
    "Uma medida mais complexa de dispersão é a variância $s^2$. Quando a variância da população é estimada usando $n$ amostras aleatórias $x_1, x_2, ..., x_n$ a fórmula seguinte é um estimador não enviesado:\n",
    "\n",
    "$$s^{2}={\\frac {1}{n-1}}\\sum _{{i=1}}^{n}\\left(x_{i}-\\overline {x}\\right)^{2}$$"
   ]
  },
  {
   "cell_type": "markdown",
   "metadata": {},
   "source": [
    "O código abaixo faz o mesmo:"
   ]
  },
  {
   "cell_type": "code",
   "execution_count": null,
   "metadata": {},
   "outputs": [],
   "source": [
    "import numpy as np\n",
    "\n",
    "def de_mean(x):\n",
    "    \"\"\"translada x subtraindo sua média (então o resultado tem média 0)\"\"\"\n",
    "    x_bar = mean(x)\n",
    "    return [x_i - x_bar for x_i in x]\n",
    "\n",
    "def variance(x):\n",
    "    \"\"\"assume que x tem pelo menos dois elementos\"\"\"\n",
    "    n = len(x)\n",
    "    deviations = de_mean(x)\n",
    "    deviations = np.array(deviations) #vamos usar numpy muito de agora em diante\n",
    "    return np.sum(deviations ** 2) / (n-1)\n",
    "    #voce pode usar a funcao que implementamos anteriormente:\n",
    "    #return sum_of_squares(deviations) / (n - 1)\n",
    "\n",
    "print(\"variancia: \", variance(num_friends))"
   ]
  },
  {
   "cell_type": "markdown",
   "metadata": {},
   "source": [
    "A primeira observação é o uso do módulo `numpy`. A partir de agora vamos usar muito esse módulo, que contém diversas operações sobre listas, que são implementadas de forma eficiente.\n",
    "\n",
    "Na aula passada, implementamos a função `sum_of_squares`. Para fazer a mesma coisa, e de forma mais rápida, podemos usar a função `sum` do `numpy` e o operador `**` para elevar todos os elementos de uma lista a uma dada potência, nesse caso, `2`. Note que antes de usar executar essas operações, é necessário converter a lista para um *array* do `numpy`.\n",
    "\n",
    "Segundo, parece que a variância é quase o desvio médio da média, exceto pelo fato de estarmos dividindo por `n-1` em vez de `n`. De fato, quando estamos lidando com uma amostra de uma população maior, $\\overline {x}$ é apenas uma estimativa da média real, o que significa que, em média $\\left(x_{i}-\\overline {x}\\right)^{2}$ é uma subestimativa do desvio ao quadrado de $x_i$ em relação à média. Por isso que nós dividimos por `n-1` ao invés de `n`. Para mais informações, consulte o [Wikipedia](https://en.wikipedia.org/wiki/Unbiased_estimation_of_standard_deviation).\n",
    "\n",
    "Agora, quaisquer que sejam as unidades em que nossos dados estão (por exemplo, \"# de amigos\"), todas as nossas medidas de tendência central estão nessa mesma unidade. O intervalo será similarmente nessa mesma unidade. A variância, por outro lado, tem unidades que são o quadrado das unidades originais (por exemplo, \" # de amigos ao quadrado\"). Como pode ser difícil entender essa medida, muitas vezes olhamos para o desvio padrão $s = \\sqrt{s^2}$:"
   ]
  },
  {
   "cell_type": "code",
   "execution_count": null,
   "metadata": {},
   "outputs": [],
   "source": [
    "import math\n",
    "\n",
    "def standard_deviation(x):\n",
    "    return math.sqrt(variance(x))\n",
    "\n",
    "print(\"desvio padrao: \", standard_deviation(num_friends))"
   ]
  },
  {
   "cell_type": "markdown",
   "metadata": {},
   "source": [
    "Tanto o intervalo quanto o desvio padrão têm o mesmo problema discrepante que vimos anteriormente para a média. Usando o mesmo exemplo, se nosso usuário mais amigável tivesse `2000` amigos, o desvio padrão seria muito maior somente por causa desse usuário. Uma alternativa mais robusta calcula a diferença entre o valor do 75º e do 25º percentil:"
   ]
  },
  {
   "cell_type": "code",
   "execution_count": null,
   "metadata": {},
   "outputs": [],
   "source": [
    "def interquartile_range(x):\n",
    "    return quantile(x, 0.75) - quantile(x, 0.25)\n",
    "\n",
    "print(\"intervalo interquartil:\", interquartile_range(num_friends))"
   ]
  },
  {
   "cell_type": "markdown",
   "metadata": {},
   "source": [
    "Essa medida é muito pouco afetada por *outliers*."
   ]
  },
  {
   "cell_type": "markdown",
   "metadata": {},
   "source": [
    "Medidas de dispersão para o número de amigos:"
   ]
  },
  {
   "cell_type": "code",
   "execution_count": null,
   "metadata": {},
   "outputs": [],
   "source": [
    "print(\"Dispersão para o número de amigos:\")\n",
    "print(\"Intervalo:\", data_range(num_friends))\n",
    "print(\"Variância:\", variance(num_friends))\n",
    "print(\"Desvio padrão:\", standard_deviation(num_friends))\n",
    "print(\"IQR:\", interquartile_range(num_friends))"
   ]
  },
  {
   "cell_type": "markdown",
   "metadata": {},
   "source": [
    "Medidas de dispersão para dados com \"cauda pesada\":"
   ]
  },
  {
   "cell_type": "code",
   "execution_count": null,
   "metadata": {},
   "outputs": [],
   "source": [
    "print(\"Dispersão de dados Pareto:\")\n",
    "print(\"Intervalo:\", data_range(pareto_data))\n",
    "print(\"Variância:\", variance(pareto_data))\n",
    "print(\"Desvio padrão:\", standard_deviation(pareto_data))\n",
    "print(\"IQR:\", interquartile_range(pareto_data))"
   ]
  },
  {
   "cell_type": "markdown",
   "metadata": {},
   "source": [
    "## Correlação\n",
    "\n",
    "O vice-presidente de crescimento da *DataSciencester* tem uma teoria de que a quantidade de tempo que as pessoas passam no site está relacionada ao número de amigos que eles têm no site (ela não é VP a toa) e pediu para você verificar isso.\n",
    "\n",
    "Depois de analisar os registros de tráfego, você criou uma lista `daily_minutes` que mostra quantos minutos por dia cada usuário gasta no *DataSciencester*, e você a organizou de forma que os seus elementos correspondam aos elementos de nossa lista anterior de `num_friends`. Gostaríamos de investigar a relação entre essas duas métricas.\n",
    "\n",
    "Primeiro, vamos criar uma lista `daily_minutes` e exibir a sua distribuição:"
   ]
  },
  {
   "cell_type": "code",
   "execution_count": null,
   "metadata": {},
   "outputs": [],
   "source": [
    "daily_minutes = [1,68.77,51.25,52.08,38.36,44.54,57.13,51.4,41.42,31.22,34.76,54.01,38.79,47.59,49.1,27.66,41.03,36.73,48.65,28.12,46.62,35.57,32.98,35,26.07,23.77,39.73,40.57,31.65,31.21,36.32,20.45,21.93,26.02,27.34,23.49,46.94,30.5,33.8,24.23,21.4,27.94,32.24,40.57,25.07,19.42,22.39,18.42,46.96,23.72,26.41,26.97,36.76,40.32,35.02,29.47,30.2,31,38.11,38.18,36.31,21.03,30.86,36.07,28.66,29.08,37.28,15.28,24.17,22.31,30.17,25.53,19.85,35.37,44.6,17.23,13.47,26.33,35.02,32.09,24.81,19.33,28.77,24.26,31.98,25.73,24.86,16.28,34.51,15.23,39.72,40.8,26.06,35.76,34.76,16.13,44.04,18.03,19.65,32.62,35.59,39.43,14.18,35.24,40.13,41.82,35.45,36.07,43.67,24.61,20.9,21.9,18.79,27.61,27.21,26.61,29.77,20.59,27.53,13.82,33.2,25,33.1,36.65,18.63,14.87,22.2,36.81,25.53,24.62,26.25,18.21,28.08,19.42,29.79,32.8,35.99,28.32,27.79,35.88,29.06,36.28,14.1,36.63,37.49,26.9,18.58,38.48,24.48,18.95,33.55,14.24,29.04,32.51,25.63,22.22,19,32.73,15.16,13.9,27.2,32.01,29.27,33,13.74,20.42,27.32,18.23,35.35,28.48,9.08,24.62,20.12,35.26,19.92,31.02,16.49,12.16,30.7,31.22,34.65,13.13,27.51,33.2,31.57,14.1,33.42,17.44,10.12,24.42,9.82,23.39,30.93,15.03,21.67,31.09,33.29,22.61,26.89,23.48,8.38,27.81,32.35,23.84]\n",
    "\n",
    "fig = plt.figure()\n",
    "plt.hist(daily_minutes, bins=100, range=(0,max(daily_minutes)))\n",
    "\n",
    "plt.title(\"Histograma do número de minutos diários\")\n",
    "plt.xlabel(\"minutos diários\")\n",
    "plt.ylabel(\"# de pessoas\")\n",
    "fig.savefig('./img/Aula04/aula04-fig3.png')\n",
    "plt.show()"
   ]
  },
  {
   "cell_type": "markdown",
   "metadata": {},
   "source": [
    "Primeiro analisaremos a covariância, o análogo pareado da variância. Enquanto a variância mede como uma única variável se desvia de sua média, a covariância mede como duas variáveis $X = \\{x_1, \\cdots, x_n\\}$ e $Y = \\{y_1, \\cdots, y_n\\}$  variam em conjunto a partir de suas médias $\\bar{x}$ e $\\bar{y}$:\n",
    "\n",
    "$$cov(X, Y) = \\frac{\\sum_{i=1}^{n}{(x_i - \\bar{x})(y_i - \\bar{y})}}{n-1},$$"
   ]
  },
  {
   "cell_type": "markdown",
   "metadata": {},
   "source": [
    "que pode ser calculada a partir do código abaixo:"
   ]
  },
  {
   "cell_type": "code",
   "execution_count": null,
   "metadata": {},
   "outputs": [],
   "source": [
    "def covariance(x, y):\n",
    "    n = len(x)\n",
    "    #vamos usar o dot implementado do numpy novamente:\n",
    "    return np.dot(de_mean(x), de_mean(y)) / (n - 1)\n",
    "\n",
    "print(\"covariancia entre # de amigos e minutos diarios: \", covariance(num_friends, daily_minutes))"
   ]
  },
  {
   "cell_type": "markdown",
   "metadata": {},
   "source": [
    "Lembre-se de que o produto escalar (`dot`) soma os produtos dos pares correspondentes de elementos. Quando os elementos correspondentes de `x` e `y` estão ambos acima de suas médias ou ambos abaixo de suas médias, um número positivo entra na soma. Quando um está acima de sua média e o outro abaixo, um número negativo entra na soma. Assim, uma covariância positiva “grande” significa que `x` tende a ser grande quando `y` é grande, e pequeno quando `y` é pequeno. Uma covariância negativa “grande” significa o oposto - que `x` tende a ser pequeno quando `y` é grande e vice-versa. Uma covariância próxima de zero significa que não existe tal relação.\n",
    "\n",
    "No entanto, este número pode ser difícil de interpretar por duas razões principais:\n",
    "\n",
    "* Suas unidades são o produto das unidades das entradas (por exemplo, #-de-amigos-minutos-por-dia), o que pode ser difícil de entender. (O que é um \"#-de-amigos-minutos-por-dia\"?)\n",
    "* Se cada usuário tivesse o dobro de amigos (mas o mesmo número de minutos), a covariância seria duas vezes maior. Mas, em certo sentido, as variáveis seriam inter-relacionadas da mesma maneira. Dito de uma forma diferente, é difícil dizer o que conta como sendo uma covariância \"grande\".\n",
    "\n",
    "Por esse motivo, é mais comum observar a [correlação de Pearson](https://pt.wikipedia.org/wiki/Coeficiente_de_correla%C3%A7%C3%A3o_de_Pearson), que divide a covariância pelos desvios padrões de ambas as variáveis:\n",
    "\n",
    "$$r(X,Y) = \\frac{cov(X,Y)}{s(X)~s(Y)},$$\n",
    "\n",
    "que pode ser calculado pelo código abaixo:"
   ]
  },
  {
   "cell_type": "code",
   "execution_count": null,
   "metadata": {},
   "outputs": [],
   "source": [
    "def correlation(x, y):\n",
    "    stdev_x = standard_deviation(x)\n",
    "    stdev_y = standard_deviation(y)\n",
    "    if stdev_x > 0 and stdev_y > 0:\n",
    "        return covariance(x, y) / stdev_x / stdev_y\n",
    "    else:\n",
    "        return 0 # se não há variação, correlação é zero\n",
    "\n",
    "\n",
    "print(\"correlacao: \", correlation(num_friends, daily_minutes))"
   ]
  },
  {
   "cell_type": "markdown",
   "metadata": {},
   "source": [
    "A correlação não tem unidade e está sempre entre -1 (perfeita anti-correlação) e 1 (correlação perfeita). Um número como 0,25 representa uma correlação positiva relativamente fraca.\n",
    "\n",
    "No entanto, uma coisa que negligenciamos foi examinar nossos dados:"
   ]
  },
  {
   "cell_type": "code",
   "execution_count": null,
   "metadata": {
    "scrolled": false
   },
   "outputs": [],
   "source": [
    "fig = plt.figure()\n",
    "plt.scatter(num_friends, daily_minutes)\n",
    "plt.title(\"Correlação com um outlier\")\n",
    "plt.xlabel(\"# de amigos\")\n",
    "plt.ylabel(\"minutos diários\")\n",
    "fig.savefig('./img/Aula04/aula04-fig4.png')\n",
    "plt.show()"
   ]
  },
  {
   "cell_type": "markdown",
   "metadata": {},
   "source": [
    "A pessoa com 100 amigos (que gasta apenas um minuto por dia no site) é um enorme outlier, e a correlação pode ser muito sensível a outliers. O que acontece se nós o ignorarmos?"
   ]
  },
  {
   "cell_type": "code",
   "execution_count": null,
   "metadata": {},
   "outputs": [],
   "source": [
    "outlier = num_friends.index(100) # index of outlier\n",
    "\n",
    "num_friends_good = [x\n",
    "                    for i, x in enumerate(num_friends)\n",
    "                    if i != outlier]\n",
    "\n",
    "daily_minutes_good = [x\n",
    "                      for i, x in enumerate(daily_minutes)\n",
    "                      if i != outlier]\n",
    "\n",
    "correlation(num_friends_good, daily_minutes_good)"
   ]
  },
  {
   "cell_type": "markdown",
   "metadata": {},
   "source": [
    "Sem o outlier, há uma correlação muito mais forte:"
   ]
  },
  {
   "cell_type": "code",
   "execution_count": null,
   "metadata": {
    "scrolled": true
   },
   "outputs": [],
   "source": [
    "fig = plt.figure()\n",
    "plt.scatter(num_friends_good, daily_minutes_good)\n",
    "plt.title(\"Correlação depois de remover o outlier\")\n",
    "plt.xlabel(\"# de amigos\")\n",
    "plt.ylabel(\"minutos diários\")\n",
    "fig.savefig('./img/Aula04/aula04-fig5.png')\n",
    "plt.show()"
   ]
  },
  {
   "cell_type": "markdown",
   "metadata": {},
   "source": [
    "Você investiga mais e descobre que o outlier era na verdade uma conta de teste interna que ninguém se incomodou em remover. Então você se sente justificado em excluí-lo."
   ]
  },
  {
   "cell_type": "markdown",
   "metadata": {},
   "source": [
    "Além do número de amigos e dos minutos diários de cada usuário, outra informação importante diz respeito ao número de mensagens postadas por usuários. A fim de verificar se o número de mensagens está associado ao número de amigos e aos minutos diários, você coletou o número de mensagens postadas nos últimos 30 dias pelos usuários da sua amostra (sem o *outlier*):"
   ]
  },
  {
   "cell_type": "code",
   "execution_count": null,
   "metadata": {},
   "outputs": [],
   "source": [
    "num_messages = [3114, 6667, 19019, 559, 788, 757, 78916, 136, 429, 16, 1266, 3661, 307, 148, 24, 181, 23, 386, 11, 1582, 390, 76, 32, 11, 97, 87, 24, 93, 33, 1830, 21, 4, 3, 571, 62, 110, 11, 148, 25, 13, 103, 12, 315, 102, 16, 11, 3, 203, 28, 29, 14, 51, 88, 1149, 24, 54, 2, 113, 106, 105, 64, 94, 33, 5, 119, 15, 15, 49, 10, 58, 3, 10, 138, 115, 9, 2, 21, 162, 28, 11, 7, 777, 10, 95, 17, 118, 11, 24, 13, 12, 282, 98, 21, 9, 5, 793, 11, 10, 8, 182, 191, 10, 85, 32, 70, 31, 34, 157, 85, 7, 15, 1, 4, 24, 33, 86, 5, 30, 2, 32, 88, 3, 1705, 15, 7, 53, 34, 23, 17, 20, 6, 86, 8, 24, 15, 88, 10, 47, 20, 4, 36, 2, 29, 17, 23, 12, 44, 31, 6, 4, 2, 37, 20, 68, 3, 24, 59, 3, 3, 11, 43, 165, 9, 2, 2, 349, 4, 7, 11, 1, 5, 9, 61, 3, 28, 4, 6, 323, 9, 3, 11, 31, 58, 23, 2, 31, 6, 3, 7, 1, 5, 17, 2, 18, 10, 35, 2, 15, 15, 1, 41, 152, 26]"
   ]
  },
  {
   "cell_type": "markdown",
   "metadata": {},
   "source": [
    "Primeiro, verificamos se há uma associação visual entre esse atributo e os demais:"
   ]
  },
  {
   "cell_type": "code",
   "execution_count": null,
   "metadata": {
    "scrolled": true
   },
   "outputs": [],
   "source": [
    "fig, ax = plt.subplots(1,2)\n",
    "plt.tight_layout()\n",
    "ax[0].plot(num_friends_good, num_messages, 'bo')\n",
    "ax[0].set(xlabel='# of friends', ylabel='# of messages')\n",
    "ax[1].plot(daily_minutes_good, num_messages, 'bo')\n",
    "ax[1].set(xlabel='daily minutes')\n",
    "plt.show()\n",
    "fig.savefig('./img/Aula04/aula04-fig6.png', bbox_inches='tight')"
   ]
  },
  {
   "cell_type": "markdown",
   "metadata": {},
   "source": [
    "Note que visualmente há uma correlação muito baixa entre as duas medidas. No entanto, observe que a escala do eixo `y` é muito maior que do eixo `x`. Visualmente, é impossível diferenciar valores de número de mensagens para a maioria dos usuários. Assim, uma boa prática é transformar a escala do eixo `y` para a escala logarítmica, que revela de forma mais precisa a diferença entre valores que ultrapassam diversas ordens de grandeza:"
   ]
  },
  {
   "cell_type": "code",
   "execution_count": null,
   "metadata": {
    "scrolled": true
   },
   "outputs": [],
   "source": [
    "fig, ax = plt.subplots(1,2)\n",
    "plt.tight_layout()\n",
    "ax[0].plot(num_friends_good, num_messages, 'bo')\n",
    "ax[0].set(xlabel='# of friends', ylabel='# of messages', yscale='log')\n",
    "ax[1].plot(daily_minutes_good, num_messages, 'bo')\n",
    "ax[1].set(xlabel='daily minutes',yscale='log')\n",
    "fig.savefig('./img/Aula04/aula04-fig7.png', bbox_inches='tight')\n",
    "plt.show()"
   ]
  },
  {
   "cell_type": "markdown",
   "metadata": {},
   "source": [
    "Note que além de podermos diferenciar os valores visualmente com mais precisão, as correlações ficam bem mais nítidas. Vamos conferir isso quantitativamente:"
   ]
  },
  {
   "cell_type": "code",
   "execution_count": null,
   "metadata": {},
   "outputs": [],
   "source": [
    "print(\"correlação linear:\")\n",
    "print(\"# friends vs. # messages: \", correlation(num_friends_good, num_messages))\n",
    "print(\"# daily minutes vs. # messages: \", correlation(daily_minutes_good, num_messages))\n",
    "\n",
    "print()\n",
    "print(\"correlação com o log:\")\n",
    "print(\"# friends vs. log(# messages): \", correlation(num_friends_good, np.log(num_messages)))\n",
    "print(\"# daily minutes vs. log(# messages): \", correlation(daily_minutes_good, np.log(num_messages)))\n"
   ]
  },
  {
   "cell_type": "markdown",
   "metadata": {},
   "source": [
    "Se você não sabe como transformar os dados a fim de identificar associações entre as variáveis (ou se elas são provavelmente muito complicadas para você fazer), você pode usar um coeficiente de correlação de posto (*rank correlation coefficient*). \n",
    "\n",
    "O [coeficiente de correlação de *Spearman*](https://pt.wikipedia.org/wiki/Coeficiente_de_correla%C3%A7%C3%A3o_de_postos_de_Spearman) $\\rho$ é definido como o coeficiente de correlação de Pearson para os postos das variáveis. Para uma amostra de tamanho $n$, os valores originais $X_{i},Y_{i}$ das variáveis $X$ e $Y$ são convertidos em postos (*ranks*) $\\operatorname {rg} X_{i},\\operatorname {rg} Y_{i}$, sendo $\\rho$ calculado como:\n",
    "\n",
    "$$\\rho = r({\\operatorname {rg} _{X},\\operatorname {rg} _{Y}})={\\frac {\\operatorname {cov} (\\operatorname {rg} _{X},\\operatorname {rg} _{Y})}{\\sigma _{\\operatorname {rg} _{X}}\\sigma _{\\operatorname {rg} _{Y}}}}$$\n",
    "\n",
    "em que\n",
    "\n",
    "$r(.)$  denota o coeficiente de correlação de Pearson usual, mas calculado sobre os postos das variáveis;\n",
    "\n",
    "$\\operatorname {cov} (\\operatorname {rg} _{X},\\operatorname {rg} _{Y})$ são as covariâncias dos postos das variáveis;\n",
    "\n",
    "$\\sigma _{\\operatorname {rg} _{X}}$ and $\\sigma _{\\operatorname {rg} _{Y}}$ são os desvios padrões dos postos das variáveis."
   ]
  },
  {
   "cell_type": "markdown",
   "metadata": {},
   "source": [
    "Dessa forma, primeiro precisamos computar, para uma lista de valores, os seus respectivos postos. Nesse cálculo, quando houver empate, o posto médio é atribuído a todos os valores que empataram."
   ]
  },
  {
   "cell_type": "code",
   "execution_count": null,
   "metadata": {},
   "outputs": [],
   "source": [
    "from collections import Counter\n",
    "def rank_data(vector):\n",
    "    count = Counter(vector)\n",
    "    a={}\n",
    "    rank=1\n",
    "    for num in sorted(vector):\n",
    "        if num not in a:\n",
    "            a[num]=sum(range(rank,rank+count[num]))/count[num]\n",
    "            rank+=count[num]\n",
    "    return[a[i] for i in vector]"
   ]
  },
  {
   "cell_type": "code",
   "execution_count": null,
   "metadata": {
    "scrolled": true
   },
   "outputs": [],
   "source": [
    "print(rank_data([7, 2, 3, 3, 3, 1, 5]))"
   ]
  },
  {
   "cell_type": "markdown",
   "metadata": {},
   "source": [
    "Feito isso, é fácil construir a função que retorna o coeficiente de correlação de Spearman entre duas listas:"
   ]
  },
  {
   "cell_type": "code",
   "execution_count": null,
   "metadata": {},
   "outputs": [],
   "source": [
    "def spearman(x, y):\n",
    "    \n",
    "    xr = rank_data(x)\n",
    "    yr = rank_data(y)\n",
    "    return correlation(xr, yr)"
   ]
  },
  {
   "cell_type": "markdown",
   "metadata": {},
   "source": [
    "Observe que a correlação de Spearman é maior entre o número de mensagens e as outras variáveis, e mais próxima da correlação entre o logaritmo do número de mensagens e as outras variáveis, que a correlação de Pearson:"
   ]
  },
  {
   "cell_type": "code",
   "execution_count": null,
   "metadata": {},
   "outputs": [],
   "source": [
    "print(\"correlacao: \", spearman(num_friends_good, daily_minutes_good))\n",
    "print(\"correlacao: \", spearman(num_messages, daily_minutes_good))\n",
    "print(\"correlacao: \", spearman(num_messages, num_friends_good))"
   ]
  },
  {
   "cell_type": "markdown",
   "metadata": {},
   "source": [
    "## Paradoxo de Simpson\n",
    "\n",
    "Uma surpresa não incomum ao analisar dados é o Paradoxo de Simpson, no qual as correlações podem ser enganosas (ou *misleading*) quando variáveis confusas (ou *confounding variables*) são ignoradas.\n",
    "\n",
    "Por exemplo, imagine que você pode identificar todos os membros  do *DataSciencester* como cientistas de dados da Costa Leste ou cientistas de dados da Costa Oeste. Você decide examinar quais cientistas de dados são mais amigáveis:\n",
    "\n",
    "\n",
    "|Costa|# de membros|# médio de amigos|\n",
    "| :-: | :-: | :-: |\n",
    "|Oeste|101|8.2|\n",
    "|Leste|103|6.5|\n",
    "\n",
    "Certamente parece que os cientistas de dados da Costa Oeste são mais amigáveis do que os cientistas de dados da Costa Leste. Seus colegas de trabalho avançam todos os tipos de teorias sobre por que isso pode ser: talvez seja o sol, ou o café, ou os produtos orgânicos, ou a vibração descontraída do Pacífico?\n",
    "\n",
    "Ao brincar com os dados, você descobre algo muito estranho. Se você olhar apenas para pessoas com PhDs, os cientistas de dados da Costa Leste têm mais amigos, em média. E se você olhar apenas para pessoas sem PhDs, os cientistas de dados da Costa Leste também têm mais amigos em média!\n",
    "\n",
    "\n",
    "|Costa|PhD?|# de membros|# médio de amigos|\n",
    "| :-: | :-: | :-: | :-: |\n",
    "|Oeste|Sim|35|3.1|\n",
    "|Leste|Sim|70|3.2|\n",
    "|Oeste|Não|66|10.9|\n",
    "|Leste|Não|33|13.4|\n",
    "\n",
    "Depois de contabilizar se os usuários tem PhDs ou não, a correlação vai na direção oposta! Separar os dados somente entre Costa Leste e Costa Oeste escondeu o fato de que há muito mais cientistas de dados na Costa Leste com PhD (proporcionalmente) que na Costa Oeste.\n",
    "\n",
    "Esse fenômeno surge no mundo real com alguma regularidade. A questão-chave é que a correlação está medindo a relação entre suas duas variáveis **sendo tudo o mais igual**. Se suas classes de dados são atribuídas aleatoriamente, como elas podem ser em um experimento bem projetado, \"tudo o mais sendo igual\" pode não ser uma suposição terrível. Mas quando há um padrão mais profundo para atribuições de classe, \"tudo o mais sendo igual\" pode ser uma suposição terrível. Nesse exemplo, se a proporção de cientistas de dados com PhD fosse igual na Costa Leste e Costa Oeste, então \"ter PhD\" deixaria de ser um fator de confusão para a variável \"número médio de amigos\".\n",
    "\n",
    "Assim, a única maneira real de evitar fatores de confusão é conhecer seus dados e fazer o que puder para garantir que você tenha verificado tais fatores. Obviamente, isso nem sempre é possível. Se você não tivesse nos seus dados o nível educacional desses 200 cientistas de dados, você poderia simplesmente concluir que havia algo inerentemente mais sociável na Costa Oeste."
   ]
  },
  {
   "cell_type": "markdown",
   "metadata": {},
   "source": [
    "O Paradoxo de Simpson também pode ser observado na taxa de sobrevivência do [naufrágio do RMS Titanic](https://en.wikipedia.org/wiki/RMS_Titanic). Havia uma estimativa de 2.224 passageiros e tripulantes a bordo, e mais de 1.500 morreram, tornando-se um dos mais mortais desastres marítimos comerciais em tempos de paz da história moderna. Dados sobre os passageiros podem ser baixados [aqui](https://ww2.amstat.org/publications/jse/v3n3/datasets.dawson.html). Este conjunto de dados foi processado por mim e transformado em um arquivo [csv](https://www.dropbox.com/s/vk8jf0wyczqxkvv/survival_titanic.csv?dl=0), que é muito mais fácil de tratar que um arquivo texto. Informações sobre ele podem ser lidas [aqui](https://www.dropbox.com/s/xpjw74khyqx9ww4/survival_titanic.README.txt?dl=0). \n",
    "\n",
    "Embora muitas outras informações existam sobre os passageiros, aqui vamos trabalhar com apenas quatro:\n",
    "\n",
    "1) Se o passageiro sobreviveu;\n",
    "2) A classe do seu bilhete (primeira, segunda ou terceira) ou se ele era membro da tripulação;\n",
    "3) O sexo do passageiro;\n",
    "4) E se ele era um adulto ou uma criança.\n",
    "\n",
    "Primeiro, vamos carregar os dados:"
   ]
  },
  {
   "cell_type": "code",
   "execution_count": null,
   "metadata": {
    "scrolled": true
   },
   "outputs": [],
   "source": [
    "import pandas as pd\n",
    "df = pd.read_csv('./data/titanic/survival_titanic.csv')\n",
    "df"
   ]
  },
  {
   "cell_type": "markdown",
   "metadata": {},
   "source": [
    "Se você leu o arquivo explicativo, viu que os dados estão organizados da seguinte maneira:\n",
    "\n",
    "|Coluna|Descrição|Valores|\n",
    "| :-: | :-: | :-: |\n",
    "|0|Classe| 0 = tripulação, 1 = primeira, 2 = segunda, 3 = terceira|\n",
    "|1|Idade|1 = adulto, 0 = criança|\n",
    "|2|Sexo|1 = masculino, 0 = feminino|\n",
    "|3|Sobreviveu?|1 = sim, 0 = não|"
   ]
  },
  {
   "cell_type": "markdown",
   "metadata": {},
   "source": [
    "Agora, vamos passar os dados do `DataFrame` do módulo `pandas` para uma tabela `numpy`, que permite que você faça tudo que faz com uma lista de listas (que vimos na aula passada) e mais um bocado de coisas:"
   ]
  },
  {
   "cell_type": "code",
   "execution_count": null,
   "metadata": {},
   "outputs": [],
   "source": [
    "X = df.values\n",
    "print(\"primeiro passageiro: \", X[0])"
   ]
  },
  {
   "cell_type": "markdown",
   "metadata": {},
   "source": [
    "Primeiro, vamos verificar qual classe possui uma taxa de sobrevivência maior:"
   ]
  },
  {
   "cell_type": "code",
   "execution_count": null,
   "metadata": {
    "scrolled": true
   },
   "outputs": [],
   "source": [
    "def survivalRatePerClass(X, classe):\n",
    "    X_C = [p for p in X if p[0] == classe]\n",
    "    return sum(p[3] for p in X_C)/len(X_C)\n",
    "\n",
    "for i in range(4):\n",
    "    print(\"Class\", i, \":\", survivalRatePerClass(X,i))"
   ]
  },
  {
   "cell_type": "markdown",
   "metadata": {},
   "source": [
    "Aparentemente, a classe dos tripulantes (classe 0) é aquela com menor taxa de sobrevivência. Para verificar se o Paradoxo de Simpson ocorre, vamos quebrar a análise pelas outras duas colunas, que possuem os mesmos valores possíveis (0 ou 1):"
   ]
  },
  {
   "cell_type": "code",
   "execution_count": null,
   "metadata": {},
   "outputs": [],
   "source": [
    "def survivalRatePerClassAndColumn(X, classe, coluna):\n",
    "    X_C0 = [p for p in X if p[0] == classe and p[coluna]==0]\n",
    "    X_C1 = [p for p in X if p[0] == classe and p[coluna]==1]\n",
    "    sur_0, sur_1 = (None,None)\n",
    "    if(X_C0):\n",
    "        sur_0 = sum(p[3] for p in X_C0)/len(X_C0)\n",
    "    if(X_C1):\n",
    "        sur_1 = sum(p[3] for p in X_C1)/len(X_C1)\n",
    "    return sur_0, sur_1"
   ]
  },
  {
   "cell_type": "markdown",
   "metadata": {},
   "source": [
    "Primeiro, vamos quebrar pela idade:"
   ]
  },
  {
   "cell_type": "code",
   "execution_count": null,
   "metadata": {},
   "outputs": [],
   "source": [
    "print(\"\\tCriança\\t\\tAdulto\")\n",
    "for i in range(4):\n",
    "    print(\"Class\", i, \":\", survivalRatePerClassAndColumn(X,i,1))"
   ]
  },
  {
   "cell_type": "markdown",
   "metadata": {},
   "source": [
    "A única coisa que podemos ver aqui é que a taxa de sobrevivência de crianças é significativamente maior. Talvez se tivéssemos uma quantidade significativa de crianças, poderíamos observar o Paradoxo de Simpson.\n",
    "\n",
    "Vamos agora quebrar por sexo:"
   ]
  },
  {
   "cell_type": "code",
   "execution_count": null,
   "metadata": {
    "scrolled": true
   },
   "outputs": [],
   "source": [
    "print(\"\\t\\tMulher\\t\\tHomem\")\n",
    "for i in range(4):\n",
    "    print(\"Class\", i, \":\", survivalRatePerClassAndColumn(X,i,2))"
   ]
  },
  {
   "cell_type": "markdown",
   "metadata": {},
   "source": [
    "Quebrando a análise por sexo, podemos ver também que a taxa de sobrevivência de mulheres foi significativamente maior que a taxa de sobrevivência de homens. Além disso, por haver muito mais mulheres na terceira classe que na tripulação, isso mascarou o primeiro resultado, que indicava que membros da tripulação sobreviveram menos que os membros da terceira classe. Podemos ver agora que os membros da tripulação sobreviveram mais que os membros da terceira classe, o que configura o Paradoxo de Simpson."
   ]
  },
  {
   "cell_type": "markdown",
   "metadata": {},
   "source": [
    "## Algumas Outras Advertências Correlacionais\n",
    "\n",
    "Uma correlação de zero indica que não há relação linear entre as duas variáveis. No entanto, outros tipos de relacionamentos podem existir. Por exemplo, se:\n",
    "\n",
    "`x = [-2, -1, 0, 1, 2]`\n",
    "\n",
    "`y = [ 2, 1, 0, 1, 2]`\n",
    "\n",
    "então `x` e `y` têm correlação zero. Mas eles certamente têm um relacionamento - cada elemento de `y` é igual ao valor absoluto do elemento correspondente de `x`. O que eles não têm é um relacionamento em que saber como `x_i` se compara à média de `x` (`mean(x)`) nos fornece informações sobre como `y_i` se compara à média de `y` (`mean(y)`). Esse é o tipo de relacionamento que a correlação procura.\n",
    "\n",
    "Além disso, a correlação não informa nada sobre o tamanho do relacionamento. As variáveis:\n",
    "\n",
    "`x = [-2, 1, 0, 1, 2]`\n",
    "\n",
    "`y = [99.98, 99.99, 100, 100.01, 100.02]`\n",
    "\n",
    "são perfeitamente correlacionados, mas (dependendo do que você está medindo) é bem possível que esse relacionamento não seja tão interessante."
   ]
  },
  {
   "cell_type": "markdown",
   "metadata": {},
   "source": [
    "## Correlação e Causalidade\n",
    "\n",
    "Você provavelmente já ouviu, em algum momento, que \"correlação não é causalidade\", provavelmente por alguém que olha dados que representam um desafio para partes de sua visão de mundo que ele estava relutante em questionar. No entanto, este é um ponto importante - se `x` e `y` estão fortemente correlacionados, isso pode significar que `x` causa `y`, `y` causa `x`, que cada um causa o outro, que algum terceiro fator causa ambos, ou pode não significar nada.\n",
    "\n",
    "Considere a relação entre `numero_amigos` e `minutos_diarios`. É possível que ter mais amigos no site faça com que os usuários do *DataSciencester* passem mais tempo no site. Este pode ser o caso se cada amigo publicar uma certa quantidade de conteúdo por dia, o que significa que quanto mais amigos você tiver, mais tempo levará para se manter atualizado a respeito das publicações deles.\n",
    "\n",
    "No entanto, também é possível que quanto mais tempo você gasta discutindo nos fóruns do *DataSciencester*, mais você encontra e faz amizade com pessoas que pensam como você. Ou seja, passar mais tempo no site faz com que os usuários tenham mais amigos.\n",
    "\n",
    "Uma terceira possibilidade é que os usuários mais apaixonados por ciência dos dados passem mais tempo no site (porque acham isso a coisa mais interessante do dia) e façam mais ativamente amigos que gostam de ciência de dados (porque não querem se associar a ninguém mais).\n",
    "\n",
    "Uma maneira de se sentir mais confiante sobre a causalidade é conduzir estudos randomizados. Se você puder dividir seus usuários aleatoriamente em dois grupos com dados demográficos semelhantes e dar a um dos grupos uma experiência levemente diferente, então você poderá muitas vezes dizer que essa leve experiência está causando os diferentes resultados.\n",
    "\n",
    "Por exemplo, se você não se importa em ser acusado de fazer experiências com seus usuários, você pode escolher aleatoriamente um subconjunto de usuários e mostrar a eles apenas uma fração de seus amigos. Se esse subconjunto subsequentemente passou menos tempo no site, isso lhe daria alguma confiança de que ter mais amigos causa mais tempo no site."
   ]
  },
  {
   "cell_type": "markdown",
   "metadata": {},
   "source": [
    "## Para explorações futuras\n",
    "\n",
    "* [`SciPy`](https://www.scipy.org/), [`pandas`](https://pandas.pydata.org/) e [`StatsModels`](https://www.statsmodels.org/stable/index.html) vêm com uma ampla variedade de funções estatísticas.\n",
    "\n",
    "* Estatísticas são *importantes*. (Ou talvez as estatísticas *sejam* importantes?) Se você quer ser um bom cientista de dados, seria uma boa idéia ler um livro de estatísticas. Muitos estão disponíveis gratuitamente online. Dois exemplos:\n",
    " - [*OpenIntro Statistics*](https://www.openintro.org/stat/textbook.php)\n",
    " - [*OpenStax Introductory Statistics*](https://openstax.org/details/introductory-statistics)"
   ]
  }
 ],
 "metadata": {
  "kernelspec": {
   "display_name": "Python 3",
   "language": "python",
   "name": "python3"
  },
  "language_info": {
   "codemirror_mode": {
    "name": "ipython",
    "version": 3
   },
   "file_extension": ".py",
   "mimetype": "text/x-python",
   "name": "python",
   "nbconvert_exporter": "python",
   "pygments_lexer": "ipython3",
   "version": "3.6.8"
  }
 },
 "nbformat": 4,
 "nbformat_minor": 2
}
