{
 "cells": [
  {
   "cell_type": "markdown",
   "metadata": {},
   "source": [
    "O que faremos com todas essas estatísticas e teoria das probabilidades? A parte científica da ciência de dados frequentemente envolve a formação e teste de hipóteses sobre nossos dados e os processos que os geram.\n",
    "\n",
    "# Testes estatísticos de hipóteses\n",
    "\n",
    "Muitas vezes, como cientistas de dados, queremos testar se uma certa hipótese provavelmente será verdadeira. Para nossos propósitos, hipóteses são afirmações como \"esta moeda é justa\" ou \"cientistas de dados preferem Python a R\" ou \"as pessoas tendem a navegar para fora da página sem nunca ler o conteúdo se aparecer um anúncio intersticial irritante com um botão de fechar minúsculo e difícil de encontrar\" que podem ser traduzidas em estatísticas sobre dados. Sob várias suposições, essas estatísticas podem ser consideradas como observações de variáveis aleatórias de distribuições conhecidas, o que nos permite fazer afirmações sobre a probabilidade dessas suposições serem mantidas.\n",
    "\n",
    "Na configuração clássica, temos uma hipótese nula $H_0$ que representa alguma posição padrão e alguma hipótese alternativa $H_1$ com a qual gostaríamos de compará-la. Usamos estatísticas para decidir se podemos rejeitar $H_0$ como falsa ou não. Isso provavelmente fará mais sentido com um exemplo.\n",
    "\n",
    "## Exemplo: lançando uma moeda\n",
    "\n",
    "Imagine que temos uma moeda e queremos testar se ela é justa. Vamos supor que a moeda tem alguma probabilidade $p$ de dar \"cara\" e, portanto, nossa hipótese nula é que a moeda é justa - isto é, que $p = 0.5$. Vamos testar isso contra a hipótese alternativa $p \\neq 0.5$.\n",
    "\n",
    "Em particular, nosso teste envolverá lançar a moeda um número $n$ de vezes e contar o número de caras $X$. Cada lançamento de moeda é um teste de Bernoulli, o que significa que $X$ é uma variável aleatória Binomial($n, p$) que, como vimos, pode ser aproximada usando a distribuição normal:"
   ]
  },
  {
   "cell_type": "code",
   "execution_count": 1,
   "metadata": {},
   "outputs": [],
   "source": [
    "import math\n",
    "\n",
    "def normal_approximation_to_binomial(n, p):\n",
    "    \"\"\"finds mu and sigma corresponding to a Binomial(n, p)\"\"\"\n",
    "    mu = p * n\n",
    "    sigma = math.sqrt(p * (1 - p) * n)\n",
    "    return mu, sigma"
   ]
  },
  {
   "cell_type": "markdown",
   "metadata": {},
   "source": [
    "Com essa função, podemos calcular rapidamente os parâmetros da aproximação normal a partir dos parâmetros $n$ e $p$ da distribuição binomial. \n",
    "\n",
    "Considere, por exemplo, que a moeda vai ser jogada 1000 vezes e que a moeda é justa, ou seja, $p=0.5$:"
   ]
  },
  {
   "cell_type": "code",
   "execution_count": 2,
   "metadata": {},
   "outputs": [
    {
     "name": "stdout",
     "output_type": "stream",
     "text": [
      "500.0 15.811388300841896\n"
     ]
    }
   ],
   "source": [
    "mu_0, sigma_0 = normal_approximation_to_binomial(1000, 0.5)\n",
    "print(mu_0, sigma_0)"
   ]
  },
  {
   "cell_type": "markdown",
   "metadata": {},
   "source": [
    "Podemos agora plotar as funções __PDF__ e __CDF__ da distribuição normal dos parâmetros `mu` e `sigma` acima calculados. Para isso, podemos usar as funções que implementamos na aula anterior ou então aquelas disponíveis no módulo [`scipy.stats.norm`](https://docs.scipy.org/doc/scipy/reference/generated/scipy.stats.norm.html). "
   ]
  },
  {
   "cell_type": "code",
   "execution_count": 3,
   "metadata": {},
   "outputs": [],
   "source": [
    "from scipy.stats import norm\n",
    "from matplotlib import pyplot as plt"
   ]
  },
  {
   "cell_type": "code",
   "execution_count": 4,
   "metadata": {},
   "outputs": [],
   "source": [
    "matplotlib inline"
   ]
  },
  {
   "cell_type": "markdown",
   "metadata": {},
   "source": [
    "Como a média é $1000 \\times 0.5 = 500$, vamos definir nosso domínio ao redor desse valor:"
   ]
  },
  {
   "cell_type": "code",
   "execution_count": 5,
   "metadata": {},
   "outputs": [],
   "source": [
    "xs = [x / 1.0 for x in range(400, 600)]"
   ]
  },
  {
   "cell_type": "markdown",
   "metadata": {},
   "source": [
    "Primeiro, vamos plotar a funçao __PDF__ a partir da função `norm.pdf`:"
   ]
  },
  {
   "cell_type": "code",
   "execution_count": 6,
   "metadata": {
    "scrolled": true
   },
   "outputs": [
    {
     "data": {
      "image/png": "[encoded data removed]",
      "text/plain": [
       "<matplotlib.figure.Figure at 0x235e208f6d8>"
      ]
     },
     "metadata": {},
     "output_type": "display_data"
    }
   ],
   "source": [
    "fig = plt.figure()\n",
    "plt.plot(xs,[norm.pdf(x,mu_0, sigma_0) for x in xs],'b-')\n",
    "plt.ylabel('f(x)')\n",
    "plt.xlabel('x')\n",
    "plt.show()\n",
    "fig.savefig(\"normalpdf-1000-0_5.png\")"
   ]
  },
  {
   "cell_type": "markdown",
   "metadata": {},
   "source": [
    "Agora, vamos plotar a funçao __CDF__ a partir da função `norm.cdf`:"
   ]
  },
  {
   "cell_type": "code",
   "execution_count": 7,
   "metadata": {},
   "outputs": [
    {
     "data": {
      "image/png": "[encoded data removed]",
      "text/plain": [
       "<matplotlib.figure.Figure at 0x235e208f4a8>"
      ]
     },
     "metadata": {},
     "output_type": "display_data"
    }
   ],
   "source": [
    "fig = plt.figure()\n",
    "plt.plot(xs,[norm.cdf(x,mu_0, sigma_0) for x in xs],'b-')\n",
    "plt.ylabel('Pr(X $\\leq$ x)')\n",
    "plt.xlabel('x')\n",
    "plt.show()\n",
    "fig.savefig(\"normalcdf-1000-0_5.png\")"
   ]
  },
  {
   "cell_type": "markdown",
   "metadata": {},
   "source": [
    "Sempre que uma variável aleatória segue uma distribuição normal, podemos usar a CDF dessa distribuição para descobrir a probabilidade de seu valor realizado estar dentro ou fora de um intervalo específico (observe que usaremos a função `norm.cdf` do `scipy.stats`, que funciona como a função `normal_cdf` que implementamos anteriormente):"
   ]
  },
  {
   "cell_type": "code",
   "execution_count": 8,
   "metadata": {},
   "outputs": [],
   "source": [
    "# the normal cdf _is_ the probability the variable is below a threshold\n",
    "normal_probability_below = norm.cdf\n",
    "\n",
    "# it's above the threshold if it's not below the threshold\n",
    "def normal_probability_above(lo, mu=0, sigma=1):\n",
    "    return 1 - norm.cdf(lo, mu, sigma)\n",
    "\n",
    "# it's between if it's less than hi, but not less than lo\n",
    "def normal_probability_between(lo, hi, mu=0, sigma=1):\n",
    "    return norm.cdf(hi, mu, sigma) - norm.cdf(lo, mu, sigma)\n",
    "\n",
    "# it's outside if it's not between\n",
    "def normal_probability_outside(lo, hi, mu=0, sigma=1):\n",
    "    return 1 - normal_probability_between(lo, hi, mu, sigma)"
   ]
  },
  {
   "cell_type": "markdown",
   "metadata": {},
   "source": [
    "Também podemos fazer o inverso - encontrar o intervalo (simétrico) em torno da média que representa um certo nível de probabilidade. Por exemplo, se quisermos encontrar um intervalo centrado na média e contendo 60% de probabilidade, então encontramos os pontos de corte onde cada uma das caudas superior e inferior contém 20% da probabilidade (deixando 60%).\n",
    "\n",
    "Nos exemplos abaixo, também usaremos a função uma função pronta, a `norm.isf` do `scipy.stats`. Embora não seja equivalente a função `inverse_normal_cdf` que implementamos anteriormente, ela serve para a mesma função se usarmos o complemento `1-p` da probabilidade `p`. Enquanto `inverse_normal_cdf` retorna o inverso da CDF (ou $P(X \\leq x)$, a função `norm.isf` retorna o inverso da função de sobrevivência da normal, que é 1-CDF (ou P(X > x). Assim, se quisermos saber qual é o menor valor $x$ que é maior ou igual a $20\\%$ dos valores da distribuição (`inverse_normal_cdf(0.2, mu, sigma)`) , basta encontrar o valor $x$ que é estritamente menor que $80\\%$ dos valores da distribuição, ou `norm.isf(1-0.2, mu, sigma)`."
   ]
  },
  {
   "cell_type": "code",
   "execution_count": 9,
   "metadata": {},
   "outputs": [],
   "source": [
    "def normal_upper_bound(probability, mu=0, sigma=1):\n",
    "    \"\"\"returns the z for which P(Z <= z) = probability\"\"\"\n",
    "    return norm.isf(1-probability, mu, sigma)\n",
    "    #return inverse_normal_cdf(probability, mu, sigma)\n",
    "    \n",
    "def normal_lower_bound(probability, mu=0, sigma=1):\n",
    "    \"\"\"returns the z for which P(Z >= z) = probability\"\"\"\n",
    "    return norm.isf(probability, mu, sigma)\n",
    "\n",
    "def normal_two_sided_bounds(probability, mu=0, sigma=1):\n",
    "    \"\"\"returns the symmetric (about the mean) bounds\n",
    "    that contain the specified probability\"\"\"\n",
    "    tail_probability = (1 - probability) / 2\n",
    "    # upper bound should have tail_probability above it\n",
    "    upper_bound = normal_lower_bound(tail_probability, mu, sigma)\n",
    "    # lower bound should have tail_probability below it\n",
    "    lower_bound = normal_upper_bound(tail_probability, mu, sigma)\n",
    "    return lower_bound, upper_bound"
   ]
  },
  {
   "cell_type": "markdown",
   "metadata": {},
   "source": [
    "Em particular, suponha que vamos lançar uma moeda $n = 1000$ vezes. Se nossa hipótese de justiça for verdadeira, X deve ser distribuído aproximadamente normalmente com média de $500$ e desvio padrão de $15.8$:"
   ]
  },
  {
   "cell_type": "code",
   "execution_count": 10,
   "metadata": {},
   "outputs": [
    {
     "name": "stdout",
     "output_type": "stream",
     "text": [
      "500.0 15.811388300841896\n"
     ]
    }
   ],
   "source": [
    "mu_0, sigma_0 = normal_approximation_to_binomial(1000, 0.5)\n",
    "print(mu_0, sigma_0)"
   ]
  },
  {
   "cell_type": "markdown",
   "metadata": {},
   "source": [
    "Precisamos tomar uma decisão sobre a *significância*, que mede o quanto estamos dispostos a cometer um *erro do tipo 1* (“falso positivo”), no qual rejeitamos $H_0$, embora ela seja verdade. Por razões perdidas para os anais da história, essa disposição é muitas vezes definida em $5\\%$ ou $1\\%$. Vamos escolher $5\\%$.\n",
    "\n",
    "Considere o teste que rejeita $H_0$ se $X$ estiver fora dos limites dados por:"
   ]
  },
  {
   "cell_type": "code",
   "execution_count": 11,
   "metadata": {},
   "outputs": [
    {
     "name": "stdout",
     "output_type": "stream",
     "text": [
      "469.0102483847719 530.9897516152281\n"
     ]
    }
   ],
   "source": [
    "lo, hi = normal_two_sided_bounds(0.95, mu_0, sigma_0)\n",
    "print(lo, hi)"
   ]
  },
  {
   "cell_type": "markdown",
   "metadata": {},
   "source": [
    "Os valores acima (`lo` e `hi`) indicam a região em que %95\\%$ dos valores da distribuição normal com média `mu_0` e desvio padrão `sigma_0` estão.\n",
    "\n",
    "Assumindo que $p$ é realmente igual a $0.5$ (ou seja, $H_0$ é verdade), há apenas $5\\%$ de chance de observarmos um $X$ que está fora desse intervalo, que é o significado exato que queríamos. Dito de forma diferente, se $H_0$ for verdadeiro, então, aproximadamente $19$ vezes de $20$ este teste dará o resultado correto.\n",
    "\n",
    "Também estamos frequentemente interessados no *poder* (ou *power*) de um teste, que é a probabilidade de não cometer um *erro do tipo 2*, em que não podemos rejeitar $H_0$, mesmo ela sendo falsa. Para medir isso, temos que especificar o que é exatamente $H_0$ ser falsa. (Saber apenas que $p$ não é $0.5$ não fornece muitas informações sobre a distribuição de $X$.) Em particular, vamos verificar o que acontece se $p$ for, na verdade, $0.55$, de modo que a moeda seja ligeiramente tendenciosa a dar \"cara\". Nesse caso, gostaríamos de rejeitar $H_0$.\n",
    "\n",
    "Nesse caso, podemos calcular o poder do teste com:"
   ]
  },
  {
   "cell_type": "code",
   "execution_count": 12,
   "metadata": {},
   "outputs": [
    {
     "name": "stdout",
     "output_type": "stream",
     "text": [
      "type 2 probability:  0.11345221890161725\n",
      "power: 0.8865477810983827\n"
     ]
    }
   ],
   "source": [
    "# 95% bounds based on assumption p is 0.5\n",
    "lo, hi = normal_two_sided_bounds(0.95, mu_0, sigma_0)\n",
    "\n",
    "# actual mu and sigma based on p = 0.55\n",
    "mu_1, sigma_1 = normal_approximation_to_binomial(1000, 0.55)\n",
    "\n",
    "# a type 2 error means we fail to reject the null hypothesis\n",
    "# which will happen when X is still in our original interval\n",
    "type_2_probability = normal_probability_between(lo, hi, mu_1, sigma_1)\n",
    "power = 1 - type_2_probability \n",
    "print(\"type 2 probability: \", type_2_probability)\n",
    "print(\"power:\", power)"
   ]
  },
  {
   "cell_type": "markdown",
   "metadata": {},
   "source": [
    "As análises acima indicam que, quando a moeda for tendenciosa com $p=0.55$, $11.35\\%$ das vezes a variável $X$ terá um valor dentro do intervalo $[lo, hi]$. Em outras palavras, $88.65\\%$ das vezes o nosso teste vai rejeitar $H_0$ corretamente quando $p=0.55$.\n",
    "\n",
    "Imagine agora a seguinte situação. Você está em uma disputa de \"cara-e-cora\" com um amigo e ele ganha quando a moeda der \"cara\" e você ganha quando der \"coroa\". O problema é que a moeda é dele, e você desconfia que a moeda é tendenciosa para dar \"cara\", ou seja, o seu problema não é se a moeda é tendenciosa, mas sim se a moeda é tendenciosa apenas para um dos lados (\"cara\").\n",
    "\n",
    "Nesse caso, nossa hipótese nula $H_0$ é que a moeda não é tendenciosa a dar \"cara\", ou que $p \\leq 0.5$. Queremos, então, um teste unilateral que rejeita a hipótese nula quando $X$ é muito maior que $500$, mas não quando $X$ é menor que $500$ (o nosso amigo não iria jogar com uma moeda tendenciosa para perder). Portanto, um teste de significância de $5\\%$ envolve o uso de `normal_probability_below` para encontrar o ponto de corte abaixo do qual $95\\%$ da probabilidade reside:"
   ]
  },
  {
   "cell_type": "code",
   "execution_count": 13,
   "metadata": {},
   "outputs": [
    {
     "name": "stdout",
     "output_type": "stream",
     "text": [
      "526.0074193937779\n",
      "0.936378997857743\n"
     ]
    }
   ],
   "source": [
    "hi = normal_upper_bound(0.95, mu_0, sigma_0)\n",
    "print(hi)\n",
    "# 526 < 531, since we need more probability in the upper tail\n",
    "\n",
    "type_2_probability = normal_probability_below(hi, mu_1, sigma_1)\n",
    "power = 1 - type_2_probability\n",
    "print(power)"
   ]
  },
  {
   "cell_type": "markdown",
   "metadata": {},
   "source": [
    "No primeiro teste, rejeitávamos $H_0$ quando $X$ está fora do intervalo $[469,531]$. Este segundo é um teste mais poderoso, já que ele não rejeita mais $H_0$ quando $X$ está abaixo de $469$ (o que é muito improvável acontecer se $H_1$ for verdadeira) e rejeita $H_0$ quando $X$ está entre $526$ e $531$ (o que é provável que aconteça se $H_1$ for verdadeira) e, é claro, quando for maior que $531$.\n",
    "\n",
    "Uma maneira alternativa de pensar sobre o teste anterior envolve *p-valores* (ou *p-values*). Em vez de escolher limites com base em algum corte de probabilidade, calculamos a probabilidade - assumindo que $H_0$ é verdadeira - de que veríamos um valor pelo menos tão extremo quanto o que realmente observamos.\n",
    "\n",
    "Para nosso teste de dois lados de saber se a moeda é justa, calculamos:"
   ]
  },
  {
   "cell_type": "code",
   "execution_count": 14,
   "metadata": {},
   "outputs": [],
   "source": [
    "def two_sided_p_value(x, mu=0, sigma=1):\n",
    "    if x >= mu:\n",
    "        # if x is greater than the mean, the tail is what's greater than x\n",
    "        return 2 * normal_probability_above(x, mu, sigma)\n",
    "    else:\n",
    "        # if x is less than the mean, the tail is what's less than x\n",
    "        return 2 * normal_probability_below(x, mu, sigma)"
   ]
  },
  {
   "cell_type": "markdown",
   "metadata": {},
   "source": [
    "Note que multiplicamos as probabilidades por $2$ porque este é um teste de dois lados, ou seja, não sabemos se a \"moeda\" está tendenciosa para algum lado. \n",
    "\n",
    "Então, se por acaso, $1000$ lançamentos de moedas resultassem em $530$ \"caras\", podemos calcular o *p-valor* para $X=530$:"
   ]
  },
  {
   "cell_type": "code",
   "execution_count": 15,
   "metadata": {},
   "outputs": [
    {
     "name": "stdout",
     "output_type": "stream",
     "text": [
      "0.06207721579598835\n"
     ]
    }
   ],
   "source": [
    "p_value = two_sided_p_value(529.5, mu_0, sigma_0)\n",
    "print(p_value)"
   ]
  },
  {
   "cell_type": "markdown",
   "metadata": {},
   "source": [
    "Por que usamos $529.5$ em vez de $530$? Isso é o que é chamado de *correção de continuidade*. Isso reflete o fato de que `normal_probability between(529.5, 530.5, mu_0, sigma_0)` é uma estimativa melhor da probabilidade de ver $530$ \"caras\" do que a `normal_probability between(530, 531, mu_0, sigma_0)`.\n",
    "\n",
    "Correspondentemente, `normal_probability_above(529.5, mu_0, sigma_0)` é uma estimativa melhor da probabilidade de ver pelo menos `530` \"caras\". \n",
    "\n",
    "Uma maneira de se convencer de que esta é uma estimativa sensata é com uma simulação:"
   ]
  },
  {
   "cell_type": "code",
   "execution_count": 16,
   "metadata": {},
   "outputs": [
    {
     "name": "stdout",
     "output_type": "stream",
     "text": [
      "0.06304\n"
     ]
    }
   ],
   "source": [
    "import random\n",
    "\n",
    "extreme_value_count = 0\n",
    "for _ in range(100000): #100000 simulacoes\n",
    "    num_heads = sum(1 if random.random() < 0.5 else 0 # count # of heads\n",
    "                    for _ in range(1000))             # in 1000 flips\n",
    "    if num_heads >= 530 or num_heads <= 470: # and count how often\n",
    "        extreme_value_count += 1 # the # is 'extreme'\n",
    "        \n",
    "print(extreme_value_count / 100000)"
   ]
  },
  {
   "cell_type": "markdown",
   "metadata": {},
   "source": [
    "Note que o valor acima é muito parecido com o valor do *p-valor* calculado anteriormente. \n",
    "\n",
    "Como o *p-valor* é maior do que nossa significância de $5%$ (ou $0.05$), não rejeitamos a hipótese nula. Se, em vez disso, víssemos 532 \"caras\", o *p-valor* seria:"
   ]
  },
  {
   "cell_type": "code",
   "execution_count": 17,
   "metadata": {},
   "outputs": [
    {
     "name": "stdout",
     "output_type": "stream",
     "text": [
      "0.046345287837786575\n"
     ]
    }
   ],
   "source": [
    "p_value = two_sided_p_value(531.5, mu_0, sigma_0)\n",
    "print(p_value)"
   ]
  },
  {
   "cell_type": "markdown",
   "metadata": {},
   "source": [
    "que é menor que a significância de 5%, o que significa que rejeitaríamos a hipótese nula. É exatamente o mesmo teste de antes. É apenas uma maneira diferente de abordar as estatísticas.\n",
    "Da mesma forma, teríamos:"
   ]
  },
  {
   "cell_type": "code",
   "execution_count": 18,
   "metadata": {},
   "outputs": [],
   "source": [
    "upper_p_value = normal_probability_above\n",
    "lower_p_value = normal_probability_below"
   ]
  },
  {
   "cell_type": "markdown",
   "metadata": {},
   "source": [
    "Para nosso teste unilateral, se víssemos 525 \"caras\", calcularíamos:"
   ]
  },
  {
   "cell_type": "code",
   "execution_count": 19,
   "metadata": {},
   "outputs": [
    {
     "name": "stdout",
     "output_type": "stream",
     "text": [
      "0.06062885772582072\n"
     ]
    }
   ],
   "source": [
    "p_value = upper_p_value(524.5, mu_0, sigma_0)\n",
    "print(p_value)"
   ]
  },
  {
   "cell_type": "markdown",
   "metadata": {},
   "source": [
    "o que significa que não rejeitaríamos a hipótese nula. Se víssemos 527 \"caras\", o cálculo seria:"
   ]
  },
  {
   "cell_type": "code",
   "execution_count": 20,
   "metadata": {},
   "outputs": [
    {
     "name": "stdout",
     "output_type": "stream",
     "text": [
      "0.04686839508859242\n"
     ]
    }
   ],
   "source": [
    "p_value = upper_p_value(526.5, mu_0, sigma_0)\n",
    "print(p_value)"
   ]
  },
  {
   "cell_type": "markdown",
   "metadata": {},
   "source": [
    "e nós rejeitaríamos a hipótese nula.\n",
    "\n",
    "Certifique-se de que seus dados estejam distribuídos normalmente antes de usar métodos como os anteriores, i.e., `normal_probability_above`, para calcular os *p-valores*. Os anais da ciência de dados ruins são preenchidos com exemplos de pessoas opinando que a chance de algum evento observado ocorrer aleatoriamente é de um em um milhão, quando o que eles realmente querem dizer é \"a chance, assumindo que os dados são distribuídos normalmente\", o que é bastante sem sentido se os dados não forem.\n",
    "Existem vários testes estatísticos para a normalidade, mas até mesmo a plotagem dos dados é um bom começo."
   ]
  },
  {
   "cell_type": "markdown",
   "metadata": {},
   "source": [
    "## Intervalos de Confiança\n",
    "\n",
    "Testamos hipóteses sobre o valor da probabilidade $p$ de dar \"caras\", que é um parâmetro desconhecido da distribuição \"caras\". Quando este é o caso, uma terceira abordagem é construir um intervalo de confiança em torno do valor observado do parâmetro.\n",
    "\n",
    "Por exemplo, podemos estimar a probabilidade da moeda injusta observando o valor médio das variáveis de Bernoulli correspondentes a cada lançamento - $1$ se cara, $0$ se coroa. Se observarmos $525$ \"caras\" de $1000$ lançamentos, estimamos $p$ igual a $0.525$.\n",
    "\n",
    "Quão confiantes podemos estar sobre esta estimativa? Bem, se soubéssemos o valor exato de $p$, o teorema central do limite nos diz que a média dessas variáveis de Bernoulli deve ser aproximadamente normal, com média $p$ e desvio padrão $\\sqrt{p (1-p) / 1000}$. Aqui não conhecemos o valor de $p$, então podemos estimar:"
   ]
  },
  {
   "cell_type": "code",
   "execution_count": 21,
   "metadata": {},
   "outputs": [
    {
     "name": "stdout",
     "output_type": "stream",
     "text": [
      "estimativa: (mu =  0.525 , sigma =  0.015791611697353755 )\n"
     ]
    }
   ],
   "source": [
    "p_hat = 525 / 1000\n",
    "mu = p_hat\n",
    "sigma = math.sqrt(p_hat * (1 - p_hat) / 1000) \n",
    "print(\"estimativa: (mu = \", p_hat, \", sigma = \", sigma, \")\")"
   ]
  },
  {
   "cell_type": "markdown",
   "metadata": {},
   "source": [
    "Isso não é inteiramente justificado, mas as pessoas parecem fazer isso de qualquer maneira. Usando a aproximação normal, concluímos que estamos \"95% confiantes\" de que o intervalo a seguir contém o parâmetro verdadeiro $p$:"
   ]
  },
  {
   "cell_type": "code",
   "execution_count": 22,
   "metadata": {},
   "outputs": [
    {
     "name": "stdout",
     "output_type": "stream",
     "text": [
      "(0.4940490098153452, 0.5559509901846548)\n"
     ]
    }
   ],
   "source": [
    "ic = normal_two_sided_bounds(0.95, mu, sigma)\n",
    "print(ic)"
   ]
  },
  {
   "cell_type": "markdown",
   "metadata": {},
   "source": [
    "Esta é uma afirmação sobre o intervalo, não sobre $p$. Você deve\n",
    "entender isso como a afirmação de que se você repetisse a experiência muitas vezes, 95% das vezes o parâmetro \"verdadeiro\" (que é o mesmo a cada vez) estaria dentro do intervalo de confiança observado (que pode ser diferente a cada vez).\n",
    "\n",
    "Em particular, não concluímos que a moeda é injusta, uma vez que $0.5$ cai dentro do nosso intervalo de confiança.\n",
    "\n",
    "Se em vez disso tivéssemos visto 540 cabeças, teríamos:"
   ]
  },
  {
   "cell_type": "code",
   "execution_count": 23,
   "metadata": {
    "scrolled": true
   },
   "outputs": [
    {
     "name": "stdout",
     "output_type": "stream",
     "text": [
      "estimativa: (mu =  0.54 , sigma =  0.015760710643876435 )\n",
      "(0.5091095747672452, 0.5708904252327549)\n"
     ]
    }
   ],
   "source": [
    "p_hat = 540 / 1000\n",
    "mu = p_hat\n",
    "sigma = math.sqrt(p_hat * (1 - p_hat) / 1000) \n",
    "print(\"estimativa: (mu = \", p_hat, \", sigma = \", sigma, \")\")\n",
    "ic = normal_two_sided_bounds(0.95, mu, sigma)\n",
    "print(ic)"
   ]
  },
  {
   "cell_type": "markdown",
   "metadata": {},
   "source": [
    "Aqui, a \"moeda justa\" não está no intervalo de confiança. A hipótese da \"moeda justa\" não passa em um teste que você esperaria que passasse 95% do tempo, se fosse verdade."
   ]
  },
  {
   "cell_type": "markdown",
   "metadata": {},
   "source": [
    "## *P-hacking*\n",
    "\n",
    "Um procedimento que erroneamente rejeita a hipótese nula apenas 5% do tempo irá, por definição, 5% do tempo erroneamente rejeitar a hipótese nula:"
   ]
  },
  {
   "cell_type": "code",
   "execution_count": 24,
   "metadata": {},
   "outputs": [],
   "source": [
    "def run_experiment():\n",
    "    \"\"\"flip a fair coin 1000 times, True = heads, False = tails\"\"\"\n",
    "    return [random.random() < 0.5 for _ in range(1000)]"
   ]
  },
  {
   "cell_type": "code",
   "execution_count": 25,
   "metadata": {},
   "outputs": [],
   "source": [
    "def reject_fairness(experiment, lb, ub):\n",
    "    \"\"\"using the 5% significance levels\"\"\"\n",
    "    num_heads = len([flip for flip in experiment if flip])\n",
    "    return num_heads < lb or num_heads > ub"
   ]
  },
  {
   "cell_type": "code",
   "execution_count": 26,
   "metadata": {},
   "outputs": [],
   "source": [
    "def reject_fairness2(experiment, mu_0, sigma_0):\n",
    "    \"\"\"using the 5% significance levels\"\"\"\n",
    "    num_heads = len([flip for flip in experiment if flip])\n",
    "    p_value = two_sided_p_value(num_heads, mu_0, sigma_0)\n",
    "    return p_value < 0.05"
   ]
  },
  {
   "cell_type": "code",
   "execution_count": 27,
   "metadata": {},
   "outputs": [
    {
     "name": "stdout",
     "output_type": "stream",
     "text": [
      "rejeitamos o experimento se o # de caras estiver fora do intervalo [ 469.0102483847719 , 530.9897516152281 ]\n",
      "numero de rejeicoes:  55 ( 0.055 )\n"
     ]
    }
   ],
   "source": [
    "random.seed(0)\n",
    "mu_0, sigma_0 = normal_approximation_to_binomial(1000, 0.5)\n",
    "lo, hi = normal_two_sided_bounds(0.95, mu_0, sigma_0)\n",
    "print(\"rejeitamos o experimento se o # de caras\",\n",
    "      \"estiver fora do intervalo\",\n",
    "      \"[\",lo,\",\",hi,\"]\")\n",
    "experiments = [run_experiment() for _ in range(1000)]\n",
    "num_rejections = len([experiment for experiment in experiments\n",
    "                      if reject_fairness(experiment, lo, hi)])\n",
    "                      #if reject_fairness2(experiment, mu_0, sigma_0)])\n",
    "\n",
    "print(\"numero de rejeicoes: \", num_rejections,\n",
    "      \"(\", num_rejections/1000, \")\")"
   ]
  },
  {
   "cell_type": "markdown",
   "metadata": {},
   "source": [
    "O que isso significa é que, se você está procurando encontrar resultados \"significativos\", geralmente consegue. Teste hipóteses suficientes contra seu conjunto de dados, e um deles quase certamente parecerá significativo. Remova os *outliers* certos e provavelmente você poderá obter seu valor de $p$ abaixo de $0.05$. Ou seja, dos 1000 experimentos acima, 55 deles teriam um p-valor abaixo de $0.05$, indicando que a moeda não é justa. \n",
    "\n",
    "Às vezes, isso é chamado de [*p-hacking*](https://www.nature.com/news/scientific-method-statistical-errors-1.14700) e, de certa forma, é uma conseqüência da \"inferência a partir de p-valores\". Um bom artigo que critica essa abordagem é o [*The Earth is Round*](https://www.ics.uci.edu/~sternh/courses/210/cohen94_pval.pdf).\n",
    "\n",
    "Se você quer fazer uma *boa ciência*, você deve determinar suas hipóteses antes de olhar os dados, você deve limpar seus dados sem as hipóteses em mente, e você deve ter em mente que p-valores não são substitutos do senso comum. (Uma abordagem alternativa é fazer \"Inferência Bayesiana\", que veremos a seguir.)"
   ]
  },
  {
   "cell_type": "markdown",
   "metadata": {},
   "source": [
    "## Exemplo: executando um teste A / B\n",
    "\n",
    "Uma de suas principais responsabilidades na *DataSciencester* é a otimização da experiência, que é um eufemismo para tentar fazer as pessoas clicarem em anúncios. Um de seus anunciantes desenvolveu uma nova bebida energética direcionada a cientistas de dados, e o vice-presidente de publicidade quer sua ajuda na escolha entre o anúncio $A$ (\"o gosto é ótimo!\") e o anúncio $B$ (\"menos preconceito!\").\n",
    "\n",
    "Sendo um cientista, você decide realizar um experimento mostrando aleatoriamente aos visitantes do site um dos dois anúncios e acompanhando quantas pessoas clicam em cada um deles.\n",
    "\n",
    "Se $990$ dos $1000$ visualizadores de $A$ clicarem no anúncio enquanto apenas $10$ dos $1000$ visualizadores de $B$ clicarem no anúncio, você poderá ter certeza de que $A$ é o melhor anúncio. Mas e se as diferenças não forem tão grandes? Aqui é onde você usa inferência estatística.\n",
    "\n",
    "Digamos que $N_A$ pessoas veem o anúncio $A$ e que $n_A$ delas clicam nele. Podemos pensar em cada visualização de anúncio como uma teste de Bernoulli onde $p_A$ é a probabilidade de alguém clicar no anúncio $A$. Então (se $N_A$ é grande, que é o caso) sabemos que $n_A / N_A$ é aproximadamente uma variável aleatória normal com média $p_A$ e desvio padrão $\\sigma_A = \\sqrt{p_A(1 - p_A) / N_A}$.\n",
    "\n",
    "Similarmente, $n_B / N_B$ é aproximadamente uma variável aleatória normal com média $p_B$ e desvio padrão $\\sigma_B = \\sqrt{p_B(1 - p_B) / N_B}$:"
   ]
  },
  {
   "cell_type": "code",
   "execution_count": 28,
   "metadata": {},
   "outputs": [],
   "source": [
    "def estimated_parameters(N, n):\n",
    "    p = n / N\n",
    "    sigma = math.sqrt(p * (1 - p) / N)\n",
    "    return p, sigma"
   ]
  },
  {
   "cell_type": "markdown",
   "metadata": {},
   "source": [
    "Se assumirmos que essas duas normais são independentes (o que parece razoável, já que os testes individuais de Bernoulli deveriam ser), então sua diferença também deveria ser normal com média $p_B - p_A$ e desvio padrão $\\sqrt{\\sigma_A^2 + \\sigma_B^2}$.\n",
    "\n",
    "Isso é uma espécie de trapaça. A matemática só funciona exatamente assim se você *souber* os desvios padrões. Aqui estamos estimando-os a partir dos dados, o que significa que deveríamos estar usando uma [*distribuição t*](https://en.wikipedia.org/wiki/Student%27s_t-distribution). Mas, para conjuntos de dados grandes o suficiente, estamos perto o suficiente para que não faça muita diferença.\n",
    "\n",
    "Isso significa que podemos testar a hipótese nula de que $p_A$ e $p_B$ são os mesmos (isto é, que $p_A - p_B$ é zero), usando a seguinte estatística:"
   ]
  },
  {
   "cell_type": "code",
   "execution_count": 29,
   "metadata": {},
   "outputs": [],
   "source": [
    "def a_b_test_statistic(N_A, n_A, N_B, n_B):\n",
    "    p_A, sigma_A = estimated_parameters(N_A, n_A)\n",
    "    p_B, sigma_B = estimated_parameters(N_B, n_B)\n",
    "    return (p_B - p_A) / math.sqrt(sigma_A ** 2 + sigma_B ** 2)"
   ]
  },
  {
   "cell_type": "markdown",
   "metadata": {},
   "source": [
    "que deve ser aproximadamente normal.\n",
    "\n",
    "Por exemplo, se \"o gosto é ótimo\" recebe $200$ cliques de $1000$ visualizações e \"menos preconceito\" recebe $180$ cliques de $1000$ visualizações, a estatística é igual a:"
   ]
  },
  {
   "cell_type": "code",
   "execution_count": 30,
   "metadata": {},
   "outputs": [
    {
     "name": "stdout",
     "output_type": "stream",
     "text": [
      "-1.1403464899034472\n"
     ]
    }
   ],
   "source": [
    "z = a_b_test_statistic(1000, 200, 1000, 180)\n",
    "print(z)"
   ]
  },
  {
   "cell_type": "markdown",
   "metadata": {},
   "source": [
    "A probabilidade de ver uma diferença tão grande se as médias fossem realmente iguais seria:"
   ]
  },
  {
   "cell_type": "code",
   "execution_count": 31,
   "metadata": {},
   "outputs": [
    {
     "name": "stdout",
     "output_type": "stream",
     "text": [
      "0.254141976542236\n"
     ]
    }
   ],
   "source": [
    "p = two_sided_p_value(z)\n",
    "print(p)"
   ]
  },
  {
   "cell_type": "markdown",
   "metadata": {},
   "source": [
    "que é grande o suficiente para que você não possa concluir que há muita diferença. Por outro lado, se \"menos preconceito\" tivesse apenas 150 cliques, teríamos:"
   ]
  },
  {
   "cell_type": "code",
   "execution_count": 32,
   "metadata": {},
   "outputs": [
    {
     "name": "stdout",
     "output_type": "stream",
     "text": [
      "z =  -2.948839123097944\n",
      "probabilidade =  0.0031896997062168583\n"
     ]
    }
   ],
   "source": [
    "z = a_b_test_statistic(1000, 200, 1000, 150) \n",
    "p = two_sided_p_value(z)\n",
    "\n",
    "print(\"z = \", z)\n",
    "print(\"probabilidade = \", p)"
   ]
  },
  {
   "cell_type": "markdown",
   "metadata": {},
   "source": [
    "o que significa que há apenas uma probabilidade de $0.003$ de vocês ver uma diferença tão grande quando os anúncios são igualmente eficazes"
   ]
  },
  {
   "cell_type": "markdown",
   "metadata": {},
   "source": [
    "## Inferência Bayesiana\n",
    "\n",
    "Os procedimentos que observamos envolveram declarações de probabilidade sobre nossos testes: \"há apenas 3% de chance de você observar uma estatística tão extremada se nossa hipótese nula fosse verdadeira\".\n",
    "\n",
    "Uma abordagem alternativa de inferência envolve tratar os parâmetros desconhecidos como variáveis aleatórias. O analista (que é você) começa com uma *distribuição a priori* (*prior distribution*) para os parâmetros e, em seguida, usa os dados observados e o Teorema de Bayes para obter uma *distribuição a posteriori* (*posterior distribution*) atualizada para os parâmetros. Em vez de fazer julgamentos de probabilidade sobre os testes, você faz julgamentos de probabilidade sobre os próprios parâmetros.\n",
    "\n",
    "Por exemplo, quando o parâmetro desconhecido é uma probabilidade (como em nosso exemplo de inversão de moeda), geralmente usamos um valor anterior da *distribuição Beta*, que coloca toda sua probabilidade entre $0$ e $1$. A sua PDF é dada por:\n",
    "\n",
    "$$ f(x, \\alpha, \\beta) = \\frac{x^{\\alpha -1}(1-x)^{\\beta -1}}{\\mathrm {B} (\\alpha ,\\beta )}$$\n",
    "\n",
    "em que\n",
    "\n",
    "$$\\mathrm {B} (\\alpha ,\\beta )={\\frac {\\Gamma (\\alpha )\\Gamma (\\beta )}{\\Gamma (\\alpha +\\beta )}}$$\n",
    "\n",
    "e $\\Gamma$ é a [função *Gamma*](https://en.wikipedia.org/wiki/Gamma_function), que é definida para um número positivo $n$ como:\n",
    "\n",
    "$$\\Gamma (n)=(n-1)!$$\n",
    "\n",
    "A função beta, $\\mathrm {B}$, é uma constante de normalização para assegurar que a probabilidade total integre a 1. Nas equações acima $x$ é uma realização - um valor observado que de fato ocorreu - de um processo aleatório $X$. Abaixo o código para a PDF da distribuição Beta:"
   ]
  },
  {
   "cell_type": "code",
   "execution_count": 33,
   "metadata": {},
   "outputs": [],
   "source": [
    "def B(alpha, beta):\n",
    "    \"\"\"a normalizing constant so that the total probability is 1\"\"\"\n",
    "    return math.gamma(alpha) * math.gamma(beta) / math.gamma(alpha + beta)\n",
    "\n",
    "def beta_pdf(x, alpha, beta):\n",
    "    if x < 0 or x > 1:\n",
    "        # no weight outside of [0, 1]\n",
    "        return 0\n",
    "    return x ** (alpha - 1) * (1 - x) ** (beta - 1) / B(alpha, beta)"
   ]
  },
  {
   "cell_type": "markdown",
   "metadata": {},
   "source": [
    "De maneira geral, essa distribuição tem o seu peso centrado em $\\alpha /( \\alpha + \\beta)$, ou `alpha /( alpha + beta)`."
   ]
  },
  {
   "cell_type": "markdown",
   "metadata": {},
   "source": [
    "Por exemplo, se $\\alpha$ e $\\beta$ são ambos 1, a distribuição é apenas a distribuição uniforme (centrada em $0.5$ e muito dispersa). Se $\\alpha$ é muito maior que $\\beta$, a maior parte da massa está próxima de 1. E se $\\alpha$ é muito menor que $\\beta$, a maior parte da massa está próxima de zero."
   ]
  },
  {
   "cell_type": "markdown",
   "metadata": {},
   "source": [
    "Então, vamos assumir uma distribuição a priori para $p$. Talvez não queiramos considerar se a moeda é justa, e escolhemos $\\alpha = 1$ e $\\beta = 1$. Ou talvez tenhamos uma forte crença de que \"cara\" caia $55\\%$ das vezes, então escolhemos $\\alpha = 55$ e $\\beta = 45$.\n",
    "\n",
    "Então, jogamos a moeda várias vezes e vemos $h$ \"caras\" e $t$ \"coroas\". O Teorema de Bayes (e [algumas contas matemáticas que são muito tediosas para nós passarmos aqui](https://en.wikipedia.org/wiki/Conjugate_prior)) nos diz que a distribuição a posteriori de $p$ é novamente uma distribuição Beta, mas com parâmetros $\\alpha + h$ e $\\beta + t$."
   ]
  },
  {
   "cell_type": "markdown",
   "metadata": {},
   "source": [
    "Não é por acaso que a distribuição a posteriori foi novamente uma distribuição Beta. O número de \"caras\" é dado por uma distribuição Binomial e a distribuição Beta é a [conjugada a priori](https://www.johndcook.com/blog/conjugate_prior_diagram/) à distribuição Binomial. Isto significa que sempre que você atualizar uma priori Beta antes usando observações de uma Binomial correspondente, você receberá uma Beta a posteriori.\n",
    "\n",
    "Digamos que você jogue uma moeda 10 vezes e veja apenas 3 \"caras\".\n",
    "\n",
    "Se você começou com uma a priori uniforme (em algum sentido, recusando-se a se posicionar sobre a justiça da moeda), sua distribuição a posteriori seria uma Beta $(\\alpha = 1 + 3 = 4, \\beta = 1 + 7 = 8)$, centrada em torno de $0.33$. Como você considerou todas as probabilidades igualmente prováveis, seu melhor palpite é algo bem próximo da probabilidade observada.\n",
    "\n",
    "Se você começou com uma Beta $(\\alpha = 20, \\beta = 20)$ (expressando a crença de que a moeda era razoavelmente justa), sua distribuição posterior seria um Beta $(\\alpha = 20 + 3 = 23, \\beta = 20 + 7 = 27)$, centrada em torno de $0.46$, indicando uma crença revisada de que talvez a moeda seja levemente inclinada para as caudas.\n",
    "\n",
    "E se você começou com uma Beta $(\\alpha=30, \\alpha=10)$ (expressando a crença de que a moeda era tendenciosa para dar \"cara\" $75\\%$ das vezes), sua distribuição posterior seria um Beta $(\\alpha = 30 + 3 = 33, \\beta = 10 + 7 = 17)$, centrada em torno de $0.66$. Nesse caso, você ainda acredita em um viés para dar \"cara\", mas menos forte do que inicialmente."
   ]
  },
  {
   "cell_type": "markdown",
   "metadata": {},
   "source": [
    "Se você virasse a moeda mais e mais vezes, a priori importaria cada vez menos até que você teria (quase) a mesma distribuição posteriori, não importando qual priori foi usada.\n",
    "\n",
    "Por exemplo, não importa quão tendenciosa você tenha pensado que a moeda era, seria difícil manter essa crença depois de ver 1000 \"caras\" de 2000 lançamentos (a menos que você seja um lunático que escolha uma priori como uma Beta $(\\alpha=1000000, \\beta=1)$).\n",
    "\n",
    "O que é interessante é que isso nos permite fazer afirmações de probabilidade sobre hipóteses: \"Com base nos dados anteriores e observados, há apenas uma probabilidade de 5% de que a probabilidade da moeda dar 'cara' esteja entre $49\\%$ e $51\\%$.\" Isto é filosoficamente muito diferente de uma declaração como \"se a moeda fosse justa, esperaríamos observar dados tão extremos em apenas 5% do tempo\".\n",
    "\n",
    "Usar a inferência bayesiana para testar hipóteses é considerado um tanto controverso - em parte porque sua matemática pode ser um pouco complicada, e em parte por causa da natureza subjetiva da escolha de uma priori. Não vamos usá-la mais neste curso, mas é bom saber sobre."
   ]
  },
  {
   "cell_type": "markdown",
   "metadata": {},
   "source": [
    "## Para maior exploração\n",
    "\n",
    "* Nós mal arranhamos a superfície do que você deveria saber sobre inferência estatística. Os livros recomendados no final da aula anterior entram em muito mais detalhes.\n",
    "\n",
    "* O Coursera oferece um [curso de Análise de Dados e Inferência Estatística](https://www.coursera.org/specializations/statistics) que abrange muitos desses tópicos."
   ]
  },
  {
   "cell_type": "markdown",
   "metadata": {},
   "source": [
    "# Rascunho"
   ]
  },
  {
   "cell_type": "code",
   "execution_count": 34,
   "metadata": {},
   "outputs": [],
   "source": [
    "from matplotlib import pyplot as plt"
   ]
  },
  {
   "cell_type": "code",
   "execution_count": 35,
   "metadata": {},
   "outputs": [],
   "source": [
    "matplotlib inline"
   ]
  },
  {
   "cell_type": "code",
   "execution_count": 36,
   "metadata": {},
   "outputs": [
    {
     "data": {
      "image/png": "[encoded data removed]",
      "text/plain": [
       "<matplotlib.figure.Figure at 0x235dd878cf8>"
      ]
     },
     "metadata": {},
     "output_type": "display_data"
    }
   ],
   "source": [
    "mu, sigma = normal_approximation_to_binomial(1000, 0.5)\n",
    "xs = [x / 1.0 for x in range(400, 600)]\n",
    "fig = plt.figure()\n",
    "plt.plot(xs,[norm.pdf(x,mu, sigma) for x in xs],'b-')\n",
    "plt.ylabel('f(x)')\n",
    "plt.xlabel('x')\n",
    "plt.show()\n",
    "fig.savefig(\"normalpdf-1000-0_5.png\")"
   ]
  },
  {
   "cell_type": "code",
   "execution_count": 37,
   "metadata": {},
   "outputs": [
    {
     "data": {
      "image/png": "[encoded data removed]",
      "text/plain": [
       "<matplotlib.figure.Figure at 0x235e20dc908>"
      ]
     },
     "metadata": {},
     "output_type": "display_data"
    }
   ],
   "source": [
    "plt.plot(xs,[norm.cdf(x,mu, sigma) for x in xs],'b-')\n",
    "plt.ylabel('Pr(X $\\leq$ x)')\n",
    "plt.xlabel('x')\n",
    "plt.show()\n",
    "fig.savefig(\"normalcdf-1000-0_5.png\")"
   ]
  },
  {
   "cell_type": "code",
   "execution_count": 38,
   "metadata": {},
   "outputs": [
    {
     "data": {
      "image/png": "[encoded data removed]",
      "text/plain": [
       "<matplotlib.figure.Figure at 0x235e20f96a0>"
      ]
     },
     "metadata": {},
     "output_type": "display_data"
    }
   ],
   "source": [
    "probs = [x / 100.0 for x in range(0, 100)]\n",
    "plt.plot(probs,norm.isf(probs,mu,sigma),'b-')\n",
    "#plt.ylabel('Pr(X $\\leq$ x)')\n",
    "#plt.xlabel('x')\n",
    "plt.show()\n",
    "#fig.savefig(\"normalcdf-1000-0_5.png\")"
   ]
  },
  {
   "cell_type": "code",
   "execution_count": 39,
   "metadata": {
    "scrolled": true
   },
   "outputs": [
    {
     "data": {
      "image/png": "[encoded data removed]",
      "text/plain": [
       "<matplotlib.figure.Figure at 0x235e216b978>"
      ]
     },
     "metadata": {},
     "output_type": "display_data"
    }
   ],
   "source": [
    "mu_1, sigma_1 = normal_approximation_to_binomial(1000, 0.55)\n",
    "fig = plt.figure()\n",
    "plt.plot(xs,[norm.cdf(x,mu_1, sigma_1) for x in xs],'g-', label='p=0.55')\n",
    "plt.plot(xs,[norm.cdf(x,mu_0, sigma_0) for x in xs],'b-', label='p=0.50')\n",
    "plt.ylabel('Pr(X $\\leq$ x)')\n",
    "plt.xlabel('x')\n",
    "plt.legend(loc=2)\n",
    "plt.show()\n",
    "fig.savefig(\"normalcdf-1000-0_55vs0_50.png\")"
   ]
  },
  {
   "cell_type": "code",
   "execution_count": 40,
   "metadata": {},
   "outputs": [],
   "source": [
    "from scipy.stats import beta\n",
    "import matplotlib.pyplot as plt\n",
    "import numpy as np"
   ]
  },
  {
   "cell_type": "code",
   "execution_count": 41,
   "metadata": {},
   "outputs": [],
   "source": [
    "matplotlib inline"
   ]
  },
  {
   "cell_type": "code",
   "execution_count": 42,
   "metadata": {},
   "outputs": [
    {
     "data": {
      "image/png": "[encoded data removed]",
      "text/plain": [
       "<matplotlib.figure.Figure at 0x235e32aa198>"
      ]
     },
     "metadata": {},
     "output_type": "display_data"
    }
   ],
   "source": [
    "a, b = 33, 17\n",
    "x = np.linspace(0,1, 100)\n",
    "fig = plt.figure()\n",
    "plt.plot(x, beta.pdf(x, a, b), 'r-', lw=5, alpha=0.6)\n",
    "plt.xlabel(\"p\")\n",
    "plt.ylabel(\"f(p)\")\n",
    "plt.show()\n",
    "fig.savefig(\"beta33-17.png\")"
   ]
  },
  {
   "cell_type": "markdown",
   "metadata": {},
   "source": [
    "## Correlation p-value"
   ]
  },
  {
   "cell_type": "code",
   "execution_count": 43,
   "metadata": {},
   "outputs": [],
   "source": [
    "import itertools\n",
    "from scipy.stats import pearsonr\n",
    "from scipy.stats import spearmanr\n",
    "from random import shuffle\n",
    "from scipy.stats import norm"
   ]
  },
  {
   "cell_type": "code",
   "execution_count": 77,
   "metadata": {},
   "outputs": [],
   "source": [
    "def tscore(v, df):\n",
    "    return v*math.sqrt(df/(1.01-v*v))"
   ]
  },
  {
   "cell_type": "code",
   "execution_count": 45,
   "metadata": {},
   "outputs": [],
   "source": [
    "def plotCorrHist(cvalues, size):\n",
    "    fig = plt.figure()\n",
    "    plt.hist(cvalues, density=True, bins=8, histtype='stepfilled', alpha=0.8)\n",
    "    x = np.linspace(-1,1,100)\n",
    "    mu = np.mean(cvalues)\n",
    "    sigma = np.std(cvalues)\n",
    "    plt.plot(x, norm.pdf(x, mu, sigma),'r-', lw=5, alpha=0.6, label='normal pdf')\n",
    "    plt.xlabel(\"correlation\")\n",
    "    plt.ylabel(\"density\")\n",
    "    plt.legend(loc=2)\n",
    "    plt.title('vector size: ' + str(size))\n",
    "    plt.show()\n",
    "    fig.savefig('histcorr' + str(size) + '.png')"
   ]
  },
  {
   "cell_type": "code",
   "execution_count": 46,
   "metadata": {},
   "outputs": [],
   "source": [
    "def pvalor_correlacao_twosided(n, cvalue):\n",
    "    if n > 7:\n",
    "        return None, None\n",
    "    cvalue = cvalue - 0.0000000001\n",
    "    X = list(range(n))\n",
    "    pX = list(itertools.permutations(X))\n",
    "    c = np.corrcoef(pX)\n",
    "    count = np.sum(abs(c) > abs(cvalue))\n",
    "    total = c.shape[0] * c.shape[1]\n",
    "    return count/total, c"
   ]
  },
  {
   "cell_type": "code",
   "execution_count": 47,
   "metadata": {},
   "outputs": [
    {
     "name": "stdout",
     "output_type": "stream",
     "text": [
      "0.034126984126984124\n"
     ]
    },
    {
     "data": {
      "image/png": "[encoded data removed]",
      "text/plain": [
       "<matplotlib.figure.Figure at 0x235e33ebc18>"
      ]
     },
     "metadata": {},
     "output_type": "display_data"
    }
   ],
   "source": [
    "size = 7\n",
    "p, c = pvalor_correlacao_twosided(size,0.8)\n",
    "print(p)\n",
    "cvalues = c.flatten()\n",
    "plotCorrHist(cvalues, size)"
   ]
  },
  {
   "cell_type": "code",
   "execution_count": 48,
   "metadata": {
    "scrolled": true
   },
   "outputs": [],
   "source": [
    "cvalues = [tscore(v, size-2) for v in cvalues]"
   ]
  },
  {
   "cell_type": "code",
   "execution_count": 49,
   "metadata": {
    "scrolled": true
   },
   "outputs": [
    {
     "data": {
      "text/plain": [
       "(25401600,)"
      ]
     },
     "execution_count": 49,
     "metadata": {},
     "output_type": "execute_result"
    }
   ],
   "source": [
    "cvalues = c.flatten()\n",
    "cvalues.shape"
   ]
  },
  {
   "cell_type": "code",
   "execution_count": 50,
   "metadata": {},
   "outputs": [],
   "source": [
    "import numpy as np\n",
    "import math"
   ]
  },
  {
   "cell_type": "code",
   "execution_count": 51,
   "metadata": {},
   "outputs": [],
   "source": [
    "def pvalor_correlacao_twosided(vector_size, rho):\n",
    "    nrows = 2000\n",
    "    s = np.random.normal(0, 1, (nrows, vector_size))\n",
    "    c = np.corrcoef(s)\n",
    "    count = np.sum(abs(c) >= abs(rho))\n",
    "    total = nrows * nrows\n",
    "    return count/total, c"
   ]
  },
  {
   "cell_type": "code",
   "execution_count": 90,
   "metadata": {},
   "outputs": [
    {
     "name": "stdout",
     "output_type": "stream",
     "text": [
      "p-valor: 0.0005\n"
     ]
    }
   ],
   "source": [
    "size = 10\n",
    "p, c = pvalor_correlacao_twosided(size, 0.99)\n",
    "print(\"p-valor:\", p)"
   ]
  },
  {
   "cell_type": "code",
   "execution_count": 53,
   "metadata": {},
   "outputs": [
    {
     "data": {
      "image/png": "[encoded data removed]",
      "text/plain": [
       "<matplotlib.figure.Figure at 0x235e3436400>"
      ]
     },
     "metadata": {},
     "output_type": "display_data"
    }
   ],
   "source": [
    "cvalues = c.flatten()\n",
    "plotCorrHist(cvalues, size)"
   ]
  },
  {
   "cell_type": "code",
   "execution_count": 54,
   "metadata": {},
   "outputs": [],
   "source": [
    "cvalues = [tscore(v, size-2) for v in cvalues if abs(v) < 0.99]\n",
    "#cvalues = [v*math.sqrt((size-2)/(1.01-v*v)) for v in cvalues]"
   ]
  },
  {
   "cell_type": "code",
   "execution_count": 55,
   "metadata": {},
   "outputs": [
    {
     "name": "stdout",
     "output_type": "stream",
     "text": [
      "4000000\n"
     ]
    }
   ],
   "source": [
    "count = 0\n",
    "for i in range(2000):\n",
    "    for j in range(2000):\n",
    "        if abs(c[i][j]) >= -0.10856016070747969:\n",
    "            count = count + 1\n",
    "print(count)"
   ]
  },
  {
   "cell_type": "code",
   "execution_count": 56,
   "metadata": {},
   "outputs": [
    {
     "data": {
      "image/png": "[encoded data removed]",
      "text/plain": [
       "<matplotlib.figure.Figure at 0x23583d830b8>"
      ]
     },
     "metadata": {},
     "output_type": "display_data"
    }
   ],
   "source": [
    "from scipy.stats import t\n",
    "x = np.linspace(min(cvalues), max(cvalues), 100)\n",
    "df = size-2\n",
    "fig = plt.figure()\n",
    "plt.hist(cvalues, density=True, bins=100, histtype='stepfilled', alpha=0.8)\n",
    "plt.plot(x, t.pdf(x, df),'r-', lw=5, alpha=0.6, label='t pdf')\n",
    "plt.xlabel('t')\n",
    "plt.ylabel('density')\n",
    "plt.title(\"vector size: \" + str(size))\n",
    "plt.legend(loc=2)\n",
    "plt.show()\n",
    "fig.savefig(\"tdist\" + str(size) + '.png')"
   ]
  },
  {
   "cell_type": "code",
   "execution_count": 78,
   "metadata": {},
   "outputs": [
    {
     "name": "stdout",
     "output_type": "stream",
     "text": [
      "p-valor: 0.019754902647658223\n"
     ]
    }
   ],
   "source": [
    "c = 0.72\n",
    "m = 10\n",
    "df = m-2\n",
    "tstatistic = tscore(c, df)\n",
    "pvalor = 2*(1-t.cdf(tstatistic, df))\n",
    "print('p-valor:', pvalor)"
   ]
  },
  {
   "cell_type": "code",
   "execution_count": 70,
   "metadata": {},
   "outputs": [
    {
     "name": "stdout",
     "output_type": "stream",
     "text": [
      "0.20189396891287836 0.5759228387009458\n",
      "0.5778586079161037\n"
     ]
    }
   ],
   "source": [
    "size = 10\n",
    "s = np.random.normal(0, 1, (2, size))\n",
    "c, p = pearsonr(s[0], s[1])\n",
    "print(c,p)\n",
    "score = tscore(abs(c), size-2)\n",
    "pvalue = 2*(1-t.cdf(score, size-2))\n",
    "print(pvalue)"
   ]
  },
  {
   "cell_type": "code",
   "execution_count": 59,
   "metadata": {},
   "outputs": [
    {
     "name": "stdout",
     "output_type": "stream",
     "text": [
      "SpearmanrResult(correlation=0.7999999999999999, pvalue=0.20000000000000007)\n"
     ]
    }
   ],
   "source": [
    "A = [1, 2, 3, 4]\n",
    "B = [2, 1, 3, 4]\n",
    "print(spearmanr(A,B))"
   ]
  },
  {
   "cell_type": "code",
   "execution_count": 60,
   "metadata": {},
   "outputs": [
    {
     "name": "stdout",
     "output_type": "stream",
     "text": [
      "SpearmanrResult(correlation=0.7234075969792768, pvalue=0.018047748354494214)\n"
     ]
    }
   ],
   "source": [
    "A = [70, 100, 83, 59, 89, 71, 59, 52, 97, 54]\n",
    "P = [160, 195, 175, 150, 184, 172, 159, 177, 191, 158]\n",
    "print(spearmanr(A,P))"
   ]
  },
  {
   "cell_type": "code",
   "execution_count": 91,
   "metadata": {},
   "outputs": [],
   "source": [
    "def pvalor_correlacao_twosided_pareto(vector_size, rho):\n",
    "    nrows = 5000\n",
    "    s = np.random.pareto(0.75, (nrows, vector_size))\n",
    "    c = np.corrcoef(s)\n",
    "    count = np.sum(abs(c) >= abs(rho))\n",
    "    total = nrows * nrows\n",
    "    return count/total, c"
   ]
  },
  {
   "cell_type": "code",
   "execution_count": 92,
   "metadata": {},
   "outputs": [
    {
     "name": "stdout",
     "output_type": "stream",
     "text": [
      "p-valor: 0.00584376\n"
     ]
    }
   ],
   "source": [
    "size = 10\n",
    "p, c = pvalor_correlacao_twosided_pareto(size, 0.99)\n",
    "print(\"p-valor:\", p)"
   ]
  },
  {
   "cell_type": "code",
   "execution_count": 93,
   "metadata": {},
   "outputs": [
    {
     "data": {
      "image/png": "[encoded data removed]",
      "text/plain": [
       "<matplotlib.figure.Figure at 0x235e208f048>"
      ]
     },
     "metadata": {},
     "output_type": "display_data"
    }
   ],
   "source": [
    "cvalues = c.flatten()\n",
    "plotCorrHist(cvalues, size)"
   ]
  },
  {
   "cell_type": "code",
   "execution_count": 88,
   "metadata": {},
   "outputs": [
    {
     "data": {
      "text/plain": [
       "0.00017729990201355202"
      ]
     },
     "execution_count": 88,
     "metadata": {},
     "output_type": "execute_result"
    }
   ],
   "source": [
    "np.mean(cvalues)"
   ]
  },
  {
   "cell_type": "code",
   "execution_count": null,
   "metadata": {},
   "outputs": [],
   "source": []
  }
 ],
 "metadata": {
  "kernelspec": {
   "display_name": "Python 3",
   "language": "python",
   "name": "python3"
  },
  "language_info": {
   "codemirror_mode": {
    "name": "ipython",
    "version": 3
   },
   "file_extension": ".py",
   "mimetype": "text/x-python",
   "name": "python",
   "nbconvert_exporter": "python",
   "pygments_lexer": "ipython3",
   "version": "3.6.8"
  }
 },
 "nbformat": 4,
 "nbformat_minor": 2
}
