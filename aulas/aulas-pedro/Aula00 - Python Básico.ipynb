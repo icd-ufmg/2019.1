{
 "cells": [
  {
   "cell_type": "markdown",
   "metadata": {
    "slideshow": {
     "slide_type": "slide"
    }
   },
   "source": [
    "# Antes de começar\n",
    "\n",
    "Neste curso, vamos usar o Python 3 e algumas bibliotecas científicas. Todas as aulas serão disponibilizadas no formato `.html`, para os slides, e `.ipynb`, para os notebooks Jupyter. Para simplificar, faça a instalação da distribuição [Anaconda](https://www.anaconda.com/download/) no seu computador, que contém tudo que precisamos."
   ]
  },
  {
   "cell_type": "code",
   "execution_count": 2,
   "metadata": {},
   "outputs": [
    {
     "name": "stdout",
     "output_type": "stream",
     "text": [
      "Ola\n"
     ]
    }
   ],
   "source": [
    "print(\"Ola\")"
   ]
  },
  {
   "cell_type": "markdown",
   "metadata": {
    "slideshow": {
     "slide_type": "fragment"
    }
   },
   "source": [
    "Aprender Jupyter é muito simples. Basta a leitura rápida de um tutorial, como [este](https://www.datacamp.com/community/tutorials/tutorial-jupyter-notebook), [este](https://www.dataquest.io/blog/jupyter-notebook-tutorial/), ou [este](http://maxmelnick.com/2016/04/19/python-beginner-tips-and-tricks.html). Os atalhos para comandos são muito úteis!"
   ]
  },
  {
   "cell_type": "markdown",
   "metadata": {
    "slideshow": {
     "slide_type": "slide"
    }
   },
   "source": [
    "# Python Básico\n",
    "\n",
    "Python tem uma descrição bem Zen de seus princípios de projeto, que você pode obter a partir do comando abaixo."
   ]
  },
  {
   "cell_type": "code",
   "execution_count": 3,
   "metadata": {
    "slideshow": {
     "slide_type": "subslide"
    }
   },
   "outputs": [
    {
     "name": "stdout",
     "output_type": "stream",
     "text": [
      "The Zen of Python, by Tim Peters\n",
      "\n",
      "Beautiful is better than ugly.\n",
      "Explicit is better than implicit.\n",
      "Simple is better than complex.\n",
      "Complex is better than complicated.\n",
      "Flat is better than nested.\n",
      "Sparse is better than dense.\n",
      "Readability counts.\n",
      "Special cases aren't special enough to break the rules.\n",
      "Although practicality beats purity.\n",
      "Errors should never pass silently.\n",
      "Unless explicitly silenced.\n",
      "In the face of ambiguity, refuse the temptation to guess.\n",
      "There should be one-- and preferably only one --obvious way to do it.\n",
      "Although that way may not be obvious at first unless you're Dutch.\n",
      "Now is better than never.\n",
      "Although never is often better than *right* now.\n",
      "If the implementation is hard to explain, it's a bad idea.\n",
      "If the implementation is easy to explain, it may be a good idea.\n",
      "Namespaces are one honking great idea -- let's do more of those!\n"
     ]
    }
   ],
   "source": [
    "import this"
   ]
  },
  {
   "cell_type": "markdown",
   "metadata": {
    "slideshow": {
     "slide_type": "subslide"
    }
   },
   "source": [
    "Neste curso trabalharemos com Python 3. Se você já sabe programar em Python , pode pular esta parte. No entanto, se conhece Python 2 e não Python 3, sugiro se familiarizar com as diferenças da versão 3 em relação à versão 2: https://docs.python.org/3.0/whatsnew/3.0.html\n",
    "\n",
    "Para algumas dicas e atalhos no Jupyter, confira a URL abaixo:\n",
    "https://www.dataquest.io/blog/jupyter-notebook-tips-tricks-shortcuts/"
   ]
  },
  {
   "cell_type": "markdown",
   "metadata": {
    "slideshow": {
     "slide_type": "slide"
    }
   },
   "source": [
    "## Indentação\n",
    "Muitas linguagens usam chaves para delimitar blocos de código. Python usa identação."
   ]
  },
  {
   "cell_type": "code",
   "execution_count": 4,
   "metadata": {
    "slideshow": {
     "slide_type": "subslide"
    }
   },
   "outputs": [
    {
     "name": "stdout",
     "output_type": "stream",
     "text": [
      "1\n",
      "1\n",
      "2\n",
      "2\n",
      "3\n",
      "3\n",
      "4\n",
      "4\n",
      "5\n",
      "5\n",
      "6\n",
      "1\n",
      "2\n",
      "1\n",
      "3\n",
      "2\n",
      "4\n",
      "3\n",
      "5\n",
      "4\n",
      "6\n",
      "5\n",
      "7\n",
      "2\n",
      "3\n",
      "1\n",
      "4\n",
      "2\n",
      "5\n",
      "3\n",
      "6\n",
      "4\n",
      "7\n",
      "5\n",
      "8\n",
      "3\n",
      "4\n",
      "1\n",
      "5\n",
      "2\n",
      "6\n",
      "3\n",
      "7\n",
      "4\n",
      "8\n",
      "5\n",
      "9\n",
      "4\n",
      "5\n",
      "1\n",
      "6\n",
      "2\n",
      "7\n",
      "3\n",
      "8\n",
      "4\n",
      "9\n",
      "5\n",
      "10\n",
      "5\n",
      "terminou o loop\n"
     ]
    }
   ],
   "source": [
    "for i in [1, 2, 3, 4, 5]:               \n",
    "    print(i)                             # primeira linha do bloco \"for i\"\n",
    "    for j in [1, 2, 3, 4, 5]:            # primeira linha do bloco \"for j\"\n",
    "        print(j)                         # última linha do bloco \"for j\"\n",
    "        print(i + j)\n",
    "    print(i)                             # última linha do bloco \"for i\"\n",
    "print(\"terminou o loop\")"
   ]
  },
  {
   "cell_type": "markdown",
   "metadata": {
    "slideshow": {
     "slide_type": "fragment"
    }
   },
   "source": [
    "Isso torna o código Python muito legível, mas também significa que você precisa ter muito cuidado com sua formatação. "
   ]
  },
  {
   "cell_type": "markdown",
   "metadata": {
    "slideshow": {
     "slide_type": "subslide"
    }
   },
   "source": [
    "O espaço em branco é ignorado dentro de parênteses e colchetes, o que pode ser útil para cálculos longos:"
   ]
  },
  {
   "cell_type": "code",
   "execution_count": 5,
   "metadata": {
    "slideshow": {
     "slide_type": "fragment"
    }
   },
   "outputs": [],
   "source": [
    "long_winded_computation = (1 + 2 + 3 + 4 + 5 + 6 + 7 + 8 + 9 + 10 + 11 + 12 +\n",
    "13 + 14 + 15 + 16 + 17 + 18 + 19 + 20)"
   ]
  },
  {
   "cell_type": "markdown",
   "metadata": {
    "slideshow": {
     "slide_type": "subslide"
    }
   },
   "source": [
    "e para tornar o código fácil de ler:"
   ]
  },
  {
   "cell_type": "code",
   "execution_count": 6,
   "metadata": {
    "slideshow": {
     "slide_type": "fragment"
    }
   },
   "outputs": [],
   "source": [
    "list_of_lists = [[1, 2, 3], [4, 5, 6], [7, 8, 9]]\n",
    "easier_to_read_list_of_lists = [ [1, 2, 3],\n",
    "                                 [4, 5, 6],\n",
    "                                 [7, 8, 9] ]"
   ]
  },
  {
   "cell_type": "markdown",
   "metadata": {
    "slideshow": {
     "slide_type": "subslide"
    }
   },
   "source": [
    "Você também pode usar uma barra invertida para indicar que uma declaração continua na próxima linha, embora raramente façamos isso:"
   ]
  },
  {
   "cell_type": "code",
   "execution_count": 7,
   "metadata": {
    "slideshow": {
     "slide_type": "fragment"
    }
   },
   "outputs": [],
   "source": [
    "two_plus_three = 2 + \\\n",
    "3"
   ]
  },
  {
   "cell_type": "markdown",
   "metadata": {
    "slideshow": {
     "slide_type": "subslide"
    }
   },
   "source": [
    "Uma conseqüência da formatação de espaços em branco é que pode ser difícil copiar e colar código no shell do Python. Por exemplo, se você tentar colar o código:"
   ]
  },
  {
   "cell_type": "code",
   "execution_count": 8,
   "metadata": {
    "slideshow": {
     "slide_type": "fragment"
    }
   },
   "outputs": [
    {
     "name": "stdout",
     "output_type": "stream",
     "text": [
      "1\n",
      "2\n",
      "3\n",
      "4\n",
      "5\n"
     ]
    }
   ],
   "source": [
    "for i in [1, 2, 3, 4, 5]:\n",
    "    \n",
    "    # notice the blank line\n",
    "    print(i)"
   ]
  },
  {
   "cell_type": "markdown",
   "metadata": {
    "slideshow": {
     "slide_type": "fragment"
    }
   },
   "source": [
    "no shell tradicional do Python, você receberá um erro do tipo:\n",
    "\n",
    "`IndentationError: expected an indented block`\n",
    "\n",
    "porque o interpretador pensa que a linha em branco sinaliza o fim do bloco do `for`."
   ]
  },
  {
   "cell_type": "markdown",
   "metadata": {
    "slideshow": {
     "slide_type": "slide"
    }
   },
   "source": [
    "## Módulos\n",
    "\n",
    "Certos recursos do Python não são carregados por padrão. Estes incluem os recursos padrão da linguagem e também recursos implementados por terceiros que você fez o download. Para usar esses recursos, você precisa importar os módulos que os contêm.\n",
    "\n",
    "Uma abordagem é simplesmente importar o próprio módulo:"
   ]
  },
  {
   "cell_type": "code",
   "execution_count": 9,
   "metadata": {
    "slideshow": {
     "slide_type": "fragment"
    }
   },
   "outputs": [
    {
     "name": "stdout",
     "output_type": "stream",
     "text": [
      "1253\n"
     ]
    }
   ],
   "source": [
    "import re\n",
    "my_regex = re.compile(\"[0-9]+\", re.I)\n",
    "\n",
    "result = my_regex.search(\"Distância percorrida: 1253 metros.\")\n",
    "print(result.group(0))"
   ]
  },
  {
   "cell_type": "markdown",
   "metadata": {
    "slideshow": {
     "slide_type": "subslide"
    }
   },
   "source": [
    "Aqui `re` é o módulo que contém funções e constantes para trabalhar com expressões regulares. Após este tipo de importação, você pode acessar essas funções prefixando-as com `re.` .\n",
    "\n",
    "Se você já tem um `re` diferente em seu código, você pode usar um alias:"
   ]
  },
  {
   "cell_type": "code",
   "execution_count": 10,
   "metadata": {
    "slideshow": {
     "slide_type": "fragment"
    }
   },
   "outputs": [],
   "source": [
    "import re as regex\n",
    "my_regex = regex.compile(\"[0-9]+\", regex.I)"
   ]
  },
  {
   "cell_type": "markdown",
   "metadata": {
    "slideshow": {
     "slide_type": "subslide"
    }
   },
   "source": [
    "Você também pode fazer isso se o seu módulo tiver um nome difícil ou se você for usar ele muito. Por exemplo, para o módulo de visualização de dados `matplotlib`, a convenção padrão é:"
   ]
  },
  {
   "cell_type": "code",
   "execution_count": 11,
   "metadata": {
    "slideshow": {
     "slide_type": "fragment"
    }
   },
   "outputs": [],
   "source": [
    "import matplotlib.pyplot as plt"
   ]
  },
  {
   "cell_type": "markdown",
   "metadata": {
    "slideshow": {
     "slide_type": "subslide"
    }
   },
   "source": [
    "Se você precisar de alguns recursos específicos de um módulo, você pode importá-los explicitamente e usá-los sem qualificação:"
   ]
  },
  {
   "cell_type": "code",
   "execution_count": 12,
   "metadata": {
    "slideshow": {
     "slide_type": "fragment"
    }
   },
   "outputs": [],
   "source": [
    "from collections import defaultdict, Counter\n",
    "lookup = defaultdict(int)\n",
    "my_counter = Counter()"
   ]
  },
  {
   "cell_type": "markdown",
   "metadata": {
    "slideshow": {
     "slide_type": "subslide"
    }
   },
   "source": [
    "Se você fosse uma pessoa ruim, você poderia importar todo o conteúdo de um módulo para o seu namespace, o que pode inadvertidamente substituir as variáveis que você já definiu:"
   ]
  },
  {
   "cell_type": "code",
   "execution_count": 13,
   "metadata": {
    "slideshow": {
     "slide_type": "fragment"
    }
   },
   "outputs": [
    {
     "name": "stdout",
     "output_type": "stream",
     "text": [
      "<function search at 0x0000025F8C8AF378>\n"
     ]
    }
   ],
   "source": [
    "search = 1\n",
    "from re import * #re tem uma função de nome 'search'\n",
    "print(search)"
   ]
  },
  {
   "cell_type": "markdown",
   "metadata": {
    "slideshow": {
     "slide_type": "fragment"
    }
   },
   "source": [
    "Como você não é uma pessoa ruim, você nunca fará isso. :)"
   ]
  },
  {
   "cell_type": "markdown",
   "metadata": {
    "slideshow": {
     "slide_type": "slide"
    }
   },
   "source": [
    "## Aritmética\n",
    "\n",
    "Python 2 fazia divisões inteiras por padrão, então `5/2` resultava em `2`. Isso gerava diversos problemas e, para consertar isso, tínhamos que inserir a linha `from __future__ import division` no início dos nossos códigos. No Python 3, não precisamos nos preocupar mais com isso. :) "
   ]
  },
  {
   "cell_type": "code",
   "execution_count": 14,
   "metadata": {
    "slideshow": {
     "slide_type": "fragment"
    }
   },
   "outputs": [
    {
     "name": "stdout",
     "output_type": "stream",
     "text": [
      "2.5\n"
     ]
    }
   ],
   "source": [
    "a = 5/2\n",
    "print(a)"
   ]
  },
  {
   "cell_type": "markdown",
   "metadata": {
    "slideshow": {
     "slide_type": "slide"
    }
   },
   "source": [
    "## Funções\n",
    "\n",
    "Uma função é uma regra para tomar zero ou mais entradas e retornar uma saída correspondente. Em Python, normalmente definimos funções usando `def`:"
   ]
  },
  {
   "cell_type": "code",
   "execution_count": 15,
   "metadata": {
    "slideshow": {
     "slide_type": "fragment"
    }
   },
   "outputs": [],
   "source": [
    "def double(x):\n",
    "    \"\"\"aqui você coloca um texto opcional\n",
    "    que explica o que a sua função faz\n",
    "    neste caso, essa é uma função que duplica o argumento\"\"\"\n",
    "    return x * 2"
   ]
  },
  {
   "cell_type": "markdown",
   "metadata": {
    "slideshow": {
     "slide_type": "subslide"
    }
   },
   "source": [
    "As funções de Python são de *primeira classe*, o que significa que podemos atribuí-las a variáveis e passá-las para funções como qualquer outro argumento:"
   ]
  },
  {
   "cell_type": "code",
   "execution_count": 16,
   "metadata": {
    "slideshow": {
     "slide_type": "fragment"
    }
   },
   "outputs": [
    {
     "name": "stdout",
     "output_type": "stream",
     "text": [
      "2\n"
     ]
    }
   ],
   "source": [
    "def apply_to_one(f):\n",
    "    \"\"\"chama a função f passando 1 como argumento\"\"\"\n",
    "    return f(1)\n",
    "\n",
    "my_double = double #função double definida anteriormente\n",
    "x = apply_to_one(my_double) #passa a função como parâmetro\n",
    "print(x)"
   ]
  },
  {
   "cell_type": "markdown",
   "metadata": {
    "slideshow": {
     "slide_type": "subslide"
    }
   },
   "source": [
    "Também é fácil criar funções anônimas curtas, ou `lambdas`:"
   ]
  },
  {
   "cell_type": "code",
   "execution_count": 17,
   "metadata": {
    "slideshow": {
     "slide_type": "fragment"
    }
   },
   "outputs": [
    {
     "name": "stdout",
     "output_type": "stream",
     "text": [
      "10\n"
     ]
    }
   ],
   "source": [
    "y = apply_to_one(lambda x: x + 9)\n",
    "print(y)"
   ]
  },
  {
   "cell_type": "markdown",
   "metadata": {
    "slideshow": {
     "slide_type": "subslide"
    }
   },
   "source": [
    "Você pode atribuir `lambdas` às variáveis, embora a maioria das pessoas diga que você deveria usar `def` em vez disso:"
   ]
  },
  {
   "cell_type": "code",
   "execution_count": 18,
   "metadata": {
    "slideshow": {
     "slide_type": "fragment"
    }
   },
   "outputs": [
    {
     "name": "stdout",
     "output_type": "stream",
     "text": [
      "6\n",
      "6\n"
     ]
    }
   ],
   "source": [
    "another_double = lambda x: 2 * x #não faça isso! :(\n",
    "y = another_double(3)\n",
    "print(y)\n",
    "\n",
    "def another_double(x): return 2 * x #faça isso! :)\n",
    "y = another_double(3)\n",
    "print(y)"
   ]
  },
  {
   "cell_type": "markdown",
   "metadata": {
    "slideshow": {
     "slide_type": "subslide"
    }
   },
   "source": [
    "É possível dar valores padrão para os parâmetros de função, que só precisam ser especificados quando você deseja um valor diferente do padrão:"
   ]
  },
  {
   "cell_type": "code",
   "execution_count": 19,
   "metadata": {
    "slideshow": {
     "slide_type": "fragment"
    }
   },
   "outputs": [
    {
     "name": "stdout",
     "output_type": "stream",
     "text": [
      "Nada a dizer?\n",
      "olá!\n"
     ]
    }
   ],
   "source": [
    "def my_print(message=\"Nada a dizer?\"):\n",
    "    print(message)\n",
    "    \n",
    "my_print()\n",
    "my_print(\"olá!\")"
   ]
  },
  {
   "cell_type": "markdown",
   "metadata": {
    "slideshow": {
     "slide_type": "subslide"
    }
   },
   "source": [
    "Algumas vezes teremos que especificar argumentos pelo nome:"
   ]
  },
  {
   "cell_type": "code",
   "execution_count": 69,
   "metadata": {
    "slideshow": {
     "slide_type": "fragment"
    }
   },
   "outputs": [
    {
     "name": "stdout",
     "output_type": "stream",
     "text": [
      "5\n",
      "-5\n",
      "-5\n"
     ]
    }
   ],
   "source": [
    "def subtract(a=0, b=0):\n",
    "    return a - b\n",
    "\n",
    "print(subtract(10, 5))\n",
    "print(subtract(0, 5)) \n",
    "print(subtract(b=5))\n"
   ]
  },
  {
   "cell_type": "code",
   "execution_count": 70,
   "metadata": {},
   "outputs": [
    {
     "data": {
      "text/plain": [
       "2"
      ]
     },
     "execution_count": 70,
     "metadata": {},
     "output_type": "execute_result"
    }
   ],
   "source": [
    "subtract(2)"
   ]
  },
  {
   "cell_type": "markdown",
   "metadata": {
    "slideshow": {
     "slide_type": "fragment"
    }
   },
   "source": [
    "Vamos criar muitas, muitas funções."
   ]
  },
  {
   "cell_type": "markdown",
   "metadata": {
    "slideshow": {
     "slide_type": "slide"
    }
   },
   "source": [
    "## Strings\n",
    "\n",
    "Strings podem ser delimitadas por aspas simples ou duplas, mas as aspas têm que ser do mesmo tipo para uma dada string:"
   ]
  },
  {
   "cell_type": "code",
   "execution_count": 21,
   "metadata": {
    "slideshow": {
     "slide_type": "fragment"
    }
   },
   "outputs": [],
   "source": [
    "single_quoted_string = 'data science'\n",
    "double_quoted_string = \"data science\""
   ]
  },
  {
   "cell_type": "markdown",
   "metadata": {
    "slideshow": {
     "slide_type": "subslide"
    }
   },
   "source": [
    "Python usa barras invertidas (`\\`) para codificar caracteres especiais. Por exemplo:"
   ]
  },
  {
   "cell_type": "code",
   "execution_count": 22,
   "metadata": {
    "slideshow": {
     "slide_type": "fragment"
    }
   },
   "outputs": [
    {
     "name": "stdout",
     "output_type": "stream",
     "text": [
      "\t 1\n"
     ]
    }
   ],
   "source": [
    "tab_string = \"\\t\" #caractere tab\n",
    "print(tab_string, len(tab_string))"
   ]
  },
  {
   "cell_type": "markdown",
   "metadata": {
    "slideshow": {
     "slide_type": "subslide"
    }
   },
   "source": [
    "Se você quer barras invertidas como barras invertidas (para indicar pastas ou em expressões regulares), você pode criar strings cruas usando `r\"\"`:"
   ]
  },
  {
   "cell_type": "code",
   "execution_count": 23,
   "metadata": {
    "slideshow": {
     "slide_type": "fragment"
    }
   },
   "outputs": [
    {
     "name": "stdout",
     "output_type": "stream",
     "text": [
      "\\t 2\n"
     ]
    }
   ],
   "source": [
    "not_tab_string = r\"\\t\"\n",
    "len(not_tab_string)\n",
    "print(not_tab_string, len(not_tab_string))"
   ]
  },
  {
   "cell_type": "markdown",
   "metadata": {
    "slideshow": {
     "slide_type": "subslide"
    }
   },
   "source": [
    "você pode criar strings em múltiplas linhas usando aspas duplas triplas (`\"\"\"`):"
   ]
  },
  {
   "cell_type": "code",
   "execution_count": 24,
   "metadata": {
    "slideshow": {
     "slide_type": "fragment"
    }
   },
   "outputs": [
    {
     "name": "stdout",
     "output_type": "stream",
     "text": [
      "This is the first line.\n",
      "and this is the second line\n",
      "and this is the third line\n"
     ]
    }
   ],
   "source": [
    "multi_line_string = \"\"\"This is the first line.\n",
    "and this is the second line\n",
    "and this is the third line\"\"\"\n",
    "print(multi_line_string)"
   ]
  },
  {
   "cell_type": "markdown",
   "metadata": {
    "slideshow": {
     "slide_type": "slide"
    }
   },
   "source": [
    "## Exceções \n",
    "\n",
    "Quando alguma coisa errada ou estranha acontece, Python lança uma exceção (*exception*). Se não forem tratadas, essas vão fazer com o que o seu programa seja interrompiado (*crash*). Você pode lidar com elas usando os comandos `try` e `except`:"
   ]
  },
  {
   "cell_type": "code",
   "execution_count": 73,
   "metadata": {
    "slideshow": {
     "slide_type": "fragment"
    }
   },
   "outputs": [
    {
     "name": "stdout",
     "output_type": "stream",
     "text": [
      "cannot divide by zero\n"
     ]
    }
   ],
   "source": [
    "try:\n",
    "    print(0 / 0)\n",
    "except:\n",
    "    print(\"cannot divide by zero\")\n",
    "\n"
   ]
  },
  {
   "cell_type": "markdown",
   "metadata": {
    "slideshow": {
     "slide_type": "fragment"
    }
   },
   "source": [
    "Embora em muitas linguagens as exceções sejam consideradas ruins, em Python não há vergonha de usá-las para tornar o seu código mais limpo, e ocasionalmente o faremos."
   ]
  },
  {
   "cell_type": "markdown",
   "metadata": {
    "slideshow": {
     "slide_type": "slide"
    }
   },
   "source": [
    "## Listas\n",
    "\n",
    "Provavelmente, a estrutura de dados mais fundamental em Python é a lista, ou `list`. Uma lista é simplesmente uma coleção ordenada. É semelhante ao que em outros idiomas pode ser chamado de vetor, mas com alguma funcionalidade adicional."
   ]
  },
  {
   "cell_type": "code",
   "execution_count": 26,
   "metadata": {
    "slideshow": {
     "slide_type": "fragment"
    }
   },
   "outputs": [
    {
     "name": "stdout",
     "output_type": "stream",
     "text": [
      "[[1, 2, 3], ['string', 0.1, True], []]\n",
      "3\n",
      "6\n"
     ]
    }
   ],
   "source": [
    "integer_list = [1, 2, 3]\n",
    "heterogeneous_list = [\"string\", 0.1, True]\n",
    "list_of_lists = [ integer_list, heterogeneous_list, [] ]\n",
    "print(list_of_lists)\n",
    "\n",
    "print(len(integer_list))\n",
    "print(sum(integer_list))"
   ]
  },
  {
   "cell_type": "code",
   "execution_count": 75,
   "metadata": {},
   "outputs": [
    {
     "name": "stdout",
     "output_type": "stream",
     "text": [
      "asdasd\n"
     ]
    }
   ],
   "source": [
    "l = [\"asd\", \"kdj\"]\n",
    "print(\"asd\" + \"asd\")"
   ]
  },
  {
   "cell_type": "code",
   "execution_count": 77,
   "metadata": {},
   "outputs": [
    {
     "name": "stdout",
     "output_type": "stream",
     "text": [
      "4\n"
     ]
    }
   ],
   "source": [
    "A = [1, 2, 3, 4, 5]\n",
    "*_, x, _ = A\n",
    "print(x)"
   ]
  },
  {
   "cell_type": "markdown",
   "metadata": {
    "slideshow": {
     "slide_type": "subslide"
    }
   },
   "source": [
    "Você pode acessar ou alterar o n-ésimo elemento de uma lista usando colchetes:"
   ]
  },
  {
   "cell_type": "code",
   "execution_count": 27,
   "metadata": {
    "slideshow": {
     "slide_type": "fragment"
    }
   },
   "outputs": [
    {
     "name": "stdout",
     "output_type": "stream",
     "text": [
      "x:  [0, 1, 2, 3, 4, 5, 6, 7, 8, 9]\n",
      "0 1 9 8 -1\n"
     ]
    }
   ],
   "source": [
    "x = list(range(10))\n",
    "print(\"x: \", x)\n",
    "\n",
    "zero = x[0]\n",
    "one = x[1]\n",
    "nine = x[-1] #o índice -1 refere-se ao último elemento da lista\n",
    "eight = x[-2] #o índice -2 refere-se ao penúltimo elemento da lista\n",
    "x[0] = -1\n",
    "print(zero, one, nine, eight, x[0])"
   ]
  },
  {
   "cell_type": "markdown",
   "metadata": {
    "slideshow": {
     "slide_type": "subslide"
    }
   },
   "source": [
    "Você pode usar também colchetes para acessar uma parte de uma lista:"
   ]
  },
  {
   "cell_type": "code",
   "execution_count": 28,
   "metadata": {
    "slideshow": {
     "slide_type": "fragment"
    }
   },
   "outputs": [
    {
     "name": "stdout",
     "output_type": "stream",
     "text": [
      "[-1, 1, 2]\n",
      "[3, 4, 5, 6, 7, 8, 9]\n",
      "[1, 2, 3, 4]\n",
      "[7, 8, 9]\n",
      "[1, 2, 3, 4, 5, 6, 7, 8]\n",
      "[-1, 1, 2, 3, 4, 5, 6, 7, 8, 9]\n"
     ]
    }
   ],
   "source": [
    "first_three = x[:3]\n",
    "print(first_three)\n",
    "\n",
    "three_to_end = x[3:]\n",
    "print(three_to_end)\n",
    "\n",
    "one_to_four = x[1:5]\n",
    "print(one_to_four)\n",
    "\n",
    "last_three = x[-3:]\n",
    "print(last_three)\n",
    "\n",
    "without_first_and_last = x[1:-1]\n",
    "print(without_first_and_last)\n",
    "\n",
    "copy_of_x = x[:]\n",
    "print(copy_of_x)"
   ]
  },
  {
   "cell_type": "markdown",
   "metadata": {
    "slideshow": {
     "slide_type": "subslide"
    }
   },
   "source": [
    "Python tem um operador `in` para checar se um item pertence a uma lista:"
   ]
  },
  {
   "cell_type": "code",
   "execution_count": 29,
   "metadata": {
    "slideshow": {
     "slide_type": "fragment"
    }
   },
   "outputs": [
    {
     "name": "stdout",
     "output_type": "stream",
     "text": [
      "True\n",
      "False\n"
     ]
    }
   ],
   "source": [
    "print(1 in [1, 2, 3])\n",
    "\n",
    "print(0 in [1, 2, 3])\n"
   ]
  },
  {
   "cell_type": "markdown",
   "metadata": {
    "slideshow": {
     "slide_type": "subslide"
    }
   },
   "source": [
    "Esta verificação envolve examinar os elementos da lista um de cada vez, o que significa que você provavelmente não deve usá-lo, a menos que você saiba que sua lista é bastante pequena (ou, a menos que você não se preocupe quanto tempo esse processo demora).\n",
    "\n",
    "É fácil concatenar listas em conjunto:"
   ]
  },
  {
   "cell_type": "code",
   "execution_count": 30,
   "metadata": {
    "slideshow": {
     "slide_type": "fragment"
    }
   },
   "outputs": [
    {
     "name": "stdout",
     "output_type": "stream",
     "text": [
      "[1, 2, 3, 4, 5, 6]\n"
     ]
    }
   ],
   "source": [
    "x = [1, 2, 3]\n",
    "x.extend([4, 5, 6])\n",
    "print(x)"
   ]
  },
  {
   "cell_type": "markdown",
   "metadata": {
    "slideshow": {
     "slide_type": "subslide"
    }
   },
   "source": [
    "Se você não quer modificar `x`, você pode usar o operador `+` para fazer adição de listas:"
   ]
  },
  {
   "cell_type": "code",
   "execution_count": 31,
   "metadata": {
    "slideshow": {
     "slide_type": "fragment"
    }
   },
   "outputs": [
    {
     "name": "stdout",
     "output_type": "stream",
     "text": [
      "[1, 2, 3, 4, 5, 6]\n"
     ]
    }
   ],
   "source": [
    "x = [1, 2, 3]\n",
    "y = x + [4, 5, 6]\n",
    "print(y)"
   ]
  },
  {
   "cell_type": "markdown",
   "metadata": {
    "slideshow": {
     "slide_type": "subslide"
    }
   },
   "source": [
    "Com muita frequência iremos adicionar a uma lista um item de cada vez:"
   ]
  },
  {
   "cell_type": "code",
   "execution_count": 32,
   "metadata": {
    "slideshow": {
     "slide_type": "fragment"
    }
   },
   "outputs": [
    {
     "name": "stdout",
     "output_type": "stream",
     "text": [
      "[1, 2, 3, 0]\n"
     ]
    }
   ],
   "source": [
    "x = [1, 2, 3]\n",
    "x.append(0)\n",
    "print(x)"
   ]
  },
  {
   "cell_type": "markdown",
   "metadata": {
    "slideshow": {
     "slide_type": "subslide"
    }
   },
   "source": [
    "Muitas vezes é conveniente descompactar (*unpack*) listas se você sabe quantos elementos elas contêm:"
   ]
  },
  {
   "cell_type": "code",
   "execution_count": 33,
   "metadata": {
    "slideshow": {
     "slide_type": "fragment"
    }
   },
   "outputs": [
    {
     "name": "stdout",
     "output_type": "stream",
     "text": [
      "1 2\n"
     ]
    }
   ],
   "source": [
    "x, y = [1, 2]\n",
    "print(x,y)"
   ]
  },
  {
   "cell_type": "markdown",
   "metadata": {
    "slideshow": {
     "slide_type": "subslide"
    }
   },
   "source": [
    "embora você obtenha um `ValueError` se você não tiver o mesmo número de elementos em ambos os lados.\n",
    "\n",
    "É comum utilizar um sublinhado para um valor que você vai jogar fora:"
   ]
  },
  {
   "cell_type": "code",
   "execution_count": 34,
   "metadata": {
    "slideshow": {
     "slide_type": "fragment"
    }
   },
   "outputs": [
    {
     "name": "stdout",
     "output_type": "stream",
     "text": [
      "2\n"
     ]
    }
   ],
   "source": [
    "_, y, _ = [1, 2, 3]\n",
    "print(y)"
   ]
  },
  {
   "cell_type": "markdown",
   "metadata": {
    "slideshow": {
     "slide_type": "slide"
    }
   },
   "source": [
    "## Tuplas\n",
    "\n",
    "Os tuplas são primos imutáveis das listas. Praticamente tudo o que você pode fazer para uma lista que não envolve modificá-la, você pode fazer para uma tupla. Você especifica uma tupla usando parênteses (ou nada) em vez de colchetes:"
   ]
  },
  {
   "cell_type": "code",
   "execution_count": 35,
   "metadata": {
    "slideshow": {
     "slide_type": "fragment"
    }
   },
   "outputs": [
    {
     "name": "stdout",
     "output_type": "stream",
     "text": [
      "[1, 3]\n",
      "(1, 2) (3, 4)\n",
      "cannot modify a tuple\n"
     ]
    }
   ],
   "source": [
    "my_list = [1, 2]\n",
    "my_list[1] = 3\n",
    "print(my_list)\n",
    "\n",
    "my_tuple = (1, 2)\n",
    "other_tuple = 3, 4\n",
    "print(my_tuple, other_tuple)\n",
    "\n",
    "try:\n",
    "    my_tuple[1] = 3\n",
    "except TypeError:\n",
    "    print(\"cannot modify a tuple\")"
   ]
  },
  {
   "cell_type": "markdown",
   "metadata": {
    "slideshow": {
     "slide_type": "subslide"
    }
   },
   "source": [
    "Tuplas são convenientes para retornar mais de uma valor em uma função:"
   ]
  },
  {
   "cell_type": "code",
   "execution_count": 36,
   "metadata": {
    "slideshow": {
     "slide_type": "fragment"
    }
   },
   "outputs": [
    {
     "name": "stdout",
     "output_type": "stream",
     "text": [
      "(5, 6)\n",
      "15 50\n"
     ]
    }
   ],
   "source": [
    "def sum_and_product(x, y):\n",
    "    return (x + y),(x * y)\n",
    "\n",
    "sp = sum_and_product(2, 3)\n",
    "print(sp)\n",
    "\n",
    "s, p = sum_and_product(5, 10) # s is 15, p is 50\n",
    "print(s,p)"
   ]
  },
  {
   "cell_type": "markdown",
   "metadata": {
    "slideshow": {
     "slide_type": "subslide"
    }
   },
   "source": [
    "Tuplas (e listas) podem também ser usadas para atribuições múltiplas:"
   ]
  },
  {
   "cell_type": "code",
   "execution_count": 37,
   "metadata": {
    "slideshow": {
     "slide_type": "fragment"
    }
   },
   "outputs": [
    {
     "name": "stdout",
     "output_type": "stream",
     "text": [
      "1 2\n",
      "2 1\n"
     ]
    }
   ],
   "source": [
    "x, y = 1, 2\n",
    "print(x,y)\n",
    "\n",
    "x, y = y, x #modo Pythônico de trocar variáveis\n",
    "print(x,y)"
   ]
  },
  {
   "cell_type": "markdown",
   "metadata": {
    "slideshow": {
     "slide_type": "slide"
    }
   },
   "source": [
    "## Dicionários\n",
    "\n",
    "Outra estrutura de dados fundamental é um dicionário, que associa valores com chaves e permite recuperar rapidamente o valor correspondente a uma determinada chave:"
   ]
  },
  {
   "cell_type": "code",
   "execution_count": 38,
   "metadata": {
    "slideshow": {
     "slide_type": "fragment"
    }
   },
   "outputs": [],
   "source": [
    "empty_dict = {}                           #Pythônico\n",
    "empty_dict2 = dict()                      #não tão Pythônico\n",
    "grades = { \"Joel\" : 80, \"Tim\" : 95 }      #sintaxe de um dicionário"
   ]
  },
  {
   "cell_type": "markdown",
   "metadata": {
    "slideshow": {
     "slide_type": "subslide"
    }
   },
   "source": [
    "Você pode acessar um valor através de sua chave:"
   ]
  },
  {
   "cell_type": "code",
   "execution_count": 39,
   "metadata": {
    "slideshow": {
     "slide_type": "fragment"
    }
   },
   "outputs": [
    {
     "name": "stdout",
     "output_type": "stream",
     "text": [
      "80\n"
     ]
    }
   ],
   "source": [
    "joels_grade = grades[\"Joel\"]\n",
    "print(joels_grade)"
   ]
  },
  {
   "cell_type": "markdown",
   "metadata": {
    "slideshow": {
     "slide_type": "subslide"
    }
   },
   "source": [
    "Mas você receberá um `KeyError` se você procurar uma uma chave que não existe no dicionário:"
   ]
  },
  {
   "cell_type": "code",
   "execution_count": 40,
   "metadata": {
    "slideshow": {
     "slide_type": "fragment"
    }
   },
   "outputs": [
    {
     "name": "stdout",
     "output_type": "stream",
     "text": [
      "no grade for Kate!\n"
     ]
    }
   ],
   "source": [
    "try:\n",
    "    kates_grade = grades[\"Kate\"]\n",
    "except KeyError:\n",
    "    print(\"no grade for Kate!\")"
   ]
  },
  {
   "cell_type": "code",
   "execution_count": 78,
   "metadata": {},
   "outputs": [],
   "source": [
    "grades[\"Kate\"] = 0"
   ]
  },
  {
   "cell_type": "markdown",
   "metadata": {
    "slideshow": {
     "slide_type": "subslide"
    }
   },
   "source": [
    "Você pode verificar a existência de uma chave usando o operador `in`"
   ]
  },
  {
   "cell_type": "code",
   "execution_count": 41,
   "metadata": {
    "slideshow": {
     "slide_type": "fragment"
    }
   },
   "outputs": [
    {
     "name": "stdout",
     "output_type": "stream",
     "text": [
      "True\n",
      "False\n"
     ]
    }
   ],
   "source": [
    "joel_has_grade = \"Joel\" in grades\n",
    "print(joel_has_grade)\n",
    "kate_has_grade = \"Kate\" in grades\n",
    "print(kate_has_grade)"
   ]
  },
  {
   "cell_type": "markdown",
   "metadata": {
    "slideshow": {
     "slide_type": "subslide"
    }
   },
   "source": [
    "Os dicionários têm um método `get` que retorna um valor padrão (em vez de lançar uma exceção) quando você procura uma chave que não está no dicionário:"
   ]
  },
  {
   "cell_type": "code",
   "execution_count": 42,
   "metadata": {
    "scrolled": true,
    "slideshow": {
     "slide_type": "fragment"
    }
   },
   "outputs": [
    {
     "name": "stdout",
     "output_type": "stream",
     "text": [
      "80\n",
      "0\n",
      "None\n"
     ]
    }
   ],
   "source": [
    "joels_grade = grades.get(\"Joel\", 0)\n",
    "print(joels_grade)\n",
    "\n",
    "kates_grade = grades.get(\"Kate\", 0)\n",
    "print(kates_grade)\n",
    "\n",
    "no_ones_grade = grades.get(\"No One\")\n",
    "print(no_ones_grade)"
   ]
  },
  {
   "cell_type": "code",
   "execution_count": 79,
   "metadata": {
    "scrolled": true
   },
   "outputs": [
    {
     "data": {
      "text/plain": [
       "{'Joel': 80, 'Kate': 0, 'Tim': 99}"
      ]
     },
     "execution_count": 79,
     "metadata": {},
     "output_type": "execute_result"
    }
   ],
   "source": [
    "grades"
   ]
  },
  {
   "cell_type": "code",
   "execution_count": 82,
   "metadata": {},
   "outputs": [
    {
     "data": {
      "text/plain": [
       "dict_keys(['Joel', 'Tim', 'Kate'])"
      ]
     },
     "execution_count": 82,
     "metadata": {},
     "output_type": "execute_result"
    }
   ],
   "source": [
    "grades.keys()"
   ]
  },
  {
   "cell_type": "code",
   "execution_count": 81,
   "metadata": {},
   "outputs": [
    {
     "name": "stdout",
     "output_type": "stream",
     "text": [
      "0 99\n"
     ]
    }
   ],
   "source": [
    "gradeKate, gradeTim = (grades[\"Kate\"], grades[\"Tim\"])\n",
    "print(gradeKate, gradeTim)"
   ]
  },
  {
   "cell_type": "markdown",
   "metadata": {
    "slideshow": {
     "slide_type": "subslide"
    }
   },
   "source": [
    "Você atribui pares valor-chave usando colchetes:"
   ]
  },
  {
   "cell_type": "code",
   "execution_count": 43,
   "metadata": {
    "slideshow": {
     "slide_type": "fragment"
    }
   },
   "outputs": [
    {
     "name": "stdout",
     "output_type": "stream",
     "text": [
      "{'Joel': 80, 'Tim': 95}\n",
      "3 {'Joel': 80, 'Tim': 99, 'Kate': 100}\n"
     ]
    }
   ],
   "source": [
    "print(grades)\n",
    "\n",
    "grades[\"Tim\"] = 99                #atualiza a nota do Tim\n",
    "grades[\"Kate\"] = 100\n",
    "\n",
    "num_students = len(grades)\n",
    "print(num_students, grades)"
   ]
  },
  {
   "cell_type": "markdown",
   "metadata": {
    "slideshow": {
     "slide_type": "subslide"
    }
   },
   "source": [
    "Nos usaremos frequentemente dicionários como uma forma simples de representar dados estruturados:"
   ]
  },
  {
   "cell_type": "code",
   "execution_count": 44,
   "metadata": {
    "slideshow": {
     "slide_type": "fragment"
    }
   },
   "outputs": [],
   "source": [
    "tweet = {\n",
    "\"user\" : \"joelgrus\",\n",
    "\"text\" : \"Data Science is Awesome\",\n",
    "\"retweet_count\" : 100,\n",
    "\"hashtags\" : [\"#data\", \"#science\", \"#datascience\", \"#awesome\", \"#yolo\"]\n",
    "}"
   ]
  },
  {
   "cell_type": "markdown",
   "metadata": {
    "slideshow": {
     "slide_type": "subslide"
    }
   },
   "source": [
    "Ao invés de procurar por chaves específicas, podemos acessar todas elas:"
   ]
  },
  {
   "cell_type": "code",
   "execution_count": 45,
   "metadata": {
    "slideshow": {
     "slide_type": "fragment"
    }
   },
   "outputs": [
    {
     "name": "stdout",
     "output_type": "stream",
     "text": [
      "dict_keys(['user', 'text', 'retweet_count', 'hashtags'])\n",
      "-\n",
      "dict_values(['joelgrus', 'Data Science is Awesome', 100, ['#data', '#science', '#datascience', '#awesome', '#yolo']])\n",
      "-\n",
      "dict_items([('user', 'joelgrus'), ('text', 'Data Science is Awesome'), ('retweet_count', 100), ('hashtags', ['#data', '#science', '#datascience', '#awesome', '#yolo'])])\n",
      "-\n",
      "True\n",
      "True\n",
      "True\n"
     ]
    }
   ],
   "source": [
    "tweet_keys = tweet.keys()            #lista das chaves         \n",
    "print(tweet_keys)\n",
    "print('-')\n",
    "\n",
    "tweet_values = tweet.values()        #lista dos valores\n",
    "print(tweet_values)\n",
    "print('-')\n",
    "\n",
    "tweet_items = tweet.items() #lista das tuplas (chave, valor)\n",
    "print(tweet_items)\n",
    "print('-')\n",
    "\n",
    "print(\"user\" in tweet_keys) #Lento, in sobre uma list\n",
    "print(\"user\" in tweet)      #Mais pythônico (rápido), in sobre um dict\n",
    "print(\"joelgrus\" in tweet_values)"
   ]
  },
  {
   "cell_type": "markdown",
   "metadata": {
    "slideshow": {
     "slide_type": "subslide"
    }
   },
   "source": [
    "As chaves do dicionário devem ser imutáveis; em particular, você não pode usar listas como chaves. Se você precisar de uma chave de várias partes, você deve usar uma tupla ou descobrir uma maneira de transformar a chave em uma string."
   ]
  },
  {
   "cell_type": "markdown",
   "metadata": {
    "slideshow": {
     "slide_type": "slide"
    }
   },
   "source": [
    "### defaultdict\n",
    "\n",
    "Imagine que você está tentando contar as palavras em um documento. Uma abordagem óbvia é criar um dicionário na qual as chaves são palavras e os valores são contagens. À medida que você verifica cada palavra, você pode incrementar sua contagem se já estiver no dicionário e adicioná-la ao dicionário caso ela não esteja nele:"
   ]
  },
  {
   "cell_type": "code",
   "execution_count": 46,
   "metadata": {
    "slideshow": {
     "slide_type": "subslide"
    }
   },
   "outputs": [
    {
     "name": "stdout",
     "output_type": "stream",
     "text": [
      "{'The': 3, 'rose': 2, 'is': 1, 'a': 6, 'rose,': 2, 'And': 2, 'was': 1, 'always': 2, 'rose.': 3, 'But': 2, 'the': 3, 'theory': 1, 'now': 1, 'goes': 1, 'That': 1, 'apple’s': 1, 'pear': 1, 'is,': 1, 'and': 1, 'so’s': 1, 'plum,': 1, 'I': 1, 'suppose.': 1, 'dear': 1, 'only': 1, 'knows': 1, 'What': 1, 'will': 1, 'next': 1, 'prove': 1, 'You,': 1, 'of': 1, 'course,': 1, 'are': 1, '–': 1, 'were': 1}\n"
     ]
    }
   ],
   "source": [
    "poem = \"\"\"The rose is a rose,\n",
    "And was always a rose.\n",
    "But the theory now goes\n",
    "That the apple’s a rose,\n",
    "And the pear is, and so’s\n",
    "The plum, I suppose.\n",
    "The dear only knows\n",
    "What will next prove a rose.\n",
    "You, of course, are a rose –\n",
    "But were always a rose.\"\"\"\n",
    "\n",
    "document = poem.split()   #transforma a string em uma list de palavras\n",
    "word_counts = {}\n",
    "for word in document:    \n",
    "    if word in word_counts:\n",
    "        word_counts[word] += 1\n",
    "    else:\n",
    "        word_counts[word] = 1\n",
    "\n",
    "print(word_counts)"
   ]
  },
  {
   "cell_type": "markdown",
   "metadata": {
    "slideshow": {
     "slide_type": "subslide"
    }
   },
   "source": [
    "Você também pode usar a abordagem \"perdão é melhor do que permissão\" e apenas lidar com a exceção quando houver uma chave que não está no dicionário:"
   ]
  },
  {
   "cell_type": "code",
   "execution_count": 47,
   "metadata": {
    "slideshow": {
     "slide_type": "fragment"
    }
   },
   "outputs": [
    {
     "name": "stdout",
     "output_type": "stream",
     "text": [
      "{'The': 3, 'rose': 2, 'is': 1, 'a': 6, 'rose,': 2, 'And': 2, 'was': 1, 'always': 2, 'rose.': 3, 'But': 2, 'the': 3, 'theory': 1, 'now': 1, 'goes': 1, 'That': 1, 'apple’s': 1, 'pear': 1, 'is,': 1, 'and': 1, 'so’s': 1, 'plum,': 1, 'I': 1, 'suppose.': 1, 'dear': 1, 'only': 1, 'knows': 1, 'What': 1, 'will': 1, 'next': 1, 'prove': 1, 'You,': 1, 'of': 1, 'course,': 1, 'are': 1, '–': 1, 'were': 1}\n"
     ]
    }
   ],
   "source": [
    "word_counts = {}\n",
    "for word in document:\n",
    "    try:\n",
    "        word_counts[word] += 1\n",
    "    except KeyError:\n",
    "        word_counts[word] = 1\n",
    "print(word_counts)        "
   ]
  },
  {
   "cell_type": "raw",
   "metadata": {
    "slideshow": {
     "slide_type": "subslide"
    }
   },
   "source": [
    "Uma terceira abordagem é usar o `get`, que se comporta graciosamente quando há chaves faltantes:"
   ]
  },
  {
   "cell_type": "code",
   "execution_count": 48,
   "metadata": {
    "slideshow": {
     "slide_type": "fragment"
    }
   },
   "outputs": [
    {
     "name": "stdout",
     "output_type": "stream",
     "text": [
      "{'The': 3, 'rose': 2, 'is': 1, 'a': 6, 'rose,': 2, 'And': 2, 'was': 1, 'always': 2, 'rose.': 3, 'But': 2, 'the': 3, 'theory': 1, 'now': 1, 'goes': 1, 'That': 1, 'apple’s': 1, 'pear': 1, 'is,': 1, 'and': 1, 'so’s': 1, 'plum,': 1, 'I': 1, 'suppose.': 1, 'dear': 1, 'only': 1, 'knows': 1, 'What': 1, 'will': 1, 'next': 1, 'prove': 1, 'You,': 1, 'of': 1, 'course,': 1, 'are': 1, '–': 1, 'were': 1}\n"
     ]
    }
   ],
   "source": [
    "word_counts = {}\n",
    "for word in document:\n",
    "    previous_count = word_counts.get(word, 0)\n",
    "    word_counts[word] = previous_count + 1\n",
    "print(word_counts)"
   ]
  },
  {
   "cell_type": "markdown",
   "metadata": {
    "slideshow": {
     "slide_type": "subslide"
    }
   },
   "source": [
    "Cada uma das três abordagens acima são um pouco pesadas, e é por isso que o `defaultdict` é útil. Um `defaultdict` é como um dicionário regular, exceto que, quando você tenta procurar uma chave que não existe, ele primeiro adiciona um valor para ela usando uma função sem argumentos (*zero-argument function*) que você provê ao criá-lo. Para usar `defaultdict`s, você deve importá-los do módulo `collections`:"
   ]
  },
  {
   "cell_type": "code",
   "execution_count": 49,
   "metadata": {
    "slideshow": {
     "slide_type": "fragment"
    }
   },
   "outputs": [
    {
     "name": "stdout",
     "output_type": "stream",
     "text": [
      "0\n",
      "defaultdict(<class 'int'>, {'The': 3, 'rose': 2, 'is': 1, 'a': 6, 'rose,': 2, 'And': 2, 'was': 1, 'always': 2, 'rose.': 3, 'But': 2, 'the': 3, 'theory': 1, 'now': 1, 'goes': 1, 'That': 1, 'apple’s': 1, 'pear': 1, 'is,': 1, 'and': 1, 'so’s': 1, 'plum,': 1, 'I': 1, 'suppose.': 1, 'dear': 1, 'only': 1, 'knows': 1, 'What': 1, 'will': 1, 'next': 1, 'prove': 1, 'You,': 1, 'of': 1, 'course,': 1, 'are': 1, '–': 1, 'were': 1})\n"
     ]
    }
   ],
   "source": [
    "from collections import defaultdict\n",
    "\n",
    "word_counts = defaultdict(int)         # int() não tem argumentos\n",
    "print(int())                           # int() retorna 0\n",
    "\n",
    "for word in document:\n",
    "    word_counts[word] += 1\n",
    "\n",
    "print(word_counts)"
   ]
  },
  {
   "cell_type": "markdown",
   "metadata": {
    "slideshow": {
     "slide_type": "subslide"
    }
   },
   "source": [
    "Eles também podem ser úteis com listas, dicionários ou até mesmo com suas próprias funções:"
   ]
  },
  {
   "cell_type": "code",
   "execution_count": 50,
   "metadata": {
    "slideshow": {
     "slide_type": "fragment"
    }
   },
   "outputs": [
    {
     "name": "stdout",
     "output_type": "stream",
     "text": [
      "defaultdict(<class 'list'>, {2: [1]})\n",
      "defaultdict(<class 'dict'>, {'Joel': {'City': 'Seattle'}})\n",
      "[0, 0]\n",
      "defaultdict(<function <lambda> at 0x0000025F91422378>, {1: [0, 0], 2: [0, 10], 3: [0, 0, 10]})\n"
     ]
    }
   ],
   "source": [
    "dd_list = defaultdict(list)      # list() retorna uma lista vazia\n",
    "dd_list[2].append(1)             \n",
    "print(dd_list)\n",
    "\n",
    "dd_dict = defaultdict(dict)      # dict() retorna um dict vazio\n",
    "dd_dict[\"Joel\"][\"City\"] = \"Seattle\" \n",
    "print(dd_dict)\n",
    "\n",
    "dd_pair = defaultdict(lambda: [0, 0])\n",
    "print(dd_pair[1])\n",
    "dd_pair[2][1] = 10\n",
    "dd_pair[3].append(10)\n",
    "\n",
    "\n",
    "print(dd_pair)"
   ]
  },
  {
   "cell_type": "markdown",
   "metadata": {
    "slideshow": {
     "slide_type": "subslide"
    }
   },
   "source": [
    "Estes serão úteis quando estivermos usando dicionários para \"colecionar\" resultados por alguma chave e não queremos verificar a todo momento se a chave existe."
   ]
  },
  {
   "cell_type": "markdown",
   "metadata": {
    "slideshow": {
     "slide_type": "slide"
    }
   },
   "source": [
    "### Counters\n",
    "\n",
    "Um `Counter` transforma uma sequência de valores em um objeto tipo `defaultdict(int)`, mapeando chaves em contadores. Iremos usá-los majoritariamente para criar histogramas:"
   ]
  },
  {
   "cell_type": "code",
   "execution_count": 51,
   "metadata": {
    "slideshow": {
     "slide_type": "fragment"
    }
   },
   "outputs": [
    {
     "name": "stdout",
     "output_type": "stream",
     "text": [
      "Counter({0: 4, 1: 2, 2: 1})\n"
     ]
    }
   ],
   "source": [
    "from collections import Counter\n",
    "c = Counter([0, 1, 2, 0, 0, 0, 1])\n",
    "print(c)"
   ]
  },
  {
   "cell_type": "markdown",
   "metadata": {
    "slideshow": {
     "slide_type": "subslide"
    }
   },
   "source": [
    "Isso nos dá uma forma muito simples e *pythônica* de resolver o nosso problema de contagem de palavras:"
   ]
  },
  {
   "cell_type": "code",
   "execution_count": 52,
   "metadata": {
    "slideshow": {
     "slide_type": "fragment"
    }
   },
   "outputs": [
    {
     "name": "stdout",
     "output_type": "stream",
     "text": [
      "Counter({'a': 6, 'The': 3, 'rose.': 3, 'the': 3, 'rose': 2, 'rose,': 2, 'And': 2, 'always': 2, 'But': 2, 'is': 1, 'was': 1, 'theory': 1, 'now': 1, 'goes': 1, 'That': 1, 'apple’s': 1, 'pear': 1, 'is,': 1, 'and': 1, 'so’s': 1, 'plum,': 1, 'I': 1, 'suppose.': 1, 'dear': 1, 'only': 1, 'knows': 1, 'What': 1, 'will': 1, 'next': 1, 'prove': 1, 'You,': 1, 'of': 1, 'course,': 1, 'are': 1, '–': 1, 'were': 1})\n"
     ]
    }
   ],
   "source": [
    "word_counts = Counter(document)\n",
    "print(word_counts)"
   ]
  },
  {
   "cell_type": "markdown",
   "metadata": {
    "slideshow": {
     "slide_type": "subslide"
    }
   },
   "source": [
    "Uma instância de `Counter` tem um método `most_common` que é útil muitas vezes:"
   ]
  },
  {
   "cell_type": "code",
   "execution_count": 53,
   "metadata": {
    "slideshow": {
     "slide_type": "fragment"
    }
   },
   "outputs": [
    {
     "name": "stdout",
     "output_type": "stream",
     "text": [
      "a 6\n",
      "The 3\n",
      "rose. 3\n",
      "the 3\n",
      "rose 2\n"
     ]
    }
   ],
   "source": [
    "#imprime as 5 palavras mais frequentes da contagem\n",
    "for word, count in word_counts.most_common(5):\n",
    "    print (word, count)"
   ]
  },
  {
   "cell_type": "markdown",
   "metadata": {
    "slideshow": {
     "slide_type": "slide"
    }
   },
   "source": [
    "## Sets\n",
    "\n",
    "Outra estrutura de dados é o `set`, ou conjunto, que representa uma coleção de elementos distintos:"
   ]
  },
  {
   "cell_type": "code",
   "execution_count": 54,
   "metadata": {
    "slideshow": {
     "slide_type": "fragment"
    }
   },
   "outputs": [
    {
     "name": "stdout",
     "output_type": "stream",
     "text": [
      "tamanho de s:  2\n",
      "True\n",
      "False\n"
     ]
    }
   ],
   "source": [
    "s = set()\n",
    "s.add(1)\n",
    "s.add(2)\n",
    "s.add(1)\n",
    "print(\"tamanho de s: \", len(s))\n",
    "print(2 in s)\n",
    "print(3 in s)"
   ]
  },
  {
   "cell_type": "markdown",
   "metadata": {
    "slideshow": {
     "slide_type": "subslide"
    }
   },
   "source": [
    "Usaremos conjuntos por dois motivos principais. O primeiro é que, em conjuntos, `in` é uma operação muito rápida. Se tivermos uma grande coleção de itens que queremos usar para um teste de associação, um conjunto é mais apropriado do que uma lista:"
   ]
  },
  {
   "cell_type": "code",
   "execution_count": 55,
   "metadata": {
    "slideshow": {
     "slide_type": "fragment"
    }
   },
   "outputs": [
    {
     "name": "stdout",
     "output_type": "stream",
     "text": [
      "False\n",
      "False\n",
      "True\n",
      "True\n"
     ]
    }
   ],
   "source": [
    "stopwords_list = [\"a\",\"an\",\"at\"] + document + [\"yet\", \"you\"]\n",
    "\n",
    "print(\"zip\" in stopwords_list)  # Tem que verificar cada elemento\n",
    "\n",
    "stopwords_set = set(stopwords_list)\n",
    "\n",
    "print(\"zip\" in stopwords_set) # Muito rápido de verificar\n",
    "print(\"yet\" in stopwords_set) # Muito rápido de verificar\n",
    "print(\"rose\" in stopwords_set) # Muito rápido de verificar\n"
   ]
  },
  {
   "cell_type": "markdown",
   "metadata": {
    "slideshow": {
     "slide_type": "subslide"
    }
   },
   "source": [
    "A segunda razão é para encontrar os itens distintos em uma coleção:"
   ]
  },
  {
   "cell_type": "code",
   "execution_count": 56,
   "metadata": {
    "slideshow": {
     "slide_type": "fragment"
    }
   },
   "outputs": [
    {
     "name": "stdout",
     "output_type": "stream",
     "text": [
      "[1, 2, 3] 3 itens distintos.\n"
     ]
    }
   ],
   "source": [
    "item_list = [1, 2, 3, 1, 2, 3]\n",
    "num_items = len(item_list)\n",
    "item_set = set(item_list)\n",
    "num_distinct_items = len(item_set)\n",
    "distinct_item_list = list(item_set)\n",
    "print(distinct_item_list, num_distinct_items, 'itens distintos.')"
   ]
  },
  {
   "cell_type": "markdown",
   "metadata": {
    "slideshow": {
     "slide_type": "slide"
    }
   },
   "source": [
    "## Fluxo de controle\n",
    "\n",
    "Como na maioria das liguagens de programação, você pode executar uma ação condicionalmente usando o operador `if`:"
   ]
  },
  {
   "cell_type": "code",
   "execution_count": 57,
   "metadata": {
    "slideshow": {
     "slide_type": "fragment"
    }
   },
   "outputs": [
    {
     "name": "stdout",
     "output_type": "stream",
     "text": [
      "lista contém números repetidos\n"
     ]
    }
   ],
   "source": [
    "if num_distinct_items == 1:\n",
    "    message = \"lista contém apenas um número distinto\"\n",
    "elif num_distinct_items < num_items:\n",
    "    message = \"lista contém números repetidos\"\n",
    "else:\n",
    "    message = \"lista não contém nenhum número repetido\"\n",
    "print(message)"
   ]
  },
  {
   "cell_type": "markdown",
   "metadata": {
    "slideshow": {
     "slide_type": "subslide"
    }
   },
   "source": [
    "Assim como na linguagem C, você pode usar também um operador condicional ternário, que faremos ocasionalmente neste curso:"
   ]
  },
  {
   "cell_type": "code",
   "execution_count": 58,
   "metadata": {
    "slideshow": {
     "slide_type": "fragment"
    }
   },
   "outputs": [
    {
     "name": "stdout",
     "output_type": "stream",
     "text": [
      "par\n"
     ]
    }
   ],
   "source": [
    "paridade = \"par\" if x % 2 == 0 else \"ímpar\"\n",
    "print(paridade)"
   ]
  },
  {
   "cell_type": "markdown",
   "metadata": {
    "slideshow": {
     "slide_type": "subslide"
    }
   },
   "source": [
    "Python tem um loop `while`:"
   ]
  },
  {
   "cell_type": "code",
   "execution_count": 59,
   "metadata": {
    "slideshow": {
     "slide_type": "fragment"
    }
   },
   "outputs": [
    {
     "name": "stdout",
     "output_type": "stream",
     "text": [
      "0 is less than 5\n",
      "1 is less than 5\n",
      "2 is less than 5\n",
      "3 is less than 5\n",
      "4 is less than 5\n"
     ]
    }
   ],
   "source": [
    "x = 0\n",
    "while x < 5:\n",
    "    print(x, \"is less than 5\")\n",
    "    x += 1"
   ]
  },
  {
   "cell_type": "markdown",
   "metadata": {
    "slideshow": {
     "slide_type": "subslide"
    }
   },
   "source": [
    "embora a gente vá usar `for` e `in` mais vezes:"
   ]
  },
  {
   "cell_type": "code",
   "execution_count": 60,
   "metadata": {
    "slideshow": {
     "slide_type": "fragment"
    }
   },
   "outputs": [
    {
     "name": "stdout",
     "output_type": "stream",
     "text": [
      "0 is less than 5\n",
      "1 is less than 5\n",
      "2 is less than 5\n",
      "3 is less than 5\n",
      "4 is less than 5\n"
     ]
    }
   ],
   "source": [
    "for x in range(5):\n",
    "    print(x, \"is less than 5\")"
   ]
  },
  {
   "cell_type": "markdown",
   "metadata": {
    "slideshow": {
     "slide_type": "subslide"
    }
   },
   "source": [
    "Se você precisa de lógicas mais complexas, você pode usar `break` e `continue`:"
   ]
  },
  {
   "cell_type": "code",
   "execution_count": 61,
   "metadata": {
    "slideshow": {
     "slide_type": "fragment"
    }
   },
   "outputs": [
    {
     "name": "stdout",
     "output_type": "stream",
     "text": [
      "0\n",
      "1\n",
      "2\n",
      "4\n"
     ]
    }
   ],
   "source": [
    "for x in range(10):\n",
    "    if x == 3:\n",
    "        continue # go immediately to the next iteration\n",
    "    if x == 5:\n",
    "        break    # quit the loop entirely\n",
    "    print(x)"
   ]
  },
  {
   "cell_type": "markdown",
   "metadata": {
    "slideshow": {
     "slide_type": "slide"
    }
   },
   "source": [
    "## Verdadeiro ou Falso?\n",
    "\n",
    "Booleanos em Python funcionam como na maioria das outras linguagens, exceto que eles têm as primeiras letras maiúsculas:"
   ]
  },
  {
   "cell_type": "code",
   "execution_count": 62,
   "metadata": {
    "slideshow": {
     "slide_type": "fragment"
    }
   },
   "outputs": [
    {
     "name": "stdout",
     "output_type": "stream",
     "text": [
      "True\n",
      "False\n"
     ]
    }
   ],
   "source": [
    "one_is_less_than_two = 1 < 2\n",
    "print(one_is_less_than_two)\n",
    "\n",
    "true_equals_false = True == False\n",
    "print(true_equals_false)"
   ]
  },
  {
   "cell_type": "markdown",
   "metadata": {
    "slideshow": {
     "slide_type": "subslide"
    }
   },
   "source": [
    "Python usa o valor `None` para indicar um valor inexistente. É similar ao `null` de outras linguagens:"
   ]
  },
  {
   "cell_type": "code",
   "execution_count": 63,
   "metadata": {
    "slideshow": {
     "slide_type": "fragment"
    }
   },
   "outputs": [
    {
     "name": "stdout",
     "output_type": "stream",
     "text": [
      "True\n",
      "True\n"
     ]
    }
   ],
   "source": [
    "x = None\n",
    "print(x == None)   # não é pythônico\n",
    "print(x is None)    # é pythônico"
   ]
  },
  {
   "cell_type": "markdown",
   "metadata": {
    "slideshow": {
     "slide_type": "subslide"
    }
   },
   "source": [
    "Python deixa você usar quaqluer valor quando um `Boolean` é esperado. As seguintes expressões são todas falsas:\n",
    "\n",
    "- `False`\n",
    "- `None`\n",
    "- `[]`\n",
    "- `{}`\n",
    "- `\"\"`\n",
    "- `set()`\n",
    "- `0`\n",
    "- `0.0`\n"
   ]
  },
  {
   "cell_type": "markdown",
   "metadata": {
    "slideshow": {
     "slide_type": "fragment"
    }
   },
   "source": [
    "Praticamente qualquer outra expressão é tratada como verdadeira. "
   ]
  },
  {
   "cell_type": "markdown",
   "metadata": {
    "slideshow": {
     "slide_type": "subslide"
    }
   },
   "source": [
    "Isso permite que você use facilmente as expressões `if` para testar listas vazias, strings vazias, dicionários vazios, e assim por diante. Cuidado que às vezes isso pode causar erros difíceis se você não está esperando esse comportamento:"
   ]
  },
  {
   "cell_type": "code",
   "execution_count": 64,
   "metadata": {
    "slideshow": {
     "slide_type": "fragment"
    }
   },
   "outputs": [
    {
     "name": "stdout",
     "output_type": "stream",
     "text": [
      "primeiro caractere da string:  \n"
     ]
    }
   ],
   "source": [
    "def some_function_that_returns_a_string(): return \"\"\n",
    "\n",
    "s = some_function_that_returns_a_string()\n",
    "\n",
    "#acessar s[0] neste instante pode gerar uma exceção do tipo IndexError\n",
    "\n",
    "if s:\n",
    "    first_char = s[0]\n",
    "else:\n",
    "    first_char = \"\"\n",
    "    \n",
    "print(\"primeiro caractere da string: \", first_char)"
   ]
  },
  {
   "cell_type": "markdown",
   "metadata": {
    "slideshow": {
     "slide_type": "subslide"
    }
   },
   "source": [
    "Uma maneira simples de fazer isso é:"
   ]
  },
  {
   "cell_type": "code",
   "execution_count": 65,
   "metadata": {
    "slideshow": {
     "slide_type": "fragment"
    }
   },
   "outputs": [
    {
     "name": "stdout",
     "output_type": "stream",
     "text": [
      "primeiro caractere da string: \n"
     ]
    }
   ],
   "source": [
    "first_char = s and s[0]\n",
    "print(\"primeiro caractere da string:\", first_char)"
   ]
  },
  {
   "cell_type": "markdown",
   "metadata": {
    "slideshow": {
     "slide_type": "fragment"
    }
   },
   "source": [
    "uma vez que o operador `and` retorna o seu segundo valor quando o primeiro é `True` e o primeiro valor quando ele é `False`. "
   ]
  },
  {
   "cell_type": "markdown",
   "metadata": {
    "slideshow": {
     "slide_type": "subslide"
    }
   },
   "source": [
    "Da mesma forma, se `x` é um número ou um `None`, você pode usar o operador `or` para garantir que `x` seja um número::"
   ]
  },
  {
   "cell_type": "code",
   "execution_count": 66,
   "metadata": {
    "slideshow": {
     "slide_type": "fragment"
    }
   },
   "outputs": [
    {
     "name": "stdout",
     "output_type": "stream",
     "text": [
      "1\n"
     ]
    }
   ],
   "source": [
    "from random import random\n",
    "\n",
    "def NoneOr0():\n",
    "    r = random()\n",
    "    return 1 if r < 0.5 else None\n",
    "    \n",
    "x = NoneOr0()\n",
    "safe_x = x or 0\n",
    "print(safe_x)"
   ]
  },
  {
   "cell_type": "markdown",
   "metadata": {
    "slideshow": {
     "slide_type": "subslide"
    }
   },
   "source": [
    "Python tem uma função `all`, que recebe uma lista (`list`) e retorna `True` quando todos os elementos forem verdadeiros (`True`). Há também uma função `any`, que retorna `True` quando pelo menos um elemento é verdadeiro."
   ]
  },
  {
   "cell_type": "code",
   "execution_count": 67,
   "metadata": {
    "slideshow": {
     "slide_type": "fragment"
    }
   },
   "outputs": [
    {
     "name": "stdout",
     "output_type": "stream",
     "text": [
      "True\n",
      "False\n",
      "True\n",
      "True\n",
      "False\n"
     ]
    }
   ],
   "source": [
    "print(all([True, 1, { 3 }]))\n",
    "\n",
    "print(all([True, 1, {}]))\n",
    "\n",
    "print(any([True, 1, {}]))\n",
    "\n",
    "print(all([]))\n",
    "\n",
    "print(any([]))"
   ]
  }
 ],
 "metadata": {
  "celltoolbar": "Slideshow",
  "kernelspec": {
   "display_name": "Python 3",
   "language": "python",
   "name": "python3"
  },
  "language_info": {
   "codemirror_mode": {
    "name": "ipython",
    "version": 3
   },
   "file_extension": ".py",
   "mimetype": "text/x-python",
   "name": "python",
   "nbconvert_exporter": "python",
   "pygments_lexer": "ipython3",
   "version": "3.6.4"
  }
 },
 "nbformat": 4,
 "nbformat_minor": 2
}
