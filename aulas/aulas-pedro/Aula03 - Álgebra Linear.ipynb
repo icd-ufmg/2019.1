{
 "cells": [
  {
   "cell_type": "markdown",
   "metadata": {
    "slideshow": {
     "slide_type": "slide"
    }
   },
   "source": [
    "# Álgebra Linear\n",
    "\n",
    "Álgebra Linear é o ramo da matemática que lida com espaços vetoriais.\n",
    "\n",
    "Embora eu não tenha a esperança de ensinar álgebra linear em uma breve aula, ele sustenta um grande número de conceitos e técnicas de ciência de dados.\n",
    "\n",
    "O que aprendemos nesta aula usaremos intensamente em todo o restante do curso."
   ]
  },
  {
   "cell_type": "markdown",
   "metadata": {
    "slideshow": {
     "slide_type": "slide"
    }
   },
   "source": [
    "## Vetores\n",
    "\n",
    "Abstratamente, *vetores* são objetos que podem ser somados (para formar novos vetores) e que podem ser multiplicados por *escalares* (ou seja, números), também para formar novos vetores.\n",
    "\n",
    "Concretamente (para nós), vetores são pontos em algum espaço de dimensão finita. \n",
    "\n",
    "Embora você possa não pensar em seus dados como vetores, eles são uma boa maneira de representar dados numéricos."
   ]
  },
  {
   "cell_type": "markdown",
   "metadata": {
    "slideshow": {
     "slide_type": "subslide"
    }
   },
   "source": [
    "Por exemplo, se você tiver as alturas, pesos e idades de um grande número de pessoas, poderá tratar seus dados como vetores tridimensionais `(altura, peso, idade)`.\n",
    "\n",
    "Se você está dando uma aula com quatro provas, pode tratar as notas dos alunos como vetores tridimensionais `(exame1, exame2, exame3, exame4)`.\n",
    "\n",
    "A abordagem mais simples é representar vetores como listas de números. \n",
    "\n",
    "Uma lista de três números corresponde a um vetor no espaço tridimensional e vice-versa:"
   ]
  },
  {
   "cell_type": "code",
   "execution_count": 1,
   "metadata": {
    "slideshow": {
     "slide_type": "subslide"
    }
   },
   "outputs": [],
   "source": [
    "height_weight_age = [70, # inches,\n",
    "                     170, # pounds,\n",
    "                     40 ] # years\n",
    "\n",
    "grades = [95, # exam1\n",
    "          80, # exam2\n",
    "          75, # exam3\n",
    "          62] # exam4"
   ]
  },
  {
   "cell_type": "markdown",
   "metadata": {
    "slideshow": {
     "slide_type": "subslide"
    }
   },
   "source": [
    "Um problema com essa abordagem é que desejaremos realizar operações aritméticas em vetores.\n",
    "\n",
    "Como as listas do Python não são vetores (e, portanto, não fornecem recursos para a aritmética vetorial), precisaremos criar essas ferramentas aritméticas por conta própria. \n",
    "\n",
    "Então vamos começar com isso."
   ]
  },
  {
   "cell_type": "markdown",
   "metadata": {
    "slideshow": {
     "slide_type": "subslide"
    }
   },
   "source": [
    "Para começar, frequentemente precisamos adicionar dois vetores. \n",
    "\n",
    "Isto significa que se dois vetores `v` e `w` têm o mesmo comprimento, sua soma é apenas o vetor cujo primeiro elemento é `v[0] + w[0]`, cujo segundo elemento é `v[1] + w[1]`, e assim por diante. \n",
    "\n",
    "Se eles não tiverem o mesmo tamanho, não podemos adicioná-los.\n",
    "\n",
    "Por exemplo, adicionar os vetores `[1, 2]` e `[2, 1]` resulta em `[1 + 2, 2 + 1]` ou `[3,3]`."
   ]
  },
  {
   "cell_type": "markdown",
   "metadata": {
    "slideshow": {
     "slide_type": "subslide"
    }
   },
   "source": [
    "O código abaixo apenas plota a representação gráfica da soma dos vetores `[1, 2]` e `[2, 1]`. Fique à vontade para modificar os valores de `v1` e `v2`."
   ]
  },
  {
   "cell_type": "code",
   "execution_count": 2,
   "metadata": {
    "slideshow": {
     "slide_type": "fragment"
    }
   },
   "outputs": [],
   "source": [
    "matplotlib inline"
   ]
  },
  {
   "cell_type": "code",
   "execution_count": 3,
   "metadata": {
    "scrolled": true,
    "slideshow": {
     "slide_type": "subslide"
    }
   },
   "outputs": [
    {
     "data": {
      "image/png": "[encoded data removed]",
      "text/plain": [
       "<matplotlib.figure.Figure at 0x1c8b7a2f7f0>"
      ]
     },
     "metadata": {},
     "output_type": "display_data"
    }
   ],
   "source": [
    "import matplotlib.pyplot as plt\n",
    "\n",
    "v1 = [1, 2]\n",
    "v2 = [2, 1]\n",
    "v3 = [v1[0] + v2[0], v1[1] + v2[1]]\n",
    "\n",
    "ax = plt.axes()\n",
    "ax.arrow(0, 0, *v1, head_width=0.1, head_length=0.2, color='b')\n",
    "plt.annotate(\"v1\",xy=v1, xytext=(v1[0]/2,v1[1]/1.4))\n",
    "\n",
    "ax.arrow(*v1, *v2, head_width=0.1, head_length=0.2, color='r')\n",
    "xcoord = v1[0] + (v3[0]-v1[0])/2\n",
    "ycoord = v1[1] + (v3[1]-v1[1])/1.5\n",
    "\n",
    "plt.annotate(\"v2\",xy=v3, xytext=(xcoord,ycoord))\n",
    "\n",
    "ax.arrow(0, 0, *v3, head_width=0.1, head_length=0.3, color='k')\n",
    "plt.annotate(\"v3\",xy=v3, xytext=(v3[0]/2, v3[1]/2.4))\n",
    "\n",
    "w = list(zip([0,0],v1,v2,v3))\n",
    "plt.ylim(min(w[1])-1,max(w[1])+1)\n",
    "plt.xlim(min(w[0])-1,max(w[0])+1)\n",
    "plt.show()"
   ]
  },
  {
   "cell_type": "markdown",
   "metadata": {
    "slideshow": {
     "slide_type": "subslide"
    }
   },
   "source": [
    "Podemos facilmente implementar a soma e a subtração de vetores usando `zip` e compreensões de listas: "
   ]
  },
  {
   "cell_type": "code",
   "execution_count": 4,
   "metadata": {
    "slideshow": {
     "slide_type": "fragment"
    }
   },
   "outputs": [],
   "source": [
    "def vector_add(v, w):\n",
    "    \"\"\"adds corresponding elements\"\"\"\n",
    "    return [v_i + w_i\n",
    "        for v_i, w_i in zip(v, w)]\n",
    "\n",
    "def vector_subtract(v, w):\n",
    "    \"\"\"subtracts corresponding elements\"\"\"\n",
    "    return [v_i - w_i\n",
    "        for v_i, w_i in zip(v, w)]"
   ]
  },
  {
   "cell_type": "code",
   "execution_count": 5,
   "metadata": {
    "slideshow": {
     "slide_type": "subslide"
    }
   },
   "outputs": [
    {
     "name": "stdout",
     "output_type": "stream",
     "text": [
      "[3, 3] [-1, 1]\n"
     ]
    }
   ],
   "source": [
    "vadd = vector_add(v1,v2)\n",
    "vsub = vector_subtract(v1,v2)\n",
    "print(vadd, vsub)"
   ]
  },
  {
   "cell_type": "markdown",
   "metadata": {
    "slideshow": {
     "slide_type": "subslide"
    }
   },
   "source": [
    "Às vezes, também queremos somar uma lista de vetores.\n",
    "\n",
    "Ou seja, criar um novo vetor cujo primeiro elemento é a soma de todos os primeiros elementos, cujo segundo elemento é a soma de todos os segundos elementos, e assim por diante. \n",
    "\n",
    "A maneira mais fácil de fazer isso é adicionando um vetor por vez:"
   ]
  },
  {
   "cell_type": "code",
   "execution_count": 6,
   "metadata": {
    "slideshow": {
     "slide_type": "subslide"
    }
   },
   "outputs": [],
   "source": [
    "def vector_sum(vectors):\n",
    "    \"\"\"sums all corresponding elements\"\"\"\n",
    "    result = vectors[0] # start with the first vector\n",
    "    for vector in vectors[1:]: # then loop over the others\n",
    "        result = vector_add(result, vector) # and add them to the result\n",
    "    return result"
   ]
  },
  {
   "cell_type": "code",
   "execution_count": 7,
   "metadata": {
    "slideshow": {
     "slide_type": "subslide"
    }
   },
   "outputs": [
    {
     "name": "stdout",
     "output_type": "stream",
     "text": [
      "[12, 15, 18]\n"
     ]
    }
   ],
   "source": [
    "vlist = [[1,2,3], [4,5,6], [7,8,9]]\n",
    "vsum = vector_sum(vlist)\n",
    "print(vsum)"
   ]
  },
  {
   "cell_type": "markdown",
   "metadata": {
    "slideshow": {
     "slide_type": "subslide"
    }
   },
   "source": [
    "Se você pensar sobre o que acabamos de fazer, estamos apenas reduzindo a lista de vetores usando `vector_add`, o que significa que podemos reescrever isso mais rapidamente usando funções de ordem superior:"
   ]
  },
  {
   "cell_type": "code",
   "execution_count": 8,
   "metadata": {
    "slideshow": {
     "slide_type": "fragment"
    }
   },
   "outputs": [],
   "source": [
    "from functools import reduce\n",
    "\n",
    "def vector_sum2(vectors):\n",
    "    return reduce(vector_add, vectors)"
   ]
  },
  {
   "cell_type": "code",
   "execution_count": 9,
   "metadata": {
    "slideshow": {
     "slide_type": "fragment"
    }
   },
   "outputs": [
    {
     "name": "stdout",
     "output_type": "stream",
     "text": [
      "[12, 15, 18]\n"
     ]
    }
   ],
   "source": [
    "vlist = [[1,2,3], [4,5,6], [7,8,9]]\n",
    "vsum = vector_sum2(vlist)\n",
    "print(vsum)"
   ]
  },
  {
   "cell_type": "markdown",
   "metadata": {
    "slideshow": {
     "slide_type": "fragment"
    }
   },
   "source": [
    "Em Python 3 não é recomendável mais que você use a função `reduce`. Em 99% dos casos é preferível usar um simples `for`, como fizemos acima."
   ]
  },
  {
   "cell_type": "markdown",
   "metadata": {
    "slideshow": {
     "slide_type": "subslide"
    }
   },
   "source": [
    "Também precisaremos multiplicar um vetor por um escalar, o que fazemos simplesmente multiplicando cada elemento do vetor por esse número:"
   ]
  },
  {
   "cell_type": "code",
   "execution_count": 10,
   "metadata": {
    "slideshow": {
     "slide_type": "fragment"
    }
   },
   "outputs": [],
   "source": [
    "def scalar_multiply(c, v):\n",
    "    \"\"\"c is a number, v is a vector\"\"\"\n",
    "    return [c * v_i for v_i in v]"
   ]
  },
  {
   "cell_type": "markdown",
   "metadata": {
    "slideshow": {
     "slide_type": "subslide"
    }
   },
   "source": [
    "Isso nos permite calcular as médias dos componentes de uma lista de vetores (do mesmo tamanho):"
   ]
  },
  {
   "cell_type": "code",
   "execution_count": 11,
   "metadata": {
    "slideshow": {
     "slide_type": "fragment"
    }
   },
   "outputs": [],
   "source": [
    "def vector_mean(vectors):\n",
    "    \"\"\"compute the vector whose ith element is the mean of the\n",
    "    ith elements of the input vectors\"\"\"\n",
    "    n = len(vectors)\n",
    "    return scalar_multiply(1/n, vector_sum(vectors))"
   ]
  },
  {
   "cell_type": "markdown",
   "metadata": {
    "slideshow": {
     "slide_type": "subslide"
    }
   },
   "source": [
    "No exemplo abaixo, cada vetor contém as notas das três provas que os alunos fizeram."
   ]
  },
  {
   "cell_type": "code",
   "execution_count": 12,
   "metadata": {
    "slideshow": {
     "slide_type": "fragment"
    }
   },
   "outputs": [
    {
     "name": "stdout",
     "output_type": "stream",
     "text": [
      "[8.166666666666666, 6.0, 6.833333333333333]\n"
     ]
    }
   ],
   "source": [
    "notas = [[9,8.5,7], [7.5,5,6], [8,4.5,7.5]]\n",
    "medias = vector_mean(notas)\n",
    "print(medias)"
   ]
  },
  {
   "cell_type": "markdown",
   "metadata": {
    "slideshow": {
     "slide_type": "subslide"
    }
   },
   "source": [
    "Uma ferramenta menos óbvia é o *produto escalar*. O produto escalar de dois vetores **a** e **b** é a soma dos produtos entre cada elemento:\n",
    "\n",
    "$$ \\mathbf{a} \\cdot \\mathbf{b} = \\sum_{i=1}^{n}a_{i}b_{i}=a_{1}b_{1}+a_{2}b_{2}+\\cdots +a_{n}b_{n}$$ "
   ]
  },
  {
   "cell_type": "code",
   "execution_count": 13,
   "metadata": {
    "slideshow": {
     "slide_type": "fragment"
    }
   },
   "outputs": [],
   "source": [
    "def dot(v, w):\n",
    "    \"\"\"v_1 * w_1 + ... + v_n * w_n\"\"\"\n",
    "    return sum(v_i * w_i\n",
    "        for v_i, w_i in zip(v, w))"
   ]
  },
  {
   "cell_type": "code",
   "execution_count": 14,
   "metadata": {
    "slideshow": {
     "slide_type": "subslide"
    }
   },
   "outputs": [
    {
     "name": "stdout",
     "output_type": "stream",
     "text": [
      "32\n"
     ]
    }
   ],
   "source": [
    "v1 = [1, 2, 3]\n",
    "v2 = [4, 5, 6]\n",
    "vdot = dot(v1, v2)\n",
    "print(vdot)"
   ]
  },
  {
   "cell_type": "markdown",
   "metadata": {
    "slideshow": {
     "slide_type": "subslide"
    }
   },
   "source": [
    "Usando isso, é fácil calcular a *soma dos quadrados* de um vetor, ou $\\sum_{i=1}^n{v_i^2}$:"
   ]
  },
  {
   "cell_type": "code",
   "execution_count": 15,
   "metadata": {
    "slideshow": {
     "slide_type": "fragment"
    }
   },
   "outputs": [],
   "source": [
    "def sum_of_squares(v):\n",
    "    \"\"\"v_1 * v_1 + ... + v_n * v_n\"\"\"\n",
    "    return dot(v, v)"
   ]
  },
  {
   "cell_type": "markdown",
   "metadata": {
    "slideshow": {
     "slide_type": "subslide"
    }
   },
   "source": [
    "Podemos usar a função acima para computar a sua *magnitude* (ou comprimento, ou norma), dada por $||v|| = \\sqrt{\\sum_{i=1}^n{v_i^2}}$ e pelo código:"
   ]
  },
  {
   "cell_type": "code",
   "execution_count": 16,
   "metadata": {
    "slideshow": {
     "slide_type": "fragment"
    }
   },
   "outputs": [],
   "source": [
    "import math\n",
    "    \n",
    "def magnitude(v):\n",
    "    return math.sqrt(sum_of_squares(v)) # math.sqrt é a função que calcula a raiz quadrada"
   ]
  },
  {
   "cell_type": "markdown",
   "metadata": {
    "slideshow": {
     "slide_type": "subslide"
    }
   },
   "source": [
    "Note que dado um vetor $v$ e outro $u$ de mesma magnitude, o produtor escalar $v \\cdot u$ será maior (menor) à medida em que as dimensões relevantes para $u$ forem relevantes (irrelevantes) para $v$:"
   ]
  },
  {
   "cell_type": "code",
   "execution_count": 17,
   "metadata": {
    "slideshow": {
     "slide_type": "fragment"
    }
   },
   "outputs": [
    {
     "name": "stdout",
     "output_type": "stream",
     "text": [
      "v1 . v1: 5\n",
      "v1 . v2: 4\n",
      "v1 . v3: 2\n",
      "v1 . v3: 1\n"
     ]
    }
   ],
   "source": [
    "v1 = [0, 1, 2]\n",
    "v2 = [0, 2, 1]\n",
    "v3 = [2, 0, 1]\n",
    "v4 = [2, 1, 0]\n",
    "print(\"v1 . v1:\", dot(v1,v1))\n",
    "print(\"v1 . v2:\", dot(v1,v2))\n",
    "print(\"v1 . v3:\", dot(v1,v3))\n",
    "print(\"v1 . v3:\", dot(v1,v4))"
   ]
  },
  {
   "attachments": {
    "dot-product-a-cos.gif": {
     "image/gif": "[encoded data removed]"
    }
   },
   "cell_type": "markdown",
   "metadata": {
    "slideshow": {
     "slide_type": "subslide"
    }
   },
   "source": [
    "A partir da magnitude, podemos também calcular o produto escalar a partir da sua representação geométrica:\n",
    "\n",
    "$$\\mathbf {a} \\cdot \\mathbf {b} =\\|\\mathbf {a} \\|\\ \\|\\mathbf {b} \\|\\cos(\\theta )$$\n",
    "\n",
    "![dot-product-a-cos.gif](attachment:dot-product-a-cos.gif)"
   ]
  },
  {
   "cell_type": "markdown",
   "metadata": {
    "slideshow": {
     "slide_type": "subslide"
    }
   },
   "source": [
    "O produto escalar mede até que ponto o vetor `v` se estende na direção `w`. \n",
    "\n",
    "Por exemplo, se w = `[1, 0]`, então, `dot(v, w)` (ou $ \\mathbf{v} \\cdot \\mathbf{w} $) é apenas o primeiro componente de `v`. "
   ]
  },
  {
   "cell_type": "markdown",
   "metadata": {
    "slideshow": {
     "slide_type": "subslide"
    }
   },
   "source": [
    "Outra maneira de dizer isso é que o produto escalar é o comprimento do vetor que você obteria se projetasse $v \\cdot w$ em $w$."
   ]
  },
  {
   "cell_type": "code",
   "execution_count": 18,
   "metadata": {
    "scrolled": true,
    "slideshow": {
     "slide_type": "subslide"
    }
   },
   "outputs": [
    {
     "name": "stdout",
     "output_type": "stream",
     "text": [
      "v.w =  4\n"
     ]
    },
    {
     "data": {
      "image/png": "[encoded data removed]",
      "text/plain": [
       "<matplotlib.figure.Figure at 0x1c8b7b09e10>"
      ]
     },
     "metadata": {},
     "output_type": "display_data"
    }
   ],
   "source": [
    "import matplotlib.pyplot as plt\n",
    "\n",
    "v = [1, 2]\n",
    "w = [2, 1]\n",
    "\n",
    "dotP = dot(v,w)\n",
    "print(\"v.w = \", dotP)\n",
    "unit_w = scalar_multiply(1/magnitude(w),w)\n",
    "wExt = scalar_multiply(dotP,w)\n",
    "\n",
    "ax = plt.axes()\n",
    "\n",
    "ax.arrow(0, 0, *v, head_width=0.1, head_length=0.1, color='b')\n",
    "plt.annotate(\"v\",xy=v, xytext=scalar_multiply(5, v), textcoords='offset points')\n",
    "\n",
    "ax.arrow(0, 0, *w, head_width=0.1, head_length=0.1, color='r')\n",
    "plt.annotate(\"w\",xy=w, xytext=scalar_multiply(5, w), textcoords='offset points')\n",
    "\n",
    "ax.arrow(0, 0, *wExt, head_width=0.05, head_length=0.1, color='r')\n",
    "plt.annotate(\"(w.v)w\",xy=wExt, xytext=scalar_multiply(2, wExt), textcoords='offset points')\n",
    "\n",
    "dx = wExt[0] - v[0]\n",
    "dy = wExt[1] - v[1]\n",
    "ax.arrow(*v, dx, dy, head_width=0.1, head_length=0.05, color='b', linestyle=':')\n",
    "\n",
    "w = list(zip([0,0],v,w,wExt))\n",
    "plt.ylim(min(w[1])-1,max(w[1])+1)\n",
    "plt.xlim(min(w[0])-1,max(w[0])+1)\n",
    "plt.gca().set_aspect('equal')\n",
    "\n",
    "\n",
    "plt.show()"
   ]
  },
  {
   "cell_type": "markdown",
   "metadata": {
    "slideshow": {
     "slide_type": "subslide"
    }
   },
   "source": [
    "Observe novamente a figura abaixo:\n",
    "\n",
    "![dot-product-a-cos.gif](attachment:dot-product-a-cos.gif)\n",
    "\n",
    "O termo $\\|\\mathbf{a}\\| \\cos(\\theta)$ é a projeção $proj_\\mathbf{b} \\mathbf{a}$ do vetor $\\mathbf{a}$ em $\\mathbf{b}$. \n",
    "\n",
    "$$proj_\\mathbf{b} \\mathbf{a} = \\|\\mathbf{a}\\| \\cos(\\theta)$$"
   ]
  },
  {
   "cell_type": "markdown",
   "metadata": {
    "slideshow": {
     "slide_type": "subslide"
    }
   },
   "source": [
    "Esta projeção é equivalente à sombra produzida por $\\mathbf{a}$ em $\\mathbf{b}$ sobre o efeito de um feixo de luz perpendicular a $\\mathbf{b}$.\n",
    "\n",
    "![dot-product-light.svg](attachment:dot-product-light.svg)"
   ]
  },
  {
   "cell_type": "markdown",
   "metadata": {
    "slideshow": {
     "slide_type": "subslide"
    }
   },
   "source": [
    "De forma bem intuitiva e simples, imagine que há uma corrida na direção de $\\mathbf{b}$. No entanto, você acelera o seu carro com uma força equivalente a $\\|\\mathbf{a}\\|$ na direção $\\mathbf{a}$. A projeção $proj_\\mathbf{b} \\mathbf{a}$ de $\\mathbf{a}$ em $\\mathbf{b}$ nos diz qual é a força que você está fazendo para ganhar a corrida, ou seja, qual é a força na direção $\\mathbf{b}$."
   ]
  },
  {
   "cell_type": "markdown",
   "metadata": {
    "slideshow": {
     "slide_type": "subslide"
    }
   },
   "source": [
    "Se não sabemos o ângulo $\\theta$, podemos usar o produto escalar para calcular a projeção de $\\mathcal{a}$ em $\\mathbf{b}$. Sabemos que:\n",
    "\n",
    "$$\\mathbf {a} \\cdot \\mathbf {b} =\\|\\mathbf {a} \\|\\ \\|\\mathbf {b} \\|\\cos(\\theta )$$"
   ]
  },
  {
   "cell_type": "markdown",
   "metadata": {
    "slideshow": {
     "slide_type": "fragment"
    }
   },
   "source": [
    "e que: \n",
    "\n",
    "$$proj_\\mathbf{b} \\mathbf{a} = \\|\\mathbf{a}\\| \\cos(\\theta)$$"
   ]
  },
  {
   "cell_type": "markdown",
   "metadata": {
    "slideshow": {
     "slide_type": "fragment"
    }
   },
   "source": [
    "Então, substituindo a segunda na primeira:\n",
    "\n",
    "$$\\mathbf {a} \\cdot \\mathbf {b} =\\ \\|\\mathbf {b}\\|\\ proj_\\mathbf{b} \\mathbf{a} $$"
   ]
  },
  {
   "cell_type": "markdown",
   "metadata": {
    "slideshow": {
     "slide_type": "fragment"
    }
   },
   "source": [
    "Ou:\n",
    "\n",
    "$$proj_\\mathbf{b} \\mathbf{a} =\\ \\frac{\\mathbf{a} \\cdot \\mathbf{b}}{\\|\\mathbf {b}\\|}$$"
   ]
  },
  {
   "cell_type": "markdown",
   "metadata": {
    "slideshow": {
     "slide_type": "subslide"
    }
   },
   "source": [
    "$proj_\\mathbf{b} \\mathbf{a}$ nos dá a magnitude da projeção. Se quisermos o vetor $\\mathbf{a_b}$ correspondente, precisamos multiplicar $proj_\\mathcal{b} \\mathcal{a}$ pelo vetor unitário na direção de $\\mathbf{b}$:\n",
    "\n",
    "$$\\mathbf{a_b} = proj_\\mathbf{b} \\mathbf{a} ~ \\frac{\\mathbf{b}}{\\|b\\|}$$"
   ]
  },
  {
   "cell_type": "markdown",
   "metadata": {
    "slideshow": {
     "slide_type": "fragment"
    }
   },
   "source": [
    "Com uma simples manipulação algébrica, podemos ver também que:\n",
    "\n",
    "$$proj_\\mathbf{b} \\mathbf{a} =\\ \\mathbf{a} \\cdot \\frac{\\mathbf{b}}{\\|\\mathbf {b}\\|}$$"
   ]
  },
  {
   "cell_type": "code",
   "execution_count": 19,
   "metadata": {
    "scrolled": true,
    "slideshow": {
     "slide_type": "subslide"
    }
   },
   "outputs": [
    {
     "data": {
      "image/png": "[encoded data removed]",
      "text/plain": [
       "<matplotlib.figure.Figure at 0x1c8b7a05da0>"
      ]
     },
     "metadata": {},
     "output_type": "display_data"
    }
   ],
   "source": [
    "import matplotlib.pyplot as plt\n",
    "\n",
    "v = [1, 2]\n",
    "w = [2, 1]\n",
    "\n",
    "dotP = dot(v,w)\n",
    "unit_w = scalar_multiply(1/magnitude(w),w)\n",
    "wExt = scalar_multiply(dotP/magnitude(w),unit_w)\n",
    "\n",
    "#outra forma:\n",
    "#dotP = dot(v,scalar_multiply(1/magnitude(w),w))\n",
    "#unit_w = scalar_multiply(1/magnitude(w),w)\n",
    "#wExt = scalar_multiply(dotP,unit_w)\n",
    "\n",
    "ax = plt.axes()\n",
    "\n",
    "ax.arrow(0, 0, *v, head_width=0.1, head_length=0.1, color='b')\n",
    "plt.annotate(\"v\",xy=v, xytext=scalar_multiply(5, v), textcoords='offset points')\n",
    "\n",
    "ax.arrow(0, 0, *w, head_width=0.1, head_length=0.1, color='r')\n",
    "plt.annotate(\"w\",xy=w, xytext=scalar_multiply(5, w), textcoords='offset points')\n",
    "\n",
    "ax.arrow(0, 0, *wExt, head_width=0.05, head_length=0.1, color='r')\n",
    "plt.annotate(\"$proj_w v$\",xy=wExt, xytext=scalar_multiply(2, wExt), textcoords='offset points')\n",
    "\n",
    "dx = wExt[0] - v[0]\n",
    "dy = wExt[1] - v[1]\n",
    "ax.arrow(*v, dx, dy, head_width=0.1, head_length=0.05, color='b', linestyle=':')\n",
    "\n",
    "w = list(zip([0,0],v,w,wExt))\n",
    "plt.ylim(min(w[1])-1,max(w[1])+1)\n",
    "plt.xlim(min(w[0])-1,max(w[0])+1)\n",
    "plt.gca().set_aspect('equal')\n",
    "\n",
    "\n",
    "plt.show()"
   ]
  },
  {
   "cell_type": "markdown",
   "metadata": {
    "slideshow": {
     "slide_type": "subslide"
    }
   },
   "source": [
    "Para mais detalhes, assista a este [vídeo](https://www.youtube.com/watch?v=_f_6jUdnEFQ) ou leia este [texto](https://betterexplained.com/articles/vector-calculus-understanding-the-dot-product/)."
   ]
  },
  {
   "cell_type": "markdown",
   "metadata": {
    "slideshow": {
     "slide_type": "subslide"
    }
   },
   "source": [
    "Agora temos todas as peças que precisamos para calcular a distância Euclidiana $d(\\mathbf{v}, \\mathbf{w})$ entre dois vetores $\\mathbf{v}$ e $\\mathbf{w}$, que é definida como:\n",
    "\n",
    "$$\\sqrt{(v_1-w_1)^2 + \\cdots + (v_n-w_n)^2}$$"
   ]
  },
  {
   "cell_type": "code",
   "execution_count": 20,
   "metadata": {
    "slideshow": {
     "slide_type": "subslide"
    }
   },
   "outputs": [],
   "source": [
    "def squared_distance(v, w):\n",
    "    \"\"\"(v_1 - w_1) ** 2 + ... + (v_n - w_n) ** 2\"\"\"\n",
    "    return sum_of_squares(vector_subtract(v, w))\n",
    "\n",
    "def distance(v, w):\n",
    "    return math.sqrt(squared_distance(v, w))"
   ]
  },
  {
   "cell_type": "markdown",
   "metadata": {
    "slideshow": {
     "slide_type": "fragment"
    }
   },
   "source": [
    "Que pode ser definida pela função `distance` acima ou pela `distance2` abaixo:"
   ]
  },
  {
   "cell_type": "code",
   "execution_count": 21,
   "metadata": {
    "slideshow": {
     "slide_type": "fragment"
    }
   },
   "outputs": [],
   "source": [
    "def distance2(v, w):\n",
    "    return magnitude(vector_subtract(v, w))"
   ]
  },
  {
   "cell_type": "markdown",
   "metadata": {
    "slideshow": {
     "slide_type": "subslide"
    }
   },
   "source": [
    "Podemos também calcular a similaridade entre dois vetores $\\mathbf{v}$ e $\\mathbf{w}$ através da métrica *similaridade de cosseno*, que é basicamente o cosseno do ângulo $\\theta$ entre $\\mathbf{v}$ e $\\mathbf{w}$."
   ]
  },
  {
   "cell_type": "markdown",
   "metadata": {
    "slideshow": {
     "slide_type": "fragment"
    }
   },
   "source": [
    "Lembre que o produto escalar entre dois vetores $\\mathbf{v}$ e $\\mathbf{w} é dado por:\n",
    "\n",
    "$$\\mathbf {v} \\cdot \\mathbf {w} =\\|\\mathbf {v} \\|\\ \\|\\mathbf {w} \\|\\cos(\\theta )$$"
   ]
  },
  {
   "cell_type": "markdown",
   "metadata": {
    "slideshow": {
     "slide_type": "fragment"
    }
   },
   "source": [
    "Então:\n",
    "\n",
    "$${\\text{similaridade}}=\\cos(\\theta )={\\mathbf {v} \\cdot \\mathbf {w} \\over \\|\\mathbf {v} \\|\\|\\mathbf {w} \\|}={\\frac {\\sum \\limits _{i=1}^{n}{v_{i}w_{i}}}{{\\sqrt {\\sum \\limits _{i=1}^{n}{v_{i}^{2}}}}{\\sqrt {\\sum \\limits _{i=1}^{n}{w_{i}^{2}}}}}}$$"
   ]
  },
  {
   "cell_type": "code",
   "execution_count": 22,
   "metadata": {
    "slideshow": {
     "slide_type": "subslide"
    }
   },
   "outputs": [],
   "source": [
    "def cosine_similarity(v, w):\n",
    "    return dot(v, w) / math.sqrt(dot(v, v) * dot(w, w))"
   ]
  },
  {
   "cell_type": "markdown",
   "metadata": {
    "slideshow": {
     "slide_type": "subslide"
    }
   },
   "source": [
    "A partir da medida acima, podemos calcular também a distância de cosseno entre dois vetores $\\mathbf{v}$ e $\\mathbf{w}$, que é dada por $1 - \\cos(\\theta)$, ou $1$ menos a similaridade de cosseno entre os vetores:"
   ]
  },
  {
   "cell_type": "code",
   "execution_count": 23,
   "metadata": {
    "slideshow": {
     "slide_type": "fragment"
    }
   },
   "outputs": [],
   "source": [
    "def cosine_distance(v, w):\n",
    "    return 1 - cosine_similarity(v,w)"
   ]
  },
  {
   "cell_type": "markdown",
   "metadata": {
    "slideshow": {
     "slide_type": "subslide"
    }
   },
   "source": [
    "Vamos pensar um pouco mais sobre a distância euclidiane e a de cosseno. \n",
    "\n",
    "Considere as pessoas abaixo com os seus respectivos pesos e alturas:"
   ]
  },
  {
   "cell_type": "code",
   "execution_count": 24,
   "metadata": {
    "slideshow": {
     "slide_type": "fragment"
    }
   },
   "outputs": [],
   "source": [
    "joao = [85, 180]\n",
    "maria = [65, 179]\n",
    "bob = [63, 133]"
   ]
  },
  {
   "cell_type": "markdown",
   "metadata": {
    "slideshow": {
     "slide_type": "fragment"
    }
   },
   "source": [
    "Quais são as pessoas mais similares e mais diferentes?"
   ]
  },
  {
   "cell_type": "code",
   "execution_count": 25,
   "metadata": {
    "slideshow": {
     "slide_type": "subslide"
    }
   },
   "outputs": [
    {
     "name": "stdout",
     "output_type": "stream",
     "text": [
      "0.004308124415806525\n",
      "7.137048095851029e-07\n",
      "0.0044196159984565275\n",
      "\n",
      "20.024984394500787\n",
      "51.894122981316485\n",
      "46.04345773288535\n"
     ]
    }
   ],
   "source": [
    "print(cosine_distance(joao, maria))\n",
    "print(cosine_distance(joao, bob))\n",
    "print(cosine_distance(maria, bob))\n",
    "\n",
    "print()\n",
    "print(distance(joao, maria))\n",
    "print(distance(joao, bob))\n",
    "print(distance(maria, bob))"
   ]
  },
  {
   "cell_type": "markdown",
   "metadata": {
    "slideshow": {
     "slide_type": "slide"
    }
   },
   "source": [
    "## Matrizes\n",
    "\n",
    "Uma matriz é uma coleção bidimensional de números. \n",
    "\n",
    "Nós representamos as matrizes como listas de listas, com cada lista interna tendo o mesmo tamanho e correspondendo a uma linha da matriz. \n",
    "\n",
    "Se `A` é uma matriz, então `A[i][j]` é o elemento na i-ésima linha e na j-ésima coluna. \n",
    "\n",
    "Por convenção matemática, normalmente usamos letras maiúsculas para representar matrizes. Por exemplo:"
   ]
  },
  {
   "cell_type": "code",
   "execution_count": 26,
   "metadata": {
    "slideshow": {
     "slide_type": "subslide"
    }
   },
   "outputs": [],
   "source": [
    "A = [[1, 2, 3], # A tem 2 linhas e 3 colunas\n",
    "    [4, 5, 6]]\n",
    "\n",
    "B = [[1, 2], # B tem 3 linhas e 2 colunas\n",
    "     [3, 4],\n",
    "     [5, 6]]\n"
   ]
  },
  {
   "cell_type": "markdown",
   "metadata": {
    "slideshow": {
     "slide_type": "subslide"
    }
   },
   "source": [
    "Na matemática, você normalmente nomearia a primeira linha da matriz de \"linha 1\" e a primeira coluna de \"coluna 1\". \n",
    "\n",
    "Como estamos representando matrizes com listas do Python, que são indexadas a partir do zero, chamaremos a primeira linha de uma matriz de \"linha 0\" e a primeira coluna de \"coluna 0.\"\n",
    "\n",
    "Dada essa representação de lista de listas, a matriz `A` possui `len(A)` linhas e `len(A[0])` colunas, que consideramos como sendo a sua forma, ou `shape`:"
   ]
  },
  {
   "cell_type": "code",
   "execution_count": 27,
   "metadata": {
    "slideshow": {
     "slide_type": "subslide"
    }
   },
   "outputs": [],
   "source": [
    "def shape(A):\n",
    "    num_rows = len(A)\n",
    "    num_cols = len(A[0]) if A else 0\n",
    "    return num_rows, num_cols"
   ]
  },
  {
   "cell_type": "code",
   "execution_count": 28,
   "metadata": {
    "slideshow": {
     "slide_type": "fragment"
    }
   },
   "outputs": [
    {
     "name": "stdout",
     "output_type": "stream",
     "text": [
      "(2, 3) (3, 2)\n"
     ]
    }
   ],
   "source": [
    "print(shape(A), shape(B))"
   ]
  },
  {
   "cell_type": "markdown",
   "metadata": {
    "slideshow": {
     "slide_type": "subslide"
    }
   },
   "source": [
    "Se uma matriz tiver `n` linhas e `k` colunas, iremos nos referir a ela como uma matriz `n × k`. \n",
    "\n",
    "Podemos (e às vezes iremos) pensar em cada linha de uma matriz `n × k` como um vetor de comprimento `k`, e cada coluna como um vetor de comprimento `n`:"
   ]
  },
  {
   "cell_type": "code",
   "execution_count": 29,
   "metadata": {
    "slideshow": {
     "slide_type": "fragment"
    }
   },
   "outputs": [],
   "source": [
    "def get_row(A, i):\n",
    "    return A[i]               # A[i] já é a i-esima linha\n",
    "\n",
    "def get_column(A, j):\n",
    "    return [A_i[j]            # j-esimo elemento da linha A_i\n",
    "        for A_i in A]         # for each row A_i"
   ]
  },
  {
   "cell_type": "code",
   "execution_count": 30,
   "metadata": {
    "slideshow": {
     "slide_type": "subslide"
    }
   },
   "outputs": [
    {
     "name": "stdout",
     "output_type": "stream",
     "text": [
      "[4, 5, 6] [2, 4, 6]\n"
     ]
    }
   ],
   "source": [
    "print(get_row(A, 1), get_column(B,1))"
   ]
  },
  {
   "cell_type": "markdown",
   "metadata": {
    "slideshow": {
     "slide_type": "subslide"
    }
   },
   "source": [
    "Também podemos poder criar uma matriz dada sua forma e uma função para gerar seus elementos. Podemos fazer isso usando uma compreensão de lista aninhada:"
   ]
  },
  {
   "cell_type": "code",
   "execution_count": 31,
   "metadata": {
    "slideshow": {
     "slide_type": "fragment"
    }
   },
   "outputs": [],
   "source": [
    "def zeroValue(i, j):\n",
    "    return 0\n",
    "\n",
    "def make_matrix(num_rows, num_cols, entry_fn=zeroValue):\n",
    "    \"\"\"returns a num_rows x num_cols matrix\n",
    "    whose (i,j)th entry is entry_fn(i, j)\"\"\"\n",
    "    \n",
    "    return [[entry_fn(i, j)              # given i, create a list\n",
    "             for j in range(num_cols)]   # [entry_fn(i, 0), ... ]\n",
    "            for i in range(num_rows)]    # create one list for each i"
   ]
  },
  {
   "cell_type": "markdown",
   "metadata": {
    "slideshow": {
     "slide_type": "subslide"
    }
   },
   "source": [
    "Dada esta função, você pode criar uma matriz identidade `5 × 5` (com `1`s na diagonal e `0`s nas outras posições) com:"
   ]
  },
  {
   "cell_type": "code",
   "execution_count": 32,
   "metadata": {
    "slideshow": {
     "slide_type": "fragment"
    }
   },
   "outputs": [
    {
     "name": "stdout",
     "output_type": "stream",
     "text": [
      "[[1, 0, 0, 0, 0], [0, 1, 0, 0, 0], [0, 0, 1, 0, 0], [0, 0, 0, 1, 0], [0, 0, 0, 0, 1]]\n"
     ]
    }
   ],
   "source": [
    "def is_diagonal(i, j):\n",
    "    \"\"\"1's on the 'diagonal', 0's everywhere else\"\"\"\n",
    "    return 1 if i == j else 0\n",
    "\n",
    "identity_matrix = make_matrix(5, 5, is_diagonal)\n",
    "\n",
    "print(identity_matrix)"
   ]
  },
  {
   "cell_type": "markdown",
   "metadata": {
    "slideshow": {
     "slide_type": "subslide"
    }
   },
   "source": [
    "Matrizes serão importantes para nós por várias razões.\n",
    "\n",
    "Primeiro, podemos usar uma matriz para representar um conjunto de dados que consiste em múltiplos vetores, simplesmente considerando cada vetor como uma linha da matriz. \n",
    "\n",
    "Por exemplo, se você tivesse as alturas, pesos e idades de 1.000 pessoas, poderia colocá-las em uma matriz de `1000 × 3`:\n"
   ]
  },
  {
   "cell_type": "code",
   "execution_count": 33,
   "metadata": {
    "slideshow": {
     "slide_type": "subslide"
    }
   },
   "outputs": [],
   "source": [
    "data = [[70, 170, 40],\n",
    "         [65, 120, 26],\n",
    "         [77, 250, 19],\n",
    "         # ....\n",
    "        ]"
   ]
  },
  {
   "cell_type": "markdown",
   "metadata": {
    "slideshow": {
     "slide_type": "subslide"
    }
   },
   "source": [
    "Segundo, como veremos mais adiante, podemos usar uma matriz `n × k` para representar uma função linear que mapeia vetores de dimensão `k` para vetores `n` dimensionais. \n",
    "\n",
    "Várias de nossas técnicas e conceitos envolverão essas funções."
   ]
  },
  {
   "cell_type": "markdown",
   "metadata": {
    "slideshow": {
     "slide_type": "subslide"
    }
   },
   "source": [
    "Em terceiro lugar, as matrizes podem ser usadas para representar relacionamentos binários. \n",
    "\n",
    "Na Aula 1, representamos as arestas de uma rede como uma coleção de pares `(i, j)`.\n",
    "\n",
    "Uma representação alternativa seria criar uma matriz `A` tal que `A[i][j]` seja `1` se os nós `i` e `j` estiverem conectados e `0` caso contrário.\n",
    "\n",
    "Lembre-se que antes nós tivemos:"
   ]
  },
  {
   "cell_type": "code",
   "execution_count": 34,
   "metadata": {
    "slideshow": {
     "slide_type": "subslide"
    }
   },
   "outputs": [],
   "source": [
    "friendships = [(0, 1), (0, 2), (1, 2), (1, 3), (2, 3), (3, 4),\n",
    "(4, 5), (5, 6), (5, 7), (6, 8), (7, 8), (8, 9)]"
   ]
  },
  {
   "cell_type": "markdown",
   "metadata": {
    "slideshow": {
     "slide_type": "fragment"
    }
   },
   "source": [
    "Poderíamos também representar esses relacionamentos como:"
   ]
  },
  {
   "cell_type": "code",
   "execution_count": 35,
   "metadata": {
    "slideshow": {
     "slide_type": "fragment"
    }
   },
   "outputs": [],
   "source": [
    "    #     user  0  1  2  3  4  5  6  7  8  9\n",
    "    #\n",
    "friendships = [[0, 1, 1, 0, 0, 0, 0, 0, 0, 0], # usuario 0\n",
    "               [1, 0, 1, 1, 0, 0, 0, 0, 0, 0], # usuario 1\n",
    "               [1, 1, 0, 1, 0, 0, 0, 0, 0, 0], # usuario 2\n",
    "               [0, 1, 1, 0, 1, 0, 0, 0, 0, 0], # usuario 3\n",
    "               [0, 0, 0, 1, 0, 1, 0, 0, 0, 0], # usuario 4\n",
    "               [0, 0, 0, 0, 1, 0, 1, 1, 0, 0], # usuario 5\n",
    "               [0, 0, 0, 0, 0, 1, 0, 0, 1, 0], # usuario 6\n",
    "               [0, 0, 0, 0, 0, 1, 0, 0, 1, 0], # usuario 7\n",
    "               [0, 0, 0, 0, 0, 0, 1, 1, 0, 1], # usuario 8\n",
    "               [0, 0, 0, 0, 0, 0, 0, 0, 1, 0]] # usuario 9"
   ]
  },
  {
   "cell_type": "markdown",
   "metadata": {
    "slideshow": {
     "slide_type": "subslide"
    }
   },
   "source": [
    "Se houverem poucas conexões, essa é uma representação muito mais ineficiente, já que você acaba tendo que armazenar muitos zeros. \n",
    "\n",
    "No entanto, com a representação da matriz, é muito mais rápido verificar se dois nós estão conectados - você só precisa fazer uma pesquisa de matriz em vez de (potencialmente) inspecionar cada aresta:"
   ]
  },
  {
   "cell_type": "code",
   "execution_count": 36,
   "metadata": {
    "slideshow": {
     "slide_type": "subslide"
    }
   },
   "outputs": [
    {
     "name": "stdout",
     "output_type": "stream",
     "text": [
      "5  e  6 sao amigos\n"
     ]
    }
   ],
   "source": [
    "import random\n",
    "\n",
    "friendships[0][2] == 1 # Verdadeiro, 0 e 2 são amigos\n",
    "friendships[0][8] == 1 # Falso, 0 e 8 não são amigos\n",
    "\n",
    "user1 = random.randint(0,9)\n",
    "user2 = random.randint(0,9)\n",
    "\n",
    "if(friendships[user1][user2]):\n",
    "    print(user1, ' e ', user2, 'sao amigos')\n",
    "else:\n",
    "    print(user1, ' e ', user2, 'nao sao amigos')"
   ]
  },
  {
   "cell_type": "markdown",
   "metadata": {
    "slideshow": {
     "slide_type": "subslide"
    }
   },
   "source": [
    "Da mesma forma, para localizar as conexões que um nó possui, basta inspecionar a coluna (ou a linha) correspondente a esse nó:"
   ]
  },
  {
   "cell_type": "code",
   "execution_count": 37,
   "metadata": {
    "slideshow": {
     "slide_type": "fragment"
    }
   },
   "outputs": [
    {
     "name": "stdout",
     "output_type": "stream",
     "text": [
      "[4, 6, 7]\n"
     ]
    }
   ],
   "source": [
    "friends_of_five = [i                                              # precisamos apenas\n",
    "                   for i, is_friend in enumerate(friendships[5])  # olhar uma\n",
    "                   if is_friend]                                  # unica linha\n",
    "\n",
    "print(friends_of_five)"
   ]
  },
  {
   "cell_type": "markdown",
   "metadata": {
    "slideshow": {
     "slide_type": "subslide"
    }
   },
   "source": [
    "Anteriormente, adicionamos uma lista de conexões a cada objeto de nó para acelerar esse processo, mas para um grafo grande e em evolução isso provavelmente seria muito caro e difícil de manter.\n",
    "\n",
    "Vamos revisitar as matrizes ao longo do curso."
   ]
  },
  {
   "cell_type": "markdown",
   "metadata": {
    "slideshow": {
     "slide_type": "slide"
    }
   },
   "source": [
    "# Exercício\n",
    "\n",
    "Considere a matriz `pessoas` abaixo, que contém o nome, peso (em kilogramas) e altura (em centímetros) de um conjunto de pessoas:"
   ]
  },
  {
   "cell_type": "code",
   "execution_count": 38,
   "metadata": {
    "slideshow": {
     "slide_type": "subslide"
    }
   },
   "outputs": [],
   "source": [
    "import numpy as np\n",
    "\n",
    "pessoas = [[\"Ana\",49,161],\n",
    "           [\"Bob\",54,174],\n",
    "           [\"Chico\",75,162],\n",
    "           [\"Diane\",82,182],\n",
    "           [\"Eric\",56,165],\n",
    "           [\"Fred\",74,169],\n",
    "           [\"Gabi\",102,185],\n",
    "           [\"Hilda\",64,177],\n",
    "           [\"Irene\",65,176],\n",
    "           [\"Jane\",66,170],\n",
    "           [\"Kane\",73,183],\n",
    "           [\"Luis\",75,172],\n",
    "           [\"Monica\",57,173],\n",
    "           [\"Nair\",68,165],\n",
    "           [\"Otto\",71,177],\n",
    "           [\"Pedro\",71,180],\n",
    "           [\"Quinn\",78,173],\n",
    "           [\"Rob\",97,189],\n",
    "           [\"Stan\",55,165],\n",
    "           [\"Tati\",56,163],\n",
    "           [\"Uwe\",50,166],\n",
    "           [\"Vic\",50,171],\n",
    "           [\"Xuxa\",50,160]]"
   ]
  },
  {
   "cell_type": "markdown",
   "metadata": {
    "slideshow": {
     "slide_type": "subslide"
    }
   },
   "source": [
    "1) Plote o gráfico de dispersão dessas pessoas."
   ]
  },
  {
   "cell_type": "code",
   "execution_count": 39,
   "metadata": {
    "scrolled": true,
    "slideshow": {
     "slide_type": "subslide"
    }
   },
   "outputs": [
    {
     "data": {
      "image/png": "[encoded data removed]",
      "text/plain": [
       "<matplotlib.figure.Figure at 0x1c8b7af4e48>"
      ]
     },
     "metadata": {},
     "output_type": "display_data"
    }
   ],
   "source": [
    "pesos = get_column(pessoas,1)\n",
    "alturas = get_column(pessoas,2)\n",
    "plt.scatter(pesos, alturas)\n",
    "plt.axis('equal')\n",
    "plt.xlabel('peso (kg)')\n",
    "plt.ylabel('altura (cm)')\n",
    "plt.show()"
   ]
  },
  {
   "cell_type": "markdown",
   "metadata": {
    "slideshow": {
     "slide_type": "subslide"
    }
   },
   "source": [
    "2) Note que há uma correlação entre o peso e a altura das pessoas, ou seja, pessoas mais altas normalmente são mais pesadas. Assim, para encontrar quem são as pessoas maiores, um pesquisador propôs um novo eixo, representado pelo vetor $[(x_1, y_1), (x_2, y_2)]$, de forma que:\n",
    "\n",
    "$x_1 = $ peso médio,\n",
    "\n",
    "$y_1 = $ altura média,\n",
    "\n",
    "$x_2 = 84.99$,\n",
    "\n",
    "$y_2 = 180.54$.\n",
    "\n",
    "Projete as pessoas neste eixo e as ordene da maior para a menor pessoa."
   ]
  },
  {
   "cell_type": "code",
   "execution_count": 40,
   "metadata": {
    "slideshow": {
     "slide_type": "subslide"
    }
   },
   "outputs": [],
   "source": [
    "def de_mean_matrix(A):\n",
    "    \"\"\"returns the result of subtracting from every value in A the mean\n",
    "    value of its column. the resulting matrix has mean 0 in every column\"\"\"\n",
    "    num_rows, num_cols = A.shape\n",
    "    dA = np.zeros(A.shape)\n",
    "    for i in range(0,num_cols):\n",
    "        dA[:,i] = A[:,i] - np.mean(A[:,i])\n",
    "    return dA"
   ]
  },
  {
   "cell_type": "code",
   "execution_count": 41,
   "metadata": {
    "slideshow": {
     "slide_type": "subslide"
    }
   },
   "outputs": [],
   "source": [
    "import numpy as np\n",
    "peso_medio = np.mean(pesos)\n",
    "altura_media = np.mean(alturas)\n",
    "eixo_tamanho = [peso_medio, altura_media, 84.99, 180.54]"
   ]
  },
  {
   "cell_type": "code",
   "execution_count": 42,
   "metadata": {
    "slideshow": {
     "slide_type": "subslide"
    }
   },
   "outputs": [
    {
     "ename": "NameError",
     "evalue": "name 'eixo1_new' is not defined",
     "output_type": "error",
     "traceback": [
      "\u001b[1;31m---------------------------------------------------------------------------\u001b[0m",
      "\u001b[1;31mNameError\u001b[0m                                 Traceback (most recent call last)",
      "\u001b[1;32m<ipython-input-42-9ddab4bf29d6>\u001b[0m in \u001b[0;36m<module>\u001b[1;34m()\u001b[0m\n\u001b[0;32m      2\u001b[0m \u001b[0mX\u001b[0m \u001b[1;33m=\u001b[0m \u001b[0mde_mean_matrix\u001b[0m\u001b[1;33m(\u001b[0m\u001b[0mX\u001b[0m\u001b[1;33m)\u001b[0m\u001b[1;33m\u001b[0m\u001b[0m\n\u001b[0;32m      3\u001b[0m \u001b[0meixo_tamanho_new\u001b[0m \u001b[1;33m=\u001b[0m \u001b[1;33m[\u001b[0m\u001b[0meixo_tamanho\u001b[0m\u001b[1;33m[\u001b[0m\u001b[1;36m2\u001b[0m\u001b[1;33m]\u001b[0m \u001b[1;33m-\u001b[0m \u001b[0mpeso_medio\u001b[0m\u001b[1;33m,\u001b[0m \u001b[0meixo_tamanho\u001b[0m\u001b[1;33m[\u001b[0m\u001b[1;36m3\u001b[0m\u001b[1;33m]\u001b[0m \u001b[1;33m-\u001b[0m \u001b[0maltura_media\u001b[0m\u001b[1;33m]\u001b[0m\u001b[1;33m\u001b[0m\u001b[0m\n\u001b[1;32m----> 4\u001b[1;33m \u001b[0mtamanho_pessoas\u001b[0m \u001b[1;33m=\u001b[0m \u001b[0mnp\u001b[0m\u001b[1;33m.\u001b[0m\u001b[0marray\u001b[0m\u001b[1;33m(\u001b[0m\u001b[1;33m[\u001b[0m\u001b[1;33m[\u001b[0m\u001b[0mnp\u001b[0m\u001b[1;33m.\u001b[0m\u001b[0mdot\u001b[0m\u001b[1;33m(\u001b[0m\u001b[0mxi\u001b[0m\u001b[1;33m,\u001b[0m\u001b[0meixo1_new\u001b[0m\u001b[1;33m)\u001b[0m\u001b[1;33m/\u001b[0m\u001b[0mmagnitude\u001b[0m\u001b[1;33m(\u001b[0m\u001b[0meixo1_new\u001b[0m\u001b[1;33m)\u001b[0m\u001b[1;33m,\u001b[0m \u001b[0mnp\u001b[0m\u001b[1;33m.\u001b[0m\u001b[0mdot\u001b[0m\u001b[1;33m(\u001b[0m\u001b[0mxi\u001b[0m\u001b[1;33m,\u001b[0m\u001b[0meixo2_new\u001b[0m\u001b[1;33m)\u001b[0m\u001b[1;33m/\u001b[0m\u001b[0mmagnitude\u001b[0m\u001b[1;33m(\u001b[0m\u001b[0meixo2_new\u001b[0m\u001b[1;33m)\u001b[0m\u001b[1;33m]\u001b[0m \u001b[1;32mfor\u001b[0m \u001b[0mxi\u001b[0m \u001b[1;32min\u001b[0m \u001b[0mX\u001b[0m\u001b[1;33m]\u001b[0m\u001b[1;33m)\u001b[0m\u001b[1;33m\u001b[0m\u001b[0m\n\u001b[0m\u001b[0;32m      5\u001b[0m \u001b[1;33m\u001b[0m\u001b[0m\n\u001b[0;32m      6\u001b[0m \u001b[0mXt\u001b[0m \u001b[1;33m=\u001b[0m \u001b[1;33m[\u001b[0m\u001b[0mnp\u001b[0m\u001b[1;33m.\u001b[0m\u001b[0mdot\u001b[0m\u001b[1;33m(\u001b[0m\u001b[0mxi\u001b[0m\u001b[1;33m,\u001b[0m\u001b[0meixo_tamanho_new\u001b[0m\u001b[1;33m)\u001b[0m\u001b[1;33m/\u001b[0m\u001b[0mmagnitude\u001b[0m\u001b[1;33m(\u001b[0m\u001b[0meixo_tamanho_new\u001b[0m\u001b[1;33m)\u001b[0m \u001b[1;32mfor\u001b[0m \u001b[0mxi\u001b[0m \u001b[1;32min\u001b[0m \u001b[0mX\u001b[0m\u001b[1;33m]\u001b[0m\u001b[1;33m\u001b[0m\u001b[0m\n",
      "\u001b[1;32m<ipython-input-42-9ddab4bf29d6>\u001b[0m in \u001b[0;36m<listcomp>\u001b[1;34m(.0)\u001b[0m\n\u001b[0;32m      2\u001b[0m \u001b[0mX\u001b[0m \u001b[1;33m=\u001b[0m \u001b[0mde_mean_matrix\u001b[0m\u001b[1;33m(\u001b[0m\u001b[0mX\u001b[0m\u001b[1;33m)\u001b[0m\u001b[1;33m\u001b[0m\u001b[0m\n\u001b[0;32m      3\u001b[0m \u001b[0meixo_tamanho_new\u001b[0m \u001b[1;33m=\u001b[0m \u001b[1;33m[\u001b[0m\u001b[0meixo_tamanho\u001b[0m\u001b[1;33m[\u001b[0m\u001b[1;36m2\u001b[0m\u001b[1;33m]\u001b[0m \u001b[1;33m-\u001b[0m \u001b[0mpeso_medio\u001b[0m\u001b[1;33m,\u001b[0m \u001b[0meixo_tamanho\u001b[0m\u001b[1;33m[\u001b[0m\u001b[1;36m3\u001b[0m\u001b[1;33m]\u001b[0m \u001b[1;33m-\u001b[0m \u001b[0maltura_media\u001b[0m\u001b[1;33m]\u001b[0m\u001b[1;33m\u001b[0m\u001b[0m\n\u001b[1;32m----> 4\u001b[1;33m \u001b[0mtamanho_pessoas\u001b[0m \u001b[1;33m=\u001b[0m \u001b[0mnp\u001b[0m\u001b[1;33m.\u001b[0m\u001b[0marray\u001b[0m\u001b[1;33m(\u001b[0m\u001b[1;33m[\u001b[0m\u001b[1;33m[\u001b[0m\u001b[0mnp\u001b[0m\u001b[1;33m.\u001b[0m\u001b[0mdot\u001b[0m\u001b[1;33m(\u001b[0m\u001b[0mxi\u001b[0m\u001b[1;33m,\u001b[0m\u001b[0meixo1_new\u001b[0m\u001b[1;33m)\u001b[0m\u001b[1;33m/\u001b[0m\u001b[0mmagnitude\u001b[0m\u001b[1;33m(\u001b[0m\u001b[0meixo1_new\u001b[0m\u001b[1;33m)\u001b[0m\u001b[1;33m,\u001b[0m \u001b[0mnp\u001b[0m\u001b[1;33m.\u001b[0m\u001b[0mdot\u001b[0m\u001b[1;33m(\u001b[0m\u001b[0mxi\u001b[0m\u001b[1;33m,\u001b[0m\u001b[0meixo2_new\u001b[0m\u001b[1;33m)\u001b[0m\u001b[1;33m/\u001b[0m\u001b[0mmagnitude\u001b[0m\u001b[1;33m(\u001b[0m\u001b[0meixo2_new\u001b[0m\u001b[1;33m)\u001b[0m\u001b[1;33m]\u001b[0m \u001b[1;32mfor\u001b[0m \u001b[0mxi\u001b[0m \u001b[1;32min\u001b[0m \u001b[0mX\u001b[0m\u001b[1;33m]\u001b[0m\u001b[1;33m)\u001b[0m\u001b[1;33m\u001b[0m\u001b[0m\n\u001b[0m\u001b[0;32m      5\u001b[0m \u001b[1;33m\u001b[0m\u001b[0m\n\u001b[0;32m      6\u001b[0m \u001b[0mXt\u001b[0m \u001b[1;33m=\u001b[0m \u001b[1;33m[\u001b[0m\u001b[0mnp\u001b[0m\u001b[1;33m.\u001b[0m\u001b[0mdot\u001b[0m\u001b[1;33m(\u001b[0m\u001b[0mxi\u001b[0m\u001b[1;33m,\u001b[0m\u001b[0meixo_tamanho_new\u001b[0m\u001b[1;33m)\u001b[0m\u001b[1;33m/\u001b[0m\u001b[0mmagnitude\u001b[0m\u001b[1;33m(\u001b[0m\u001b[0meixo_tamanho_new\u001b[0m\u001b[1;33m)\u001b[0m \u001b[1;32mfor\u001b[0m \u001b[0mxi\u001b[0m \u001b[1;32min\u001b[0m \u001b[0mX\u001b[0m\u001b[1;33m]\u001b[0m\u001b[1;33m\u001b[0m\u001b[0m\n",
      "\u001b[1;31mNameError\u001b[0m: name 'eixo1_new' is not defined"
     ]
    }
   ],
   "source": [
    "X = np.transpose(np.stack((pesos,alturas)))\n",
    "X = de_mean_matrix(X)\n",
    "eixo_tamanho_new = [eixo_tamanho[2] - peso_medio, eixo_tamanho[3] - altura_media]\n",
    "tamanho_pessoas = np.array([[np.dot(xi,eixo1_new)/magnitude(eixo1_new), np.dot(xi,eixo2_new)/magnitude(eixo2_new)] for xi in X])\n",
    "\n",
    "Xt = [np.dot(xi,eixo_tamanho_new)/magnitude(eixo_tamanho_new) for xi in X]\n",
    "print(Xt)"
   ]
  },
  {
   "cell_type": "code",
   "execution_count": null,
   "metadata": {
    "scrolled": true,
    "slideshow": {
     "slide_type": "subslide"
    }
   },
   "outputs": [],
   "source": [
    "P = list(zip(get_column(pessoas, 0), Xt))\n",
    "P.sort(key=lambda p: p[1], reverse = True)\n",
    "print(P)\n",
    "maiores = [p[0] for p in P]\n",
    "print(maiores)"
   ]
  },
  {
   "cell_type": "code",
   "execution_count": null,
   "metadata": {
    "slideshow": {
     "slide_type": "subslide"
    }
   },
   "outputs": [],
   "source": [
    "#gabarito:\n",
    "assert(maiores == ['Gabi', 'Rob', 'Diane', 'Quinn', 'Kane', 'Luis', 'Pedro', 'Otto', 'Fred', 'Chico', 'Irene', 'Hilda', 'Jane', 'Nair', 'Monica', 'Bob', 'Eric', 'Tati', 'Stan', 'Vic', 'Uwe', 'Xuxa', 'Ana'])"
   ]
  },
  {
   "cell_type": "markdown",
   "metadata": {
    "slideshow": {
     "slide_type": "slide"
    }
   },
   "source": [
    "## Para exploração futura\n",
    "\n",
    "* A álgebra linear é amplamente usada por cientistas de dados (freqüentemente implicitamente, e não raramente por pessoas que não a entendem). Não seria uma má ideia ler um livro didático. Você pode encontrar vários online disponíveis gratuitamente:\n",
    "\n",
    " - [Linear Algebra, da UC Davis](http://bit.ly/1ycOq96)\n",
    "\n",
    " - [Linear Algebra, do Saint Michael's College](http://bit.ly/1ycOpSF)\n",
    "\n",
    " - Se você está se sentindo aventureiro, [Linear Algebra Done Wrong](http://bit.ly/1ycOt4W) é uma introdução mais avançada\n",
    " \n",
    " - Se você está pronto para resolver problemas mais avançados com álgebra linear, sugiro o curso [Computational Linear Algebra for Coders Review](https://machinelearningmastery.com/computational-linear-algebra-coders-review/) da plataforma *Machine Learning Mastery*.\n",
    "\n",
    "* Todas as peças de código que construímos são gratuitas se você usar o NumPy. (Você também ganha em eficiência!)"
   ]
  },
  {
   "cell_type": "markdown",
   "metadata": {},
   "source": [
    "Isso deve ser suficiente para começarmos. Usaremos essas funções intensamente ao longo do curso.\n",
    "\n",
    "Usar listas como vetores é ótimo para exposição, mas péssimo para o desempenho.\n",
    "\n",
    "No código em produção, você deve usar a biblioteca `NumPy`, que inclui uma classe de vetores de alto desempenho com todos os tipos de operações aritméticas incluídas."
   ]
  },
  {
   "cell_type": "code",
   "execution_count": null,
   "metadata": {},
   "outputs": [],
   "source": []
  }
 ],
 "metadata": {
  "celltoolbar": "Slideshow",
  "kernelspec": {
   "display_name": "Python 3",
   "language": "python",
   "name": "python3"
  },
  "language_info": {
   "codemirror_mode": {
    "name": "ipython",
    "version": 3
   },
   "file_extension": ".py",
   "mimetype": "text/x-python",
   "name": "python",
   "nbconvert_exporter": "python",
   "pygments_lexer": "ipython3",
   "version": "3.6.4"
  }
 },
 "nbformat": 4,
 "nbformat_minor": 2
}
