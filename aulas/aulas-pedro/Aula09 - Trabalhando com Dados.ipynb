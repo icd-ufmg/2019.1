{
 "cells": [
  {
   "cell_type": "markdown",
   "metadata": {},
   "source": [
    "# Trabalhando com Dados\n",
    "\n",
    "Trabalhar com dados é uma arte e uma ciência. Nós falamos principalmente sobre a parte da ciência, mas nesta aula vamos ver algumas das artes.\n",
    "\n",
    "## Explorando seus dados\n",
    "\n",
    "Depois de identificar as perguntas que você está tentando responder e de colocar suas mãos em alguns dados, você pode se sentir tentado a mergulhar e começar imediatamente a criar modelos e obter respostas. Mas você deve resistir a esse desejo. Seu primeiro passo deve ser explorar seus dados.\n",
    "\n",
    "## Explorando dados unidimensionais\n",
    "\n",
    "O caso mais simples é quando você tem um conjunto de dados unidimensional, que é apenas uma coleção de números. Por exemplo, pode ser o número médio diário de minutos que cada usuário gasta em seu site, o número de vezes que cada um de uma coleção de vídeos tutoriais de ciência de dados foi assistido ou o número de páginas de cada um dos livros de ciência de dados de uma dada editora.\n",
    "\n",
    "Um primeiro passo óbvio é calcular algumas estatísticas descritivas. Você gostaria de saber quantos pontos de dados você tem, o menor, o maior, a média e o desvio padrão. \n",
    "\n",
    "Mas mesmo isso não significa necessariamente um grande entendimento. Um bom próximo passo é criar um histograma, no qual você agrupa seus dados em intervalos discretos e conta quantos pontos estão em cada intervalo:"
   ]
  },
  {
   "cell_type": "code",
   "execution_count": 1,
   "metadata": {},
   "outputs": [],
   "source": [
    "matplotlib inline"
   ]
  },
  {
   "cell_type": "code",
   "execution_count": 2,
   "metadata": {},
   "outputs": [],
   "source": [
    "from collections import Counter, defaultdict\n",
    "from matplotlib import pyplot as plt\n",
    "from scipy.stats import norm\n",
    "import random\n",
    "import numpy.random as rnd\n",
    "import math\n",
    "import numpy as np\n",
    "import dateutil.parser\n",
    "import csv\n",
    "import functools\n",
    "import pandas as pd\n",
    "from scipy.spatial import distance\n",
    "import scipy.optimize as so\n",
    "from functools import partial\n",
    "from modules.gradient_descent import maximize_batch, maximize_stochastic\n",
    "from statsmodels.distributions.empirical_distribution import ECDF\n",
    "#from modules.linear_algebra import shape, get_row, get_column, make_matrix, \\\n",
    "#vector_mean, vector_sum, dot, magnitude, vector_subtract, scalar_multiply\n",
    "\n",
    "savefigs = True"
   ]
  },
  {
   "cell_type": "code",
   "execution_count": 3,
   "metadata": {},
   "outputs": [],
   "source": [
    "def bucketize(point, bucket_size):\n",
    "    \"\"\"floor the point to the next lower multiple of bucket_size\"\"\"\n",
    "    return bucket_size * math.floor(point / bucket_size)\n",
    "\n",
    "\n",
    "def make_histogram(points, bucket_size):\n",
    "    \"\"\"buckets the points and counts how many in each bucket\"\"\"\n",
    "    return Counter(bucketize(point, bucket_size) for point in points)\n",
    "\n",
    "def plot_histogram(points, bucket_size, title=\"\", filename=None):\n",
    "    histogram = make_histogram(points, bucket_size)\n",
    "    plt.bar(histogram.keys(), histogram.values(), width=bucket_size)\n",
    "    plt.title(title)\n",
    "    plt.show()"
   ]
  },
  {
   "cell_type": "markdown",
   "metadata": {},
   "source": [
    "Por exemplo, considere os seguintes conjuntos de dados:"
   ]
  },
  {
   "cell_type": "code",
   "execution_count": 4,
   "metadata": {},
   "outputs": [],
   "source": [
    "random.seed(0)\n",
    "\n",
    "# uniform between -100 and 100\n",
    "uniform = [200 * random.random() - 100 for _ in range(10000)]\n",
    "\n",
    "# normal distribution with mean 0, standard deviation 57\n",
    "normal = [57 * norm.isf(1-random.random()) for _ in range(10000)]"
   ]
  },
  {
   "cell_type": "markdown",
   "metadata": {},
   "source": [
    "Ambos possuem médias próximas a 0 e desvios-padrão próximos a 58. No entanto, eles têm distribuições muito diferentes. O histograma da distribuição do uniforme é:"
   ]
  },
  {
   "cell_type": "code",
   "execution_count": 5,
   "metadata": {},
   "outputs": [
    {
     "data": {
      "image/png": "[encoded data removed]",
      "text/plain": [
       "<matplotlib.figure.Figure at 0x7f873ea67f60>"
      ]
     },
     "metadata": {},
     "output_type": "display_data"
    }
   ],
   "source": [
    "plot_histogram(uniform, 10, \"Uniform Histogram\")"
   ]
  },
  {
   "cell_type": "markdown",
   "metadata": {},
   "source": [
    "Enquanto isso, o histograma da distribuição normal é:"
   ]
  },
  {
   "cell_type": "code",
   "execution_count": 6,
   "metadata": {},
   "outputs": [
    {
     "data": {
      "image/png": "[encoded data removed]",
      "text/plain": [
       "<matplotlib.figure.Figure at 0x7f873ea67b00>"
      ]
     },
     "metadata": {},
     "output_type": "display_data"
    }
   ],
   "source": [
    "plot_histogram(normal, 10, \"Normal Histogram\")"
   ]
  },
  {
   "cell_type": "markdown",
   "metadata": {},
   "source": [
    "Nesse caso, as duas distribuições têm um máximo e um mínimo bem diferentes, mas mesmo sabendo disso não basta para entender como elas se distinguem."
   ]
  },
  {
   "cell_type": "markdown",
   "metadata": {},
   "source": [
    "**Observação:** o código acima serve muito bem para fins didáticos, mas no seu dia-a-dia você deve se acostumar a usar funções prontas:"
   ]
  },
  {
   "cell_type": "code",
   "execution_count": 7,
   "metadata": {},
   "outputs": [],
   "source": [
    "# uniform between -100 and 100\n",
    "uniform_sample = rnd.uniform(-100, 100, 10000);\n",
    "\n",
    "# normal distribution with mean 0, standard deviation 57\n",
    "normal_sample = rnd.normal(0, 57, 10000);"
   ]
  },
  {
   "cell_type": "code",
   "execution_count": 8,
   "metadata": {},
   "outputs": [
    {
     "data": {
      "image/png": "[encoded data removed]",
      "text/plain": [
       "<matplotlib.figure.Figure at 0x7f8736e14978>"
      ]
     },
     "metadata": {},
     "output_type": "display_data"
    }
   ],
   "source": [
    "fig = plt.figure()\n",
    "plt.hist(uniform_sample, bins=20);\n",
    "if savefigs:\n",
    "    fig.savefig('aula09-uniform_hist.png')"
   ]
  },
  {
   "cell_type": "code",
   "execution_count": 9,
   "metadata": {
    "scrolled": false
   },
   "outputs": [
    {
     "data": {
      "image/png": "[encoded data removed]",
      "text/plain": [
       "<matplotlib.figure.Figure at 0x7f8736cb3588>"
      ]
     },
     "metadata": {},
     "output_type": "display_data"
    }
   ],
   "source": [
    "fig = plt.figure()\n",
    "plt.hist(normal_sample, bins=40);\n",
    "if savefigs:\n",
    "    fig.savefig('aula09-nromal_hist.png')"
   ]
  },
  {
   "cell_type": "markdown",
   "metadata": {},
   "source": [
    "Histogramas não são as únicas formas de visualizar como os dados estão distribuídos, até mesmo porque eles podem ser enganosos. Você pode usar a CDF:"
   ]
  },
  {
   "cell_type": "code",
   "execution_count": 10,
   "metadata": {},
   "outputs": [],
   "source": [
    "def plotECDF(data, scale_x=\"linear\", scale_y=\"linear\", filename=None):\n",
    "    ecdf = ECDF(data)\n",
    "    x, y = ecdf.x, ecdf.y\n",
    "    fig = plt.figure()\n",
    "    plt.plot(x, y, 'o-')\n",
    "    plt.ylabel(\"Pr(X $\\leq$ x)\")\n",
    "    plt.xlabel(\"x\")\n",
    "    plt.xscale(scale_x)\n",
    "    plt.yscale(scale_y)    \n",
    "    plt.show()\n",
    "    if filename:\n",
    "        fig.savefig(filename, dpi=150)\n",
    "    "
   ]
  },
  {
   "cell_type": "markdown",
   "metadata": {},
   "source": [
    "Ou a CCDF:"
   ]
  },
  {
   "cell_type": "code",
   "execution_count": 11,
   "metadata": {},
   "outputs": [],
   "source": [
    "def plotECCDF(data, scale_x=\"linear\", scale_y=\"linear\", filename=None):\n",
    "    ecdf = ECDF(data)\n",
    "    x, y = ecdf.x, 1-ecdf.y\n",
    "    fig = plt.figure()    \n",
    "    plt.plot(x, y, 'o-')\n",
    "    plt.ylabel(\"Pr(X > x)\")\n",
    "    plt.xlabel(\"x\")\n",
    "    plt.xscale(scale_x)\n",
    "    plt.yscale(scale_y)\n",
    "    plt.show()\n",
    "    if filename:\n",
    "        fig.savefig(filename, dpi=150)\n",
    "    "
   ]
  },
  {
   "cell_type": "markdown",
   "metadata": {},
   "source": [
    "Ou a função *Odds Ratio*, que é igual a:\n",
    "\n",
    "$$OR(x) = \\frac{CDF(x)}{CCDF(x)} = \\frac{CDF(x)}{1-CDF(x)}$$"
   ]
  },
  {
   "cell_type": "code",
   "execution_count": 12,
   "metadata": {},
   "outputs": [],
   "source": [
    "def plotEOR(data, scale_x=\"linear\", scale_y=\"linear\", filename=None):\n",
    "    ecdf = ECDF(data)\n",
    "    x, y = ecdf.x[:-1], ecdf.y[:-1]   \n",
    "    y = y/(1-y)\n",
    "    fig = plt.figure()     \n",
    "    plt.plot(x, y, 'o-')\n",
    "    plt.ylabel(\"Odds Ratio\")\n",
    "    plt.xlabel(\"x\")\n",
    "    plt.xscale(scale_x)\n",
    "    plt.yscale(scale_y)\n",
    "    plt.show()\n",
    "    if filename:\n",
    "        fig.savefig(filename, dpi=150)    \n",
    "    "
   ]
  },
  {
   "cell_type": "code",
   "execution_count": 13,
   "metadata": {},
   "outputs": [
    {
     "data": {
      "image/png": "[encoded data removed]",
      "text/plain": [
       "<matplotlib.figure.Figure at 0x7f8736c3b080>"
      ]
     },
     "metadata": {},
     "output_type": "display_data"
    }
   ],
   "source": [
    "from scipy.stats import fisk\n",
    "c = 3.09\n",
    "#lld = fisk.rvs(c, size=1000)\n",
    "lld = fisk.rvs(2, loc=0, scale=100, size=4000, random_state=None)\n",
    "plotEOR(lld, \"log\", \"log\")"
   ]
  },
  {
   "cell_type": "code",
   "execution_count": 14,
   "metadata": {
    "scrolled": true
   },
   "outputs": [
    {
     "data": {
      "image/png": "[encoded data removed]",
      "text/plain": [
       "<matplotlib.figure.Figure at 0x7f8736ca4518>"
      ]
     },
     "metadata": {},
     "output_type": "display_data"
    }
   ],
   "source": [
    "ed = np.random.exponential(10,4000)\n",
    "plotECCDF(ed, \"linear\", \"log\")"
   ]
  },
  {
   "cell_type": "code",
   "execution_count": 15,
   "metadata": {
    "scrolled": true
   },
   "outputs": [
    {
     "data": {
      "image/png": "[encoded data removed]",
      "text/plain": [
       "<matplotlib.figure.Figure at 0x7f8736d4e5c0>"
      ]
     },
     "metadata": {},
     "output_type": "display_data"
    }
   ],
   "source": [
    "a, m = 3., 2.  # shape and mode\n",
    "pd = (np.random.pareto(a, 4000) + 1) * m\n",
    "plotECCDF(pd, \"log\", \"log\")"
   ]
  },
  {
   "cell_type": "code",
   "execution_count": 16,
   "metadata": {
    "scrolled": true
   },
   "outputs": [
    {
     "data": {
      "image/png": "[encoded data removed]",
      "text/plain": [
       "<matplotlib.figure.Figure at 0x7f87368f8208>"
      ]
     },
     "metadata": {},
     "output_type": "display_data"
    }
   ],
   "source": [
    "nd = np.random.normal(100, 25, 4000)\n",
    "plotECDF(nd, \"linear\", \"linear\")"
   ]
  },
  {
   "cell_type": "code",
   "execution_count": 17,
   "metadata": {
    "scrolled": false
   },
   "outputs": [
    {
     "data": {
      "image/png": "[encoded data removed]",
      "text/plain": [
       "<matplotlib.figure.Figure at 0x7f873683e7b8>"
      ]
     },
     "metadata": {},
     "output_type": "display_data"
    }
   ],
   "source": [
    "mu, sigma = np.log10(np.mean(lld)), np.log10(np.std(lld)) # mean and standard deviation\n",
    "lnd = np.random.lognormal(mu, sigma, 4000)\n",
    "plotEOR(lnd, \"log\", \"log\")"
   ]
  },
  {
   "cell_type": "code",
   "execution_count": 18,
   "metadata": {
    "scrolled": true
   },
   "outputs": [
    {
     "data": {
      "text/html": [
       "<div>\n",
       "<style scoped>\n",
       "    .dataframe tbody tr th:only-of-type {\n",
       "        vertical-align: middle;\n",
       "    }\n",
       "\n",
       "    .dataframe tbody tr th {\n",
       "        vertical-align: top;\n",
       "    }\n",
       "\n",
       "    .dataframe thead th {\n",
       "        text-align: right;\n",
       "    }\n",
       "</style>\n",
       "<table border=\"1\" class=\"dataframe\">\n",
       "  <thead>\n",
       "    <tr style=\"text-align: right;\">\n",
       "      <th></th>\n",
       "      <th>0</th>\n",
       "    </tr>\n",
       "  </thead>\n",
       "  <tbody>\n",
       "    <tr>\n",
       "      <th>0</th>\n",
       "      <td>20</td>\n",
       "    </tr>\n",
       "    <tr>\n",
       "      <th>1</th>\n",
       "      <td>78</td>\n",
       "    </tr>\n",
       "    <tr>\n",
       "      <th>2</th>\n",
       "      <td>6</td>\n",
       "    </tr>\n",
       "    <tr>\n",
       "      <th>3</th>\n",
       "      <td>120</td>\n",
       "    </tr>\n",
       "    <tr>\n",
       "      <th>4</th>\n",
       "      <td>17</td>\n",
       "    </tr>\n",
       "    <tr>\n",
       "      <th>5</th>\n",
       "      <td>95</td>\n",
       "    </tr>\n",
       "    <tr>\n",
       "      <th>6</th>\n",
       "      <td>36</td>\n",
       "    </tr>\n",
       "    <tr>\n",
       "      <th>7</th>\n",
       "      <td>207</td>\n",
       "    </tr>\n",
       "    <tr>\n",
       "      <th>8</th>\n",
       "      <td>88</td>\n",
       "    </tr>\n",
       "    <tr>\n",
       "      <th>9</th>\n",
       "      <td>13</td>\n",
       "    </tr>\n",
       "    <tr>\n",
       "      <th>10</th>\n",
       "      <td>131</td>\n",
       "    </tr>\n",
       "    <tr>\n",
       "      <th>11</th>\n",
       "      <td>222</td>\n",
       "    </tr>\n",
       "    <tr>\n",
       "      <th>12</th>\n",
       "      <td>39</td>\n",
       "    </tr>\n",
       "    <tr>\n",
       "      <th>13</th>\n",
       "      <td>11</td>\n",
       "    </tr>\n",
       "    <tr>\n",
       "      <th>14</th>\n",
       "      <td>93</td>\n",
       "    </tr>\n",
       "    <tr>\n",
       "      <th>15</th>\n",
       "      <td>3</td>\n",
       "    </tr>\n",
       "    <tr>\n",
       "      <th>16</th>\n",
       "      <td>25</td>\n",
       "    </tr>\n",
       "    <tr>\n",
       "      <th>17</th>\n",
       "      <td>97</td>\n",
       "    </tr>\n",
       "    <tr>\n",
       "      <th>18</th>\n",
       "      <td>6</td>\n",
       "    </tr>\n",
       "    <tr>\n",
       "      <th>19</th>\n",
       "      <td>103</td>\n",
       "    </tr>\n",
       "    <tr>\n",
       "      <th>20</th>\n",
       "      <td>279</td>\n",
       "    </tr>\n",
       "    <tr>\n",
       "      <th>21</th>\n",
       "      <td>72</td>\n",
       "    </tr>\n",
       "    <tr>\n",
       "      <th>22</th>\n",
       "      <td>50</td>\n",
       "    </tr>\n",
       "    <tr>\n",
       "      <th>23</th>\n",
       "      <td>299</td>\n",
       "    </tr>\n",
       "    <tr>\n",
       "      <th>24</th>\n",
       "      <td>98</td>\n",
       "    </tr>\n",
       "    <tr>\n",
       "      <th>25</th>\n",
       "      <td>88</td>\n",
       "    </tr>\n",
       "    <tr>\n",
       "      <th>26</th>\n",
       "      <td>1</td>\n",
       "    </tr>\n",
       "    <tr>\n",
       "      <th>27</th>\n",
       "      <td>106</td>\n",
       "    </tr>\n",
       "    <tr>\n",
       "      <th>28</th>\n",
       "      <td>59</td>\n",
       "    </tr>\n",
       "    <tr>\n",
       "      <th>29</th>\n",
       "      <td>110</td>\n",
       "    </tr>\n",
       "    <tr>\n",
       "      <th>...</th>\n",
       "      <td>...</td>\n",
       "    </tr>\n",
       "    <tr>\n",
       "      <th>1384</th>\n",
       "      <td>253</td>\n",
       "    </tr>\n",
       "    <tr>\n",
       "      <th>1385</th>\n",
       "      <td>1906</td>\n",
       "    </tr>\n",
       "    <tr>\n",
       "      <th>1386</th>\n",
       "      <td>162</td>\n",
       "    </tr>\n",
       "    <tr>\n",
       "      <th>1387</th>\n",
       "      <td>706</td>\n",
       "    </tr>\n",
       "    <tr>\n",
       "      <th>1388</th>\n",
       "      <td>450</td>\n",
       "    </tr>\n",
       "    <tr>\n",
       "      <th>1389</th>\n",
       "      <td>274</td>\n",
       "    </tr>\n",
       "    <tr>\n",
       "      <th>1390</th>\n",
       "      <td>862</td>\n",
       "    </tr>\n",
       "    <tr>\n",
       "      <th>1391</th>\n",
       "      <td>482</td>\n",
       "    </tr>\n",
       "    <tr>\n",
       "      <th>1392</th>\n",
       "      <td>518</td>\n",
       "    </tr>\n",
       "    <tr>\n",
       "      <th>1393</th>\n",
       "      <td>5691</td>\n",
       "    </tr>\n",
       "    <tr>\n",
       "      <th>1394</th>\n",
       "      <td>903</td>\n",
       "    </tr>\n",
       "    <tr>\n",
       "      <th>1395</th>\n",
       "      <td>225</td>\n",
       "    </tr>\n",
       "    <tr>\n",
       "      <th>1396</th>\n",
       "      <td>660</td>\n",
       "    </tr>\n",
       "    <tr>\n",
       "      <th>1397</th>\n",
       "      <td>967</td>\n",
       "    </tr>\n",
       "    <tr>\n",
       "      <th>1398</th>\n",
       "      <td>677</td>\n",
       "    </tr>\n",
       "    <tr>\n",
       "      <th>1399</th>\n",
       "      <td>226</td>\n",
       "    </tr>\n",
       "    <tr>\n",
       "      <th>1400</th>\n",
       "      <td>28</td>\n",
       "    </tr>\n",
       "    <tr>\n",
       "      <th>1401</th>\n",
       "      <td>43</td>\n",
       "    </tr>\n",
       "    <tr>\n",
       "      <th>1402</th>\n",
       "      <td>27</td>\n",
       "    </tr>\n",
       "    <tr>\n",
       "      <th>1403</th>\n",
       "      <td>69</td>\n",
       "    </tr>\n",
       "    <tr>\n",
       "      <th>1404</th>\n",
       "      <td>79</td>\n",
       "    </tr>\n",
       "    <tr>\n",
       "      <th>1405</th>\n",
       "      <td>92</td>\n",
       "    </tr>\n",
       "    <tr>\n",
       "      <th>1406</th>\n",
       "      <td>30</td>\n",
       "    </tr>\n",
       "    <tr>\n",
       "      <th>1407</th>\n",
       "      <td>165</td>\n",
       "    </tr>\n",
       "    <tr>\n",
       "      <th>1408</th>\n",
       "      <td>406</td>\n",
       "    </tr>\n",
       "    <tr>\n",
       "      <th>1409</th>\n",
       "      <td>416</td>\n",
       "    </tr>\n",
       "    <tr>\n",
       "      <th>1410</th>\n",
       "      <td>239</td>\n",
       "    </tr>\n",
       "    <tr>\n",
       "      <th>1411</th>\n",
       "      <td>172</td>\n",
       "    </tr>\n",
       "    <tr>\n",
       "      <th>1412</th>\n",
       "      <td>7</td>\n",
       "    </tr>\n",
       "    <tr>\n",
       "      <th>1413</th>\n",
       "      <td>141</td>\n",
       "    </tr>\n",
       "  </tbody>\n",
       "</table>\n",
       "<p>1414 rows × 1 columns</p>\n",
       "</div>"
      ],
      "text/plain": [
       "         0\n",
       "0       20\n",
       "1       78\n",
       "2        6\n",
       "3      120\n",
       "4       17\n",
       "5       95\n",
       "6       36\n",
       "7      207\n",
       "8       88\n",
       "9       13\n",
       "10     131\n",
       "11     222\n",
       "12      39\n",
       "13      11\n",
       "14      93\n",
       "15       3\n",
       "16      25\n",
       "17      97\n",
       "18       6\n",
       "19     103\n",
       "20     279\n",
       "21      72\n",
       "22      50\n",
       "23     299\n",
       "24      98\n",
       "25      88\n",
       "26       1\n",
       "27     106\n",
       "28      59\n",
       "29     110\n",
       "...    ...\n",
       "1384   253\n",
       "1385  1906\n",
       "1386   162\n",
       "1387   706\n",
       "1388   450\n",
       "1389   274\n",
       "1390   862\n",
       "1391   482\n",
       "1392   518\n",
       "1393  5691\n",
       "1394   903\n",
       "1395   225\n",
       "1396   660\n",
       "1397   967\n",
       "1398   677\n",
       "1399   226\n",
       "1400    28\n",
       "1401    43\n",
       "1402    27\n",
       "1403    69\n",
       "1404    79\n",
       "1405    92\n",
       "1406    30\n",
       "1407   165\n",
       "1408   406\n",
       "1409   416\n",
       "1410   239\n",
       "1411   172\n",
       "1412     7\n",
       "1413   141\n",
       "\n",
       "[1414 rows x 1 columns]"
      ]
     },
     "execution_count": 18,
     "metadata": {},
     "output_type": "execute_result"
    }
   ],
   "source": [
    "import pandas as pd\n",
    "df = pd.read_table('./data/metatalk/meta/15547.dat', header=None, dtype=int)\n",
    "df"
   ]
  },
  {
   "cell_type": "code",
   "execution_count": 19,
   "metadata": {
    "scrolled": true
   },
   "outputs": [
    {
     "name": "stdout",
     "output_type": "stream",
     "text": [
      "(1414,)\n",
      "393.5961810466761\n"
     ]
    },
    {
     "data": {
      "image/png": "[encoded data removed]",
      "text/plain": [
       "<matplotlib.figure.Figure at 0x7f8736b1e128>"
      ]
     },
     "metadata": {},
     "output_type": "display_data"
    }
   ],
   "source": [
    "data = df.values\n",
    "data = np.reshape(data, len(data))\n",
    "print(data.shape)\n",
    "print(np.mean(data))\n",
    "plotEOR(data, \"log\", \"log\")"
   ]
  },
  {
   "cell_type": "markdown",
   "metadata": {},
   "source": [
    "## Duas Dimensões\n",
    "\n",
    "Agora imagine que você tenha um conjunto de dados com duas dimensões. Talvez, além dos minutos diários, você tenha anos de experiência em ciência de dados. Claro que você gostaria de entender cada dimensão individualmente. Mas você provavelmente também quer espalhar os dados e ver como as dimensões se relacionam.\n",
    "\n",
    "Por exemplo, considere outro conjunto de dados falso:"
   ]
  },
  {
   "cell_type": "code",
   "execution_count": 20,
   "metadata": {},
   "outputs": [],
   "source": [
    "def random_normal():\n",
    "    \"\"\"returns a random draw from a standard normal distribution\"\"\"\n",
    "    return norm.isf(1-random.random())\n",
    "    #return inverse_normal_cdf(random.random())\n",
    "\n",
    "\n",
    "xs = [random_normal() for _ in range(1000)]\n",
    "#para cada valor de xs, vamos gerar um valor distribuido normalmente com localidade opostas\n",
    "ys1 = [ x + random_normal() / 2 for x in xs]\n",
    "ys2 = [-x + random_normal() / 2 for x in xs]"
   ]
  },
  {
   "cell_type": "markdown",
   "metadata": {},
   "source": [
    "Se você plotar o histograma de `ys1` e `ys2`, teria gráficos de aparência muito parecidos (na verdade, ambos são normalmente distribuídos com a mesma média e desvio padrão)."
   ]
  },
  {
   "cell_type": "code",
   "execution_count": 21,
   "metadata": {},
   "outputs": [
    {
     "data": {
      "image/png": "[encoded data removed]",
      "text/plain": [
       "<matplotlib.figure.Figure at 0x7f8736778898>"
      ]
     },
     "metadata": {},
     "output_type": "display_data"
    }
   ],
   "source": [
    "fig = plt.figure()\n",
    "\n",
    "plt.subplot(1, 2, 1) # (rows, columns, panel number)\n",
    "plt.hist(ys1, 10)\n",
    "plt.title(\"ys1\")\n",
    "plt.subplot(1, 2, 2) # (rows, columns, panel number)\n",
    "plt.title(\"ys2\")\n",
    "plt.hist(ys2, 10)\n",
    "\n",
    "#fig, ax = plt.subplots(1, 2)\n",
    "#ax[0].hist(ys1, 20)\n",
    "#ax[0].title('ys1')\n",
    "#ax[1].hist(ys2, 20)\n",
    "plt.show()\n",
    "if savefigs:\n",
    "    fig.savefig('aula09-twohists.png')"
   ]
  },
  {
   "cell_type": "markdown",
   "metadata": {},
   "source": [
    "Mas cada um tem uma distribuição conjunta muito diferente com `xs`, como pode ser visto a seguir:"
   ]
  },
  {
   "cell_type": "code",
   "execution_count": 22,
   "metadata": {},
   "outputs": [
    {
     "data": {
      "image/png": "[encoded data removed]",
      "text/plain": [
       "<matplotlib.figure.Figure at 0x7f873672e2b0>"
      ]
     },
     "metadata": {},
     "output_type": "display_data"
    }
   ],
   "source": [
    "fig = plt.figure()\n",
    "plt.scatter(xs, ys1, marker='.', color='black', label='ys1')\n",
    "plt.scatter(xs, ys2, marker='.', color='gray', label='ys2')\n",
    "plt.xlabel('xs')\n",
    "plt.ylabel('ys')\n",
    "plt.legend(loc=9)\n",
    "plt.title(\"Very Different Joint Distributions\")\n",
    "plt.show()\n",
    "\n",
    "if savefigs:\n",
    "    fig.savefig('aula09-scatter.png')"
   ]
  },
  {
   "cell_type": "markdown",
   "metadata": {},
   "source": [
    "A diferença também seria clara se você calcular as correlações:"
   ]
  },
  {
   "cell_type": "code",
   "execution_count": 23,
   "metadata": {},
   "outputs": [
    {
     "name": "stdout",
     "output_type": "stream",
     "text": [
      "0.9010493514264809\n",
      "-0.8920981478929224\n"
     ]
    }
   ],
   "source": [
    "from numpy import corrcoef as correlation\n",
    "\n",
    "print(correlation(xs, ys1)[1,0])\n",
    "print(correlation(xs, ys2)[1,0])"
   ]
  },
  {
   "cell_type": "markdown",
   "metadata": {},
   "source": [
    "## Muitas dimensões\n",
    "\n",
    "Com muitas dimensões, você gostaria de saber como todas as dimensões se relacionam umas com as outras. Uma abordagem simples é examinar a matriz de correlação, na qual a entrada na linha `i` e coluna `j` é a correlação entre a dimensão `i` e a dimensão `j` dos dados. Essa foi a razão pela qual usamos os índices `[1,0]` no código anterior, pois a função `corrcoef` do `numpy` já retorna a matriz de correlação de um conjunto de dados com muitas dimensões:"
   ]
  },
  {
   "cell_type": "code",
   "execution_count": 24,
   "metadata": {},
   "outputs": [
    {
     "name": "stdout",
     "output_type": "stream",
     "text": [
      "[[ 1.         -0.05221515 -0.04509756  0.07273667]\n",
      " [-0.05221515  1.          0.90104935 -0.89209815]\n",
      " [-0.04509756  0.90104935  1.         -0.80727306]\n",
      " [ 0.07273667 -0.89209815 -0.80727306  1.        ]]\n"
     ]
    }
   ],
   "source": [
    "#um vetor de valores normalmente distribuidos e sem correlacao com os demais\n",
    "xsrnd = [random_normal() for _ in range(1000)]\n",
    "\n",
    "#cria uma matriz em que cada linha contem um dos vetores\n",
    "data = np.stack((xsrnd,xs,ys1,ys2))\n",
    "\n",
    "print(correlation(data))"
   ]
  },
  {
   "cell_type": "markdown",
   "metadata": {},
   "source": [
    "Uma abordagem mais visual (se você não tiver muitas dimensões) é criar uma matriz de gráficos de dispersão mostrando todos os gráficos de dispersão em pares. Para isso, usaremos `plt.subplots()`, que nos permite criar *sub-gráficos* em nosso gráfico. Damos a ele o número de linhas e o número de colunas, e ele retorna um objeto de figura (que não usaremos) e uma matriz bidimensional de objetos de eixos (que nós plotaremos):"
   ]
  },
  {
   "cell_type": "code",
   "execution_count": 25,
   "metadata": {},
   "outputs": [],
   "source": [
    "def make_scatterplot_matrix(data):\n",
    "\n",
    "    #_, num_columns = shape(data)\n",
    "    _, num_columns = data.shape\n",
    "    \n",
    "    fig, ax = plt.subplots(num_columns, num_columns)\n",
    "\n",
    "    for i in range(num_columns):\n",
    "        for j in range(num_columns):\n",
    "\n",
    "            # scatter column_j on the x-axis vs column_i on the y-axis\n",
    "            #if i != j: ax[i][j].scatter(get_column(data, j), get_column(data, i))\n",
    "            if i != j: ax[i][j].scatter(data[:,j], data[:,i])\n",
    "\n",
    "            # unless i == j, in which case show the series name\n",
    "            else: ax[i][j].annotate(\"series \" + str(i), (0.5, 0.5),\n",
    "                                    xycoords='axes fraction',\n",
    "                                    ha=\"center\", va=\"center\")\n",
    "\n",
    "            # then hide axis labels except left and bottom charts\n",
    "            if i < num_columns - 1: ax[i][j].xaxis.set_visible(False)\n",
    "            if j > 0: ax[i][j].yaxis.set_visible(False)\n",
    "\n",
    "    # fix the bottom right and top left axis labels, which are wrong because\n",
    "    # their charts only have text in them\n",
    "    ax[-1][-1].set_xlim(ax[0][-1].get_xlim())\n",
    "    ax[0][0].set_ylim(ax[0][1].get_ylim())\n",
    "    if savefigs:\n",
    "        fig.savefig('aula09-multiscatter.png')\n",
    "\n",
    "plt.show()\n"
   ]
  },
  {
   "cell_type": "markdown",
   "metadata": {},
   "source": [
    "Agora, vamos gerar alguns dados aleatórios:"
   ]
  },
  {
   "cell_type": "code",
   "execution_count": 26,
   "metadata": {},
   "outputs": [],
   "source": [
    "# first, generate some random data\n",
    "\n",
    "num_points = 100\n",
    "\n",
    "def random_row():\n",
    "    row = [None, None, None, None]\n",
    "    row[0] = random_normal()\n",
    "    row[1] = -5 * row[0] + random_normal()\n",
    "    row[2] = row[0] + row[1] + 5 * random_normal()\n",
    "    row[3] = 6 if row[2] > -2 else 0\n",
    "    return row\n",
    "\n",
    "random.seed(0)\n",
    "data = [random_row()\n",
    "        for _ in range(num_points)]\n",
    "\n",
    "#vamos usar numpy, muito mais facil!\n",
    "data = np.array(data)"
   ]
  },
  {
   "cell_type": "markdown",
   "metadata": {},
   "source": [
    "Agora, podemos plotar os gráficos de dispersão:"
   ]
  },
  {
   "cell_type": "code",
   "execution_count": 27,
   "metadata": {},
   "outputs": [
    {
     "data": {
      "image/png": "[encoded data removed]",
      "text/plain": [
       "<matplotlib.figure.Figure at 0x7f8736950518>"
      ]
     },
     "metadata": {},
     "output_type": "display_data"
    }
   ],
   "source": [
    "make_scatterplot_matrix(data)"
   ]
  },
  {
   "cell_type": "markdown",
   "metadata": {},
   "source": [
    "Olhando para os gráficos de dispersão, você pode ver que a série 1 é muito negativamente correlacionada com a série 0, a série 2 é positivamente correlacionada com a série 1, e a série 3 assume apenas os valores 0 e 6, com 0 correspondendo a pequenos valores da série 2 e 6 correspondendo a grandes valores.\n",
    "\n",
    "Essa é uma maneira rápida de ter uma noção aproximada de quais de suas variáveis estão correlacionadas (a menos que você gaste horas ajustando o `matplotlib` para exibir as coisas exatamente da maneira que você quer, o que pode ser um desperdício de horas de trabalho)."
   ]
  },
  {
   "cell_type": "markdown",
   "metadata": {},
   "source": [
    "## Limpeza e Formatação\n",
    "\n",
    "Dados do mundo real estão sujos. Muitas vezes você terá que fazer algum trabalho antes de poder usá-los. Vimos exemplos disso nas aulas passadas. Precisamos converter *strings* em *floats* ou *ints* antes de usá-las. Anteriormente, fizemos isso antes de usar os dados:\n",
    "\n",
    "`closing_price = float(row[2])`\n",
    "\n",
    "No entanto, provavelmente estamos menos propensos se fizermos a análise (ou *parser*) dos dados antes de manipulá-los, o que podemos fazer criando uma função que envolva o `csv.reader`. Vamos dar uma lista de analisadores (*parsers*), cada um especificando como analisar uma das colunas. E nós usaremos `None` para representar \"não faça nada a esta coluna\":"
   ]
  },
  {
   "cell_type": "code",
   "execution_count": 28,
   "metadata": {},
   "outputs": [],
   "source": [
    "def parse_row(input_row, parsers):\n",
    "    \"\"\"given a list of parsers (some of which may be None)\n",
    "    apply the appropriate one to each element of the input_row\"\"\"\n",
    "    \n",
    "    return [parser(value) if parser is not None else value\n",
    "            for value, parser in zip(input_row, parsers)]\n",
    "\n",
    "def parse_rows_with(reader, parsers):\n",
    "    \"\"\"wrap a reader to apply the parsers to each of its rows\"\"\"\n",
    "    \n",
    "    for row in reader:\n",
    "        yield parse_row(row, parsers)"
   ]
  },
  {
   "cell_type": "markdown",
   "metadata": {},
   "source": [
    "E se houver dados incorretos? Um valor \"float\" que na verdade não representa um número? Normalmente, preferimos ter um `None` do que travar nosso programa. Podemos fazer isso com uma função auxiliar:"
   ]
  },
  {
   "cell_type": "code",
   "execution_count": 29,
   "metadata": {},
   "outputs": [],
   "source": [
    "def try_or_none(f):\n",
    "    \"\"\"wraps f to return None if f raises an exception\n",
    "    assumes f takes only one input\"\"\"\n",
    "    def f_or_none(x):\n",
    "        try: return f(x)\n",
    "        except: return None\n",
    "    return f_or_none"
   ]
  },
  {
   "cell_type": "markdown",
   "metadata": {},
   "source": [
    "Depois podemos reescrever a função `parse_row` para usá-la:"
   ]
  },
  {
   "cell_type": "code",
   "execution_count": 30,
   "metadata": {},
   "outputs": [],
   "source": [
    "def parse_row(input_row, parsers):\n",
    "    return [try_or_none(parser)(value) if parser is not None else value \n",
    "            for value, parser in zip(input_row, parsers)]"
   ]
  },
  {
   "cell_type": "markdown",
   "metadata": {},
   "source": [
    "Por exemplo, se tivermos [preços de ações](https://www.dropbox.com/s/ipqg7m12gsx8ot2/comma_delimited_stock_prices.csv?dl=0) delimitados por vírgulas com dados inválidos:\n",
    "\n",
    "`6/20/2014,AAPL,90.91\n",
    "6/20/2014,MSFT,41.68\n",
    "6/20/3014,FB,64.5\n",
    "6/19/2014,AAPL,91.86\n",
    "6/19/2014,MSFT,n/a\n",
    "6/19/2014,FB,64.34`\n",
    "\n",
    "A gente pode ler e processar os dados em um passo único:"
   ]
  },
  {
   "cell_type": "code",
   "execution_count": 31,
   "metadata": {},
   "outputs": [],
   "source": [
    "data = []\n",
    "\n",
    "with open(\"./data/comma_delimited_stock_prices.csv\", \"r\") as f:\n",
    "    reader = csv.reader(f)\n",
    "    for line in parse_rows_with(reader, [dateutil.parser.parse, None, float]):\n",
    "        data.append(line)"
   ]
  },
  {
   "cell_type": "markdown",
   "metadata": {},
   "source": [
    "E depois, a gente apenas precisa verificar se existem linhas com `None`"
   ]
  },
  {
   "cell_type": "code",
   "execution_count": 32,
   "metadata": {},
   "outputs": [
    {
     "name": "stdout",
     "output_type": "stream",
     "text": [
      "[datetime.datetime(2014, 6, 19, 0, 0), 'MSFT', None]\n"
     ]
    }
   ],
   "source": [
    "for row in data:\n",
    "    if any(x is None for x in row):\n",
    "        print(row)"
   ]
  },
  {
   "cell_type": "markdown",
   "metadata": {},
   "source": [
    "e decidir o que queremos fazer com elas. Em geral, as três opções são:\n",
    "\n",
    "* livrar-se delas\n",
    "* voltar à fonte e tentar corrigir os dados errados/ausentes\n",
    "* não fazer nada e cruzar os dedos.\n",
    "\n",
    "Poderíamos criar ajudantes semelhantes para o `csv.DictReader`. Nesse caso, você provavelmente desejaria fornecer um `dict` de *parsers* por nome do campo. Por exemplo:"
   ]
  },
  {
   "cell_type": "code",
   "execution_count": 33,
   "metadata": {},
   "outputs": [],
   "source": [
    "def try_parse_field(field_name, value, parser_dict):\n",
    "    \"\"\"try to parse value using the appropriate function from parser_dict\"\"\"\n",
    "    parser = parser_dict.get(field_name) # None if no such entry\n",
    "    if parser is not None:\n",
    "        return try_or_none(parser)(value)\n",
    "    else:\n",
    "        return value\n",
    "\n",
    "def parse_dict(input_dict, parser_dict):\n",
    "    return { field_name : try_parse_field(field_name, value, parser_dict)\n",
    "            for field_name, value in input_dict.items() }"
   ]
  },
  {
   "cell_type": "code",
   "execution_count": 34,
   "metadata": {},
   "outputs": [
    {
     "data": {
      "text/html": [
       "<div>\n",
       "<style scoped>\n",
       "    .dataframe tbody tr th:only-of-type {\n",
       "        vertical-align: middle;\n",
       "    }\n",
       "\n",
       "    .dataframe tbody tr th {\n",
       "        vertical-align: top;\n",
       "    }\n",
       "\n",
       "    .dataframe thead th {\n",
       "        text-align: right;\n",
       "    }\n",
       "</style>\n",
       "<table border=\"1\" class=\"dataframe\">\n",
       "  <thead>\n",
       "    <tr style=\"text-align: right;\">\n",
       "      <th></th>\n",
       "      <th>Unnamed: 0</th>\n",
       "      <th>Year</th>\n",
       "      <th>Player</th>\n",
       "      <th>Pos</th>\n",
       "      <th>Age</th>\n",
       "      <th>Tm</th>\n",
       "      <th>G</th>\n",
       "      <th>GS</th>\n",
       "      <th>MP</th>\n",
       "      <th>PER</th>\n",
       "      <th>...</th>\n",
       "      <th>FT%</th>\n",
       "      <th>ORB</th>\n",
       "      <th>DRB</th>\n",
       "      <th>TRB</th>\n",
       "      <th>AST</th>\n",
       "      <th>STL</th>\n",
       "      <th>BLK</th>\n",
       "      <th>TOV</th>\n",
       "      <th>PF</th>\n",
       "      <th>PTS</th>\n",
       "    </tr>\n",
       "  </thead>\n",
       "  <tbody>\n",
       "    <tr>\n",
       "      <th>0</th>\n",
       "      <td>0</td>\n",
       "      <td>1950.0</td>\n",
       "      <td>Curly Armstrong</td>\n",
       "      <td>G-F</td>\n",
       "      <td>31.0</td>\n",
       "      <td>FTW</td>\n",
       "      <td>63.0</td>\n",
       "      <td>NaN</td>\n",
       "      <td>NaN</td>\n",
       "      <td>NaN</td>\n",
       "      <td>...</td>\n",
       "      <td>0.705</td>\n",
       "      <td>NaN</td>\n",
       "      <td>NaN</td>\n",
       "      <td>NaN</td>\n",
       "      <td>176.0</td>\n",
       "      <td>NaN</td>\n",
       "      <td>NaN</td>\n",
       "      <td>NaN</td>\n",
       "      <td>217.0</td>\n",
       "      <td>458.0</td>\n",
       "    </tr>\n",
       "    <tr>\n",
       "      <th>1</th>\n",
       "      <td>1</td>\n",
       "      <td>1950.0</td>\n",
       "      <td>Cliff Barker</td>\n",
       "      <td>SG</td>\n",
       "      <td>29.0</td>\n",
       "      <td>INO</td>\n",
       "      <td>49.0</td>\n",
       "      <td>NaN</td>\n",
       "      <td>NaN</td>\n",
       "      <td>NaN</td>\n",
       "      <td>...</td>\n",
       "      <td>0.708</td>\n",
       "      <td>NaN</td>\n",
       "      <td>NaN</td>\n",
       "      <td>NaN</td>\n",
       "      <td>109.0</td>\n",
       "      <td>NaN</td>\n",
       "      <td>NaN</td>\n",
       "      <td>NaN</td>\n",
       "      <td>99.0</td>\n",
       "      <td>279.0</td>\n",
       "    </tr>\n",
       "    <tr>\n",
       "      <th>2</th>\n",
       "      <td>2</td>\n",
       "      <td>1950.0</td>\n",
       "      <td>Leo Barnhorst</td>\n",
       "      <td>SF</td>\n",
       "      <td>25.0</td>\n",
       "      <td>CHS</td>\n",
       "      <td>67.0</td>\n",
       "      <td>NaN</td>\n",
       "      <td>NaN</td>\n",
       "      <td>NaN</td>\n",
       "      <td>...</td>\n",
       "      <td>0.698</td>\n",
       "      <td>NaN</td>\n",
       "      <td>NaN</td>\n",
       "      <td>NaN</td>\n",
       "      <td>140.0</td>\n",
       "      <td>NaN</td>\n",
       "      <td>NaN</td>\n",
       "      <td>NaN</td>\n",
       "      <td>192.0</td>\n",
       "      <td>438.0</td>\n",
       "    </tr>\n",
       "    <tr>\n",
       "      <th>3</th>\n",
       "      <td>3</td>\n",
       "      <td>1950.0</td>\n",
       "      <td>Ed Bartels</td>\n",
       "      <td>F</td>\n",
       "      <td>24.0</td>\n",
       "      <td>TOT</td>\n",
       "      <td>15.0</td>\n",
       "      <td>NaN</td>\n",
       "      <td>NaN</td>\n",
       "      <td>NaN</td>\n",
       "      <td>...</td>\n",
       "      <td>0.559</td>\n",
       "      <td>NaN</td>\n",
       "      <td>NaN</td>\n",
       "      <td>NaN</td>\n",
       "      <td>20.0</td>\n",
       "      <td>NaN</td>\n",
       "      <td>NaN</td>\n",
       "      <td>NaN</td>\n",
       "      <td>29.0</td>\n",
       "      <td>63.0</td>\n",
       "    </tr>\n",
       "    <tr>\n",
       "      <th>4</th>\n",
       "      <td>4</td>\n",
       "      <td>1950.0</td>\n",
       "      <td>Ed Bartels</td>\n",
       "      <td>F</td>\n",
       "      <td>24.0</td>\n",
       "      <td>DNN</td>\n",
       "      <td>13.0</td>\n",
       "      <td>NaN</td>\n",
       "      <td>NaN</td>\n",
       "      <td>NaN</td>\n",
       "      <td>...</td>\n",
       "      <td>0.548</td>\n",
       "      <td>NaN</td>\n",
       "      <td>NaN</td>\n",
       "      <td>NaN</td>\n",
       "      <td>20.0</td>\n",
       "      <td>NaN</td>\n",
       "      <td>NaN</td>\n",
       "      <td>NaN</td>\n",
       "      <td>27.0</td>\n",
       "      <td>59.0</td>\n",
       "    </tr>\n",
       "    <tr>\n",
       "      <th>5</th>\n",
       "      <td>5</td>\n",
       "      <td>1950.0</td>\n",
       "      <td>Ed Bartels</td>\n",
       "      <td>F</td>\n",
       "      <td>24.0</td>\n",
       "      <td>NYK</td>\n",
       "      <td>2.0</td>\n",
       "      <td>NaN</td>\n",
       "      <td>NaN</td>\n",
       "      <td>NaN</td>\n",
       "      <td>...</td>\n",
       "      <td>0.667</td>\n",
       "      <td>NaN</td>\n",
       "      <td>NaN</td>\n",
       "      <td>NaN</td>\n",
       "      <td>0.0</td>\n",
       "      <td>NaN</td>\n",
       "      <td>NaN</td>\n",
       "      <td>NaN</td>\n",
       "      <td>2.0</td>\n",
       "      <td>4.0</td>\n",
       "    </tr>\n",
       "    <tr>\n",
       "      <th>6</th>\n",
       "      <td>6</td>\n",
       "      <td>1950.0</td>\n",
       "      <td>Ralph Beard</td>\n",
       "      <td>G</td>\n",
       "      <td>22.0</td>\n",
       "      <td>INO</td>\n",
       "      <td>60.0</td>\n",
       "      <td>NaN</td>\n",
       "      <td>NaN</td>\n",
       "      <td>NaN</td>\n",
       "      <td>...</td>\n",
       "      <td>0.762</td>\n",
       "      <td>NaN</td>\n",
       "      <td>NaN</td>\n",
       "      <td>NaN</td>\n",
       "      <td>233.0</td>\n",
       "      <td>NaN</td>\n",
       "      <td>NaN</td>\n",
       "      <td>NaN</td>\n",
       "      <td>132.0</td>\n",
       "      <td>895.0</td>\n",
       "    </tr>\n",
       "    <tr>\n",
       "      <th>7</th>\n",
       "      <td>7</td>\n",
       "      <td>1950.0</td>\n",
       "      <td>Gene Berce</td>\n",
       "      <td>G-F</td>\n",
       "      <td>23.0</td>\n",
       "      <td>TRI</td>\n",
       "      <td>3.0</td>\n",
       "      <td>NaN</td>\n",
       "      <td>NaN</td>\n",
       "      <td>NaN</td>\n",
       "      <td>...</td>\n",
       "      <td>0.000</td>\n",
       "      <td>NaN</td>\n",
       "      <td>NaN</td>\n",
       "      <td>NaN</td>\n",
       "      <td>2.0</td>\n",
       "      <td>NaN</td>\n",
       "      <td>NaN</td>\n",
       "      <td>NaN</td>\n",
       "      <td>6.0</td>\n",
       "      <td>10.0</td>\n",
       "    </tr>\n",
       "    <tr>\n",
       "      <th>8</th>\n",
       "      <td>8</td>\n",
       "      <td>1950.0</td>\n",
       "      <td>Charlie Black</td>\n",
       "      <td>F-C</td>\n",
       "      <td>28.0</td>\n",
       "      <td>TOT</td>\n",
       "      <td>65.0</td>\n",
       "      <td>NaN</td>\n",
       "      <td>NaN</td>\n",
       "      <td>NaN</td>\n",
       "      <td>...</td>\n",
       "      <td>0.651</td>\n",
       "      <td>NaN</td>\n",
       "      <td>NaN</td>\n",
       "      <td>NaN</td>\n",
       "      <td>163.0</td>\n",
       "      <td>NaN</td>\n",
       "      <td>NaN</td>\n",
       "      <td>NaN</td>\n",
       "      <td>273.0</td>\n",
       "      <td>661.0</td>\n",
       "    </tr>\n",
       "    <tr>\n",
       "      <th>9</th>\n",
       "      <td>9</td>\n",
       "      <td>1950.0</td>\n",
       "      <td>Charlie Black</td>\n",
       "      <td>F-C</td>\n",
       "      <td>28.0</td>\n",
       "      <td>FTW</td>\n",
       "      <td>36.0</td>\n",
       "      <td>NaN</td>\n",
       "      <td>NaN</td>\n",
       "      <td>NaN</td>\n",
       "      <td>...</td>\n",
       "      <td>0.632</td>\n",
       "      <td>NaN</td>\n",
       "      <td>NaN</td>\n",
       "      <td>NaN</td>\n",
       "      <td>75.0</td>\n",
       "      <td>NaN</td>\n",
       "      <td>NaN</td>\n",
       "      <td>NaN</td>\n",
       "      <td>140.0</td>\n",
       "      <td>382.0</td>\n",
       "    </tr>\n",
       "    <tr>\n",
       "      <th>10</th>\n",
       "      <td>10</td>\n",
       "      <td>1950.0</td>\n",
       "      <td>Charlie Black</td>\n",
       "      <td>F-C</td>\n",
       "      <td>28.0</td>\n",
       "      <td>AND</td>\n",
       "      <td>29.0</td>\n",
       "      <td>NaN</td>\n",
       "      <td>NaN</td>\n",
       "      <td>NaN</td>\n",
       "      <td>...</td>\n",
       "      <td>0.688</td>\n",
       "      <td>NaN</td>\n",
       "      <td>NaN</td>\n",
       "      <td>NaN</td>\n",
       "      <td>88.0</td>\n",
       "      <td>NaN</td>\n",
       "      <td>NaN</td>\n",
       "      <td>NaN</td>\n",
       "      <td>133.0</td>\n",
       "      <td>279.0</td>\n",
       "    </tr>\n",
       "    <tr>\n",
       "      <th>11</th>\n",
       "      <td>11</td>\n",
       "      <td>1950.0</td>\n",
       "      <td>Nelson Bobb</td>\n",
       "      <td>PG</td>\n",
       "      <td>25.0</td>\n",
       "      <td>PHW</td>\n",
       "      <td>57.0</td>\n",
       "      <td>NaN</td>\n",
       "      <td>NaN</td>\n",
       "      <td>NaN</td>\n",
       "      <td>...</td>\n",
       "      <td>0.626</td>\n",
       "      <td>NaN</td>\n",
       "      <td>NaN</td>\n",
       "      <td>NaN</td>\n",
       "      <td>46.0</td>\n",
       "      <td>NaN</td>\n",
       "      <td>NaN</td>\n",
       "      <td>NaN</td>\n",
       "      <td>97.0</td>\n",
       "      <td>242.0</td>\n",
       "    </tr>\n",
       "    <tr>\n",
       "      <th>12</th>\n",
       "      <td>12</td>\n",
       "      <td>1950.0</td>\n",
       "      <td>Jake Bornheimer</td>\n",
       "      <td>F-C</td>\n",
       "      <td>22.0</td>\n",
       "      <td>PHW</td>\n",
       "      <td>60.0</td>\n",
       "      <td>NaN</td>\n",
       "      <td>NaN</td>\n",
       "      <td>NaN</td>\n",
       "      <td>...</td>\n",
       "      <td>0.667</td>\n",
       "      <td>NaN</td>\n",
       "      <td>NaN</td>\n",
       "      <td>NaN</td>\n",
       "      <td>40.0</td>\n",
       "      <td>NaN</td>\n",
       "      <td>NaN</td>\n",
       "      <td>NaN</td>\n",
       "      <td>111.0</td>\n",
       "      <td>254.0</td>\n",
       "    </tr>\n",
       "    <tr>\n",
       "      <th>13</th>\n",
       "      <td>13</td>\n",
       "      <td>1950.0</td>\n",
       "      <td>Vince Boryla</td>\n",
       "      <td>SF</td>\n",
       "      <td>22.0</td>\n",
       "      <td>NYK</td>\n",
       "      <td>59.0</td>\n",
       "      <td>NaN</td>\n",
       "      <td>NaN</td>\n",
       "      <td>NaN</td>\n",
       "      <td>...</td>\n",
       "      <td>0.764</td>\n",
       "      <td>NaN</td>\n",
       "      <td>NaN</td>\n",
       "      <td>NaN</td>\n",
       "      <td>95.0</td>\n",
       "      <td>NaN</td>\n",
       "      <td>NaN</td>\n",
       "      <td>NaN</td>\n",
       "      <td>203.0</td>\n",
       "      <td>612.0</td>\n",
       "    </tr>\n",
       "    <tr>\n",
       "      <th>14</th>\n",
       "      <td>14</td>\n",
       "      <td>1950.0</td>\n",
       "      <td>Don Boven</td>\n",
       "      <td>F-G</td>\n",
       "      <td>24.0</td>\n",
       "      <td>WAT</td>\n",
       "      <td>62.0</td>\n",
       "      <td>NaN</td>\n",
       "      <td>NaN</td>\n",
       "      <td>NaN</td>\n",
       "      <td>...</td>\n",
       "      <td>0.688</td>\n",
       "      <td>NaN</td>\n",
       "      <td>NaN</td>\n",
       "      <td>NaN</td>\n",
       "      <td>137.0</td>\n",
       "      <td>NaN</td>\n",
       "      <td>NaN</td>\n",
       "      <td>NaN</td>\n",
       "      <td>255.0</td>\n",
       "      <td>656.0</td>\n",
       "    </tr>\n",
       "    <tr>\n",
       "      <th>15</th>\n",
       "      <td>15</td>\n",
       "      <td>1950.0</td>\n",
       "      <td>Harry Boykoff</td>\n",
       "      <td>C</td>\n",
       "      <td>27.0</td>\n",
       "      <td>WAT</td>\n",
       "      <td>61.0</td>\n",
       "      <td>NaN</td>\n",
       "      <td>NaN</td>\n",
       "      <td>NaN</td>\n",
       "      <td>...</td>\n",
       "      <td>0.775</td>\n",
       "      <td>NaN</td>\n",
       "      <td>NaN</td>\n",
       "      <td>NaN</td>\n",
       "      <td>149.0</td>\n",
       "      <td>NaN</td>\n",
       "      <td>NaN</td>\n",
       "      <td>NaN</td>\n",
       "      <td>229.0</td>\n",
       "      <td>779.0</td>\n",
       "    </tr>\n",
       "    <tr>\n",
       "      <th>16</th>\n",
       "      <td>16</td>\n",
       "      <td>1950.0</td>\n",
       "      <td>Joe Bradley</td>\n",
       "      <td>G</td>\n",
       "      <td>21.0</td>\n",
       "      <td>CHS</td>\n",
       "      <td>46.0</td>\n",
       "      <td>NaN</td>\n",
       "      <td>NaN</td>\n",
       "      <td>NaN</td>\n",
       "      <td>...</td>\n",
       "      <td>0.395</td>\n",
       "      <td>NaN</td>\n",
       "      <td>NaN</td>\n",
       "      <td>NaN</td>\n",
       "      <td>36.0</td>\n",
       "      <td>NaN</td>\n",
       "      <td>NaN</td>\n",
       "      <td>NaN</td>\n",
       "      <td>51.0</td>\n",
       "      <td>87.0</td>\n",
       "    </tr>\n",
       "    <tr>\n",
       "      <th>17</th>\n",
       "      <td>17</td>\n",
       "      <td>1950.0</td>\n",
       "      <td>Bob Brannum</td>\n",
       "      <td>PF</td>\n",
       "      <td>24.0</td>\n",
       "      <td>SHE</td>\n",
       "      <td>59.0</td>\n",
       "      <td>NaN</td>\n",
       "      <td>NaN</td>\n",
       "      <td>NaN</td>\n",
       "      <td>...</td>\n",
       "      <td>0.690</td>\n",
       "      <td>NaN</td>\n",
       "      <td>NaN</td>\n",
       "      <td>NaN</td>\n",
       "      <td>205.0</td>\n",
       "      <td>NaN</td>\n",
       "      <td>NaN</td>\n",
       "      <td>NaN</td>\n",
       "      <td>279.0</td>\n",
       "      <td>713.0</td>\n",
       "    </tr>\n",
       "    <tr>\n",
       "      <th>18</th>\n",
       "      <td>18</td>\n",
       "      <td>1950.0</td>\n",
       "      <td>Carl Braun</td>\n",
       "      <td>G-F</td>\n",
       "      <td>22.0</td>\n",
       "      <td>NYK</td>\n",
       "      <td>67.0</td>\n",
       "      <td>NaN</td>\n",
       "      <td>NaN</td>\n",
       "      <td>NaN</td>\n",
       "      <td>...</td>\n",
       "      <td>0.762</td>\n",
       "      <td>NaN</td>\n",
       "      <td>NaN</td>\n",
       "      <td>NaN</td>\n",
       "      <td>247.0</td>\n",
       "      <td>NaN</td>\n",
       "      <td>NaN</td>\n",
       "      <td>NaN</td>\n",
       "      <td>188.0</td>\n",
       "      <td>1031.0</td>\n",
       "    </tr>\n",
       "    <tr>\n",
       "      <th>19</th>\n",
       "      <td>19</td>\n",
       "      <td>1950.0</td>\n",
       "      <td>Frankie Brian</td>\n",
       "      <td>G</td>\n",
       "      <td>26.0</td>\n",
       "      <td>AND</td>\n",
       "      <td>64.0</td>\n",
       "      <td>NaN</td>\n",
       "      <td>NaN</td>\n",
       "      <td>NaN</td>\n",
       "      <td>...</td>\n",
       "      <td>0.824</td>\n",
       "      <td>NaN</td>\n",
       "      <td>NaN</td>\n",
       "      <td>NaN</td>\n",
       "      <td>189.0</td>\n",
       "      <td>NaN</td>\n",
       "      <td>NaN</td>\n",
       "      <td>NaN</td>\n",
       "      <td>192.0</td>\n",
       "      <td>1138.0</td>\n",
       "    </tr>\n",
       "    <tr>\n",
       "      <th>20</th>\n",
       "      <td>20</td>\n",
       "      <td>1950.0</td>\n",
       "      <td>Price Brookfield</td>\n",
       "      <td>F-G</td>\n",
       "      <td>29.0</td>\n",
       "      <td>ROC</td>\n",
       "      <td>7.0</td>\n",
       "      <td>NaN</td>\n",
       "      <td>NaN</td>\n",
       "      <td>NaN</td>\n",
       "      <td>...</td>\n",
       "      <td>0.923</td>\n",
       "      <td>NaN</td>\n",
       "      <td>NaN</td>\n",
       "      <td>NaN</td>\n",
       "      <td>1.0</td>\n",
       "      <td>NaN</td>\n",
       "      <td>NaN</td>\n",
       "      <td>NaN</td>\n",
       "      <td>7.0</td>\n",
       "      <td>34.0</td>\n",
       "    </tr>\n",
       "    <tr>\n",
       "      <th>21</th>\n",
       "      <td>21</td>\n",
       "      <td>1950.0</td>\n",
       "      <td>Bob Brown</td>\n",
       "      <td>F</td>\n",
       "      <td>26.0</td>\n",
       "      <td>DNN</td>\n",
       "      <td>62.0</td>\n",
       "      <td>NaN</td>\n",
       "      <td>NaN</td>\n",
       "      <td>NaN</td>\n",
       "      <td>...</td>\n",
       "      <td>0.683</td>\n",
       "      <td>NaN</td>\n",
       "      <td>NaN</td>\n",
       "      <td>NaN</td>\n",
       "      <td>101.0</td>\n",
       "      <td>NaN</td>\n",
       "      <td>NaN</td>\n",
       "      <td>NaN</td>\n",
       "      <td>269.0</td>\n",
       "      <td>724.0</td>\n",
       "    </tr>\n",
       "    <tr>\n",
       "      <th>22</th>\n",
       "      <td>22</td>\n",
       "      <td>1950.0</td>\n",
       "      <td>Jim Browne</td>\n",
       "      <td>C</td>\n",
       "      <td>20.0</td>\n",
       "      <td>DNN</td>\n",
       "      <td>31.0</td>\n",
       "      <td>NaN</td>\n",
       "      <td>NaN</td>\n",
       "      <td>NaN</td>\n",
       "      <td>...</td>\n",
       "      <td>0.481</td>\n",
       "      <td>NaN</td>\n",
       "      <td>NaN</td>\n",
       "      <td>NaN</td>\n",
       "      <td>8.0</td>\n",
       "      <td>NaN</td>\n",
       "      <td>NaN</td>\n",
       "      <td>NaN</td>\n",
       "      <td>16.0</td>\n",
       "      <td>47.0</td>\n",
       "    </tr>\n",
       "    <tr>\n",
       "      <th>23</th>\n",
       "      <td>23</td>\n",
       "      <td>1950.0</td>\n",
       "      <td>Walt Budko</td>\n",
       "      <td>PF</td>\n",
       "      <td>24.0</td>\n",
       "      <td>BLB</td>\n",
       "      <td>66.0</td>\n",
       "      <td>NaN</td>\n",
       "      <td>NaN</td>\n",
       "      <td>NaN</td>\n",
       "      <td>...</td>\n",
       "      <td>0.757</td>\n",
       "      <td>NaN</td>\n",
       "      <td>NaN</td>\n",
       "      <td>NaN</td>\n",
       "      <td>146.0</td>\n",
       "      <td>NaN</td>\n",
       "      <td>NaN</td>\n",
       "      <td>NaN</td>\n",
       "      <td>259.0</td>\n",
       "      <td>595.0</td>\n",
       "    </tr>\n",
       "    <tr>\n",
       "      <th>24</th>\n",
       "      <td>24</td>\n",
       "      <td>1950.0</td>\n",
       "      <td>Jack Burmaster</td>\n",
       "      <td>G</td>\n",
       "      <td>23.0</td>\n",
       "      <td>SHE</td>\n",
       "      <td>61.0</td>\n",
       "      <td>NaN</td>\n",
       "      <td>NaN</td>\n",
       "      <td>NaN</td>\n",
       "      <td>...</td>\n",
       "      <td>0.681</td>\n",
       "      <td>NaN</td>\n",
       "      <td>NaN</td>\n",
       "      <td>NaN</td>\n",
       "      <td>179.0</td>\n",
       "      <td>NaN</td>\n",
       "      <td>NaN</td>\n",
       "      <td>NaN</td>\n",
       "      <td>237.0</td>\n",
       "      <td>598.0</td>\n",
       "    </tr>\n",
       "    <tr>\n",
       "      <th>25</th>\n",
       "      <td>25</td>\n",
       "      <td>1950.0</td>\n",
       "      <td>Tommy Byrnes</td>\n",
       "      <td>F-G</td>\n",
       "      <td>26.0</td>\n",
       "      <td>BLB</td>\n",
       "      <td>53.0</td>\n",
       "      <td>NaN</td>\n",
       "      <td>NaN</td>\n",
       "      <td>NaN</td>\n",
       "      <td>...</td>\n",
       "      <td>0.702</td>\n",
       "      <td>NaN</td>\n",
       "      <td>NaN</td>\n",
       "      <td>NaN</td>\n",
       "      <td>88.0</td>\n",
       "      <td>NaN</td>\n",
       "      <td>NaN</td>\n",
       "      <td>NaN</td>\n",
       "      <td>76.0</td>\n",
       "      <td>327.0</td>\n",
       "    </tr>\n",
       "    <tr>\n",
       "      <th>26</th>\n",
       "      <td>26</td>\n",
       "      <td>1950.0</td>\n",
       "      <td>Bill Calhoun</td>\n",
       "      <td>SG</td>\n",
       "      <td>22.0</td>\n",
       "      <td>ROC</td>\n",
       "      <td>62.0</td>\n",
       "      <td>NaN</td>\n",
       "      <td>NaN</td>\n",
       "      <td>NaN</td>\n",
       "      <td>...</td>\n",
       "      <td>0.719</td>\n",
       "      <td>NaN</td>\n",
       "      <td>NaN</td>\n",
       "      <td>NaN</td>\n",
       "      <td>115.0</td>\n",
       "      <td>NaN</td>\n",
       "      <td>NaN</td>\n",
       "      <td>NaN</td>\n",
       "      <td>100.0</td>\n",
       "      <td>560.0</td>\n",
       "    </tr>\n",
       "    <tr>\n",
       "      <th>27</th>\n",
       "      <td>27</td>\n",
       "      <td>1950.0</td>\n",
       "      <td>Don Carlson</td>\n",
       "      <td>G-F</td>\n",
       "      <td>30.0</td>\n",
       "      <td>MNL</td>\n",
       "      <td>57.0</td>\n",
       "      <td>NaN</td>\n",
       "      <td>NaN</td>\n",
       "      <td>NaN</td>\n",
       "      <td>...</td>\n",
       "      <td>0.726</td>\n",
       "      <td>NaN</td>\n",
       "      <td>NaN</td>\n",
       "      <td>NaN</td>\n",
       "      <td>76.0</td>\n",
       "      <td>NaN</td>\n",
       "      <td>NaN</td>\n",
       "      <td>NaN</td>\n",
       "      <td>126.0</td>\n",
       "      <td>267.0</td>\n",
       "    </tr>\n",
       "    <tr>\n",
       "      <th>28</th>\n",
       "      <td>28</td>\n",
       "      <td>1950.0</td>\n",
       "      <td>Bob Carpenter</td>\n",
       "      <td>F-C</td>\n",
       "      <td>32.0</td>\n",
       "      <td>FTW</td>\n",
       "      <td>66.0</td>\n",
       "      <td>NaN</td>\n",
       "      <td>NaN</td>\n",
       "      <td>NaN</td>\n",
       "      <td>...</td>\n",
       "      <td>0.742</td>\n",
       "      <td>NaN</td>\n",
       "      <td>NaN</td>\n",
       "      <td>NaN</td>\n",
       "      <td>92.0</td>\n",
       "      <td>NaN</td>\n",
       "      <td>NaN</td>\n",
       "      <td>NaN</td>\n",
       "      <td>168.0</td>\n",
       "      <td>614.0</td>\n",
       "    </tr>\n",
       "    <tr>\n",
       "      <th>29</th>\n",
       "      <td>29</td>\n",
       "      <td>1950.0</td>\n",
       "      <td>Jake Carter</td>\n",
       "      <td>F-C</td>\n",
       "      <td>25.0</td>\n",
       "      <td>TOT</td>\n",
       "      <td>24.0</td>\n",
       "      <td>NaN</td>\n",
       "      <td>NaN</td>\n",
       "      <td>NaN</td>\n",
       "      <td>...</td>\n",
       "      <td>0.679</td>\n",
       "      <td>NaN</td>\n",
       "      <td>NaN</td>\n",
       "      <td>NaN</td>\n",
       "      <td>24.0</td>\n",
       "      <td>NaN</td>\n",
       "      <td>NaN</td>\n",
       "      <td>NaN</td>\n",
       "      <td>59.0</td>\n",
       "      <td>82.0</td>\n",
       "    </tr>\n",
       "    <tr>\n",
       "      <th>...</th>\n",
       "      <td>...</td>\n",
       "      <td>...</td>\n",
       "      <td>...</td>\n",
       "      <td>...</td>\n",
       "      <td>...</td>\n",
       "      <td>...</td>\n",
       "      <td>...</td>\n",
       "      <td>...</td>\n",
       "      <td>...</td>\n",
       "      <td>...</td>\n",
       "      <td>...</td>\n",
       "      <td>...</td>\n",
       "      <td>...</td>\n",
       "      <td>...</td>\n",
       "      <td>...</td>\n",
       "      <td>...</td>\n",
       "      <td>...</td>\n",
       "      <td>...</td>\n",
       "      <td>...</td>\n",
       "      <td>...</td>\n",
       "      <td>...</td>\n",
       "    </tr>\n",
       "    <tr>\n",
       "      <th>24661</th>\n",
       "      <td>24661</td>\n",
       "      <td>2017.0</td>\n",
       "      <td>Deron Williams</td>\n",
       "      <td>PG</td>\n",
       "      <td>32.0</td>\n",
       "      <td>TOT</td>\n",
       "      <td>64.0</td>\n",
       "      <td>44.0</td>\n",
       "      <td>1657.0</td>\n",
       "      <td>14.0</td>\n",
       "      <td>...</td>\n",
       "      <td>0.826</td>\n",
       "      <td>14.0</td>\n",
       "      <td>133.0</td>\n",
       "      <td>147.0</td>\n",
       "      <td>360.0</td>\n",
       "      <td>31.0</td>\n",
       "      <td>8.0</td>\n",
       "      <td>138.0</td>\n",
       "      <td>138.0</td>\n",
       "      <td>701.0</td>\n",
       "    </tr>\n",
       "    <tr>\n",
       "      <th>24662</th>\n",
       "      <td>24662</td>\n",
       "      <td>2017.0</td>\n",
       "      <td>Deron Williams</td>\n",
       "      <td>PG</td>\n",
       "      <td>32.0</td>\n",
       "      <td>DAL</td>\n",
       "      <td>40.0</td>\n",
       "      <td>40.0</td>\n",
       "      <td>1171.0</td>\n",
       "      <td>15.0</td>\n",
       "      <td>...</td>\n",
       "      <td>0.821</td>\n",
       "      <td>13.0</td>\n",
       "      <td>89.0</td>\n",
       "      <td>102.0</td>\n",
       "      <td>274.0</td>\n",
       "      <td>25.0</td>\n",
       "      <td>2.0</td>\n",
       "      <td>98.0</td>\n",
       "      <td>96.0</td>\n",
       "      <td>522.0</td>\n",
       "    </tr>\n",
       "    <tr>\n",
       "      <th>24663</th>\n",
       "      <td>24663</td>\n",
       "      <td>2017.0</td>\n",
       "      <td>Deron Williams</td>\n",
       "      <td>PG</td>\n",
       "      <td>32.0</td>\n",
       "      <td>CLE</td>\n",
       "      <td>24.0</td>\n",
       "      <td>4.0</td>\n",
       "      <td>486.0</td>\n",
       "      <td>11.4</td>\n",
       "      <td>...</td>\n",
       "      <td>0.840</td>\n",
       "      <td>1.0</td>\n",
       "      <td>44.0</td>\n",
       "      <td>45.0</td>\n",
       "      <td>86.0</td>\n",
       "      <td>6.0</td>\n",
       "      <td>6.0</td>\n",
       "      <td>40.0</td>\n",
       "      <td>42.0</td>\n",
       "      <td>179.0</td>\n",
       "    </tr>\n",
       "    <tr>\n",
       "      <th>24664</th>\n",
       "      <td>24664</td>\n",
       "      <td>2017.0</td>\n",
       "      <td>Derrick Williams</td>\n",
       "      <td>PF</td>\n",
       "      <td>25.0</td>\n",
       "      <td>TOT</td>\n",
       "      <td>50.0</td>\n",
       "      <td>11.0</td>\n",
       "      <td>804.0</td>\n",
       "      <td>10.6</td>\n",
       "      <td>...</td>\n",
       "      <td>0.652</td>\n",
       "      <td>19.0</td>\n",
       "      <td>111.0</td>\n",
       "      <td>130.0</td>\n",
       "      <td>28.0</td>\n",
       "      <td>14.0</td>\n",
       "      <td>7.0</td>\n",
       "      <td>28.0</td>\n",
       "      <td>60.0</td>\n",
       "      <td>304.0</td>\n",
       "    </tr>\n",
       "    <tr>\n",
       "      <th>24665</th>\n",
       "      <td>24665</td>\n",
       "      <td>2017.0</td>\n",
       "      <td>Derrick Williams</td>\n",
       "      <td>PF</td>\n",
       "      <td>25.0</td>\n",
       "      <td>MIA</td>\n",
       "      <td>25.0</td>\n",
       "      <td>11.0</td>\n",
       "      <td>377.0</td>\n",
       "      <td>10.1</td>\n",
       "      <td>...</td>\n",
       "      <td>0.620</td>\n",
       "      <td>16.0</td>\n",
       "      <td>57.0</td>\n",
       "      <td>73.0</td>\n",
       "      <td>14.0</td>\n",
       "      <td>9.0</td>\n",
       "      <td>5.0</td>\n",
       "      <td>14.0</td>\n",
       "      <td>33.0</td>\n",
       "      <td>148.0</td>\n",
       "    </tr>\n",
       "    <tr>\n",
       "      <th>24666</th>\n",
       "      <td>24666</td>\n",
       "      <td>2017.0</td>\n",
       "      <td>Derrick Williams</td>\n",
       "      <td>PF</td>\n",
       "      <td>25.0</td>\n",
       "      <td>CLE</td>\n",
       "      <td>25.0</td>\n",
       "      <td>0.0</td>\n",
       "      <td>427.0</td>\n",
       "      <td>11.1</td>\n",
       "      <td>...</td>\n",
       "      <td>0.692</td>\n",
       "      <td>3.0</td>\n",
       "      <td>54.0</td>\n",
       "      <td>57.0</td>\n",
       "      <td>14.0</td>\n",
       "      <td>5.0</td>\n",
       "      <td>2.0</td>\n",
       "      <td>14.0</td>\n",
       "      <td>27.0</td>\n",
       "      <td>156.0</td>\n",
       "    </tr>\n",
       "    <tr>\n",
       "      <th>24667</th>\n",
       "      <td>24667</td>\n",
       "      <td>2017.0</td>\n",
       "      <td>Lou Williams</td>\n",
       "      <td>SG</td>\n",
       "      <td>30.0</td>\n",
       "      <td>TOT</td>\n",
       "      <td>81.0</td>\n",
       "      <td>1.0</td>\n",
       "      <td>1994.0</td>\n",
       "      <td>21.4</td>\n",
       "      <td>...</td>\n",
       "      <td>0.880</td>\n",
       "      <td>26.0</td>\n",
       "      <td>176.0</td>\n",
       "      <td>202.0</td>\n",
       "      <td>239.0</td>\n",
       "      <td>80.0</td>\n",
       "      <td>19.0</td>\n",
       "      <td>160.0</td>\n",
       "      <td>92.0</td>\n",
       "      <td>1421.0</td>\n",
       "    </tr>\n",
       "    <tr>\n",
       "      <th>24668</th>\n",
       "      <td>24668</td>\n",
       "      <td>2017.0</td>\n",
       "      <td>Lou Williams</td>\n",
       "      <td>SG</td>\n",
       "      <td>30.0</td>\n",
       "      <td>LAL</td>\n",
       "      <td>58.0</td>\n",
       "      <td>1.0</td>\n",
       "      <td>1403.0</td>\n",
       "      <td>23.9</td>\n",
       "      <td>...</td>\n",
       "      <td>0.884</td>\n",
       "      <td>14.0</td>\n",
       "      <td>118.0</td>\n",
       "      <td>132.0</td>\n",
       "      <td>183.0</td>\n",
       "      <td>65.0</td>\n",
       "      <td>10.0</td>\n",
       "      <td>120.0</td>\n",
       "      <td>67.0</td>\n",
       "      <td>1078.0</td>\n",
       "    </tr>\n",
       "    <tr>\n",
       "      <th>24669</th>\n",
       "      <td>24669</td>\n",
       "      <td>2017.0</td>\n",
       "      <td>Lou Williams</td>\n",
       "      <td>SG</td>\n",
       "      <td>30.0</td>\n",
       "      <td>HOU</td>\n",
       "      <td>23.0</td>\n",
       "      <td>0.0</td>\n",
       "      <td>591.0</td>\n",
       "      <td>15.4</td>\n",
       "      <td>...</td>\n",
       "      <td>0.867</td>\n",
       "      <td>12.0</td>\n",
       "      <td>58.0</td>\n",
       "      <td>70.0</td>\n",
       "      <td>56.0</td>\n",
       "      <td>15.0</td>\n",
       "      <td>9.0</td>\n",
       "      <td>40.0</td>\n",
       "      <td>25.0</td>\n",
       "      <td>343.0</td>\n",
       "    </tr>\n",
       "    <tr>\n",
       "      <th>24670</th>\n",
       "      <td>24670</td>\n",
       "      <td>2017.0</td>\n",
       "      <td>Marvin Williams</td>\n",
       "      <td>PF</td>\n",
       "      <td>30.0</td>\n",
       "      <td>CHO</td>\n",
       "      <td>76.0</td>\n",
       "      <td>76.0</td>\n",
       "      <td>2295.0</td>\n",
       "      <td>13.7</td>\n",
       "      <td>...</td>\n",
       "      <td>0.873</td>\n",
       "      <td>89.0</td>\n",
       "      <td>409.0</td>\n",
       "      <td>498.0</td>\n",
       "      <td>106.0</td>\n",
       "      <td>58.0</td>\n",
       "      <td>53.0</td>\n",
       "      <td>60.0</td>\n",
       "      <td>134.0</td>\n",
       "      <td>849.0</td>\n",
       "    </tr>\n",
       "    <tr>\n",
       "      <th>24671</th>\n",
       "      <td>24671</td>\n",
       "      <td>2017.0</td>\n",
       "      <td>Reggie Williams</td>\n",
       "      <td>SF</td>\n",
       "      <td>30.0</td>\n",
       "      <td>NOP</td>\n",
       "      <td>6.0</td>\n",
       "      <td>0.0</td>\n",
       "      <td>79.0</td>\n",
       "      <td>11.7</td>\n",
       "      <td>...</td>\n",
       "      <td>0.857</td>\n",
       "      <td>2.0</td>\n",
       "      <td>4.0</td>\n",
       "      <td>6.0</td>\n",
       "      <td>4.0</td>\n",
       "      <td>3.0</td>\n",
       "      <td>0.0</td>\n",
       "      <td>0.0</td>\n",
       "      <td>2.0</td>\n",
       "      <td>27.0</td>\n",
       "    </tr>\n",
       "    <tr>\n",
       "      <th>24672</th>\n",
       "      <td>24672</td>\n",
       "      <td>2017.0</td>\n",
       "      <td>Troy Williams</td>\n",
       "      <td>SF</td>\n",
       "      <td>22.0</td>\n",
       "      <td>TOT</td>\n",
       "      <td>30.0</td>\n",
       "      <td>16.0</td>\n",
       "      <td>557.0</td>\n",
       "      <td>8.9</td>\n",
       "      <td>...</td>\n",
       "      <td>0.656</td>\n",
       "      <td>15.0</td>\n",
       "      <td>54.0</td>\n",
       "      <td>69.0</td>\n",
       "      <td>25.0</td>\n",
       "      <td>27.0</td>\n",
       "      <td>10.0</td>\n",
       "      <td>33.0</td>\n",
       "      <td>60.0</td>\n",
       "      <td>185.0</td>\n",
       "    </tr>\n",
       "    <tr>\n",
       "      <th>24673</th>\n",
       "      <td>24673</td>\n",
       "      <td>2017.0</td>\n",
       "      <td>Troy Williams</td>\n",
       "      <td>SF</td>\n",
       "      <td>22.0</td>\n",
       "      <td>MEM</td>\n",
       "      <td>24.0</td>\n",
       "      <td>13.0</td>\n",
       "      <td>418.0</td>\n",
       "      <td>7.6</td>\n",
       "      <td>...</td>\n",
       "      <td>0.600</td>\n",
       "      <td>6.0</td>\n",
       "      <td>39.0</td>\n",
       "      <td>45.0</td>\n",
       "      <td>19.0</td>\n",
       "      <td>24.0</td>\n",
       "      <td>9.0</td>\n",
       "      <td>27.0</td>\n",
       "      <td>42.0</td>\n",
       "      <td>127.0</td>\n",
       "    </tr>\n",
       "    <tr>\n",
       "      <th>24674</th>\n",
       "      <td>24674</td>\n",
       "      <td>2017.0</td>\n",
       "      <td>Troy Williams</td>\n",
       "      <td>SF</td>\n",
       "      <td>22.0</td>\n",
       "      <td>HOU</td>\n",
       "      <td>6.0</td>\n",
       "      <td>3.0</td>\n",
       "      <td>139.0</td>\n",
       "      <td>12.8</td>\n",
       "      <td>...</td>\n",
       "      <td>0.857</td>\n",
       "      <td>9.0</td>\n",
       "      <td>15.0</td>\n",
       "      <td>24.0</td>\n",
       "      <td>6.0</td>\n",
       "      <td>3.0</td>\n",
       "      <td>1.0</td>\n",
       "      <td>6.0</td>\n",
       "      <td>18.0</td>\n",
       "      <td>58.0</td>\n",
       "    </tr>\n",
       "    <tr>\n",
       "      <th>24675</th>\n",
       "      <td>24675</td>\n",
       "      <td>2017.0</td>\n",
       "      <td>Kyle Wiltjer</td>\n",
       "      <td>PF</td>\n",
       "      <td>24.0</td>\n",
       "      <td>HOU</td>\n",
       "      <td>14.0</td>\n",
       "      <td>0.0</td>\n",
       "      <td>44.0</td>\n",
       "      <td>6.7</td>\n",
       "      <td>...</td>\n",
       "      <td>0.500</td>\n",
       "      <td>4.0</td>\n",
       "      <td>6.0</td>\n",
       "      <td>10.0</td>\n",
       "      <td>2.0</td>\n",
       "      <td>3.0</td>\n",
       "      <td>1.0</td>\n",
       "      <td>5.0</td>\n",
       "      <td>4.0</td>\n",
       "      <td>13.0</td>\n",
       "    </tr>\n",
       "    <tr>\n",
       "      <th>24676</th>\n",
       "      <td>24676</td>\n",
       "      <td>2017.0</td>\n",
       "      <td>Justise Winslow</td>\n",
       "      <td>SF</td>\n",
       "      <td>20.0</td>\n",
       "      <td>MIA</td>\n",
       "      <td>18.0</td>\n",
       "      <td>15.0</td>\n",
       "      <td>625.0</td>\n",
       "      <td>8.2</td>\n",
       "      <td>...</td>\n",
       "      <td>0.617</td>\n",
       "      <td>23.0</td>\n",
       "      <td>71.0</td>\n",
       "      <td>94.0</td>\n",
       "      <td>66.0</td>\n",
       "      <td>27.0</td>\n",
       "      <td>6.0</td>\n",
       "      <td>33.0</td>\n",
       "      <td>52.0</td>\n",
       "      <td>196.0</td>\n",
       "    </tr>\n",
       "    <tr>\n",
       "      <th>24677</th>\n",
       "      <td>24677</td>\n",
       "      <td>2017.0</td>\n",
       "      <td>Jeff Withey</td>\n",
       "      <td>C</td>\n",
       "      <td>26.0</td>\n",
       "      <td>UTA</td>\n",
       "      <td>51.0</td>\n",
       "      <td>1.0</td>\n",
       "      <td>432.0</td>\n",
       "      <td>18.8</td>\n",
       "      <td>...</td>\n",
       "      <td>0.750</td>\n",
       "      <td>52.0</td>\n",
       "      <td>69.0</td>\n",
       "      <td>121.0</td>\n",
       "      <td>7.0</td>\n",
       "      <td>16.0</td>\n",
       "      <td>32.0</td>\n",
       "      <td>14.0</td>\n",
       "      <td>52.0</td>\n",
       "      <td>146.0</td>\n",
       "    </tr>\n",
       "    <tr>\n",
       "      <th>24678</th>\n",
       "      <td>24678</td>\n",
       "      <td>2017.0</td>\n",
       "      <td>Christian Wood</td>\n",
       "      <td>PF</td>\n",
       "      <td>21.0</td>\n",
       "      <td>CHO</td>\n",
       "      <td>13.0</td>\n",
       "      <td>0.0</td>\n",
       "      <td>107.0</td>\n",
       "      <td>15.1</td>\n",
       "      <td>...</td>\n",
       "      <td>0.733</td>\n",
       "      <td>14.0</td>\n",
       "      <td>15.0</td>\n",
       "      <td>29.0</td>\n",
       "      <td>2.0</td>\n",
       "      <td>3.0</td>\n",
       "      <td>6.0</td>\n",
       "      <td>7.0</td>\n",
       "      <td>11.0</td>\n",
       "      <td>35.0</td>\n",
       "    </tr>\n",
       "    <tr>\n",
       "      <th>24679</th>\n",
       "      <td>24679</td>\n",
       "      <td>2017.0</td>\n",
       "      <td>Metta World</td>\n",
       "      <td>SF</td>\n",
       "      <td>37.0</td>\n",
       "      <td>LAL</td>\n",
       "      <td>25.0</td>\n",
       "      <td>2.0</td>\n",
       "      <td>160.0</td>\n",
       "      <td>6.2</td>\n",
       "      <td>...</td>\n",
       "      <td>0.625</td>\n",
       "      <td>5.0</td>\n",
       "      <td>15.0</td>\n",
       "      <td>20.0</td>\n",
       "      <td>11.0</td>\n",
       "      <td>9.0</td>\n",
       "      <td>2.0</td>\n",
       "      <td>7.0</td>\n",
       "      <td>18.0</td>\n",
       "      <td>57.0</td>\n",
       "    </tr>\n",
       "    <tr>\n",
       "      <th>24680</th>\n",
       "      <td>24680</td>\n",
       "      <td>2017.0</td>\n",
       "      <td>Brandan Wright</td>\n",
       "      <td>PF</td>\n",
       "      <td>29.0</td>\n",
       "      <td>MEM</td>\n",
       "      <td>28.0</td>\n",
       "      <td>5.0</td>\n",
       "      <td>447.0</td>\n",
       "      <td>18.5</td>\n",
       "      <td>...</td>\n",
       "      <td>0.657</td>\n",
       "      <td>31.0</td>\n",
       "      <td>47.0</td>\n",
       "      <td>78.0</td>\n",
       "      <td>15.0</td>\n",
       "      <td>11.0</td>\n",
       "      <td>20.0</td>\n",
       "      <td>10.0</td>\n",
       "      <td>42.0</td>\n",
       "      <td>189.0</td>\n",
       "    </tr>\n",
       "    <tr>\n",
       "      <th>24681</th>\n",
       "      <td>24681</td>\n",
       "      <td>2017.0</td>\n",
       "      <td>Delon Wright</td>\n",
       "      <td>PG</td>\n",
       "      <td>24.0</td>\n",
       "      <td>TOR</td>\n",
       "      <td>27.0</td>\n",
       "      <td>0.0</td>\n",
       "      <td>446.0</td>\n",
       "      <td>15.0</td>\n",
       "      <td>...</td>\n",
       "      <td>0.764</td>\n",
       "      <td>16.0</td>\n",
       "      <td>32.0</td>\n",
       "      <td>48.0</td>\n",
       "      <td>57.0</td>\n",
       "      <td>27.0</td>\n",
       "      <td>11.0</td>\n",
       "      <td>25.0</td>\n",
       "      <td>31.0</td>\n",
       "      <td>150.0</td>\n",
       "    </tr>\n",
       "    <tr>\n",
       "      <th>24682</th>\n",
       "      <td>24682</td>\n",
       "      <td>2017.0</td>\n",
       "      <td>James Young</td>\n",
       "      <td>SG</td>\n",
       "      <td>21.0</td>\n",
       "      <td>BOS</td>\n",
       "      <td>29.0</td>\n",
       "      <td>0.0</td>\n",
       "      <td>220.0</td>\n",
       "      <td>10.0</td>\n",
       "      <td>...</td>\n",
       "      <td>0.667</td>\n",
       "      <td>6.0</td>\n",
       "      <td>20.0</td>\n",
       "      <td>26.0</td>\n",
       "      <td>4.0</td>\n",
       "      <td>10.0</td>\n",
       "      <td>2.0</td>\n",
       "      <td>4.0</td>\n",
       "      <td>15.0</td>\n",
       "      <td>68.0</td>\n",
       "    </tr>\n",
       "    <tr>\n",
       "      <th>24683</th>\n",
       "      <td>24683</td>\n",
       "      <td>2017.0</td>\n",
       "      <td>Joe Young</td>\n",
       "      <td>PG</td>\n",
       "      <td>24.0</td>\n",
       "      <td>IND</td>\n",
       "      <td>33.0</td>\n",
       "      <td>0.0</td>\n",
       "      <td>135.0</td>\n",
       "      <td>11.4</td>\n",
       "      <td>...</td>\n",
       "      <td>0.733</td>\n",
       "      <td>1.0</td>\n",
       "      <td>16.0</td>\n",
       "      <td>17.0</td>\n",
       "      <td>15.0</td>\n",
       "      <td>4.0</td>\n",
       "      <td>0.0</td>\n",
       "      <td>5.0</td>\n",
       "      <td>5.0</td>\n",
       "      <td>68.0</td>\n",
       "    </tr>\n",
       "    <tr>\n",
       "      <th>24684</th>\n",
       "      <td>24684</td>\n",
       "      <td>2017.0</td>\n",
       "      <td>Nick Young</td>\n",
       "      <td>SG</td>\n",
       "      <td>31.0</td>\n",
       "      <td>LAL</td>\n",
       "      <td>60.0</td>\n",
       "      <td>60.0</td>\n",
       "      <td>1556.0</td>\n",
       "      <td>14.1</td>\n",
       "      <td>...</td>\n",
       "      <td>0.856</td>\n",
       "      <td>25.0</td>\n",
       "      <td>112.0</td>\n",
       "      <td>137.0</td>\n",
       "      <td>58.0</td>\n",
       "      <td>37.0</td>\n",
       "      <td>14.0</td>\n",
       "      <td>36.0</td>\n",
       "      <td>137.0</td>\n",
       "      <td>791.0</td>\n",
       "    </tr>\n",
       "    <tr>\n",
       "      <th>24685</th>\n",
       "      <td>24685</td>\n",
       "      <td>2017.0</td>\n",
       "      <td>Thaddeus Young</td>\n",
       "      <td>PF</td>\n",
       "      <td>28.0</td>\n",
       "      <td>IND</td>\n",
       "      <td>74.0</td>\n",
       "      <td>74.0</td>\n",
       "      <td>2237.0</td>\n",
       "      <td>14.9</td>\n",
       "      <td>...</td>\n",
       "      <td>0.523</td>\n",
       "      <td>131.0</td>\n",
       "      <td>318.0</td>\n",
       "      <td>449.0</td>\n",
       "      <td>122.0</td>\n",
       "      <td>114.0</td>\n",
       "      <td>30.0</td>\n",
       "      <td>96.0</td>\n",
       "      <td>135.0</td>\n",
       "      <td>814.0</td>\n",
       "    </tr>\n",
       "    <tr>\n",
       "      <th>24686</th>\n",
       "      <td>24686</td>\n",
       "      <td>2017.0</td>\n",
       "      <td>Cody Zeller</td>\n",
       "      <td>PF</td>\n",
       "      <td>24.0</td>\n",
       "      <td>CHO</td>\n",
       "      <td>62.0</td>\n",
       "      <td>58.0</td>\n",
       "      <td>1725.0</td>\n",
       "      <td>16.7</td>\n",
       "      <td>...</td>\n",
       "      <td>0.679</td>\n",
       "      <td>135.0</td>\n",
       "      <td>270.0</td>\n",
       "      <td>405.0</td>\n",
       "      <td>99.0</td>\n",
       "      <td>62.0</td>\n",
       "      <td>58.0</td>\n",
       "      <td>65.0</td>\n",
       "      <td>189.0</td>\n",
       "      <td>639.0</td>\n",
       "    </tr>\n",
       "    <tr>\n",
       "      <th>24687</th>\n",
       "      <td>24687</td>\n",
       "      <td>2017.0</td>\n",
       "      <td>Tyler Zeller</td>\n",
       "      <td>C</td>\n",
       "      <td>27.0</td>\n",
       "      <td>BOS</td>\n",
       "      <td>51.0</td>\n",
       "      <td>5.0</td>\n",
       "      <td>525.0</td>\n",
       "      <td>13.0</td>\n",
       "      <td>...</td>\n",
       "      <td>0.564</td>\n",
       "      <td>43.0</td>\n",
       "      <td>81.0</td>\n",
       "      <td>124.0</td>\n",
       "      <td>42.0</td>\n",
       "      <td>7.0</td>\n",
       "      <td>21.0</td>\n",
       "      <td>20.0</td>\n",
       "      <td>61.0</td>\n",
       "      <td>178.0</td>\n",
       "    </tr>\n",
       "    <tr>\n",
       "      <th>24688</th>\n",
       "      <td>24688</td>\n",
       "      <td>2017.0</td>\n",
       "      <td>Stephen Zimmerman</td>\n",
       "      <td>C</td>\n",
       "      <td>20.0</td>\n",
       "      <td>ORL</td>\n",
       "      <td>19.0</td>\n",
       "      <td>0.0</td>\n",
       "      <td>108.0</td>\n",
       "      <td>7.3</td>\n",
       "      <td>...</td>\n",
       "      <td>0.600</td>\n",
       "      <td>11.0</td>\n",
       "      <td>24.0</td>\n",
       "      <td>35.0</td>\n",
       "      <td>4.0</td>\n",
       "      <td>2.0</td>\n",
       "      <td>5.0</td>\n",
       "      <td>3.0</td>\n",
       "      <td>17.0</td>\n",
       "      <td>23.0</td>\n",
       "    </tr>\n",
       "    <tr>\n",
       "      <th>24689</th>\n",
       "      <td>24689</td>\n",
       "      <td>2017.0</td>\n",
       "      <td>Paul Zipser</td>\n",
       "      <td>SF</td>\n",
       "      <td>22.0</td>\n",
       "      <td>CHI</td>\n",
       "      <td>44.0</td>\n",
       "      <td>18.0</td>\n",
       "      <td>843.0</td>\n",
       "      <td>6.9</td>\n",
       "      <td>...</td>\n",
       "      <td>0.775</td>\n",
       "      <td>15.0</td>\n",
       "      <td>110.0</td>\n",
       "      <td>125.0</td>\n",
       "      <td>36.0</td>\n",
       "      <td>15.0</td>\n",
       "      <td>16.0</td>\n",
       "      <td>40.0</td>\n",
       "      <td>78.0</td>\n",
       "      <td>240.0</td>\n",
       "    </tr>\n",
       "    <tr>\n",
       "      <th>24690</th>\n",
       "      <td>24690</td>\n",
       "      <td>2017.0</td>\n",
       "      <td>Ivica Zubac</td>\n",
       "      <td>C</td>\n",
       "      <td>19.0</td>\n",
       "      <td>LAL</td>\n",
       "      <td>38.0</td>\n",
       "      <td>11.0</td>\n",
       "      <td>609.0</td>\n",
       "      <td>17.0</td>\n",
       "      <td>...</td>\n",
       "      <td>0.653</td>\n",
       "      <td>41.0</td>\n",
       "      <td>118.0</td>\n",
       "      <td>159.0</td>\n",
       "      <td>30.0</td>\n",
       "      <td>14.0</td>\n",
       "      <td>33.0</td>\n",
       "      <td>30.0</td>\n",
       "      <td>66.0</td>\n",
       "      <td>284.0</td>\n",
       "    </tr>\n",
       "  </tbody>\n",
       "</table>\n",
       "<p>24691 rows × 53 columns</p>\n",
       "</div>"
      ],
      "text/plain": [
       "       Unnamed: 0    Year             Player  Pos   Age   Tm     G    GS  \\\n",
       "0               0  1950.0    Curly Armstrong  G-F  31.0  FTW  63.0   NaN   \n",
       "1               1  1950.0       Cliff Barker   SG  29.0  INO  49.0   NaN   \n",
       "2               2  1950.0      Leo Barnhorst   SF  25.0  CHS  67.0   NaN   \n",
       "3               3  1950.0         Ed Bartels    F  24.0  TOT  15.0   NaN   \n",
       "4               4  1950.0         Ed Bartels    F  24.0  DNN  13.0   NaN   \n",
       "5               5  1950.0         Ed Bartels    F  24.0  NYK   2.0   NaN   \n",
       "6               6  1950.0        Ralph Beard    G  22.0  INO  60.0   NaN   \n",
       "7               7  1950.0         Gene Berce  G-F  23.0  TRI   3.0   NaN   \n",
       "8               8  1950.0      Charlie Black  F-C  28.0  TOT  65.0   NaN   \n",
       "9               9  1950.0      Charlie Black  F-C  28.0  FTW  36.0   NaN   \n",
       "10             10  1950.0      Charlie Black  F-C  28.0  AND  29.0   NaN   \n",
       "11             11  1950.0        Nelson Bobb   PG  25.0  PHW  57.0   NaN   \n",
       "12             12  1950.0    Jake Bornheimer  F-C  22.0  PHW  60.0   NaN   \n",
       "13             13  1950.0       Vince Boryla   SF  22.0  NYK  59.0   NaN   \n",
       "14             14  1950.0          Don Boven  F-G  24.0  WAT  62.0   NaN   \n",
       "15             15  1950.0      Harry Boykoff    C  27.0  WAT  61.0   NaN   \n",
       "16             16  1950.0        Joe Bradley    G  21.0  CHS  46.0   NaN   \n",
       "17             17  1950.0        Bob Brannum   PF  24.0  SHE  59.0   NaN   \n",
       "18             18  1950.0         Carl Braun  G-F  22.0  NYK  67.0   NaN   \n",
       "19             19  1950.0      Frankie Brian    G  26.0  AND  64.0   NaN   \n",
       "20             20  1950.0   Price Brookfield  F-G  29.0  ROC   7.0   NaN   \n",
       "21             21  1950.0          Bob Brown    F  26.0  DNN  62.0   NaN   \n",
       "22             22  1950.0         Jim Browne    C  20.0  DNN  31.0   NaN   \n",
       "23             23  1950.0         Walt Budko   PF  24.0  BLB  66.0   NaN   \n",
       "24             24  1950.0     Jack Burmaster    G  23.0  SHE  61.0   NaN   \n",
       "25             25  1950.0       Tommy Byrnes  F-G  26.0  BLB  53.0   NaN   \n",
       "26             26  1950.0       Bill Calhoun   SG  22.0  ROC  62.0   NaN   \n",
       "27             27  1950.0        Don Carlson  G-F  30.0  MNL  57.0   NaN   \n",
       "28             28  1950.0      Bob Carpenter  F-C  32.0  FTW  66.0   NaN   \n",
       "29             29  1950.0        Jake Carter  F-C  25.0  TOT  24.0   NaN   \n",
       "...           ...     ...                ...  ...   ...  ...   ...   ...   \n",
       "24661       24661  2017.0     Deron Williams   PG  32.0  TOT  64.0  44.0   \n",
       "24662       24662  2017.0     Deron Williams   PG  32.0  DAL  40.0  40.0   \n",
       "24663       24663  2017.0     Deron Williams   PG  32.0  CLE  24.0   4.0   \n",
       "24664       24664  2017.0   Derrick Williams   PF  25.0  TOT  50.0  11.0   \n",
       "24665       24665  2017.0   Derrick Williams   PF  25.0  MIA  25.0  11.0   \n",
       "24666       24666  2017.0   Derrick Williams   PF  25.0  CLE  25.0   0.0   \n",
       "24667       24667  2017.0       Lou Williams   SG  30.0  TOT  81.0   1.0   \n",
       "24668       24668  2017.0       Lou Williams   SG  30.0  LAL  58.0   1.0   \n",
       "24669       24669  2017.0       Lou Williams   SG  30.0  HOU  23.0   0.0   \n",
       "24670       24670  2017.0    Marvin Williams   PF  30.0  CHO  76.0  76.0   \n",
       "24671       24671  2017.0    Reggie Williams   SF  30.0  NOP   6.0   0.0   \n",
       "24672       24672  2017.0      Troy Williams   SF  22.0  TOT  30.0  16.0   \n",
       "24673       24673  2017.0      Troy Williams   SF  22.0  MEM  24.0  13.0   \n",
       "24674       24674  2017.0      Troy Williams   SF  22.0  HOU   6.0   3.0   \n",
       "24675       24675  2017.0       Kyle Wiltjer   PF  24.0  HOU  14.0   0.0   \n",
       "24676       24676  2017.0    Justise Winslow   SF  20.0  MIA  18.0  15.0   \n",
       "24677       24677  2017.0        Jeff Withey    C  26.0  UTA  51.0   1.0   \n",
       "24678       24678  2017.0     Christian Wood   PF  21.0  CHO  13.0   0.0   \n",
       "24679       24679  2017.0        Metta World   SF  37.0  LAL  25.0   2.0   \n",
       "24680       24680  2017.0     Brandan Wright   PF  29.0  MEM  28.0   5.0   \n",
       "24681       24681  2017.0       Delon Wright   PG  24.0  TOR  27.0   0.0   \n",
       "24682       24682  2017.0        James Young   SG  21.0  BOS  29.0   0.0   \n",
       "24683       24683  2017.0          Joe Young   PG  24.0  IND  33.0   0.0   \n",
       "24684       24684  2017.0         Nick Young   SG  31.0  LAL  60.0  60.0   \n",
       "24685       24685  2017.0     Thaddeus Young   PF  28.0  IND  74.0  74.0   \n",
       "24686       24686  2017.0        Cody Zeller   PF  24.0  CHO  62.0  58.0   \n",
       "24687       24687  2017.0       Tyler Zeller    C  27.0  BOS  51.0   5.0   \n",
       "24688       24688  2017.0  Stephen Zimmerman    C  20.0  ORL  19.0   0.0   \n",
       "24689       24689  2017.0        Paul Zipser   SF  22.0  CHI  44.0  18.0   \n",
       "24690       24690  2017.0        Ivica Zubac    C  19.0  LAL  38.0  11.0   \n",
       "\n",
       "           MP   PER   ...      FT%    ORB    DRB    TRB    AST    STL   BLK  \\\n",
       "0         NaN   NaN   ...    0.705    NaN    NaN    NaN  176.0    NaN   NaN   \n",
       "1         NaN   NaN   ...    0.708    NaN    NaN    NaN  109.0    NaN   NaN   \n",
       "2         NaN   NaN   ...    0.698    NaN    NaN    NaN  140.0    NaN   NaN   \n",
       "3         NaN   NaN   ...    0.559    NaN    NaN    NaN   20.0    NaN   NaN   \n",
       "4         NaN   NaN   ...    0.548    NaN    NaN    NaN   20.0    NaN   NaN   \n",
       "5         NaN   NaN   ...    0.667    NaN    NaN    NaN    0.0    NaN   NaN   \n",
       "6         NaN   NaN   ...    0.762    NaN    NaN    NaN  233.0    NaN   NaN   \n",
       "7         NaN   NaN   ...    0.000    NaN    NaN    NaN    2.0    NaN   NaN   \n",
       "8         NaN   NaN   ...    0.651    NaN    NaN    NaN  163.0    NaN   NaN   \n",
       "9         NaN   NaN   ...    0.632    NaN    NaN    NaN   75.0    NaN   NaN   \n",
       "10        NaN   NaN   ...    0.688    NaN    NaN    NaN   88.0    NaN   NaN   \n",
       "11        NaN   NaN   ...    0.626    NaN    NaN    NaN   46.0    NaN   NaN   \n",
       "12        NaN   NaN   ...    0.667    NaN    NaN    NaN   40.0    NaN   NaN   \n",
       "13        NaN   NaN   ...    0.764    NaN    NaN    NaN   95.0    NaN   NaN   \n",
       "14        NaN   NaN   ...    0.688    NaN    NaN    NaN  137.0    NaN   NaN   \n",
       "15        NaN   NaN   ...    0.775    NaN    NaN    NaN  149.0    NaN   NaN   \n",
       "16        NaN   NaN   ...    0.395    NaN    NaN    NaN   36.0    NaN   NaN   \n",
       "17        NaN   NaN   ...    0.690    NaN    NaN    NaN  205.0    NaN   NaN   \n",
       "18        NaN   NaN   ...    0.762    NaN    NaN    NaN  247.0    NaN   NaN   \n",
       "19        NaN   NaN   ...    0.824    NaN    NaN    NaN  189.0    NaN   NaN   \n",
       "20        NaN   NaN   ...    0.923    NaN    NaN    NaN    1.0    NaN   NaN   \n",
       "21        NaN   NaN   ...    0.683    NaN    NaN    NaN  101.0    NaN   NaN   \n",
       "22        NaN   NaN   ...    0.481    NaN    NaN    NaN    8.0    NaN   NaN   \n",
       "23        NaN   NaN   ...    0.757    NaN    NaN    NaN  146.0    NaN   NaN   \n",
       "24        NaN   NaN   ...    0.681    NaN    NaN    NaN  179.0    NaN   NaN   \n",
       "25        NaN   NaN   ...    0.702    NaN    NaN    NaN   88.0    NaN   NaN   \n",
       "26        NaN   NaN   ...    0.719    NaN    NaN    NaN  115.0    NaN   NaN   \n",
       "27        NaN   NaN   ...    0.726    NaN    NaN    NaN   76.0    NaN   NaN   \n",
       "28        NaN   NaN   ...    0.742    NaN    NaN    NaN   92.0    NaN   NaN   \n",
       "29        NaN   NaN   ...    0.679    NaN    NaN    NaN   24.0    NaN   NaN   \n",
       "...       ...   ...   ...      ...    ...    ...    ...    ...    ...   ...   \n",
       "24661  1657.0  14.0   ...    0.826   14.0  133.0  147.0  360.0   31.0   8.0   \n",
       "24662  1171.0  15.0   ...    0.821   13.0   89.0  102.0  274.0   25.0   2.0   \n",
       "24663   486.0  11.4   ...    0.840    1.0   44.0   45.0   86.0    6.0   6.0   \n",
       "24664   804.0  10.6   ...    0.652   19.0  111.0  130.0   28.0   14.0   7.0   \n",
       "24665   377.0  10.1   ...    0.620   16.0   57.0   73.0   14.0    9.0   5.0   \n",
       "24666   427.0  11.1   ...    0.692    3.0   54.0   57.0   14.0    5.0   2.0   \n",
       "24667  1994.0  21.4   ...    0.880   26.0  176.0  202.0  239.0   80.0  19.0   \n",
       "24668  1403.0  23.9   ...    0.884   14.0  118.0  132.0  183.0   65.0  10.0   \n",
       "24669   591.0  15.4   ...    0.867   12.0   58.0   70.0   56.0   15.0   9.0   \n",
       "24670  2295.0  13.7   ...    0.873   89.0  409.0  498.0  106.0   58.0  53.0   \n",
       "24671    79.0  11.7   ...    0.857    2.0    4.0    6.0    4.0    3.0   0.0   \n",
       "24672   557.0   8.9   ...    0.656   15.0   54.0   69.0   25.0   27.0  10.0   \n",
       "24673   418.0   7.6   ...    0.600    6.0   39.0   45.0   19.0   24.0   9.0   \n",
       "24674   139.0  12.8   ...    0.857    9.0   15.0   24.0    6.0    3.0   1.0   \n",
       "24675    44.0   6.7   ...    0.500    4.0    6.0   10.0    2.0    3.0   1.0   \n",
       "24676   625.0   8.2   ...    0.617   23.0   71.0   94.0   66.0   27.0   6.0   \n",
       "24677   432.0  18.8   ...    0.750   52.0   69.0  121.0    7.0   16.0  32.0   \n",
       "24678   107.0  15.1   ...    0.733   14.0   15.0   29.0    2.0    3.0   6.0   \n",
       "24679   160.0   6.2   ...    0.625    5.0   15.0   20.0   11.0    9.0   2.0   \n",
       "24680   447.0  18.5   ...    0.657   31.0   47.0   78.0   15.0   11.0  20.0   \n",
       "24681   446.0  15.0   ...    0.764   16.0   32.0   48.0   57.0   27.0  11.0   \n",
       "24682   220.0  10.0   ...    0.667    6.0   20.0   26.0    4.0   10.0   2.0   \n",
       "24683   135.0  11.4   ...    0.733    1.0   16.0   17.0   15.0    4.0   0.0   \n",
       "24684  1556.0  14.1   ...    0.856   25.0  112.0  137.0   58.0   37.0  14.0   \n",
       "24685  2237.0  14.9   ...    0.523  131.0  318.0  449.0  122.0  114.0  30.0   \n",
       "24686  1725.0  16.7   ...    0.679  135.0  270.0  405.0   99.0   62.0  58.0   \n",
       "24687   525.0  13.0   ...    0.564   43.0   81.0  124.0   42.0    7.0  21.0   \n",
       "24688   108.0   7.3   ...    0.600   11.0   24.0   35.0    4.0    2.0   5.0   \n",
       "24689   843.0   6.9   ...    0.775   15.0  110.0  125.0   36.0   15.0  16.0   \n",
       "24690   609.0  17.0   ...    0.653   41.0  118.0  159.0   30.0   14.0  33.0   \n",
       "\n",
       "         TOV     PF     PTS  \n",
       "0        NaN  217.0   458.0  \n",
       "1        NaN   99.0   279.0  \n",
       "2        NaN  192.0   438.0  \n",
       "3        NaN   29.0    63.0  \n",
       "4        NaN   27.0    59.0  \n",
       "5        NaN    2.0     4.0  \n",
       "6        NaN  132.0   895.0  \n",
       "7        NaN    6.0    10.0  \n",
       "8        NaN  273.0   661.0  \n",
       "9        NaN  140.0   382.0  \n",
       "10       NaN  133.0   279.0  \n",
       "11       NaN   97.0   242.0  \n",
       "12       NaN  111.0   254.0  \n",
       "13       NaN  203.0   612.0  \n",
       "14       NaN  255.0   656.0  \n",
       "15       NaN  229.0   779.0  \n",
       "16       NaN   51.0    87.0  \n",
       "17       NaN  279.0   713.0  \n",
       "18       NaN  188.0  1031.0  \n",
       "19       NaN  192.0  1138.0  \n",
       "20       NaN    7.0    34.0  \n",
       "21       NaN  269.0   724.0  \n",
       "22       NaN   16.0    47.0  \n",
       "23       NaN  259.0   595.0  \n",
       "24       NaN  237.0   598.0  \n",
       "25       NaN   76.0   327.0  \n",
       "26       NaN  100.0   560.0  \n",
       "27       NaN  126.0   267.0  \n",
       "28       NaN  168.0   614.0  \n",
       "29       NaN   59.0    82.0  \n",
       "...      ...    ...     ...  \n",
       "24661  138.0  138.0   701.0  \n",
       "24662   98.0   96.0   522.0  \n",
       "24663   40.0   42.0   179.0  \n",
       "24664   28.0   60.0   304.0  \n",
       "24665   14.0   33.0   148.0  \n",
       "24666   14.0   27.0   156.0  \n",
       "24667  160.0   92.0  1421.0  \n",
       "24668  120.0   67.0  1078.0  \n",
       "24669   40.0   25.0   343.0  \n",
       "24670   60.0  134.0   849.0  \n",
       "24671    0.0    2.0    27.0  \n",
       "24672   33.0   60.0   185.0  \n",
       "24673   27.0   42.0   127.0  \n",
       "24674    6.0   18.0    58.0  \n",
       "24675    5.0    4.0    13.0  \n",
       "24676   33.0   52.0   196.0  \n",
       "24677   14.0   52.0   146.0  \n",
       "24678    7.0   11.0    35.0  \n",
       "24679    7.0   18.0    57.0  \n",
       "24680   10.0   42.0   189.0  \n",
       "24681   25.0   31.0   150.0  \n",
       "24682    4.0   15.0    68.0  \n",
       "24683    5.0    5.0    68.0  \n",
       "24684   36.0  137.0   791.0  \n",
       "24685   96.0  135.0   814.0  \n",
       "24686   65.0  189.0   639.0  \n",
       "24687   20.0   61.0   178.0  \n",
       "24688    3.0   17.0    23.0  \n",
       "24689   40.0   78.0   240.0  \n",
       "24690   30.0   66.0   284.0  \n",
       "\n",
       "[24691 rows x 53 columns]"
      ]
     },
     "execution_count": 34,
     "metadata": {},
     "output_type": "execute_result"
    }
   ],
   "source": [
    "import pandas as pd\n",
    "df = pd.read_csv(\"./data/nba_players_season_stats.csv\")\n",
    "df"
   ]
  },
  {
   "cell_type": "markdown",
   "metadata": {},
   "source": [
    "A função `parse_dict` processa o dicionário criado a partir de uma linha do arquivo `csv` usando o dicionário de *parsers* que você deve criar. Para cada campo problemático, ou seja, que merece o seu próprio *parser*, a função `try_parse_field` executa o *parser* correspondente.\n",
    "\n",
    "Por exemplo, ao processar o arquivo [`./data/nba_players_season_stats.csv`](https://www.dropbox.com/s/tkgxwud89ygx7dv/nba_players_season_stats.csv?dl=0), que contém informações históricas sobre o desempenho de jogadores da NBA, verificamos que há nomes com um caractere `*` ao seu final e posições múltiplas no campo `Pos`, como as posições `F-C` (ala e pivô, ou *forward* e *center*) e `G-F` (armador e ala, ou *guard* e *forward*). Decidimos tratar essas duas situações da seguinte forma:\n",
    "\n",
    "1) No caso do nome, vamos usar a função `parse_name` para simplesmente remover o `*` do nome:"
   ]
  },
  {
   "cell_type": "code",
   "execution_count": 35,
   "metadata": {},
   "outputs": [],
   "source": [
    "def parse_name(name):\n",
    "    if name[-1] == '*':\n",
    "        return name[:-1]\n",
    "    else:\n",
    "        return name"
   ]
  },
  {
   "cell_type": "markdown",
   "metadata": {},
   "source": [
    "2) No caso das posições, converteremos `F-C` para `PF` (ala de força, ou *power forward*, que é uma posição que achamos adequada para esse jogador) e `G-F` para `SF` (ala pequeno, ou *small forward*, que também consideramos uma posição adequada para o jogador que joga nessas duas posições). Assim, criamos a função `parse_pos` para tratar esses dois casos:"
   ]
  },
  {
   "cell_type": "code",
   "execution_count": 36,
   "metadata": {},
   "outputs": [],
   "source": [
    "def parse_pos(pos):\n",
    "    if pos == 'F-C':\n",
    "        return 'PF'\n",
    "    elif pos == 'G-F':\n",
    "        return 'SF'\n",
    "    else:\n",
    "        return pos\n",
    "    "
   ]
  },
  {
   "cell_type": "markdown",
   "metadata": {},
   "source": [
    "Agora podemos criar o nosso dicionário de *parsers*"
   ]
  },
  {
   "cell_type": "code",
   "execution_count": 37,
   "metadata": {},
   "outputs": [],
   "source": [
    "parser_nba_player = dict()\n",
    "parser_nba_player['Pos'] = parse_pos\n",
    "parser_nba_player['Player'] = parse_name"
   ]
  },
  {
   "cell_type": "markdown",
   "metadata": {},
   "source": [
    "e processar o arquivo com ele:"
   ]
  },
  {
   "cell_type": "code",
   "execution_count": 38,
   "metadata": {
    "scrolled": true
   },
   "outputs": [
    {
     "name": "stdout",
     "output_type": "stream",
     "text": [
      "Uma linha com os dois problemas:\n",
      "OrderedDict([('', '71'), ('Year', '1950'), ('Player', 'Harry Gallatin*'), ('Pos', 'F-C'), ('Age', '22'), ('Tm', 'NYK'), ('G', '68'), ('GS', ''), ('MP', ''), ('PER', ''), ('TS%', '0.487'), ('3PAr', ''), ('FTr', '0.551'), ('ORB%', ''), ('DRB%', ''), ('TRB%', ''), ('AST%', ''), ('STL%', ''), ('BLK%', ''), ('TOV%', ''), ('USG%', ''), ('blanl', ''), ('OWS', '6.5'), ('DWS', '1.4'), ('WS', '7.8'), ('WS/48', ''), ('blank2', ''), ('OBPM', ''), ('DBPM', ''), ('BPM', ''), ('VORP', ''), ('FG', '263'), ('FGA', '664'), ('FG%', '0.396'), ('3P', ''), ('3PA', ''), ('3P%', ''), ('2P', '263'), ('2PA', '664'), ('2P%', '0.396'), ('eFG%', '0.396'), ('FT', '277'), ('FTA', '366'), ('FT%', '0.757'), ('ORB', ''), ('DRB', ''), ('TRB', ''), ('AST', '56'), ('STL', ''), ('BLK', ''), ('TOV', ''), ('PF', '215'), ('PTS', '803')])\n"
     ]
    }
   ],
   "source": [
    "input_file = csv.DictReader(open(\"./data/nba_players_season_stats.csv\"))\n",
    "data = []\n",
    "id_row = 0\n",
    "for row in input_file:\n",
    "    parsed_row = parse_dict(row, parser_nba_player)\n",
    "    data.append(parsed_row)\n",
    "    if id_row == 71:\n",
    "        print(\"Uma linha com os dois problemas:\")\n",
    "        print(row) \n",
    "    id_row = id_row + 1"
   ]
  },
  {
   "cell_type": "markdown",
   "metadata": {},
   "source": [
    "Ao processar o arquivo, eu imprimi uma linha problemática, a linha `71`. Para verificar se o *parser* funcionou corretamente, vamos imprimir a mesma linha, só que agora nos dados tratados, que estão em `data`:"
   ]
  },
  {
   "cell_type": "code",
   "execution_count": 39,
   "metadata": {},
   "outputs": [
    {
     "name": "stdout",
     "output_type": "stream",
     "text": [
      "Problema resolvido:\n",
      "{'': '71', 'Year': '1950', 'Player': 'Harry Gallatin', 'Pos': 'PF', 'Age': '22', 'Tm': 'NYK', 'G': '68', 'GS': '', 'MP': '', 'PER': '', 'TS%': '0.487', '3PAr': '', 'FTr': '0.551', 'ORB%': '', 'DRB%': '', 'TRB%': '', 'AST%': '', 'STL%': '', 'BLK%': '', 'TOV%': '', 'USG%': '', 'blanl': '', 'OWS': '6.5', 'DWS': '1.4', 'WS': '7.8', 'WS/48': '', 'blank2': '', 'OBPM': '', 'DBPM': '', 'BPM': '', 'VORP': '', 'FG': '263', 'FGA': '664', 'FG%': '0.396', '3P': '', '3PA': '', '3P%': '', '2P': '263', '2PA': '664', '2P%': '0.396', 'eFG%': '0.396', 'FT': '277', 'FTA': '366', 'FT%': '0.757', 'ORB': '', 'DRB': '', 'TRB': '', 'AST': '56', 'STL': '', 'BLK': '', 'TOV': '', 'PF': '215', 'PTS': '803'}\n"
     ]
    }
   ],
   "source": [
    "print(\"Problema resolvido:\")\n",
    "print(data[71])"
   ]
  },
  {
   "cell_type": "markdown",
   "metadata": {},
   "source": [
    "Um bom próximo passo é verificar se há valores discrepantes (*outliers*), usando técnicas vistas anteriormente neste curso, ou investigando de forma *ad hoc*. Por exemplo, você notou que uma das datas no arquivo de ações tinha o ano 3014? Isso não lhe dará (necessariamente) um erro, mas está completamente errado, e você obterá resultados malucos se não consertar. Conjuntos de dados do mundo real têm pontos decimais ausentes, zeros extras, erros tipográficos e inúmeros outros problemas que você deve capturar. (Talvez não seja oficialmente seu trabalho, mas quem mais vai fazer isso?)"
   ]
  },
  {
   "cell_type": "markdown",
   "metadata": {},
   "source": [
    "## Manipulando Dados\n",
    "\n",
    "Uma das habilidades mais importantes de um cientista de dados é manipular dados. É mais uma abordagem geral do que uma técnica específica, por isso vamos trabalhar apenas com alguns exemplos para lhe dar o sabor disso.\n",
    "\n",
    "Imagine que estamos trabalhando com `dict`s de preços de ações que se parecem com:\n",
    "\n",
    "```\n",
    "data = [\n",
    "{'closing_price': 102.06,\n",
    "'date': datetime.datetime(2014, 8, 29, 0, 0),\n",
    "'symbol': 'AAPL'},\n",
    "# ...\n",
    "]\n",
    "```\n",
    "Conceitualmente, pensamos neles como linhas (como em uma planilha).\n",
    "\n",
    "Na aula passada, foi pedido que você criasse um arquivo `historical_prices.csv`, contendo o histórico de preços de algumas ações. Vamos usar esse arquivo a partir de agora. Se você não tem esse arquivo, pode baixar o meu [aqui](https://www.dropbox.com/s/eofdd0t0x9kyhhz/historical_prices.csv?dl=0). Então, vamos carregar esse arquivo como uma lista de dicionários, fazendo o *parse* de cada campo de acordo com o seu valor:"
   ]
  },
  {
   "cell_type": "code",
   "execution_count": 40,
   "metadata": {},
   "outputs": [],
   "source": [
    "def parse_float(price):\n",
    "    return float(price)\n",
    "\n",
    "def parse_date(date):\n",
    "    return dateutil.parser.parse(date)"
   ]
  },
  {
   "cell_type": "code",
   "execution_count": 41,
   "metadata": {},
   "outputs": [],
   "source": [
    "parser_hprices = dict()\n",
    "parser_hprices['opening_price'] = parse_float\n",
    "parser_hprices['high_price'] = parse_float\n",
    "parser_hprices['low_price'] = parse_float\n",
    "parser_hprices['closing_price'] = parse_float\n",
    "parser_hprices['adj_close'] = parse_float\n",
    "parser_hprices['volume'] = parse_float\n",
    "parser_hprices['date'] = parse_date\n",
    "input_file = csv.DictReader(open(\"./data/historical_prices.csv\"))\n",
    "data = []\n",
    "for row in input_file:\n",
    "    parsed_row = parse_dict(row, parser_hprices)\n",
    "    data.append(parsed_row)"
   ]
  },
  {
   "cell_type": "code",
   "execution_count": 42,
   "metadata": {},
   "outputs": [
    {
     "name": "stdout",
     "output_type": "stream",
     "text": [
      "0.9910612149575014\n"
     ]
    }
   ],
   "source": [
    "print(data[0]['closing_price']/data[0]['opening_price'])"
   ]
  },
  {
   "cell_type": "markdown",
   "metadata": {},
   "source": [
    "Vamos começar a fazer perguntas sobre esses dados. Ao longo do caminho, tentaremos perceber padrões no que estamos fazendo e abstrair algumas ferramentas para facilitar a manipulação dos dados.\n",
    "\n",
    "Por exemplo, suponha que queremos saber o preço de fechamento mais alto para a AAPL. Vamos dividir isso em etapas concretas:\n",
    "\n",
    "1. Restringir-nos às linhas AAPL.\n",
    "\n",
    "2. Pegamos o `closing_price` de cada linha.\n",
    "\n",
    "3. Tiramos o máximo desses preços.\n",
    "\n",
    "Podemos fazer todos os três ao mesmo tempo usando uma compreensão de lista:"
   ]
  },
  {
   "cell_type": "code",
   "execution_count": 43,
   "metadata": {},
   "outputs": [
    {
     "name": "stdout",
     "output_type": "stream",
     "text": [
      "Maior preço da ação AAPL:  191.330002\n"
     ]
    }
   ],
   "source": [
    "max_aapl_price = max(row[\"closing_price\"]\n",
    "                     for row in data\n",
    "                     if row[\"symbol\"] == \"AAPL\")\n",
    "\n",
    "print(\"Maior preço da ação AAPL: \", max_aapl_price)"
   ]
  },
  {
   "cell_type": "markdown",
   "metadata": {},
   "source": [
    "Mais genericamente, podemos querer saber o preço de fechamento mais alto de todos os estoques em nosso conjunto de dados. Uma maneira de fazer isso é:\n",
    "1. Agrupe todas as linhas com o mesmo símbolo.\n",
    "2. Dentro de cada grupo, faça o mesmo que antes:"
   ]
  },
  {
   "cell_type": "code",
   "execution_count": 44,
   "metadata": {},
   "outputs": [],
   "source": [
    "# group rows by symbol\n",
    "by_symbol = defaultdict(list)\n",
    "for row in data:\n",
    "    by_symbol[row[\"symbol\"]].append(row)\n",
    "\n",
    "        \n",
    "# use a dict comprehension to find the max for each symbol\n",
    "max_price_by_symbol = { symbol : max(row[\"closing_price\"]\n",
    "                                     for row in grouped_rows)\n",
    "                       for symbol, grouped_rows in by_symbol.items() }"
   ]
  },
  {
   "cell_type": "code",
   "execution_count": 45,
   "metadata": {},
   "outputs": [
    {
     "name": "stdout",
     "output_type": "stream",
     "text": [
      "{'AAPL': 191.330002, 'AMZN': 1813.030029, 'FB': 207.320007, 'GOOG': 1188.819946, 'NFLX': 418.970001}\n"
     ]
    }
   ],
   "source": [
    "print(max_price_by_symbol)"
   ]
  },
  {
   "cell_type": "markdown",
   "metadata": {},
   "source": [
    "Existem alguns padrões aqui já. Nos dois exemplos, precisávamos extrair o valor de `closing_price` de cada `dict`. Então, vamos criar uma função para escolher um campo fora de um `dict` e outra função para extrair o mesmo campo de uma coleção de `dict`s:"
   ]
  },
  {
   "cell_type": "code",
   "execution_count": 46,
   "metadata": {},
   "outputs": [],
   "source": [
    "def picker(field_name):\n",
    "    \"\"\"returns a function that picks a field out of a dict\"\"\"\n",
    "    return lambda row: row[field_name]\n",
    "\n",
    "def pluck(field_name, rows):\n",
    "    \"\"\"turn a list of dicts into the list of field_name values\"\"\"\n",
    "    return map(picker(field_name), rows)"
   ]
  },
  {
   "cell_type": "markdown",
   "metadata": {},
   "source": [
    "Vamos testar a função `picker`:"
   ]
  },
  {
   "cell_type": "code",
   "execution_count": 47,
   "metadata": {},
   "outputs": [
    {
     "name": "stdout",
     "output_type": "stream",
     "text": [
      "AAPL\n"
     ]
    }
   ],
   "source": [
    "first_row = data[0]\n",
    "picksymbol = picker(\"symbol\")\n",
    "print(picksymbol(first_row))"
   ]
  },
  {
   "cell_type": "markdown",
   "metadata": {},
   "source": [
    "Agora vamos testar a função `pluck`:"
   ]
  },
  {
   "cell_type": "code",
   "execution_count": 48,
   "metadata": {},
   "outputs": [
    {
     "name": "stdout",
     "output_type": "stream",
     "text": [
      "[datetime.datetime(2018, 6, 13, 0, 0), datetime.datetime(2018, 6, 14, 0, 0), datetime.datetime(2018, 6, 15, 0, 0), datetime.datetime(2018, 6, 18, 0, 0), datetime.datetime(2018, 6, 19, 0, 0), datetime.datetime(2018, 6, 20, 0, 0), datetime.datetime(2018, 6, 21, 0, 0), datetime.datetime(2018, 6, 22, 0, 0), datetime.datetime(2018, 6, 25, 0, 0), datetime.datetime(2018, 6, 26, 0, 0), datetime.datetime(2018, 6, 27, 0, 0), datetime.datetime(2018, 6, 28, 0, 0), datetime.datetime(2018, 6, 29, 0, 0), datetime.datetime(2018, 7, 2, 0, 0), datetime.datetime(2018, 7, 3, 0, 0), datetime.datetime(2018, 7, 5, 0, 0), datetime.datetime(2018, 7, 6, 0, 0), datetime.datetime(2018, 7, 9, 0, 0), datetime.datetime(2018, 7, 10, 0, 0), datetime.datetime(2018, 7, 11, 0, 0), datetime.datetime(2018, 7, 12, 0, 0), datetime.datetime(2018, 7, 13, 0, 0)]\n"
     ]
    }
   ],
   "source": [
    "all_dates = set(pluck(\"date\", data))\n",
    "sorted_dates = sorted(list(all_dates))\n",
    "print(sorted_dates)"
   ]
  },
  {
   "cell_type": "code",
   "execution_count": 49,
   "metadata": {},
   "outputs": [
    {
     "name": "stdout",
     "output_type": "stream",
     "text": [
      "[1813.030029, 1796.619995, 1755.0, 1750.079956, 1743.069946]\n"
     ]
    }
   ],
   "source": [
    "all_closing_prices = list(pluck(\"closing_price\", data))\n",
    "sorted_closing_prices = sorted((all_closing_prices), reverse=True)\n",
    "print(sorted_closing_prices[:5])"
   ]
  },
  {
   "cell_type": "markdown",
   "metadata": {},
   "source": [
    "Agora vamos criar uma função para agrupar linhas pelo resultado de uma função agrupadora (*grouper*) e, opcionalmente, aplicar algum tipo de transformador de valor (`value_transform`) a cada grupo:"
   ]
  },
  {
   "cell_type": "code",
   "execution_count": 50,
   "metadata": {},
   "outputs": [],
   "source": [
    "def group_by(grouper, rows, value_transform=None):\n",
    "    # key is output of grouper, value is list of rows\n",
    "    grouped = defaultdict(list)\n",
    "    for row in rows:\n",
    "        grouped[grouper(row)].append(row)\n",
    "    if value_transform is None:\n",
    "        return grouped\n",
    "    else:\n",
    "        return { key : value_transform(rows)\n",
    "                for key, rows in grouped.items() }"
   ]
  },
  {
   "cell_type": "markdown",
   "metadata": {},
   "source": [
    "Isso nos permite reescrever nossos exemplos anteriores de forma bastante simples. Por exemplo:"
   ]
  },
  {
   "cell_type": "code",
   "execution_count": 51,
   "metadata": {},
   "outputs": [
    {
     "name": "stdout",
     "output_type": "stream",
     "text": [
      "{'AAPL': 191.330002, 'AMZN': 1813.030029, 'FB': 207.320007, 'GOOG': 1188.819946, 'NFLX': 418.970001}\n"
     ]
    }
   ],
   "source": [
    "max_price_by_symbol = group_by(picker(\"symbol\"),\n",
    "                               data,\n",
    "                               lambda rows: max(pluck(\"closing_price\", rows)))\n",
    "\n",
    "print(max_price_by_symbol)"
   ]
  },
  {
   "cell_type": "markdown",
   "metadata": {},
   "source": [
    "Agora podemos começar a fazer perguntas mais complicadas, como quais são as maiores e menores alterações percentuais de um dia em nosso conjunto de dados. A alteração percentual é `price_today / price_yesterday - 1`, o que significa que precisamos de alguma forma de associar o preço de hoje e o preço de ontem. Uma abordagem é agrupar os preços por símbolo e, em seguida, dentro de cada grupo:\n",
    "1. Ordene os preços por data.\n",
    "2. Use `zip` para obter pares (anterior, atual).\n",
    "3. Transforme os pares em novas linhas de “alteração percentual”.\n",
    "\n",
    "Começaremos escrevendo uma função para fazer todo o trabalho dentro de cada grupo:"
   ]
  },
  {
   "cell_type": "code",
   "execution_count": 52,
   "metadata": {},
   "outputs": [],
   "source": [
    "def percent_price_change(yesterday, today):\n",
    "    return today[\"closing_price\"] / yesterday[\"closing_price\"] - 1\n",
    "\n",
    "def day_over_day_changes(grouped_rows):\n",
    "    # sort the rows by date\n",
    "    ordered = sorted(grouped_rows, key=picker(\"date\"))\n",
    "    # zip with an offset to get pairs of consecutive days\n",
    "    return [{ \"symbol\" : today[\"symbol\"],\n",
    "              \"date\" : today[\"date\"],\n",
    "              \"change\" : percent_price_change(yesterday, today) }\n",
    "             for yesterday, today in zip(ordered, ordered[1:])]\n"
   ]
  },
  {
   "cell_type": "markdown",
   "metadata": {},
   "source": [
    "Depois, vamos apenas usar isso como o `value_transform` em um `group_by`:"
   ]
  },
  {
   "cell_type": "code",
   "execution_count": 53,
   "metadata": {},
   "outputs": [],
   "source": [
    "# key is symbol, value is list of \"change\" dicts\n",
    "changes_by_symbol = group_by(picker(\"symbol\"), data, day_over_day_changes)\n",
    "\n",
    "# collect all \"change\" dicts into one big list\n",
    "all_changes = [change \n",
    "               for changes in changes_by_symbol.values()\n",
    "               for change in changes]"
   ]
  },
  {
   "cell_type": "markdown",
   "metadata": {},
   "source": [
    "Neste ponto, é fácil encontrar o maior e o menor valor:"
   ]
  },
  {
   "cell_type": "code",
   "execution_count": 54,
   "metadata": {},
   "outputs": [
    {
     "name": "stdout",
     "output_type": "stream",
     "text": [
      "{'symbol': 'NFLX', 'date': datetime.datetime(2018, 6, 26, 0, 0), 'change': 0.03877965973112718}\n"
     ]
    }
   ],
   "source": [
    "max_change = max(all_changes, key=picker(\"change\"))\n",
    "print(max_change)"
   ]
  },
  {
   "cell_type": "markdown",
   "metadata": {},
   "source": [
    "Agora podemos usar esse novo conjunto de dados `all_changes` para descobrir qual mês é o melhor para investir em ações de tecnologia. Primeiro agrupamos as mudanças por mês; então calculamos a mudança geral dentro de cada grupo.\n",
    "\n",
    "Mais uma vez, escrevemos uma `value_transform` apropriada e, depois, usamos `group_by`:"
   ]
  },
  {
   "cell_type": "code",
   "execution_count": 55,
   "metadata": {},
   "outputs": [
    {
     "name": "stdout",
     "output_type": "stream",
     "text": [
      "{6: -0.009986378046936473, 7: 0.2673420088935188}\n"
     ]
    }
   ],
   "source": [
    "# to combine percent changes, we add 1 to each, multiply them, and subtract 1\n",
    "# for instance, if we combine +10% and -20%, the overall change is\n",
    "# (1 + 10%) * (1 - 20%) - 1 = 1.1 * .8 - 1 = 0.88 - 1 = -12%\n",
    "def combine_pct_changes(pct_change1, pct_change2):\n",
    "    return (1 + pct_change1) * (1 + pct_change2) - 1\n",
    "\n",
    "def overall_change(changes):\n",
    "    return functools.reduce(combine_pct_changes, pluck(\"change\", changes))\n",
    "\n",
    "overall_change_by_month = group_by(lambda row: row['date'].month,\n",
    "                                   all_changes,\n",
    "                                   overall_change)\n",
    "print(overall_change_by_month)"
   ]
  },
  {
   "cell_type": "markdown",
   "metadata": {},
   "source": [
    "Iremos usar muito esses tipos de manipulação ao longo do curso, então você precisa entender muito bem o que foi ensinado até aqui."
   ]
  },
  {
   "cell_type": "markdown",
   "metadata": {},
   "source": [
    "## Redimensionamento\n",
    "\n",
    "Muitas técnicas são sensíveis à escala dos seus dados. Por exemplo, imagine que você tenha um conjunto de dados que consiste nas alturas e pesos de centenas de pessoas e que você está tentando identificar grupos de tamanhos corporais.\n",
    "\n",
    "Intuitivamente, gostaríamos que os clusters representassem pontos próximos uns dos outros, o que significa que precisamos de alguma noção de distância entre os pontos. Nós já temos uma função de distância euclidiana, então uma abordagem natural pode ser tratar pares (altura, peso) como pontos no espaço bidimensional. Considere as [pessoas](https://www.dropbox.com/s/9g7nuca3ednouk0/sample_people_ht_wt.csv?dl=0) listadas abaixo:"
   ]
  },
  {
   "cell_type": "code",
   "execution_count": 56,
   "metadata": {
    "scrolled": true
   },
   "outputs": [
    {
     "data": {
      "text/html": [
       "<div>\n",
       "<style scoped>\n",
       "    .dataframe tbody tr th:only-of-type {\n",
       "        vertical-align: middle;\n",
       "    }\n",
       "\n",
       "    .dataframe tbody tr th {\n",
       "        vertical-align: top;\n",
       "    }\n",
       "\n",
       "    .dataframe thead th {\n",
       "        text-align: right;\n",
       "    }\n",
       "</style>\n",
       "<table border=\"1\" class=\"dataframe\">\n",
       "  <thead>\n",
       "    <tr style=\"text-align: right;\">\n",
       "      <th></th>\n",
       "      <th>Person</th>\n",
       "      <th>Height_in</th>\n",
       "      <th>Height_cm</th>\n",
       "      <th>Weight_pnd</th>\n",
       "    </tr>\n",
       "  </thead>\n",
       "  <tbody>\n",
       "    <tr>\n",
       "      <th>0</th>\n",
       "      <td>A</td>\n",
       "      <td>63</td>\n",
       "      <td>160.0</td>\n",
       "      <td>150</td>\n",
       "    </tr>\n",
       "    <tr>\n",
       "      <th>1</th>\n",
       "      <td>B</td>\n",
       "      <td>67</td>\n",
       "      <td>170.2</td>\n",
       "      <td>160</td>\n",
       "    </tr>\n",
       "    <tr>\n",
       "      <th>2</th>\n",
       "      <td>C</td>\n",
       "      <td>70</td>\n",
       "      <td>177.8</td>\n",
       "      <td>171</td>\n",
       "    </tr>\n",
       "  </tbody>\n",
       "</table>\n",
       "</div>"
      ],
      "text/plain": [
       "  Person  Height_in  Height_cm  Weight_pnd\n",
       "0      A         63      160.0         150\n",
       "1      B         67      170.2         160\n",
       "2      C         70      177.8         171"
      ]
     },
     "execution_count": 56,
     "metadata": {},
     "output_type": "execute_result"
    }
   ],
   "source": [
    "df = pd.read_csv('data/sample_people_ht_wt.csv')\n",
    "df"
   ]
  },
  {
   "cell_type": "markdown",
   "metadata": {},
   "source": [
    "Aqui estamos usando a biblioteca `pandas` para carregar um csv e o exibir em um formato amigável. Para converter os dados que carregou, que estão em formato `DataFrame` para uma lista de vetores `numpy`, faça:"
   ]
  },
  {
   "cell_type": "code",
   "execution_count": 57,
   "metadata": {},
   "outputs": [
    {
     "name": "stdout",
     "output_type": "stream",
     "text": [
      "[['A' 63 160.0 150]\n",
      " ['B' 67 170.2 160]\n",
      " ['C' 70 177.8 171]]\n"
     ]
    }
   ],
   "source": [
    "people = df.values\n",
    "print(people)"
   ]
  },
  {
   "cell_type": "markdown",
   "metadata": {},
   "source": [
    "Para essas pessoas, se a gente medir as alturas em polegadas (*inches*), então a pessoa mais similar de `B` é `A`:"
   ]
  },
  {
   "cell_type": "code",
   "execution_count": 58,
   "metadata": {},
   "outputs": [
    {
     "name": "stdout",
     "output_type": "stream",
     "text": [
      "B para A: 10.770329614269007\n",
      "B para C: 11.40175425099138\n"
     ]
    }
   ],
   "source": [
    "def dadosPessoa(people, idx,alturaidx=1):\n",
    "    return [people[idx][alturaidx],people[idx][3]]\n",
    "\n",
    "print(\"B para A:\", distance.euclidean(dadosPessoa(people,1),dadosPessoa(people,0)))\n",
    "print(\"B para C:\", distance.euclidean(dadosPessoa(people,1),dadosPessoa(people,2)))"
   ]
  },
  {
   "cell_type": "markdown",
   "metadata": {},
   "source": [
    "No entanto, se medirmos a altura em centímetros, então a pessoa mais parecida com B passa a ser C:"
   ]
  },
  {
   "cell_type": "code",
   "execution_count": 59,
   "metadata": {},
   "outputs": [
    {
     "name": "stdout",
     "output_type": "stream",
     "text": [
      "B para A: 14.284257068535268\n",
      "B para C: 13.370115930686628\n"
     ]
    }
   ],
   "source": [
    "print(\"B para A:\", distance.euclidean(dadosPessoa(people,1,2),dadosPessoa(people,0,2)))\n",
    "print(\"B para C:\", distance.euclidean(dadosPessoa(people,1,2),dadosPessoa(people,2,2)))"
   ]
  },
  {
   "cell_type": "markdown",
   "metadata": {},
   "source": [
    "Obviamente, é problemático se as unidades de medida puderem alterar resultados como este. Por esse motivo, quando as dimensões não são comparáveis entre si, às vezes redimensionamos nossos dados para que cada dimensão tenha média 0 e desvio padrão 1. Isso efetivamente elimina as unidades, convertendo cada dimensão em \"desvios-padrão da média\".\n",
    "\n",
    "Para começar, precisamos calcular a média e o desvio padrão para cada coluna:"
   ]
  },
  {
   "cell_type": "code",
   "execution_count": 60,
   "metadata": {},
   "outputs": [],
   "source": [
    "def scale(data_matrix):\n",
    "    num_rows, num_cols = data_matrix.shape\n",
    "    means = [np.mean(data_matrix[:,j])\n",
    "             for j in range(num_cols)]\n",
    "    stdevs = [np.std(data_matrix[:,j])\n",
    "              for j in range(num_cols)]\n",
    "    return means, stdevs"
   ]
  },
  {
   "cell_type": "markdown",
   "metadata": {},
   "source": [
    "Depois, usamos esse método para criar uma nova matriz de dados:"
   ]
  },
  {
   "cell_type": "code",
   "execution_count": 61,
   "metadata": {},
   "outputs": [],
   "source": [
    "def rescale(data_matrix):\n",
    "    \"\"\"rescales the input data so that each column\n",
    "    has mean 0 and standard deviation 1\n",
    "    ignores columns with no deviation\"\"\"\n",
    "    means, stdevs = scale(data_matrix)\n",
    "\n",
    "\n",
    "    num_rows, num_cols = data_matrix.shape\n",
    "\n",
    "    for i in range(0,num_cols):\n",
    "        if stdevs[i] > 0:\n",
    "            data_matrix[:,i] = (data_matrix[:,i] - means[i]) / stdevs[i]\n",
    "\n",
    "\n",
    "    return data_matrix"
   ]
  },
  {
   "cell_type": "code",
   "execution_count": 62,
   "metadata": {},
   "outputs": [
    {
     "name": "stdout",
     "output_type": "stream",
     "text": [
      "[['A' -1.2787240261820139 -1.2798336846655038 -1.2048492152215322]\n",
      " ['B' 0.11624763874381763 0.11884169929036524 -0.03886610371682469]\n",
      " ['C' 1.1624763874381911 1.1609919853751347 1.2437153189383536]]\n"
     ]
    }
   ],
   "source": [
    "data_people = rescale(people[:,1:4])\n",
    "rescaled_people = people\n",
    "rescaled_people[:,1:4] = data_people\n",
    "print(rescaled_people)"
   ]
  },
  {
   "cell_type": "markdown",
   "metadata": {},
   "source": [
    "Agora podemos verificar que pessoa é de fato a mais próxima de B:"
   ]
  },
  {
   "cell_type": "code",
   "execution_count": 63,
   "metadata": {},
   "outputs": [
    {
     "name": "stdout",
     "output_type": "stream",
     "text": [
      "Usando a coluna 1 (polegadas) redimensionada:\n",
      "B para A: 1.8180931115485106\n",
      "B para C: 1.655176637200627\n",
      "Usando a coluna 2 (centímetros) redimensionada:\n",
      "B para A: 1.8209364200867357\n",
      "B para C: 1.6526016835664752\n"
     ]
    }
   ],
   "source": [
    "print(\"Usando a coluna 1 (polegadas) redimensionada:\")\n",
    "print(\"B para A:\", distance.euclidean(dadosPessoa(rescaled_people,1),dadosPessoa(rescaled_people,0)))\n",
    "print(\"B para C:\", distance.euclidean(dadosPessoa(rescaled_people,1),dadosPessoa(rescaled_people,2)))\n",
    "\n",
    "print(\"Usando a coluna 2 (centímetros) redimensionada:\")\n",
    "print(\"B para A:\", distance.euclidean(dadosPessoa(rescaled_people,1,2),dadosPessoa(rescaled_people,0,2)))\n",
    "print(\"B para C:\", distance.euclidean(dadosPessoa(rescaled_people,1,2),dadosPessoa(rescaled_people,2,2)))"
   ]
  },
  {
   "cell_type": "markdown",
   "metadata": {},
   "source": [
    "Como sempre, você precisa usar seu julgamento. Se você pegasse um enorme conjunto de dados de alturas e pesos e filtrasse as pessoas com alturas entre 69,5 e 70,5 polegadas, é bastante provável (dependendo da pergunta que você está tentando responder) que a variação restante seja bem menor, e você pode não querer colocar seu desvio padrão em pé de igualdade com os desvios de outras dimensões."
   ]
  },
  {
   "cell_type": "markdown",
   "metadata": {},
   "source": [
    "## Redução de dimensionalidade\n",
    "\n",
    "Às vezes, as dimensões \"reais\" (ou úteis) dos dados podem não corresponder às dimensões que temos. Por exemplo, vamos carregar as alturas e os pesos de uma coleção de [jogadores da NBA](https://www.dropbox.com/s/yyxr30xpr6o0hk4/nba_ht_wt.csv?dl=0):"
   ]
  },
  {
   "cell_type": "code",
   "execution_count": 64,
   "metadata": {},
   "outputs": [],
   "source": [
    "parser_people = dict()\n",
    "parser_people['Height'] = parse_float\n",
    "parser_people['Weight'] = parse_float\n",
    "parser_people['Age'] = int #poderiamos usar apenas float para as Height and Weight\n",
    "input_file = csv.DictReader(open(\"./data/nba_ht_wt.csv\"))\n",
    "data = []\n",
    "for row in input_file:\n",
    "    parsed_row = parse_dict(row, parser_people)\n",
    "    data.append(parsed_row)"
   ]
  },
  {
   "cell_type": "code",
   "execution_count": 65,
   "metadata": {},
   "outputs": [
    {
     "data": {
      "text/plain": [
       "{'Age': 29,\n",
       " 'Height': 69.0,\n",
       " 'Player': 'Nate Robinson',\n",
       " 'Pos': 'G',\n",
       " 'Weight': 180.0}"
      ]
     },
     "execution_count": 65,
     "metadata": {},
     "output_type": "execute_result"
    }
   ],
   "source": [
    "data[0]"
   ]
  },
  {
   "cell_type": "markdown",
   "metadata": {},
   "source": [
    "Vamos ver como a relação de peso e altura dos jogadores:"
   ]
  },
  {
   "cell_type": "code",
   "execution_count": 66,
   "metadata": {},
   "outputs": [
    {
     "name": "stdout",
     "output_type": "stream",
     "text": [
      "Nate Robinson 180.0 69.0\n"
     ]
    },
    {
     "data": {
      "image/png": "[encoded data removed]",
      "text/plain": [
       "<matplotlib.figure.Figure at 0x7f87367a62b0>"
      ]
     },
     "metadata": {},
     "output_type": "display_data"
    }
   ],
   "source": [
    "alturas = list(pluck(\"Height\", data))\n",
    "pesos = list(pluck(\"Weight\", data))\n",
    "names = list(pluck(\"Player\", data))\n",
    "\n",
    "print(names[0], pesos[0], alturas[0])\n",
    "\n",
    "fig = plt.figure()\n",
    "plt.scatter(alturas, pesos)\n",
    "plt.title(\"Altura vs. Peso de jogadores da NBA\")\n",
    "plt.xlabel(\"Altura (polegadas)\")\n",
    "plt.ylabel(\"Peso (libras)\")\n",
    "plt.show()\n",
    "\n",
    "if savefigs:\n",
    "    fig.savefig('aula09-pesoaltura-nba.png')"
   ]
  },
  {
   "cell_type": "markdown",
   "metadata": {},
   "source": [
    "A maior parte da variação nos dados parece estar ao longo de uma única dimensão que não corresponde ao eixo x ou ao eixo y.\n",
    "\n",
    "Quando esse é o caso, podemos usar uma técnica chamada análise de componente principal (*principal component analysis*, ou PCA) para extrair uma ou mais dimensões que capturam o máximo possível da variação nos dados.\n",
    "\n",
    "Na prática, você não usaria essa técnica em um conjunto de dados com tão poucas dimensões. A redução de dimensionalidade é mais útil quando seu conjunto de dados tem um grande número de dimensões e você deseja encontrar um pequeno subconjunto que capture a maior parte da variação. \n",
    "\n",
    "Como primeiro passo, precisamos traduzir os dados para que cada dimensão tenha média zero:"
   ]
  },
  {
   "cell_type": "code",
   "execution_count": 67,
   "metadata": {},
   "outputs": [],
   "source": [
    "def de_mean_matrix(A):\n",
    "    \"\"\"returns the result of subtracting from every value in A the mean\n",
    "    value of its column. the resulting matrix has mean 0 in every column\"\"\"\n",
    "    num_rows, num_cols = A.shape\n",
    "    dA = np.zeros(A.shape)\n",
    "    for i in range(0,num_cols):\n",
    "        dA[:,i] = A[:,i] - np.mean(A[:,i])\n",
    "    return dA"
   ]
  },
  {
   "cell_type": "code",
   "execution_count": 68,
   "metadata": {},
   "outputs": [
    {
     "name": "stdout",
     "output_type": "stream",
     "text": [
      "antes:  [ 69. 180.]\n",
      "depois:  [-10.06534653 -40.67326733]\n"
     ]
    }
   ],
   "source": [
    "data_matrix = np.transpose(np.stack((alturas, pesos)))\n",
    "d_data_matrix = de_mean_matrix(data_matrix)\n",
    "\n",
    "print(\"antes: \", data_matrix[0])\n",
    "print(\"depois: \", d_data_matrix[0])"
   ]
  },
  {
   "cell_type": "markdown",
   "metadata": {},
   "source": [
    "Se não fizermos isso, nossas técnicas provavelmente identificarão a média em si e não a variação nos dados. A partir de agora chamaremos de matriz *de-meaned* uma matriz que teve as suas colunas subtraídas de suas médias.\n",
    "\n",
    "Abaixo vemos os dados do exemplo após o subtrair a média:"
   ]
  },
  {
   "cell_type": "code",
   "execution_count": 69,
   "metadata": {},
   "outputs": [
    {
     "data": {
      "image/png": "[encoded data removed]",
      "text/plain": [
       "<matplotlib.figure.Figure at 0x7f87367effd0>"
      ]
     },
     "metadata": {},
     "output_type": "display_data"
    }
   ],
   "source": [
    "fig = plt.figure()\n",
    "plt.scatter(d_data_matrix[:,0], d_data_matrix[:,1])\n",
    "plt.title(\"Altura vs. Peso depois de subtrair a média\")\n",
    "plt.xlabel(\"Altura (polegadas) - média\")\n",
    "plt.ylabel(\"Peso (libras) - média\")\n",
    "plt.show()\n",
    "if savefigs:\n",
    "    fig.savefig('aula09-demeaned-nba.png')"
   ]
  },
  {
   "cell_type": "markdown",
   "metadata": {},
   "source": [
    "Agora, dada uma matriz *de-meaned* X, podemos perguntar qual é a direção que captura a maior variação nos dados.\n",
    "\n",
    "Especificamente, dada uma direção $d$ (um vetor de magnitude $1$), cada linha $x$ na matriz estende `dot(x, d)` na direção $d$. E cada vetor não-zero $w$ determina uma direção se o reescalonarmos para ter magnitude $1$:"
   ]
  },
  {
   "cell_type": "code",
   "execution_count": 70,
   "metadata": {},
   "outputs": [],
   "source": [
    "def direction(w):\n",
    "    mag = np.linalg.norm(w)\n",
    "    return [w_i / mag for w_i in w]"
   ]
  },
  {
   "cell_type": "markdown",
   "metadata": {},
   "source": [
    "Portanto, dado um vetor diferente de zero $w$, podemos calcular a variância de nosso conjunto de dados na direção determinada por $w$:"
   ]
  },
  {
   "cell_type": "code",
   "execution_count": 71,
   "metadata": {},
   "outputs": [],
   "source": [
    "def directional_variance_i(x_i, w):\n",
    "    \"\"\"the variance of the row x_i in the direction w\"\"\"\n",
    "    return np.dot(x_i, direction(w)) ** 2\n",
    "\n",
    "def directional_variance(X, w):\n",
    "    \"\"\"the variance of the data in the direction w\"\"\"\n",
    "    return sum(directional_variance_i(x_i, w) for x_i in X)"
   ]
  },
  {
   "cell_type": "markdown",
   "metadata": {},
   "source": [
    "Ou, para cada linha $\\mathbf{x_i} = \\{\\mathbf{x_1}, \\cdots, \\mathbf{x_n}\\}$ dos nossos dados de dimensão $m$:\n",
    "\n",
    "$\\mathcal{V} = \\sum_i^n{(\\mathbf{x_i} \\cdot \\mathbf{w})^2 } = \\sum_i^n{(x_{i1}\\times w_1 + \\cdots + x_{im}\\times w_m)^2 }$"
   ]
  },
  {
   "cell_type": "markdown",
   "metadata": {},
   "source": [
    "Gostaríamos de encontrar a direção $w$ que maximiza essa variação. Então, dado um $w_0$ inicial, para onde devemos mover $w_0$ para que a variação aumente? Podemos fazer isso usando gradiente descendente, assim que tivermos a função gradiente, que calcula onde a variância aumenta mais para cada uma das $m$ dimensões:\n",
    "\n",
    "$\\nabla \\mathcal{V} = \\sum_i^n{[2(\\mathbf{x_i} \\cdot \\mathbf{w})x_{i1}~\\mathbf{e_{w_1}} + \\cdots + 2(\\mathbf{x_i} \\cdot \\mathbf{w})x_{im}~\\mathbf{e_{w_m}}]}$"
   ]
  },
  {
   "cell_type": "code",
   "execution_count": 72,
   "metadata": {},
   "outputs": [],
   "source": [
    "def directional_variance_gradient_i(x_i, w):\n",
    "    \"\"\"the contribution of row x_i to the gradient of\n",
    "    the direction-w variance\"\"\"\n",
    "    projection_length = np.dot(x_i, direction(w))\n",
    "    return [2 * projection_length * x_ij for x_ij in x_i]\n",
    "\n",
    "def directional_variance_gradient(X, w):\n",
    "    ncols = len(w)\n",
    "    g = np.array([directional_variance_gradient_i(x_i,w) for x_i in X])\n",
    "    s = [sum(g[:,i]) for i in range(ncols)]\n",
    "    return s\n",
    "    #return vector_sum(directional_variance_gradient_i(x_i,w) for x_i in X)"
   ]
  },
  {
   "cell_type": "markdown",
   "metadata": {},
   "source": [
    "O primeiro componente principal é apenas a direção que maximiza a função `directional_variance`:"
   ]
  },
  {
   "cell_type": "code",
   "execution_count": 73,
   "metadata": {},
   "outputs": [],
   "source": [
    "def first_principal_component(X):\n",
    "    guess = [1 for _ in X[0]]\n",
    "    unscaled_maximizer = maximize_batch(\n",
    "        partial(directional_variance, X),          \n",
    "        partial(directional_variance_gradient, X), \n",
    "        guess)\n",
    "    return direction(unscaled_maximizer)"
   ]
  },
  {
   "cell_type": "markdown",
   "metadata": {},
   "source": [
    "Ou você pode também usar o método *gradiente descendente estocástico*:"
   ]
  },
  {
   "cell_type": "code",
   "execution_count": 74,
   "metadata": {},
   "outputs": [],
   "source": [
    "def first_principal_component_sgd(X):\n",
    "    guess = [1 for _ in X[0]]\n",
    "    unscaled_maximizer = maximize_stochastic(\n",
    "        lambda x, _, w: directional_variance_i(x, w),\n",
    "        lambda x, _, w: directional_variance_gradient_i(x, w),\n",
    "        X, [None for _ in X], guess)\n",
    "    return direction(unscaled_maximizer)"
   ]
  },
  {
   "cell_type": "markdown",
   "metadata": {},
   "source": [
    "Observe abaixo que a direção $w$ que maximiza a variância nesse caso é o vetor `[0.106, 0.994]`, que parece capturar o eixo principal no qual nossos dados variam:"
   ]
  },
  {
   "cell_type": "code",
   "execution_count": 75,
   "metadata": {
    "scrolled": false
   },
   "outputs": [
    {
     "name": "stdout",
     "output_type": "stream",
     "text": [
      "componente principal:  [0.10637174426832573, 0.994326431319873]\n"
     ]
    },
    {
     "data": {
      "image/png": "[encoded data removed]",
      "text/plain": [
       "<matplotlib.figure.Figure at 0x7f8736764908>"
      ]
     },
     "metadata": {},
     "output_type": "display_data"
    }
   ],
   "source": [
    "PC1 = first_principal_component_sgd(d_data_matrix)\n",
    "print(\"componente principal: \", PC1)\n",
    "\n",
    "fig = plt.figure()\n",
    "ax = plt.axes()\n",
    "plt.scatter(d_data_matrix[:,0], d_data_matrix[:,1])\n",
    "plt.title(\"Primeiro componente principal\")\n",
    "plt.xlabel(\"Altura (polegadas) - média\")\n",
    "plt.ylabel(\"Peso (libras) - média\")\n",
    "\n",
    "\n",
    "\n",
    "ax.arrow(0, 0, *np.dot(PC1,20), head_width=1, head_length=2, color='r')\n",
    "\n",
    "plt.show()\n",
    "if savefigs:\n",
    "    fig.savefig('aula09-demeaned-nba2.png')"
   ]
  },
  {
   "cell_type": "markdown",
   "metadata": {},
   "source": [
    "Uma vez que encontramos a direção que representa o primeiro componente principal, a gente pode projetá-la nos nossos dados para encontrar os valores dos mesmos nesse componente:"
   ]
  },
  {
   "cell_type": "code",
   "execution_count": 76,
   "metadata": {},
   "outputs": [],
   "source": [
    "def project(v, w):\n",
    "    \"\"\"return the projection of v onto w\"\"\"\n",
    "    coefficient = np.dot(v, w)\n",
    "    return np.dot(coefficient, w)"
   ]
  },
  {
   "cell_type": "markdown",
   "metadata": {},
   "source": [
    "Se quisermos encontrar outros componentes, primeiro teremos que remover as projeções dos dados:"
   ]
  },
  {
   "cell_type": "code",
   "execution_count": 77,
   "metadata": {},
   "outputs": [],
   "source": [
    "def remove_projection_from_vector(v, w):\n",
    "    \"\"\"projects v onto w and subtracts the result from v\"\"\"\n",
    "    return v - project(v, w)\n",
    "\n",
    "def remove_projection(X, w):\n",
    "    \"\"\"for each row of X\n",
    "    projects the row onto w, and subtracts the result from the row\"\"\"\n",
    "    return [remove_projection_from_vector(x_i, w) for x_i in X]"
   ]
  },
  {
   "cell_type": "markdown",
   "metadata": {},
   "source": [
    "Como neste exemplo o conjunto de dados é apenas bidimensional, depois de removermos o primeiro componente, o que resta será efetivamente unidimensional: "
   ]
  },
  {
   "cell_type": "code",
   "execution_count": 78,
   "metadata": {
    "scrolled": false
   },
   "outputs": [
    {
     "data": {
      "image/png": "[encoded data removed]",
      "text/plain": [
       "<matplotlib.figure.Figure at 0x7f873680e470>"
      ]
     },
     "metadata": {},
     "output_type": "display_data"
    }
   ],
   "source": [
    "new_data_matrix = np.array(remove_projection(d_data_matrix, PC1))\n",
    "\n",
    "fig = plt.figure()\n",
    "ax = plt.axes()\n",
    "plt.scatter(new_data_matrix[:,0], new_data_matrix[:,1])\n",
    "plt.title(\"Os dados depois de removermos o primeiro componente principal\")\n",
    "ax.arrow(0, 0, *np.dot(PC1,3), head_width=0.2, head_length=0.5, color='r')\n",
    "plt.axis(\"equal\")\n",
    "plt.show()\n",
    "if savefigs:\n",
    "    fig.savefig('aula09-pca-nba1.png', dpi=150)"
   ]
  },
  {
   "cell_type": "markdown",
   "metadata": {},
   "source": [
    "**Observação importante:** usamos o comando `plt.axis(\"equal\")` para fazer com que o espaçamento seja idêntico entre as unidades de ambos os eixos. Apenas assim conseguimos visualizar que o primeiro componente principal, representado pela seta vermelha, é ortogonal ao restante dos dados. Isso faz sentido, uma vez que \"removemos\" essa dimensão dos dados restantes.\n",
    "\n",
    "Nesse ponto, podemos encontrar o próximo componente principal repetindo o processo no resultado de `remove_projection`. Melhor que isso, pode generalizar o processo para um conjunto de dados dimensionais maiores, encontrando iterativamente quantos componentes desejarmos:"
   ]
  },
  {
   "cell_type": "code",
   "execution_count": 79,
   "metadata": {},
   "outputs": [],
   "source": [
    "def principal_component_analysis(X, num_components):\n",
    "    components = []\n",
    "    for _ in range(num_components):\n",
    "        component = first_principal_component(X)\n",
    "        print(component)\n",
    "        components.append(component)\n",
    "        X = remove_projection(X, component)\n",
    "\n",
    "    return components"
   ]
  },
  {
   "cell_type": "code",
   "execution_count": 80,
   "metadata": {},
   "outputs": [
    {
     "name": "stdout",
     "output_type": "stream",
     "text": [
      "[0.10638838789195039, 0.9943246506658436]\n",
      "[0.9943251311947879, -0.10638389668774145]\n"
     ]
    }
   ],
   "source": [
    "PCS = principal_component_analysis(d_data_matrix, 2)"
   ]
  },
  {
   "cell_type": "code",
   "execution_count": 81,
   "metadata": {
    "scrolled": false
   },
   "outputs": [
    {
     "data": {
      "image/png": "[encoded data removed]",
      "text/plain": [
       "<matplotlib.figure.Figure at 0x7f87366d2d30>"
      ]
     },
     "metadata": {},
     "output_type": "display_data"
    }
   ],
   "source": [
    "fig = plt.figure()\n",
    "ax = plt.axes()\n",
    "plt.scatter(d_data_matrix[:,0], d_data_matrix[:,1])\n",
    "plt.title(\"Componentes Principais\")\n",
    "plt.xlabel(\"Altura (polegadas) - média\")\n",
    "plt.ylabel(\"Peso (libras) - média\")\n",
    "\n",
    "ax.arrow(0, 0, *np.dot(PCS[0],20), head_width=1, head_length=2, color='r')\n",
    "ax.arrow(0, 0, *np.dot(PCS[1],2), head_width=4, head_length=0.5, color='r')\n",
    "#plt.axis('equal') #rode novamente com essa linha\n",
    "\n",
    "plt.show()\n",
    "if savefigs:\n",
    "    fig.savefig('aula09-pca-nba2.png', dpi=150)"
   ]
  },
  {
   "cell_type": "markdown",
   "metadata": {},
   "source": [
    "Essa técnica é valiosa por alguns motivos. Primeiro, pode nos ajudar a limpar nossos dados, eliminando as dimensões de ruído e consolidando as dimensões altamente correlacionadas.\n",
    "\n",
    "Em segundo lugar, depois de extrair uma representação de baixa dimensão de nossos dados, podemos usar uma variedade de técnicas que não funcionam tão bem em dados de alta dimensão. Vamos ver exemplos de tais técnicas ao longo do curso.\n",
    "\n",
    "Ao mesmo tempo, embora possa ajudar a construir modelos melhores, também pode tornar esses modelos mais difíceis de interpretar. É fácil entender conclusões como \"cada ano a mais de experiência adiciona uma média de US\\\\$ 10 mil em salário\". É muito mais difícil entender que \"cada aumento de 0,1 no terceiro componente principal adiciona uma média de US\\\\$ 10 mil em salário\"."
   ]
  },
  {
   "cell_type": "markdown",
   "metadata": {},
   "source": [
    "## Para explorar\n",
    "\n",
    "* Como mencionamos ao longo deste curso, `pandas` é provavelmente a ferramenta Python primária para limpeza, munging, manipulação e processamento de dados. Todos os exemplos que fizemos com a mão nesta aula poderia ser feito de forma muito mais simples com `pandas`.\n",
    "\n",
    "* O `scikit-learn` possui uma ampla variedade de funções de decomposição de matriz, incluindo PCA."
   ]
  },
  {
   "cell_type": "markdown",
   "metadata": {},
   "source": [
    "## Exercício 1\n",
    "\n",
    "O método PCA que implementamos apenas nos diz, de forma iterativa, quais são as direções que maximizam a variação dos dados. Outro atributo importante do PCA é que, para cada dimensão, é possível saber o quanto que ela explica da variação (e.g. 80% da variação). Crie uma função `pct_variance_explained` que recebe a matriz de dados e os seus respectivos componentes principais e retorna um vetor contendo a porcentagem da variância expliacada por cada componente."
   ]
  },
  {
   "cell_type": "code",
   "execution_count": 82,
   "metadata": {},
   "outputs": [],
   "source": [
    "def pct_variance_explained(X, PCS):\n",
    "    var_explained = []\n",
    "    for w in PCS:\n",
    "        var_explained.append(directional_variance(X, w))\n",
    "        X = remove_projection(X, w)\n",
    "    return var_explained/sum(var_explained)"
   ]
  },
  {
   "cell_type": "code",
   "execution_count": 84,
   "metadata": {},
   "outputs": [
    {
     "data": {
      "image/png": "[encoded data removed]",
      "text/plain": [
       "<matplotlib.figure.Figure at 0x7f8736c89f98>"
      ]
     },
     "metadata": {},
     "output_type": "display_data"
    }
   ],
   "source": [
    "var_explained = pct_variance_explained(d_data_matrix, PCS)\n",
    "var1=np.cumsum(np.round(var_explained, decimals=4)*100)\n",
    "\n",
    "plt.title(\"% da variância explicada\")\n",
    "plt.xlabel(\"Componente Principal\")\n",
    "plt.ylabel(\"% explicado acumulado\")\n",
    "plt.plot(np.arange(1,len(PCS)+1), var1)\n",
    "plt.xticks(np.arange(1,len(PCS)+1))\n",
    "plt.show()"
   ]
  },
  {
   "cell_type": "markdown",
   "metadata": {},
   "source": [
    "## Exercício 2\n",
    "\n",
    "Desenhe o gráfico de dispersão em que todos os pontos estão projetados nos dois primeiros componentes principais gerados pelo PCA."
   ]
  },
  {
   "cell_type": "code",
   "execution_count": 85,
   "metadata": {},
   "outputs": [],
   "source": [
    "data_proj = np.zeros(d_data_matrix.shape)\n",
    "ndim = len(PCS[0])\n",
    "for i in range(0,len(d_data_matrix)):\n",
    "    for j in range(0,ndim):\n",
    "        data_proj[i][j] = np.dot(d_data_matrix[i],PCS[j])"
   ]
  },
  {
   "cell_type": "code",
   "execution_count": 86,
   "metadata": {
    "scrolled": false
   },
   "outputs": [
    {
     "data": {
      "image/png": "[encoded data removed]",
      "text/plain": [
       "<matplotlib.figure.Figure at 0x7f87366c8438>"
      ]
     },
     "metadata": {},
     "output_type": "display_data"
    }
   ],
   "source": [
    "plt.scatter(data_proj[:,0], data_proj[:,1])\n",
    "plt.xlabel('PC1')\n",
    "plt.ylabel('PC2')\n",
    "plt.title('Cartesian coordinate PCA')\n",
    "plt.show()"
   ]
  },
  {
   "cell_type": "markdown",
   "metadata": {},
   "source": [
    "## Verificando com o sklearn:"
   ]
  },
  {
   "cell_type": "code",
   "execution_count": 87,
   "metadata": {},
   "outputs": [
    {
     "name": "stdout",
     "output_type": "stream",
     "text": [
      "[0.99466539 0.00533461]\n"
     ]
    },
    {
     "data": {
      "image/png": "[encoded data removed]",
      "text/plain": [
       "<matplotlib.figure.Figure at 0x7f87368d36d8>"
      ]
     },
     "metadata": {},
     "output_type": "display_data"
    }
   ],
   "source": [
    "from sklearn.decomposition import PCA\n",
    "\n",
    "var_explained = []\n",
    "X = d_data_matrix\n",
    "\n",
    "pca = PCA()\n",
    "pca.fit(X)\n",
    "\n",
    "var1=np.cumsum(np.round(pca.explained_variance_ratio_, decimals=4)*100)\n",
    "\n",
    "print(pca.explained_variance_ratio_)\n",
    "\n",
    "plt.title(\"% da variância explicada\")\n",
    "plt.xlabel(\"Componente Principal\")\n",
    "plt.ylabel(\"% explicado acumulado\")\n",
    "plt.plot(np.arange(1,len(X[0])+1), var1)\n",
    "plt.xticks(np.arange(1,len(X[0])+1))\n",
    "plt.show()\n",
    "\n",
    "\n",
    "for w in PCS:\n",
    "    var_explained.append(directional_variance(X, w))\n",
    "    X = remove_projection(X, w)\n",
    "var_explained = var_explained/sum(var_explained)"
   ]
  },
  {
   "cell_type": "code",
   "execution_count": null,
   "metadata": {},
   "outputs": [],
   "source": []
  },
  {
   "cell_type": "code",
   "execution_count": null,
   "metadata": {},
   "outputs": [],
   "source": []
  }
 ],
 "metadata": {
  "kernelspec": {
   "display_name": "Python 3",
   "language": "python",
   "name": "python3"
  },
  "language_info": {
   "codemirror_mode": {
    "name": "ipython",
    "version": 3
   },
   "file_extension": ".py",
   "mimetype": "text/x-python",
   "name": "python",
   "nbconvert_exporter": "python",
   "pygments_lexer": "ipython3",
   "version": "3.6.4"
  }
 },
 "nbformat": 4,
 "nbformat_minor": 2
}
