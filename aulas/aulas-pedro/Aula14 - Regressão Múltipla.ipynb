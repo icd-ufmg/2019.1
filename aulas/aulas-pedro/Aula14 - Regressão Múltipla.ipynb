{
 "cells": [
  {
   "cell_type": "code",
   "execution_count": 1,
   "metadata": {},
   "outputs": [],
   "source": [
    "from collections import Counter\n",
    "from functools import partial\n",
    "from modules.gradient_descent import minimize_stochastic\n",
    "from modules.simple_linear_regression import total_sum_of_squares\n",
    "import math, random\n",
    "import pandas as pd\n",
    "import numpy as np\n",
    "from matplotlib import pyplot as plt\n",
    "from scipy.stats import t\n",
    "from scipy.stats import norm"
   ]
  },
  {
   "cell_type": "markdown",
   "metadata": {},
   "source": [
    "# Regressão Múltipla\n",
    "\n",
    "Embora a diretora da empresa esteja bastante impressionada com seu modelo preditivo, ela acha que você pode fazer melhor. Para isso, você coletou dados adicionais: para cada um dos seus usuários, você sabe quantas horas ele trabalha todos os dias e se ele tem um PhD. Você gostaria de usar esses dados adicionais para melhorar seu modelo.\n",
    "\n",
    "Assim, você hipotetiza um modelo linear com mais variáveis independentes:\n",
    "\n",
    "minutos = $\\alpha + \\beta_1$ friends + $\\beta_2$ horas de trabalho + $\\beta_3$ phd + $\\epsilon$\n",
    "\n",
    "Obviamente, se um usuário tem um PhD não é um número, mas - como mencionamos na Aula 10 - podemos introduzir uma variável dummy que é igual a 1 para usuários com PhDs e 0 para usuários sem. Depois disso, a variável é tão numérica quanto as outras.\n",
    "\n",
    "# O modelo\n",
    "\n",
    "Lembre-se de que, na Aula 13, ajustamos um modelo da seguinte forma:\n",
    "\n",
    "$$y_i = \\alpha + \\beta x_i + \\epsilon_i$$\n",
    "\n",
    "Agora imagine que cada entrada $x_i$ não é um simples número, mas um vetor de $k$ números $x_{i1}, \\cdots, x_{ik}$. O modelo de regressão múltipla assume que:\n",
    "\n",
    "$$y_i = \\alpha + \\beta_{i1} x_{i1} + \\cdots + \\beta_{ik} x_{ik} + \\epsilon_i$$\n",
    "\n",
    "Na regressão múltipla, o vetor de parâmetros é geralmente chamado de $\\beta$. Também queremos que isso inclua o termo constante, o que podemos conseguir adicionando uma coluna de dados aos nossos dados:\n",
    "\n",
    "`beta = [alpha, beta_1, ..., beta_k]`\n",
    "\n",
    "e:\n",
    "\n",
    "`x_i = [1, x_i1, ..., x_ik]`\n",
    "\n",
    "Então, o nosso modelo é simplesmente:"
   ]
  },
  {
   "cell_type": "code",
   "execution_count": 2,
   "metadata": {},
   "outputs": [],
   "source": [
    "def predict(x_i, beta):\n",
    "\n",
    "    \"\"\"assumes that the first element of each x_i is 1\"\"\"\n",
    "    return np.dot(x_i, beta)"
   ]
  },
  {
   "cell_type": "markdown",
   "metadata": {},
   "source": [
    "Nesse caso particular, nossa variável independente $x$ será uma lista de vetores, cada qual se parecendo com:\n",
    "\n",
    "```\n",
    "[1,  # constant term\n",
    " 49, # number of friends\n",
    " 4,  # work hours per day\n",
    " 0]  # doesn't have PhD\n",
    "```\n",
    "\n",
    "Esses dados estão convenientemente salvos [aqui](https://www.dropbox.com/s/ixa4gtd0592jd24/multiple_dailyminutes.csv?dl=0)."
   ]
  },
  {
   "cell_type": "code",
   "execution_count": 3,
   "metadata": {
    "scrolled": true
   },
   "outputs": [
    {
     "data": {
      "text/html": [
       "<div>\n",
       "<style scoped>\n",
       "    .dataframe tbody tr th:only-of-type {\n",
       "        vertical-align: middle;\n",
       "    }\n",
       "\n",
       "    .dataframe tbody tr th {\n",
       "        vertical-align: top;\n",
       "    }\n",
       "\n",
       "    .dataframe thead th {\n",
       "        text-align: right;\n",
       "    }\n",
       "</style>\n",
       "<table border=\"1\" class=\"dataframe\">\n",
       "  <thead>\n",
       "    <tr style=\"text-align: right;\">\n",
       "      <th></th>\n",
       "      <th>constant_term</th>\n",
       "      <th>daily_minutes</th>\n",
       "      <th>num_friends</th>\n",
       "      <th>phd</th>\n",
       "      <th>work_hours</th>\n",
       "    </tr>\n",
       "  </thead>\n",
       "  <tbody>\n",
       "    <tr>\n",
       "      <th>0</th>\n",
       "      <td>1</td>\n",
       "      <td>68.77</td>\n",
       "      <td>49</td>\n",
       "      <td>0</td>\n",
       "      <td>4</td>\n",
       "    </tr>\n",
       "    <tr>\n",
       "      <th>1</th>\n",
       "      <td>1</td>\n",
       "      <td>51.25</td>\n",
       "      <td>41</td>\n",
       "      <td>0</td>\n",
       "      <td>9</td>\n",
       "    </tr>\n",
       "    <tr>\n",
       "      <th>2</th>\n",
       "      <td>1</td>\n",
       "      <td>52.08</td>\n",
       "      <td>40</td>\n",
       "      <td>0</td>\n",
       "      <td>8</td>\n",
       "    </tr>\n",
       "    <tr>\n",
       "      <th>3</th>\n",
       "      <td>1</td>\n",
       "      <td>38.36</td>\n",
       "      <td>25</td>\n",
       "      <td>0</td>\n",
       "      <td>6</td>\n",
       "    </tr>\n",
       "    <tr>\n",
       "      <th>4</th>\n",
       "      <td>1</td>\n",
       "      <td>44.54</td>\n",
       "      <td>21</td>\n",
       "      <td>0</td>\n",
       "      <td>1</td>\n",
       "    </tr>\n",
       "    <tr>\n",
       "      <th>5</th>\n",
       "      <td>1</td>\n",
       "      <td>57.13</td>\n",
       "      <td>21</td>\n",
       "      <td>0</td>\n",
       "      <td>0</td>\n",
       "    </tr>\n",
       "    <tr>\n",
       "      <th>6</th>\n",
       "      <td>1</td>\n",
       "      <td>51.40</td>\n",
       "      <td>19</td>\n",
       "      <td>0</td>\n",
       "      <td>3</td>\n",
       "    </tr>\n",
       "    <tr>\n",
       "      <th>7</th>\n",
       "      <td>1</td>\n",
       "      <td>41.42</td>\n",
       "      <td>19</td>\n",
       "      <td>0</td>\n",
       "      <td>0</td>\n",
       "    </tr>\n",
       "    <tr>\n",
       "      <th>8</th>\n",
       "      <td>1</td>\n",
       "      <td>31.22</td>\n",
       "      <td>18</td>\n",
       "      <td>0</td>\n",
       "      <td>9</td>\n",
       "    </tr>\n",
       "    <tr>\n",
       "      <th>9</th>\n",
       "      <td>1</td>\n",
       "      <td>34.76</td>\n",
       "      <td>18</td>\n",
       "      <td>0</td>\n",
       "      <td>8</td>\n",
       "    </tr>\n",
       "    <tr>\n",
       "      <th>10</th>\n",
       "      <td>1</td>\n",
       "      <td>54.01</td>\n",
       "      <td>16</td>\n",
       "      <td>0</td>\n",
       "      <td>4</td>\n",
       "    </tr>\n",
       "    <tr>\n",
       "      <th>11</th>\n",
       "      <td>1</td>\n",
       "      <td>38.79</td>\n",
       "      <td>15</td>\n",
       "      <td>0</td>\n",
       "      <td>3</td>\n",
       "    </tr>\n",
       "    <tr>\n",
       "      <th>12</th>\n",
       "      <td>1</td>\n",
       "      <td>47.59</td>\n",
       "      <td>15</td>\n",
       "      <td>0</td>\n",
       "      <td>0</td>\n",
       "    </tr>\n",
       "    <tr>\n",
       "      <th>13</th>\n",
       "      <td>1</td>\n",
       "      <td>49.10</td>\n",
       "      <td>15</td>\n",
       "      <td>0</td>\n",
       "      <td>2</td>\n",
       "    </tr>\n",
       "    <tr>\n",
       "      <th>14</th>\n",
       "      <td>1</td>\n",
       "      <td>27.66</td>\n",
       "      <td>15</td>\n",
       "      <td>0</td>\n",
       "      <td>7</td>\n",
       "    </tr>\n",
       "    <tr>\n",
       "      <th>15</th>\n",
       "      <td>1</td>\n",
       "      <td>41.03</td>\n",
       "      <td>14</td>\n",
       "      <td>0</td>\n",
       "      <td>0</td>\n",
       "    </tr>\n",
       "    <tr>\n",
       "      <th>16</th>\n",
       "      <td>1</td>\n",
       "      <td>36.73</td>\n",
       "      <td>14</td>\n",
       "      <td>0</td>\n",
       "      <td>1</td>\n",
       "    </tr>\n",
       "    <tr>\n",
       "      <th>17</th>\n",
       "      <td>1</td>\n",
       "      <td>48.65</td>\n",
       "      <td>13</td>\n",
       "      <td>0</td>\n",
       "      <td>1</td>\n",
       "    </tr>\n",
       "    <tr>\n",
       "      <th>18</th>\n",
       "      <td>1</td>\n",
       "      <td>28.12</td>\n",
       "      <td>13</td>\n",
       "      <td>0</td>\n",
       "      <td>7</td>\n",
       "    </tr>\n",
       "    <tr>\n",
       "      <th>19</th>\n",
       "      <td>1</td>\n",
       "      <td>46.62</td>\n",
       "      <td>13</td>\n",
       "      <td>0</td>\n",
       "      <td>4</td>\n",
       "    </tr>\n",
       "    <tr>\n",
       "      <th>20</th>\n",
       "      <td>1</td>\n",
       "      <td>35.57</td>\n",
       "      <td>13</td>\n",
       "      <td>0</td>\n",
       "      <td>2</td>\n",
       "    </tr>\n",
       "    <tr>\n",
       "      <th>21</th>\n",
       "      <td>1</td>\n",
       "      <td>32.98</td>\n",
       "      <td>12</td>\n",
       "      <td>0</td>\n",
       "      <td>5</td>\n",
       "    </tr>\n",
       "    <tr>\n",
       "      <th>22</th>\n",
       "      <td>1</td>\n",
       "      <td>35.00</td>\n",
       "      <td>12</td>\n",
       "      <td>0</td>\n",
       "      <td>0</td>\n",
       "    </tr>\n",
       "    <tr>\n",
       "      <th>23</th>\n",
       "      <td>1</td>\n",
       "      <td>26.07</td>\n",
       "      <td>11</td>\n",
       "      <td>0</td>\n",
       "      <td>9</td>\n",
       "    </tr>\n",
       "    <tr>\n",
       "      <th>24</th>\n",
       "      <td>1</td>\n",
       "      <td>23.77</td>\n",
       "      <td>10</td>\n",
       "      <td>0</td>\n",
       "      <td>9</td>\n",
       "    </tr>\n",
       "    <tr>\n",
       "      <th>25</th>\n",
       "      <td>1</td>\n",
       "      <td>39.73</td>\n",
       "      <td>10</td>\n",
       "      <td>0</td>\n",
       "      <td>1</td>\n",
       "    </tr>\n",
       "    <tr>\n",
       "      <th>26</th>\n",
       "      <td>1</td>\n",
       "      <td>40.57</td>\n",
       "      <td>10</td>\n",
       "      <td>0</td>\n",
       "      <td>1</td>\n",
       "    </tr>\n",
       "    <tr>\n",
       "      <th>27</th>\n",
       "      <td>1</td>\n",
       "      <td>31.65</td>\n",
       "      <td>10</td>\n",
       "      <td>0</td>\n",
       "      <td>7</td>\n",
       "    </tr>\n",
       "    <tr>\n",
       "      <th>28</th>\n",
       "      <td>1</td>\n",
       "      <td>31.21</td>\n",
       "      <td>10</td>\n",
       "      <td>0</td>\n",
       "      <td>9</td>\n",
       "    </tr>\n",
       "    <tr>\n",
       "      <th>29</th>\n",
       "      <td>1</td>\n",
       "      <td>36.32</td>\n",
       "      <td>10</td>\n",
       "      <td>0</td>\n",
       "      <td>1</td>\n",
       "    </tr>\n",
       "    <tr>\n",
       "      <th>...</th>\n",
       "      <td>...</td>\n",
       "      <td>...</td>\n",
       "      <td>...</td>\n",
       "      <td>...</td>\n",
       "      <td>...</td>\n",
       "    </tr>\n",
       "    <tr>\n",
       "      <th>173</th>\n",
       "      <td>1</td>\n",
       "      <td>19.92</td>\n",
       "      <td>2</td>\n",
       "      <td>1</td>\n",
       "      <td>5</td>\n",
       "    </tr>\n",
       "    <tr>\n",
       "      <th>174</th>\n",
       "      <td>1</td>\n",
       "      <td>31.02</td>\n",
       "      <td>2</td>\n",
       "      <td>1</td>\n",
       "      <td>0</td>\n",
       "    </tr>\n",
       "    <tr>\n",
       "      <th>175</th>\n",
       "      <td>1</td>\n",
       "      <td>16.49</td>\n",
       "      <td>2</td>\n",
       "      <td>1</td>\n",
       "      <td>9</td>\n",
       "    </tr>\n",
       "    <tr>\n",
       "      <th>176</th>\n",
       "      <td>1</td>\n",
       "      <td>12.16</td>\n",
       "      <td>2</td>\n",
       "      <td>1</td>\n",
       "      <td>9</td>\n",
       "    </tr>\n",
       "    <tr>\n",
       "      <th>177</th>\n",
       "      <td>1</td>\n",
       "      <td>30.70</td>\n",
       "      <td>2</td>\n",
       "      <td>1</td>\n",
       "      <td>0</td>\n",
       "    </tr>\n",
       "    <tr>\n",
       "      <th>178</th>\n",
       "      <td>1</td>\n",
       "      <td>31.22</td>\n",
       "      <td>2</td>\n",
       "      <td>1</td>\n",
       "      <td>1</td>\n",
       "    </tr>\n",
       "    <tr>\n",
       "      <th>179</th>\n",
       "      <td>1</td>\n",
       "      <td>34.65</td>\n",
       "      <td>2</td>\n",
       "      <td>1</td>\n",
       "      <td>1</td>\n",
       "    </tr>\n",
       "    <tr>\n",
       "      <th>180</th>\n",
       "      <td>1</td>\n",
       "      <td>13.13</td>\n",
       "      <td>2</td>\n",
       "      <td>1</td>\n",
       "      <td>4</td>\n",
       "    </tr>\n",
       "    <tr>\n",
       "      <th>181</th>\n",
       "      <td>1</td>\n",
       "      <td>27.51</td>\n",
       "      <td>1</td>\n",
       "      <td>1</td>\n",
       "      <td>0</td>\n",
       "    </tr>\n",
       "    <tr>\n",
       "      <th>182</th>\n",
       "      <td>1</td>\n",
       "      <td>33.20</td>\n",
       "      <td>1</td>\n",
       "      <td>1</td>\n",
       "      <td>2</td>\n",
       "    </tr>\n",
       "    <tr>\n",
       "      <th>183</th>\n",
       "      <td>1</td>\n",
       "      <td>31.57</td>\n",
       "      <td>1</td>\n",
       "      <td>1</td>\n",
       "      <td>2</td>\n",
       "    </tr>\n",
       "    <tr>\n",
       "      <th>184</th>\n",
       "      <td>1</td>\n",
       "      <td>14.10</td>\n",
       "      <td>1</td>\n",
       "      <td>1</td>\n",
       "      <td>5</td>\n",
       "    </tr>\n",
       "    <tr>\n",
       "      <th>185</th>\n",
       "      <td>1</td>\n",
       "      <td>33.42</td>\n",
       "      <td>1</td>\n",
       "      <td>1</td>\n",
       "      <td>3</td>\n",
       "    </tr>\n",
       "    <tr>\n",
       "      <th>186</th>\n",
       "      <td>1</td>\n",
       "      <td>17.44</td>\n",
       "      <td>1</td>\n",
       "      <td>1</td>\n",
       "      <td>10</td>\n",
       "    </tr>\n",
       "    <tr>\n",
       "      <th>187</th>\n",
       "      <td>1</td>\n",
       "      <td>10.12</td>\n",
       "      <td>1</td>\n",
       "      <td>1</td>\n",
       "      <td>6</td>\n",
       "    </tr>\n",
       "    <tr>\n",
       "      <th>188</th>\n",
       "      <td>1</td>\n",
       "      <td>24.42</td>\n",
       "      <td>1</td>\n",
       "      <td>1</td>\n",
       "      <td>0</td>\n",
       "    </tr>\n",
       "    <tr>\n",
       "      <th>189</th>\n",
       "      <td>1</td>\n",
       "      <td>9.82</td>\n",
       "      <td>1</td>\n",
       "      <td>1</td>\n",
       "      <td>8</td>\n",
       "    </tr>\n",
       "    <tr>\n",
       "      <th>190</th>\n",
       "      <td>1</td>\n",
       "      <td>23.39</td>\n",
       "      <td>1</td>\n",
       "      <td>1</td>\n",
       "      <td>6</td>\n",
       "    </tr>\n",
       "    <tr>\n",
       "      <th>191</th>\n",
       "      <td>1</td>\n",
       "      <td>30.93</td>\n",
       "      <td>1</td>\n",
       "      <td>1</td>\n",
       "      <td>4</td>\n",
       "    </tr>\n",
       "    <tr>\n",
       "      <th>192</th>\n",
       "      <td>1</td>\n",
       "      <td>15.03</td>\n",
       "      <td>1</td>\n",
       "      <td>1</td>\n",
       "      <td>9</td>\n",
       "    </tr>\n",
       "    <tr>\n",
       "      <th>193</th>\n",
       "      <td>1</td>\n",
       "      <td>21.67</td>\n",
       "      <td>1</td>\n",
       "      <td>1</td>\n",
       "      <td>9</td>\n",
       "    </tr>\n",
       "    <tr>\n",
       "      <th>194</th>\n",
       "      <td>1</td>\n",
       "      <td>31.09</td>\n",
       "      <td>1</td>\n",
       "      <td>1</td>\n",
       "      <td>4</td>\n",
       "    </tr>\n",
       "    <tr>\n",
       "      <th>195</th>\n",
       "      <td>1</td>\n",
       "      <td>33.29</td>\n",
       "      <td>1</td>\n",
       "      <td>1</td>\n",
       "      <td>2</td>\n",
       "    </tr>\n",
       "    <tr>\n",
       "      <th>196</th>\n",
       "      <td>1</td>\n",
       "      <td>22.61</td>\n",
       "      <td>1</td>\n",
       "      <td>1</td>\n",
       "      <td>9</td>\n",
       "    </tr>\n",
       "    <tr>\n",
       "      <th>197</th>\n",
       "      <td>1</td>\n",
       "      <td>26.89</td>\n",
       "      <td>1</td>\n",
       "      <td>1</td>\n",
       "      <td>0</td>\n",
       "    </tr>\n",
       "    <tr>\n",
       "      <th>198</th>\n",
       "      <td>1</td>\n",
       "      <td>23.48</td>\n",
       "      <td>1</td>\n",
       "      <td>1</td>\n",
       "      <td>8</td>\n",
       "    </tr>\n",
       "    <tr>\n",
       "      <th>199</th>\n",
       "      <td>1</td>\n",
       "      <td>8.38</td>\n",
       "      <td>1</td>\n",
       "      <td>1</td>\n",
       "      <td>6</td>\n",
       "    </tr>\n",
       "    <tr>\n",
       "      <th>200</th>\n",
       "      <td>1</td>\n",
       "      <td>27.81</td>\n",
       "      <td>1</td>\n",
       "      <td>1</td>\n",
       "      <td>1</td>\n",
       "    </tr>\n",
       "    <tr>\n",
       "      <th>201</th>\n",
       "      <td>1</td>\n",
       "      <td>32.35</td>\n",
       "      <td>1</td>\n",
       "      <td>1</td>\n",
       "      <td>1</td>\n",
       "    </tr>\n",
       "    <tr>\n",
       "      <th>202</th>\n",
       "      <td>1</td>\n",
       "      <td>23.84</td>\n",
       "      <td>1</td>\n",
       "      <td>1</td>\n",
       "      <td>5</td>\n",
       "    </tr>\n",
       "  </tbody>\n",
       "</table>\n",
       "<p>203 rows × 5 columns</p>\n",
       "</div>"
      ],
      "text/plain": [
       "     constant_term  daily_minutes  num_friends  phd  work_hours\n",
       "0                1          68.77           49    0           4\n",
       "1                1          51.25           41    0           9\n",
       "2                1          52.08           40    0           8\n",
       "3                1          38.36           25    0           6\n",
       "4                1          44.54           21    0           1\n",
       "5                1          57.13           21    0           0\n",
       "6                1          51.40           19    0           3\n",
       "7                1          41.42           19    0           0\n",
       "8                1          31.22           18    0           9\n",
       "9                1          34.76           18    0           8\n",
       "10               1          54.01           16    0           4\n",
       "11               1          38.79           15    0           3\n",
       "12               1          47.59           15    0           0\n",
       "13               1          49.10           15    0           2\n",
       "14               1          27.66           15    0           7\n",
       "15               1          41.03           14    0           0\n",
       "16               1          36.73           14    0           1\n",
       "17               1          48.65           13    0           1\n",
       "18               1          28.12           13    0           7\n",
       "19               1          46.62           13    0           4\n",
       "20               1          35.57           13    0           2\n",
       "21               1          32.98           12    0           5\n",
       "22               1          35.00           12    0           0\n",
       "23               1          26.07           11    0           9\n",
       "24               1          23.77           10    0           9\n",
       "25               1          39.73           10    0           1\n",
       "26               1          40.57           10    0           1\n",
       "27               1          31.65           10    0           7\n",
       "28               1          31.21           10    0           9\n",
       "29               1          36.32           10    0           1\n",
       "..             ...            ...          ...  ...         ...\n",
       "173              1          19.92            2    1           5\n",
       "174              1          31.02            2    1           0\n",
       "175              1          16.49            2    1           9\n",
       "176              1          12.16            2    1           9\n",
       "177              1          30.70            2    1           0\n",
       "178              1          31.22            2    1           1\n",
       "179              1          34.65            2    1           1\n",
       "180              1          13.13            2    1           4\n",
       "181              1          27.51            1    1           0\n",
       "182              1          33.20            1    1           2\n",
       "183              1          31.57            1    1           2\n",
       "184              1          14.10            1    1           5\n",
       "185              1          33.42            1    1           3\n",
       "186              1          17.44            1    1          10\n",
       "187              1          10.12            1    1           6\n",
       "188              1          24.42            1    1           0\n",
       "189              1           9.82            1    1           8\n",
       "190              1          23.39            1    1           6\n",
       "191              1          30.93            1    1           4\n",
       "192              1          15.03            1    1           9\n",
       "193              1          21.67            1    1           9\n",
       "194              1          31.09            1    1           4\n",
       "195              1          33.29            1    1           2\n",
       "196              1          22.61            1    1           9\n",
       "197              1          26.89            1    1           0\n",
       "198              1          23.48            1    1           8\n",
       "199              1           8.38            1    1           6\n",
       "200              1          27.81            1    1           1\n",
       "201              1          32.35            1    1           1\n",
       "202              1          23.84            1    1           5\n",
       "\n",
       "[203 rows x 5 columns]"
      ]
     },
     "execution_count": 3,
     "metadata": {},
     "output_type": "execute_result"
    }
   ],
   "source": [
    "df = pd.read_csv('./data/multiple_dailyminutes.csv')\n",
    "df"
   ]
  },
  {
   "cell_type": "code",
   "execution_count": 4,
   "metadata": {},
   "outputs": [],
   "source": [
    "x = df[['constant_term','num_friends','work_hours','phd']].values\n",
    "daily_minutes_good = df['daily_minutes'].values"
   ]
  },
  {
   "cell_type": "markdown",
   "metadata": {},
   "source": [
    "## Suposições Adicionais do Modelo dos Mínimos Quadrados\n",
    "\n",
    "Há algumas outras suposições que são necessárias para que esse modelo (e nossa solução) façam sentido.\n",
    "\n",
    "A primeira é que as colunas de $x$ são linearmente independentes, ou seja, que não há como escrever qualquer uma delas como uma soma ponderada de algumas das outras. Se essa suposição falhar, é impossível estimar o $\\beta$. Para ver isso em um caso extremo, imagine que temos um campo extra `num_acquaintances` em nossos dados que para cada usuário era exatamente igual a `num_friends`.\n",
    "\n",
    "Então, começando com qualquer $\\beta$, se adicionarmos *qualquer* valor ao coeficiente de `num_friends` e subtrairmos o mesmo valor do coeficiente de `num_acquaintances`, as previsões do modelo permanecerão inalteradas. O que significa que não há como encontrar o coeficiente para `num_friends`. (Normalmente, as violações dessa suposição não serão tão óbvias.)\n",
    "\n",
    "A segunda suposição importante é que as colunas de $x$ são todas não correlacionadas com os erros $\\epsilon$. Se isso não acontecer, nossas estimativas de $\\beta$ serão sistematicamente erradas.\n",
    "\n",
    "Por exemplo, na Aula 13 construímos um modelo que previa que cada amigo adicional estava associado a um acréscimo de 0,90 minutos diários no site.\n",
    "\n",
    "Imagine que também é o caso que:\n",
    "\n",
    "* Pessoas que trabalham mais horas gastam menos tempo no site.\n",
    "\n",
    "* Pessoas com mais amigos tendem a trabalhar mais horas.\n",
    "\n",
    "Ou seja, imagine que o modelo \"real\" seja:\n",
    "\n",
    "minutos = $\\alpha$ + $\\beta_1$ amigos + $\\beta_2$ horas de trabalho + $\\epsilon$\n",
    "\n",
    "e que horas de trabalho e amigos estão positivamente correlacionados. Nesse caso, quando minimizamos os erros do modelo de variável única:\n",
    "\n",
    "minutos = $\\alpha$ + $\\beta_1$ amigos + $\\epsilon$\n",
    "\n",
    "vamos subestimar $\\beta_1$.\n",
    "\n",
    "Pense no que aconteceria se fizéssemos previsões usando o modelo de variável única com o valor \"real\" de $\\beta_1$. (Ou seja, o valor que resulta da minimização dos erros do que chamamos de modelo \"real\".) As previsões tendem a ser grandes demais para usuários que trabalham muitas horas e pequenas demais para usuários que trabalham poucas horas, porque $\\beta_2 < 0$ e nós \"esquecemos\" de incluí-lo. Como as horas de trabalho estão correlacionadas positivamente com o número de amigos, isso significa que as previsões tendem a ser grandes demais para usuários com muitos amigos e pequenas demais para usuários com poucos amigos. Ou seja, o erro $\\epsilon$ da previsão está correlacionado com a variável independente \"amigos\".\n",
    "\n",
    "O resultado disso é que podemos reduzir os erros (no modelo de variável única) aumentando nossa estimativa de $\\beta_1$, o que significa que o $\\beta_1$ minimizador de erros é menor que o valor \"real\". Ou seja, neste caso, a solução de mínimos quadrados de variável única é tendenciosa para subestimar $\\beta_1$. E, em geral, sempre que as variáveis independentes estiverem correlacionadas com erros como este, nossa solução de mínimos quadrados nos dará uma estimativa tendenciosa de $\\beta$.\n",
    "\n",
    "Se você está com dificuldades para entender isso, imagine o que acontece quando ajustamos os dois modelos aos seguintes dados:\n",
    "\n",
    "|minutos|amigos|horas de trabalho|\n",
    "|--------------------------------|\n",
    "|200|50|10|\n",
    "|195|52|11|\n",
    "|150|40|5|\n",
    "\n",
    "Note que as colunas \"amigos\" e \"horas de trabalho\" são correlacionadas positivamente, que \"amigos\" está correlacionado positivamente com \"minutos\" ($\\beta_1 > 0$) e \"horas de trabalho\", negativamente ($\\beta_2 < 0$)."
   ]
  },
  {
   "cell_type": "markdown",
   "metadata": {},
   "source": [
    "## Ajustando o modelo\n",
    "\n",
    "Como fizemos no modelo linear simples, escolheremos `beta` para minimizar a soma dos erros quadrados. Encontrar uma solução exata não é simples de fazer à mão, o que significa que precisaremos usar o gradiente descendente. Começaremos criando uma função de erro para minimizar. Para o gradiente descendente estocástico, queremos apenas que o erro ao quadrado corresponda a uma única previsão:"
   ]
  },
  {
   "cell_type": "code",
   "execution_count": 5,
   "metadata": {},
   "outputs": [],
   "source": [
    "def error(x_i, y_i, beta):\n",
    "    return y_i - predict(x_i, beta)\n",
    "\n",
    "def squared_error(x_i, y_i, beta):\n",
    "    return error(x_i, y_i, beta) ** 2"
   ]
  },
  {
   "cell_type": "markdown",
   "metadata": {},
   "source": [
    "Se você sabe cálculo, você pode calcular:"
   ]
  },
  {
   "cell_type": "code",
   "execution_count": 6,
   "metadata": {},
   "outputs": [],
   "source": [
    "def squared_error_gradient(x_i, y_i, beta):\n",
    "    \"\"\"the gradient corresponding to the ith squared error term\"\"\"\n",
    "    return [-2 * x_ij * error(x_i, y_i, beta)\n",
    "            for x_ij in x_i]\n"
   ]
  },
  {
   "cell_type": "markdown",
   "metadata": {},
   "source": [
    "Caso contrário, você precisa confiar em minha palavra.\n",
    "\n",
    "Neste momento, estamos prontos para encontrar o `beta` ideal usando a gradiente descendente estocástico:"
   ]
  },
  {
   "cell_type": "code",
   "execution_count": 7,
   "metadata": {},
   "outputs": [],
   "source": [
    "def estimate_beta(x, y):\n",
    "    beta_initial = [random.random() for x_i in x[0]]\n",
    "    return minimize_stochastic(squared_error,\n",
    "                               squared_error_gradient,\n",
    "                               x, y,\n",
    "                               beta_initial,\n",
    "                               0.001)"
   ]
  },
  {
   "cell_type": "code",
   "execution_count": 8,
   "metadata": {},
   "outputs": [
    {
     "name": "stdout",
     "output_type": "stream",
     "text": [
      "[30.6198817   0.97020565 -1.86719139  0.91637116]\n"
     ]
    }
   ],
   "source": [
    "random.seed(0)\n",
    "beta = estimate_beta(x, daily_minutes_good)\n",
    "print(beta)"
   ]
  },
  {
   "cell_type": "markdown",
   "metadata": {},
   "source": [
    "Isso significa que o nosso modelo é:\n",
    "\n",
    "minutos = $30.62$ + $0.97$ friends - $1.87$ horas de trabalho + $0.92$ phd"
   ]
  },
  {
   "cell_type": "markdown",
   "metadata": {},
   "source": [
    "# Interpretando o modelo\n",
    "\n",
    "Você deve pensar nos coeficientes do modelo como representando estimativas para os impactos de cada fator quando todos-os-demais-são-iguais. Todos os demais sendo iguais, cada amigo adicional\n",
    "corresponde a um minuto (ou $0.97$ minutos) extra gasto no site todos os dias. Sendo o restante igual, cada hora adicional na jornada de trabalho de um usuário corresponde a cerca de dois minutos (ou $1.87$ minutos) a menos gastos no site todos os dias. Tudo o mais sendo igual, ter um PhD está associado a gastar um minuto (ou $0.92$ minutos) extra no site todos os dias.\n",
    "\n",
    "O que isso não nos diz (diretamente) é nada sobre as interações entre as variáveis. É possível que o efeito das horas de trabalho seja diferente para pessoas com muitos amigos do que para pessoas com poucos amigos. Este modelo não captura isso. Uma maneira de lidar com esse caso é introduzir uma nova variável que é o produto de \"amigos\" e \"horas de trabalho\". Isso efetivamente permite que o coeficiente de \"horas de trabalho\" aumente (ou diminua) à medida que o número de amigos aumenta.\n",
    "\n",
    "Ou é possível que quanto mais amigos você tiver, mais tempo você gasta no site até certo ponto, após o qual mais amigos farão com que você gaste menos tempo no site. (Talvez com muitos amigos a experiência seja simplesmente demais para lidar?) Poderíamos tentar capturar isso em nosso modelo adicionando outra variável que é o *quadrado* do número de amigos.\n",
    "\n",
    "Uma vez que começamos a adicionar variáveis, precisamos nos preocupar se os seus coeficientes \"são importantes\". Não há limites para o número de produtos, logs, quadrados e poderes superiores que poderíamos adicionar.\n",
    "\n",
    "## Qualidade de ajuste\n",
    "\n",
    "Mais uma vez podemos olhar para o R-quadrado, que agora aumentou para 0,68:"
   ]
  },
  {
   "cell_type": "code",
   "execution_count": 9,
   "metadata": {},
   "outputs": [],
   "source": [
    "def multiple_r_squared(x, y, beta):\n",
    "    sum_of_squared_errors = sum(error(x_i, y_i, beta) ** 2\n",
    "                                for x_i, y_i in zip(x, y))\n",
    "    return 1.0 - sum_of_squared_errors / total_sum_of_squares(y)"
   ]
  },
  {
   "cell_type": "code",
   "execution_count": 10,
   "metadata": {},
   "outputs": [
    {
     "name": "stdout",
     "output_type": "stream",
     "text": [
      "R2 =  0.6800074955952596\n"
     ]
    }
   ],
   "source": [
    "print(\"R2 = \", multiple_r_squared(x, daily_minutes_good, beta))"
   ]
  },
  {
   "cell_type": "markdown",
   "metadata": {},
   "source": [
    "Tenha em mente, entretanto, que adicionar novas variáveis a uma regressão *necessariamente* aumentará o R-quadrado. Afinal, o modelo de regressão simples é apenas o caso especial do modelo de regressão múltipla, onde os coeficientes em \"horas de trabalho\" e \"PhD\" são iguais a $0$. O modelo de regressão múltipla ideal terá necessariamente um erro pelo menos tão pequeno quanto o erro da regressão simples.\n",
    "\n",
    "Por causa disso, em uma regressão múltipla, também precisamos examinar os erros padrão dos coeficientes, que medem quão certos estamos sobre nossas estimativas de cada $\\beta_i$. A regressão como um todo pode se encaixar muito bem em nossos dados, mas se algumas das variáveis independentes são correlacionadas (ou irrelevantes), seus coeficientes podem não *significar* muito.\n",
    "\n",
    "A abordagem típica para medir esses erros começa com outra suposição - que os erros $\\epsilon_i$ são variáveis aleatórias normais independentes com média $0$ e algum desvio padrão compartilhado (desconhecido) $\\sigma$. Nesse caso, nós (ou, mais provavelmente, nosso software estatístico) podemos usar alguma álgebra linear para encontrar o erro padrão de cada coeficiente. Quanto maior, menor a certeza o nosso modelo tem sobre esse coeficiente. Infelizmente, não estamos preparados para fazer esse tipo de álgebra linear do zero.\n",
    "\n",
    "# Digressão: O Bootstrap\n",
    "\n",
    "Imagine que tenhamos uma amostra de $n$ pontos de dados gerados por alguma distribuição (desconhecida para nós):\n",
    "\n",
    "`data = get_sample(num_points = n)`\n",
    "\n",
    "Na Aula 4, escrevemos uma função para calcular a mediana dos dados observados, que podemos usar como uma estimativa da mediana da própria distribuição.\n",
    "\n",
    "Mas quão confiantes podemos ser sobre nossa estimativa? Se todos os dados da amostra estiverem muito próximos de 100, parece provável que a mediana real esteja próxima de 100. Se aproximadamente metade dos dados da amostra estiver próxima de 0 e a outra metade estiver próxima de 200, então não podemos estar tão certos quanto à mediana.\n",
    "\n",
    "Se pudéssemos obter repetidamente novas amostras, poderíamos calcular a mediana de cada uma e observar a distribuição dessas medianas. Normalmente não podemos. O que podemos fazer é inicializar (*to bootstrap*) novos conjuntos de dados escolhendo $n$ pontos de dados *com substituição* de nossos dados e, em seguida, calcular as medianas desses conjuntos de dados sintéticos:"
   ]
  },
  {
   "cell_type": "code",
   "execution_count": 11,
   "metadata": {},
   "outputs": [],
   "source": [
    "def bootstrap_sample(data):\n",
    "    \"\"\"randomly samples len(data) elements with replacement\"\"\"\n",
    "    return [random.choice(data) for _ in data]\n",
    "\n",
    "def bootstrap_statistic(data, stats_fn, num_samples):\n",
    "    \"\"\"evaluates stats_fn on num_samples bootstrap samples from data\"\"\"\n",
    "    return [stats_fn(bootstrap_sample(data))\n",
    "            for _ in range(num_samples)]"
   ]
  },
  {
   "cell_type": "markdown",
   "metadata": {},
   "source": [
    "Por exemplo, considere os seguintes conjuntos de dados:"
   ]
  },
  {
   "cell_type": "code",
   "execution_count": 12,
   "metadata": {},
   "outputs": [],
   "source": [
    "# 101 points all very close to 100\n",
    "close_to_100 = [99.5 + random.random() for _ in range(101)]\n",
    "\n",
    "# 101 points, 50 of them near 0, 50 of them near 200\n",
    "far_from_100 = ([99.5 + random.random()] + \n",
    "                [random.random() for _ in range(50)] +\n",
    "                [200 + random.random() for _ in range(50)])"
   ]
  },
  {
   "cell_type": "markdown",
   "metadata": {},
   "source": [
    "Se você calcular a mediana de cada, ambos vão estar bem próximos de 100:"
   ]
  },
  {
   "cell_type": "code",
   "execution_count": 13,
   "metadata": {},
   "outputs": [
    {
     "name": "stdout",
     "output_type": "stream",
     "text": [
      "mediana de close_to_100:  100.06586584030461\n",
      "mediana de far_from_100:  100.37472916630605\n"
     ]
    }
   ],
   "source": [
    "print(\"mediana de close_to_100: \", np.median(close_to_100))\n",
    "print(\"mediana de far_from_100: \", np.median(far_from_100))"
   ]
  },
  {
   "cell_type": "markdown",
   "metadata": {},
   "source": [
    "No entanto, se você olhar para:"
   ]
  },
  {
   "cell_type": "code",
   "execution_count": 14,
   "metadata": {},
   "outputs": [
    {
     "name": "stdout",
     "output_type": "stream",
     "text": [
      "bootstrap_statistic(close_to_100, median, 100):\n"
     ]
    },
    {
     "data": {
      "image/png": "[encoded data removed]",
      "text/plain": [
       "<matplotlib.figure.Figure at 0x232a9613dd8>"
      ]
     },
     "metadata": {},
     "output_type": "display_data"
    }
   ],
   "source": [
    "medians1 = bootstrap_statistic(close_to_100, np.median, 100)\n",
    "print(\"bootstrap_statistic(close_to_100, median, 100):\")\n",
    "fig = plt.figure()\n",
    "plt.hist(medians1)\n",
    "plt.xlabel(\"mediana\")\n",
    "plt.ylabel(\"contagem\")\n",
    "plt.title(\"medianas do conjunto close_to_100\")\n",
    "plt.show()\n",
    "fig.savefig('bootstrap1.png', dpi=150)"
   ]
  },
  {
   "cell_type": "markdown",
   "metadata": {},
   "source": [
    "\n",
    "você vê números, em sua maioria, muito próximos de 100. No entanto, se você observar:"
   ]
  },
  {
   "cell_type": "code",
   "execution_count": 15,
   "metadata": {},
   "outputs": [
    {
     "name": "stdout",
     "output_type": "stream",
     "text": [
      "bootstrap_statistic(far_from_100, median, 100):\n"
     ]
    },
    {
     "data": {
      "image/png": "[encoded data removed]",
      "text/plain": [
       "<matplotlib.figure.Figure at 0x232a9682898>"
      ]
     },
     "metadata": {},
     "output_type": "display_data"
    }
   ],
   "source": [
    "medians2 = bootstrap_statistic(far_from_100, np.median, 100)\n",
    "print(\"bootstrap_statistic(far_from_100, median, 100):\")\n",
    "fig = plt.figure()\n",
    "plt.hist(medians2)\n",
    "plt.xlabel(\"mediana\")\n",
    "plt.ylabel(\"contagem\")\n",
    "plt.title(\"medianas do conjunto far_from_100\")\n",
    "plt.show()\n",
    "fig.savefig('bootstrap2.png', dpi=150)"
   ]
  },
  {
   "cell_type": "markdown",
   "metadata": {},
   "source": [
    "você verá muitas medianas próximas de $0$ e outras próximas de $200$.\n",
    "\n",
    "O desvio padrão do primeiro conjunto de medianas é próximo de $0$, enquanto o desvio padrão do segundo conjunto de medianas é próximo de $100$. (Esse caso extremo seria bem fácil de se descobrir, inspecionando manualmente os dados, mas em geral isso não é factível.)"
   ]
  },
  {
   "cell_type": "markdown",
   "metadata": {},
   "source": [
    "# Erros Padrão de Coeficientes de Regressão\n",
    "\n",
    "Podemos usar a mesma abordagem para estimar os erros padrão de nossos coeficientes de regressão. Nós repetidamente tomamos um `bootstrap_sample` dos nossos dados e estimamos o `beta` com base nessa amostra. Se o coeficiente correspondente a uma das variáveis independentes (digamos `num_friends`) não variar muito entre as amostras, podemos ter certeza de que nossa estimativa é relativamente segura. Se o coeficiente variar muito entre as amostras, não podemos ficar confiantes em nossa estimativa.\n",
    "\n",
    "A única sutileza é que, antes da amostragem, precisamos zipar os dados `x` e `y` para garantir que os valores correspondentes das variáveis independentes e dependentes sejam amostrados juntos. Isso significa que `bootstrap_sample` retornará uma lista de pares `(x_i, y_i)`, que precisaremos remontar em um `x_sample` e um `y_sample`:"
   ]
  },
  {
   "cell_type": "code",
   "execution_count": 16,
   "metadata": {},
   "outputs": [],
   "source": [
    "def estimate_sample_beta(sample):\n",
    "    \"\"\"sample is a list of pairs (x_i, y_i)\"\"\"\n",
    "    x_sample, y_sample = zip(*sample) # magic unzipping trick\n",
    "    return estimate_beta(x_sample, y_sample)"
   ]
  },
  {
   "cell_type": "code",
   "execution_count": 17,
   "metadata": {},
   "outputs": [],
   "source": [
    "random.seed(0) # so that you get the same results as me\n",
    "\n",
    "bootstrap_betas = bootstrap_statistic(list(zip(x, daily_minutes_good)),\n",
    "                                      estimate_sample_beta,\n",
    "                                      100)"
   ]
  },
  {
   "cell_type": "markdown",
   "metadata": {},
   "source": [
    "Após o qual podemos estimar o desvio padrão de cada coeficiente:"
   ]
  },
  {
   "cell_type": "code",
   "execution_count": 18,
   "metadata": {},
   "outputs": [
    {
     "name": "stdout",
     "output_type": "stream",
     "text": [
      "bootstrap standard errors:\n",
      "Std do coeficiente Beta do termo constante: 0.9487719642256199\n",
      "Std do coeficiente Beta do termo num_amigos: 0.06257240793036054\n",
      "Std do coeficiente Beta do termo horas_trabalho: 0.1166351087514055\n",
      "Std do coeficiente Beta do termo phd: 0.8548719625771628\n"
     ]
    }
   ],
   "source": [
    "bootstrap_standard_errors = [\n",
    "    np.std([beta[i] for beta in bootstrap_betas])\n",
    "    for i in range(4)]\n",
    "\n",
    "print(\"bootstrap standard errors:\")\n",
    "print(\"Std do coeficiente Beta do termo constante:\", bootstrap_standard_errors[0])\n",
    "print(\"Std do coeficiente Beta do termo num_amigos:\", bootstrap_standard_errors[1])\n",
    "print(\"Std do coeficiente Beta do termo horas_trabalho:\", bootstrap_standard_errors[2])\n",
    "print(\"Std do coeficiente Beta do termo phd:\", bootstrap_standard_errors[3])"
   ]
  },
  {
   "cell_type": "markdown",
   "metadata": {},
   "source": [
    "Podemos usá-los para testar hipóteses como \"$\\beta_i$ é igual a zero?\" Sob a hipótese nula $\\beta_i = 0$ (e com nossas outras suposições sobre a distribuição de $\\epsilon_i$), a estatística:\n",
    "\n",
    "$$t_j = \\frac{\\hat{\\beta_j}}{\\hat{\\sigma_j}}$$,\n",
    "\n",
    "que é a nossa estimativa de $\\beta_j$ dividido pela nossa estimativa de seu erro padrão, segue uma *distribuição t de Student* com \"n-k graus de liberdade\".\n",
    "\n",
    "No módulo `t` da biblioteca `scipy.stats` há todas as funções associadas a distribuição t de Student. Assim, podemos usar a CDF dessa distribuição para calcular *p-valores* para cada coeficiente de mínimos quadrados a fim de indicar a probabilidade de observarmos esse valor se o coeficiente real fosse zero. "
   ]
  },
  {
   "cell_type": "code",
   "execution_count": 19,
   "metadata": {},
   "outputs": [],
   "source": [
    "def p_value_t(beta_hat_j, sigma_hat_j, df): #df = degrees of freedom\n",
    "    if beta_hat_j > 0:\n",
    "        return 2 * (1 - t.cdf(beta_hat_j / sigma_hat_j, df))\n",
    "    else:\n",
    "        return 2 * t.cdf(beta_hat_j / sigma_hat_j, df)"
   ]
  },
  {
   "cell_type": "code",
   "execution_count": 20,
   "metadata": {
    "scrolled": true
   },
   "outputs": [
    {
     "name": "stdout",
     "output_type": "stream",
     "text": [
      "p_value( 30.619881701311712 , 0.9487719642256199 ) = 0.0\n",
      "p_value( 0.9702056472470465 , 0.06257240793036054 ) = 0.0\n",
      "p_value( -1.8671913880379478 , 0.1166351087514055 ) = 7.505131541677219e-29\n",
      "p_value( 0.9163711597955347 , 0.8548719625771628 ) = 0.2864345276522129\n"
     ]
    }
   ],
   "source": [
    "dof = 100 - 4 #n-k: amostras tem 100 valores e o modelo tem 4 preditores\n",
    "for i in range(4):\n",
    "    coef = beta[i]\n",
    "    std = bootstrap_standard_errors[i]\n",
    "    print(\"p_value(\",coef,\",\",std,\") =\", p_value_t(coef, std, dof))"
   ]
  },
  {
   "cell_type": "markdown",
   "metadata": {},
   "source": [
    "Podemos também usar a distribuição normal. À medida que os graus de liberdade aumentam, a distribuição t se aproxima mais e mais de uma normal. Em uma situação como essa, onde $n$ é muito maior que $k$, podemos usar a CDF da distribuição normal. Vamos ver se o resultado persiste:"
   ]
  },
  {
   "cell_type": "code",
   "execution_count": 21,
   "metadata": {},
   "outputs": [],
   "source": [
    "def p_value_normal(beta_hat_j, sigma_hat_j):\n",
    "    if beta_hat_j > 0:\n",
    "        return 2 * (1 - norm.cdf(beta_hat_j / sigma_hat_j))\n",
    "    else:\n",
    "        return 2 * norm.cdf(beta_hat_j / sigma_hat_j)"
   ]
  },
  {
   "cell_type": "code",
   "execution_count": 22,
   "metadata": {},
   "outputs": [
    {
     "name": "stdout",
     "output_type": "stream",
     "text": [
      "p_value( 30.619881701311712 , 0.9487719642256199 ) = 0.0\n",
      "p_value( 0.9702056472470465 , 0.06257240793036054 ) = 0.0\n",
      "p_value( -1.8671913880379478 , 0.1166351087514055 ) = 1.1087885186419971e-57\n",
      "p_value( 0.9163711597955347 , 0.8548719625771628 ) = 0.2837471357190793\n"
     ]
    }
   ],
   "source": [
    "for i in range(4):\n",
    "    coef = beta[i]\n",
    "    std = bootstrap_standard_errors[i]\n",
    "    print(\"p_value(\",coef,\",\",std,\") =\", p_value_normal(coef, std))"
   ]
  },
  {
   "cell_type": "markdown",
   "metadata": {},
   "source": [
    "(Em uma situação como essa, e provavemente como tudo que vimos até aqui, provavelmente estaríamos usando um software estatístico pronto que sabe bem como calcular os erros padrões exatos.)\n",
    "\n",
    "Apesar disso, observe que os valores encontrados pelos dois métodos foram *muito* similares. Enquanto a maioria dos coeficientes tem p-valores muito pequenos (sugerindo que eles são realmente diferentes de zero), o coeficiente para \"PhD\" não é \"significativamente\" diferente de zero, o que torna provável que o coeficiente para \"PhD\" seja aleatório ao invés de significativo.\n",
    "\n",
    "Em cenários de regressão mais elaborados, você às vezes deseja testar hipóteses mais elaboradas sobre os dados, como \"pelo menos um dos $\\beta_j$ é diferente de zero\" ou \"$\\beta_1$ é igual a $\\beta_2$ e $\\beta_3$ é igual a $\\beta_4$. Isso você pode fazer com um F-test, que, infelizmente, está fora do escopo deste curso, mas [é fácil de você aprender fora daqui](http://reliawiki.org/index.php/Multiple_Linear_Regression_Analysis)."
   ]
  },
  {
   "cell_type": "markdown",
   "metadata": {},
   "source": [
    "## Regularização\n",
    "\n",
    "Na prática, você costuma aplicar a regressão linear a conjuntos de dados com um grande número de variáveis. Isso cria algumas rugas extras. Primeiro, quanto mais variáveis você usar, maior a probabilidade de você sobreajustar (*overfit*) o seu modelo ao conjunto de treinamento. Em segundo lugar, quanto mais coeficientes diferentes de zero você tiver, mais difícil será entendê-los. Se o objetivo é *explicar* alguns fenômenos, um modelo esparso com três fatores pode ser mais útil do que um modelo um pouco melhor com centenas.\n",
    "\n",
    "A regularização é uma abordagem na qual adicionamos ao termo de erro uma penalidade que aumenta à medida que o tamanho de $\\beta$ aumenta. Em seguida, minimizamos o erro e a penalidade combinados. Quanto mais importância atribuímos ao termo de penalidade, mais desencorajamos grandes coeficientes.\n",
    "\n",
    "Por exemplo, na regressão de crista (*ridge regression*), adicionamos uma penalidade proporcional à soma dos quadrados do `beta_i`. (Exceção feita ao `beta_0`, o termo constante, que normalmente não é penalizado.)"
   ]
  },
  {
   "cell_type": "code",
   "execution_count": 23,
   "metadata": {},
   "outputs": [],
   "source": [
    "# alpha is a *hyperparameter* controlling how harsh the penalty is\n",
    "# sometimes it's called \"lambda\" but that already means something in Python\n",
    "def ridge_penalty(beta, alpha):\n",
    "    return alpha * np.dot(beta[1:], beta[1:])\n",
    "\n",
    "def squared_error_ridge(x_i, y_i, beta, alpha):\n",
    "    \"\"\"estimate error plus ridge penalty on beta\"\"\"\n",
    "    return error(x_i, y_i, beta) ** 2 + ridge_penalty(beta, alpha)"
   ]
  },
  {
   "cell_type": "markdown",
   "metadata": {},
   "source": [
    "Que você pode plugar no gradiente descendente da maneira usual:"
   ]
  },
  {
   "cell_type": "code",
   "execution_count": 24,
   "metadata": {},
   "outputs": [],
   "source": [
    "def ridge_penalty_gradient(beta, alpha):\n",
    "    \"\"\"gradient of just the ridge penalty\"\"\"\n",
    "    return [0] + [2 * alpha * beta_j for beta_j in beta[1:]]\n",
    "\n",
    "def squared_error_ridge_gradient(x_i, y_i, beta, alpha):\n",
    "    \"\"\"the gradient corresponding to the ith squared error term\n",
    "    including the ridge penalty\"\"\"\n",
    "    regular_gradient = squared_error_gradient(x_i, y_i, beta)\n",
    "    ridge_gradient = ridge_penalty_gradient(beta, alpha)\n",
    "    return np.add(regular_gradient, ridge_gradient)\n",
    "    #return vector_add(squared_error_gradient(x_i, y_i, beta),\n",
    "    #                  ridge_penalty_gradient(beta, alpha))\n",
    "\n",
    "    \n",
    "def estimate_beta_ridge(x, y, alpha):\n",
    "    \"\"\"use gradient descent to fit a ridge regression\n",
    "    with penalty alpha\"\"\"\n",
    "    beta_initial = [random.random() for x_i in x[0]]\n",
    "    return minimize_stochastic(partial(squared_error_ridge, alpha=alpha),\n",
    "                               partial(squared_error_ridge_gradient,\n",
    "                                       alpha=alpha),\n",
    "                               x, y,\n",
    "                               beta_initial,\n",
    "                               0.001)"
   ]
  },
  {
   "cell_type": "markdown",
   "metadata": {},
   "source": [
    "Com o alfa definido como zero, não há penalidade e obtemos os mesmos resultados de antes. Mas à medida que aumentamos o valor de alfa, o ajuste vai ficando pior, e o tamanho do beta menor."
   ]
  },
  {
   "cell_type": "code",
   "execution_count": 25,
   "metadata": {},
   "outputs": [
    {
     "name": "stdout",
     "output_type": "stream",
     "text": [
      "alpha: 0.0\n",
      "beta: [30.6198817   0.97020565 -1.86719139  0.91637116]\n",
      "magnitude of beta: 2.2950901463816518\n",
      "r-squared: 0.6800074955952596\n",
      "\n",
      "alpha: 0.01\n",
      "beta: [30.55985205  0.97306554 -1.86244246  0.93176656]\n",
      "magnitude of beta: 2.298638157131645\n",
      "r-squared: 0.6800102132970789\n",
      "\n",
      "alpha: 0.1\n",
      "beta: [30.89486018  0.94902752 -1.85017209  0.53251297]\n",
      "magnitude of beta: 2.1464761971841027\n",
      "r-squared: 0.6797276241305292\n",
      "\n",
      "alpha: 1\n",
      "beta: [30.66677891  0.908636   -1.6938673   0.09370161]\n",
      "magnitude of beta: 1.9244702679726162\n",
      "r-squared: 0.6757061537631814\n",
      "\n",
      "alpha: 10\n",
      "beta: [ 2.83728611e+01  7.30766086e-01 -9.21216318e-01 -1.84955517e-02]\n",
      "magnitude of beta: 1.1760104858585188\n",
      "r-squared: 0.5752138470466857\n",
      "\n"
     ]
    }
   ],
   "source": [
    "random.seed(0)\n",
    "for alpha in [0.0, 0.01, 0.1, 1, 10]:\n",
    "    beta = estimate_beta_ridge(x, daily_minutes_good, alpha=alpha)\n",
    "    print(\"alpha:\", alpha)\n",
    "    print(\"beta:\", beta)\n",
    "    print(\"magnitude of beta:\", np.linalg.norm(beta[1:]))\n",
    "    print(\"r-squared:\", multiple_r_squared(x, daily_minutes_good, beta))\n",
    "    print()"
   ]
  },
  {
   "cell_type": "markdown",
   "metadata": {},
   "source": [
    "Em particular, o coeficiente de \"PhD\" desaparece à medida que aumentamos a penalidade, o que está de acordo com nosso resultado anterior de que o coeficiente dessa variável não é significativamente diferente de zero.\n",
    "\n",
    "Normalmente, você deseja redimensionar seus dados antes de usar essa abordagem. Afinal, se você mudou \"anos de experiência\" para \"séculos de experiência\", seu coeficiente de mínimos quadrados aumentaria em um fator de 100 e, de repente, seria penalizado muito mais, mesmo que fosse o mesmo modelo.\n",
    "\n",
    "Outra abordagem é a regressão *lasso*, que usa a penalidade:"
   ]
  },
  {
   "cell_type": "code",
   "execution_count": 26,
   "metadata": {},
   "outputs": [],
   "source": [
    "def lasso_penalty(beta, alpha):\n",
    "    return alpha * sum(abs(beta_i) for beta_i in beta[1:])"
   ]
  },
  {
   "cell_type": "markdown",
   "metadata": {},
   "source": [
    "Enquanto a penalidade *ridge* encolhe os coeficientes como um todo, a penalidade do laço tende a forçar os coeficientes a serem zero, o que a torna boa para aprender modelos esparsos. Infelizmente, essa abordagem não é passível de ser otimizada a partir do gradiente descendente, o que significa que não poderemos resolvê-la do zero."
   ]
  },
  {
   "cell_type": "markdown",
   "metadata": {},
   "source": [
    "## Para explorar\n",
    "\n",
    "* Regressão tem uma teoria rica e expansiva por trás. Este é outro conteúdo sobre qual você deve considerar ler um livro ou, pelo menos, muitos artigos da Wikipédia.\n",
    "\n",
    "* O `scikit-learn` possui [um módulo de modelos lineares](http://scikit-learn.org/stable/modules/linear_model.html) que fornece um modelo `LinearRegression` semelhante ao nosso, assim como de regressão *Ridge*, *Lasso* e outros tipos de regularização também.\n",
    "\n",
    "* [Statsmodels](http://www.statsmodels.org/stable/index.html) é outro módulo do Python que contém (entre outras coisas) modelos de regressão linear."
   ]
  }
 ],
 "metadata": {
  "kernelspec": {
   "display_name": "Python 3",
   "language": "python",
   "name": "python3"
  },
  "language_info": {
   "codemirror_mode": {
    "name": "ipython",
    "version": 3
   },
   "file_extension": ".py",
   "mimetype": "text/x-python",
   "name": "python",
   "nbconvert_exporter": "python",
   "pygments_lexer": "ipython3",
   "version": "3.6.8"
  }
 },
 "nbformat": 4,
 "nbformat_minor": 2
}
